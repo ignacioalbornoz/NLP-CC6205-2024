{
  "cells": [
    {
      "cell_type": "markdown",
      "metadata": {
        "id": "dYExzNuwx-Ke"
      },
      "source": [
        "# **Tarea 4 - Sequence to Sequence 📚**\n",
        "\n",
        "**Procesamiento de Lenguaje Natural (CC6205-1 - Otoño 2024)**"
      ]
    },
    {
      "cell_type": "markdown",
      "metadata": {
        "id": "b97b4IJjZGxM"
      },
      "source": [
        "## Tarjeta de identificación\n",
        "\n",
        "**Nombres:**\n",
        "\n",
        "```- Ignacio Albornoz```\n",
        "\n",
        "```- Eduardo Silva```  \n",
        "\n",
        "**Fecha límite de entrega 📆:** 10/07.\n",
        "\n",
        "**Tiempo estimado de dedicación:** 4 horas\n"
      ]
    },
    {
      "cell_type": "markdown",
      "metadata": {
        "ExecuteTime": {
          "end_time": "2020-03-19T18:30:18.109327Z",
          "start_time": "2020-03-19T18:30:18.103344Z"
        },
        "id": "q5CSRY4oNCHK"
      },
      "source": [
        "## Instrucciones\n",
        "\n",
        "Bienvenid@s a la tercera tarea en el curso de Natural Language Processing (NLP). Esta tarea tiene como objetivo evaluar los contenidos teóricos de las últimas semanas de clases posteriores a la Tarea 3, enfocado en **Sequence-to-Sequence + Attention**. Si aún no has visto las clases, se recomienda visitar los links de las referencias.\n",
        "\n",
        "* La tarea es en **grupo** (maximo hasta 3 personas).\n",
        "* La entrega es a través de u-cursos a más tardar el día estipulado arriba.\n",
        "* El formato de entrega es este mismo Jupyter Notebook.\n",
        "* Al momento de la revisión su código será ejecutado. Por favor verifiquen que su entrega no tenga errores de compilación.\n",
        "* Completar la tarjeta de identificación. Sin ella no podrá tener nota.\n",
        "* Recomendamos mirar el enunciado completo con atención (*ba dum tss*) antes de empezar la tarea, para tener una idea más completa de lo que se pide."
      ]
    },
    {
      "cell_type": "markdown",
      "metadata": {
        "id": "YaHHjI_sp42f"
      },
      "source": [
        "## Material de referencia\n",
        "\n",
        "Diapositivas del curso 📄\n",
        "    \n",
        "- [Sequence-to-Sequence + Attention](https://github.com/dccuchile/CC6205/blob/master/slides/NLP-seq2seq.pdf)\n",
        "- [Transformer](https://github.com/dccuchile/CC6205/blob/master/slides/NLP-transformer.pdf)\n",
        "\n",
        "Videos del curso 📺\n",
        "\n",
        "- [Sequence-to-Sequence + Attention](https://www.youtube.com/watch?v=OpKxRjISqmM&list=PLppKo85eGXiXIh54H_qz48yHPHeNVJqBi&index=35)\n",
        "- [Transformer](https://www.youtube.com/watch?v=8RE23Uq8rU0)"
      ]
    },
    {
      "cell_type": "markdown",
      "metadata": {
        "id": "I_fPuDVxmmWI"
      },
      "source": [
        "## Parte 1: Traducción automática con arquitectura Encoder-Decoder con RNNs\n",
        "En esta sección crearemos nuestro propio traductor de español a inglés con la arquitecura Encoder-Decoder con RNNs + Attention vista en clases."
      ]
    },
    {
      "cell_type": "code",
      "execution_count": 1,
      "metadata": {},
      "outputs": [],
      "source": [
        "#%pip install torch\n",
        "#%pip install numpy\n",
        "#!pip install matplotlib\n",
        "#%pip install scikit-learn\n"
      ]
    },
    {
      "cell_type": "code",
      "execution_count": 2,
      "metadata": {},
      "outputs": [],
      "source": [
        "#%pip install torch torchvision torchaudio --extra-index-url https://download.pytorch.org/whl/cu117\n"
      ]
    },
    {
      "cell_type": "code",
      "execution_count": 3,
      "metadata": {
        "execution": {
          "iopub.execute_input": "2024-06-25T23:16:44.849639Z",
          "iopub.status.busy": "2024-06-25T23:16:44.849193Z",
          "iopub.status.idle": "2024-06-25T23:16:44.855614Z",
          "shell.execute_reply": "2024-06-25T23:16:44.854597Z",
          "shell.execute_reply.started": "2024-06-25T23:16:44.849607Z"
        },
        "id": "H3k3VV6_2vg2",
        "trusted": true
      },
      "outputs": [],
      "source": [
        "## Importamos librerías\n",
        "\n",
        "from __future__ import unicode_literals, print_function, division\n",
        "from io import open\n",
        "import unicodedata\n",
        "import re\n",
        "import random\n",
        "\n",
        "import torch\n",
        "import torch.nn as nn\n",
        "from torch import optim\n",
        "import torch.nn.functional as F\n",
        "\n",
        "import numpy as np\n",
        "from torch.utils.data import TensorDataset, DataLoader, RandomSampler"
      ]
    },
    {
      "cell_type": "code",
      "execution_count": 4,
      "metadata": {},
      "outputs": [
        {
          "name": "stdout",
          "output_type": "stream",
          "text": [
            "True\n",
            "NVIDIA GeForce GTX 1650 Ti\n"
          ]
        }
      ],
      "source": [
        "print(torch.cuda.is_available())\n",
        "print(torch.cuda.get_device_name(0))\n"
      ]
    },
    {
      "cell_type": "markdown",
      "metadata": {
        "id": "XPhb8wuSpBZG"
      },
      "source": [
        "### P0. Preparación del dataset y tokenización\n",
        "\n",
        "Utilizaremos un dataset de pares de oraciones en inglés y castellano."
      ]
    },
    {
      "cell_type": "code",
      "execution_count": 5,
      "metadata": {
        "colab": {
          "base_uri": "https://localhost:8080/"
        },
        "execution": {
          "iopub.execute_input": "2024-06-25T23:16:44.857781Z",
          "iopub.status.busy": "2024-06-25T23:16:44.857403Z",
          "iopub.status.idle": "2024-06-25T23:17:04.935237Z",
          "shell.execute_reply": "2024-06-25T23:17:04.934269Z",
          "shell.execute_reply.started": "2024-06-25T23:16:44.857753Z"
        },
        "id": "3K5AmGn-ngUe",
        "outputId": "691b9aed-8f42-4b2b-d520-ff524215c43b",
        "trusted": true
      },
      "outputs": [],
      "source": [
        "#!wget https://www.manythings.org/anki/spa-eng.zip\n",
        "#!unzip spa-eng.zip"
      ]
    },
    {
      "cell_type": "markdown",
      "metadata": {
        "id": "SF8vWprw20KA"
      },
      "source": [
        "Vamos a crear una clase que nos permita procesar mejor cada idioma del corpus. Esto nos será útil para manejar dos vocabularios distintos."
      ]
    },
    {
      "cell_type": "code",
      "execution_count": 6,
      "metadata": {
        "execution": {
          "iopub.execute_input": "2024-06-25T23:17:04.937231Z",
          "iopub.status.busy": "2024-06-25T23:17:04.936847Z",
          "iopub.status.idle": "2024-06-25T23:17:04.945754Z",
          "shell.execute_reply": "2024-06-25T23:17:04.944901Z",
          "shell.execute_reply.started": "2024-06-25T23:17:04.937194Z"
        },
        "id": "R4KvLII6Wd9y",
        "trusted": true
      },
      "outputs": [],
      "source": [
        "# Código base\n",
        "\n",
        "SOS_token = 0\n",
        "EOS_token = 1\n",
        "\n",
        "class Lang:\n",
        "  def __init__(self, name):\n",
        "    self.name = name\n",
        "    self.word2index = {}\n",
        "    self.word2count = {}\n",
        "    self.index2word = {0: \"*\", 1: \"STOP\"}\n",
        "    self.n_tokens = 2  # * y STOP\n",
        "\n",
        "  def add_sentence(self, sentence):\n",
        "    for word in sentence.split(' '):\n",
        "      self.add_word(word)\n",
        "\n",
        "  def add_word(self, word):\n",
        "    if word not in self.word2index:\n",
        "      self.word2index[word] = self.n_tokens\n",
        "      self.word2count[word] = 1\n",
        "      self.index2word[self.n_tokens] = word\n",
        "      self.n_tokens += 1\n",
        "    else:\n",
        "      self.word2count[word] += 1"
      ]
    },
    {
      "cell_type": "markdown",
      "metadata": {
        "id": "p4PoWqCai607"
      },
      "source": [
        "Implemente acá funciones para leer, procesar y filtar el dataset según estime."
      ]
    },
    {
      "cell_type": "code",
      "execution_count": 7,
      "metadata": {
        "execution": {
          "iopub.execute_input": "2024-06-25T23:17:04.949339Z",
          "iopub.status.busy": "2024-06-25T23:17:04.948608Z",
          "iopub.status.idle": "2024-06-25T23:17:04.958210Z",
          "shell.execute_reply": "2024-06-25T23:17:04.957453Z",
          "shell.execute_reply.started": "2024-06-25T23:17:04.949209Z"
        },
        "id": "XQ0zURfK2f0B",
        "trusted": true
      },
      "outputs": [],
      "source": [
        "# Minúsculas, puntuación y remoción de caracteres que no son letras\n",
        "# Puede añadir cualquier otro preprocesamiento que estime conveniente\n",
        "def normalize_string(s):\n",
        "  s = unicodedata.normalize('NFC', s) # Normalización de caracteres unicode\n",
        "  s = s.lower().strip()\n",
        "  s = re.sub(r\"([.!?])\", r\" \\1\", s) # Regex para separar puntuación de las palabras\n",
        "  s = re.sub(r\"[^a-zA-Z!?áéíóúñ´]+\", r\" \", s) # Regex para excluir otros caracteres\n",
        "  return s.strip()\n",
        "\n",
        "# Recomendamos mantener sólo oraciones con ~10 palabras o menos\n",
        "def filter_pairs(pairs, max_length):\n",
        "  return [p for p in pairs if len(p[0].split(' ')) < max_length and \\\n",
        "                len(p[1].split(' ')) < max_length]"
      ]
    },
    {
      "cell_type": "code",
      "execution_count": 8,
      "metadata": {
        "execution": {
          "iopub.execute_input": "2024-06-25T23:17:04.959672Z",
          "iopub.status.busy": "2024-06-25T23:17:04.959311Z",
          "iopub.status.idle": "2024-06-25T23:17:04.972434Z",
          "shell.execute_reply": "2024-06-25T23:17:04.971672Z",
          "shell.execute_reply.started": "2024-06-25T23:17:04.959641Z"
        },
        "id": "1zmvmX-WWd90",
        "trusted": true
      },
      "outputs": [],
      "source": [
        "def read_dataset(path, reverse=False):\n",
        "  lines = open(path, encoding='utf-8').\\\n",
        "    read().strip().split('\\n')\n",
        "\n",
        "  pairs = [[normalize_string(s) for s in l.split('\\t')][:2] for l in lines]\n",
        "\n",
        "  # Reverse pairs, make Lang instances\n",
        "  if reverse:\n",
        "    pairs = [list(reversed(p)) for p in pairs]\n",
        "    input_lang = Lang(\"spa\")\n",
        "    output_lang = Lang(\"eng\")\n",
        "  else:\n",
        "    input_lang = Lang(\"eng\")\n",
        "    output_lang = Lang(\"spa\")\n",
        "\n",
        "  return input_lang, output_lang, pairs\n",
        "\n",
        "def read_langs(lang1, lang2, reverse=False, max_length=10):\n",
        "  input_lang, output_lang, pairs = read_dataset(\"spa.txt\", reverse)\n",
        "  print(f\"Total de oraciones en dataset: {len(pairs)}\")\n",
        "  pairs = filter_pairs(pairs, max_length)\n",
        "  print(f\"Reducido a: {len(pairs)}\")\n",
        "  for pair in pairs:\n",
        "    input_lang.add_sentence(pair[0])\n",
        "    output_lang.add_sentence(pair[1])\n",
        "  print(f\"Tamaño vocab {input_lang.name}: {input_lang.n_tokens}\")\n",
        "  print(f\"Tamaño vocab {output_lang.name}: {output_lang.n_tokens}\")\n",
        "  return input_lang, output_lang, pairs"
      ]
    },
    {
      "cell_type": "code",
      "execution_count": 9,
      "metadata": {
        "colab": {
          "base_uri": "https://localhost:8080/"
        },
        "id": "FOAzpKMMVYur",
        "outputId": "76d9e4be-9946-4121-8fd1-104523642c62"
      },
      "outputs": [
        {
          "name": "stdout",
          "output_type": "stream",
          "text": [
            "Total de oraciones en dataset: 141543\n",
            "Reducido a: 119626\n",
            "Tamaño vocab spa: 24306\n",
            "Tamaño vocab eng: 12105\n",
            "['tom no está cotorreando verdad ?', 'tom isn t babbling is he ?']\n"
          ]
        }
      ],
      "source": [
        "input_lang, output_lang, pairs = read_langs('eng', 'spa', reverse=True, max_length=10)\n",
        "print(random.choice(pairs))"
      ]
    },
    {
      "cell_type": "markdown",
      "metadata": {
        "id": "2D1Kaw_D8jmN"
      },
      "source": [
        "### P1. Encoder (1.2 pt.)\n",
        "Implemente una red Encoder utilizando redes neuronales recurrentes."
      ]
    },
    {
      "cell_type": "code",
      "execution_count": 10,
      "metadata": {
        "id": "l54mxzLLiYQ1"
      },
      "outputs": [],
      "source": [
        "# Garantizar reproducibilidad de los experimentos\n",
        "SEED = 1234\n",
        "torch.manual_seed(SEED)\n",
        "torch.backends.cudnn.deterministic = True"
      ]
    },
    {
      "cell_type": "code",
      "execution_count": 11,
      "metadata": {},
      "outputs": [],
      "source": [
        "# Definir dispositivo\n",
        "device = torch.device(\"cuda\" if torch.cuda.is_available() else \"cpu\")"
      ]
    },
    {
      "cell_type": "code",
      "execution_count": 12,
      "metadata": {
        "execution": {
          "iopub.execute_input": "2024-06-25T23:17:12.539489Z",
          "iopub.status.busy": "2024-06-25T23:17:12.539222Z",
          "iopub.status.idle": "2024-06-25T23:17:12.546213Z",
          "shell.execute_reply": "2024-06-25T23:17:12.545343Z",
          "shell.execute_reply.started": "2024-06-25T23:17:12.539465Z"
        },
        "id": "A4xqULn18kwL",
        "trusted": true
      },
      "outputs": [],
      "source": [
        "class EncoderRNN(nn.Module):\n",
        "    def __init__(self, input_size, hidden_size, dropout_p=0.1):\n",
        "        super(EncoderRNN, self).__init__()\n",
        "        self.hidden_size = hidden_size\n",
        "        self.embedding = nn.Embedding(input_size, hidden_size)\n",
        "        self.gru = nn.GRU(hidden_size, hidden_size)\n",
        "        self.dropout = nn.Dropout(dropout_p)\n",
        "\n",
        "    def forward(self, input, hidden):\n",
        "        #print(f\"Encoder input shape before embedding: {input.shape}\")  # Debug print\n",
        "        embedded = self.embedding(input).view(1, 1, -1)\n",
        "        embedded = self.dropout(embedded)\n",
        "        #print(f\"Encoder embedded shape: {embedded.shape}\")  # Debug print\n",
        "        output, hidden = self.gru(embedded, hidden)\n",
        "        return output, hidden\n",
        "\n",
        "    def init_hidden(self):\n",
        "        return torch.zeros(1, 1, self.hidden_size, device=device)\n",
        "\n",
        "\n"
      ]
    },
    {
      "cell_type": "markdown",
      "metadata": {
        "id": "dca-ULd28vUW"
      },
      "source": [
        "### P2. Attention Decoder (1.8 pt.)\n",
        "\n",
        "Ahora diseñe un mecanismo de atención según estime conveniente y otra red que servirá de decoder con el modelo de attention. Utilice la predicción objetivo (en caso de existir) como siguiente input de cada oración para la etapa de entrenamiento (teacher forcing)."
      ]
    },
    {
      "cell_type": "code",
      "execution_count": 13,
      "metadata": {
        "execution": {
          "iopub.execute_input": "2024-06-25T23:17:12.630941Z",
          "iopub.status.busy": "2024-06-25T23:17:12.630657Z",
          "iopub.status.idle": "2024-06-25T23:17:12.646388Z",
          "shell.execute_reply": "2024-06-25T23:17:12.645446Z",
          "shell.execute_reply.started": "2024-06-25T23:17:12.630917Z"
        },
        "id": "JwGdoUhq80Bk",
        "trusted": true
      },
      "outputs": [],
      "source": [
        "class AttnDecoderRNN(nn.Module):\n",
        "    def __init__(self, hidden_size, output_size, dropout_p=0.1, max_length=10):\n",
        "        super(AttnDecoderRNN, self).__init__()\n",
        "        self.hidden_size = hidden_size\n",
        "        self.output_size = output_size\n",
        "        self.dropout_p = dropout_p\n",
        "        self.max_length = max_length\n",
        "\n",
        "        self.embedding = nn.Embedding(self.output_size, self.hidden_size)\n",
        "        self.attn = nn.Linear(self.hidden_size * 2, self.max_length)\n",
        "        self.attn_combine = nn.Linear(self.hidden_size * 2, self.hidden_size)\n",
        "        self.dropout = nn.Dropout(self.dropout_p)\n",
        "        self.gru = nn.GRU(self.hidden_size, self.hidden_size)\n",
        "        self.out = nn.Linear(self.hidden_size, self.output_size)\n",
        "\n",
        "    def forward(self, input, hidden, encoder_outputs):\n",
        "        embedded = self.embedding(input).view(1, 1, -1)\n",
        "        embedded = self.dropout(embedded)\n",
        "\n",
        "        attn_weights = F.softmax(\n",
        "            self.attn(torch.cat((embedded[0], hidden[0]), 1)), dim=1)\n",
        "        attn_applied = torch.bmm(attn_weights.unsqueeze(0),\n",
        "                                 encoder_outputs.unsqueeze(0))\n",
        "\n",
        "        output = torch.cat((embedded[0], attn_applied[0]), 1)\n",
        "        output = self.attn_combine(output).unsqueeze(0)\n",
        "\n",
        "        output = F.relu(output)\n",
        "        output, hidden = self.gru(output, hidden)\n",
        "\n",
        "        output = F.log_softmax(self.out(output[0]), dim=1)\n",
        "        return output, hidden, attn_weights\n",
        "\n",
        "    def init_hidden(self):\n",
        "        return torch.zeros(1, 1, self.hidden_size, device=device)\n"
      ]
    },
    {
      "cell_type": "markdown",
      "metadata": {
        "id": "X7H51frJe7de"
      },
      "source": [
        "### P3. Entrenamiento y evaluación (1 pt.)\n",
        "Entrene su modelo Sequence-to-Sequence. Para esto entrene el encoder, decoder y attention en conjunto, es decir utilizando la misma función de loss para los parámetros de cada componente. Recuerde entregar las predicciones objetivo al decoder en cada iteración."
      ]
    },
    {
      "cell_type": "code",
      "execution_count": 14,
      "metadata": {
        "execution": {
          "iopub.execute_input": "2024-06-25T23:17:12.721357Z",
          "iopub.status.busy": "2024-06-25T23:17:12.720970Z",
          "iopub.status.idle": "2024-06-25T23:17:12.737240Z",
          "shell.execute_reply": "2024-06-25T23:17:12.736265Z",
          "shell.execute_reply.started": "2024-06-25T23:17:12.721332Z"
        },
        "id": "nl-0Krjz9cmC",
        "trusted": true
      },
      "outputs": [],
      "source": [
        "import math\n",
        "import time\n",
        "import matplotlib.pyplot as plt\n",
        "import matplotlib.ticker as ticker\n",
        "import numpy as np"
      ]
    },
    {
      "cell_type": "code",
      "execution_count": 15,
      "metadata": {
        "id": "l6-aNCNtUzcI"
      },
      "outputs": [],
      "source": [
        "# Funciones auxiliares para cargar datos de entrenamiento\n",
        "\n",
        "def sentence2indexes(lang, sentence):\n",
        "  return [lang.word2index[word] for word in sentence.split(' ')]\n",
        "\n",
        "def sentence2tensor(lang, sentence):\n",
        "  indexes = sentence2indexes(lang, sentence)\n",
        "  indexes.append(EOS_token)\n",
        "  return torch.tensor(indexes, dtype=torch.long, device=device).view(1, -1)\n",
        "\n",
        "def pair2tensors(pair):\n",
        "  input_tensor = sentence2tensor(input_lang, pair[0])\n",
        "  target_tensor = sentence2tensor(output_lang, pair[1])\n",
        "  return (input_tensor, target_tensor)\n",
        "\n"
      ]
    },
    {
      "cell_type": "code",
      "execution_count": 16,
      "metadata": {},
      "outputs": [],
      "source": [
        "class EarlyStopping:\n",
        "    def __init__(self, patience=5, delta=0, path='checkpoint.pt'):\n",
        "        self.patience = patience\n",
        "        self.delta = delta\n",
        "        self.path = path\n",
        "        self.best_loss = None\n",
        "        self.counter = 0\n",
        "        self.early_stop = False\n",
        "\n",
        "    def __call__(self, loss, encoder, decoder, encoder_optimizer, decoder_optimizer):\n",
        "        if self.best_loss is None:\n",
        "            self.best_loss = loss\n",
        "            self.save_checkpoint(encoder, decoder, encoder_optimizer, decoder_optimizer)\n",
        "        elif loss > self.best_loss - self.delta:\n",
        "            self.counter += 1\n",
        "            if self.counter >= self.patience:\n",
        "                self.early_stop = True\n",
        "        else:\n",
        "            self.best_loss = loss\n",
        "            self.save_checkpoint(encoder, decoder, encoder_optimizer, decoder_optimizer)\n",
        "            self.counter = 0\n",
        "\n",
        "    def save_checkpoint(self, encoder, decoder, encoder_optimizer, decoder_optimizer):\n",
        "        '''Guarda el modelo cuando la pérdida disminuye.'''\n",
        "        torch.save({\n",
        "            'encoder_state_dict': encoder.state_dict(),\n",
        "            'decoder_state_dict': decoder.state_dict(),\n",
        "            'encoder_optimizer_state_dict': encoder_optimizer.state_dict(),\n",
        "            'decoder_optimizer_state_dict': decoder_optimizer.state_dict(),\n",
        "        }, self.path)\n",
        "        print(f'Modelo guardado con pérdida de: {self.best_loss:.4f}')\n"
      ]
    },
    {
      "cell_type": "code",
      "execution_count": 17,
      "metadata": {},
      "outputs": [],
      "source": [
        "def train(input_tensor, target_tensor, encoder, decoder, encoder_optimizer, decoder_optimizer, criterion, max_length=10):\n",
        "    encoder_hidden = encoder.init_hidden()\n",
        "    encoder_optimizer.zero_grad()\n",
        "    decoder_optimizer.zero_grad()\n",
        "\n",
        "    input_length = input_tensor.size(1)\n",
        "    target_length = target_tensor.size(1)\n",
        "    encoder_outputs = torch.zeros(max_length, encoder.hidden_size, device=device)\n",
        "\n",
        "    loss = 0\n",
        "\n",
        "    #print(f\"Input tensor shape: {input_tensor.shape}\")\n",
        "    #print(f\"Target tensor shape: {target_tensor.shape}\")\n",
        "    #print(f\"Encoder outputs shape: {encoder_outputs.shape}\")\n",
        "\n",
        "    for ei in range(input_length):\n",
        "        input_step = input_tensor[:, ei]\n",
        "        encoder_output, encoder_hidden = encoder(input_step, encoder_hidden)\n",
        "        encoder_outputs[ei] = encoder_output[0, 0]\n",
        "        #print(f\"Encoder output shape after step {ei}: {encoder_output.shape}\")\n",
        "\n",
        "    decoder_input = torch.tensor([[SOS_token]], device=device)\n",
        "    decoder_hidden = encoder_hidden\n",
        "\n",
        "    use_teacher_forcing = True if random.random() < 0.5 else False\n",
        "\n",
        "    if use_teacher_forcing:\n",
        "        for di in range(target_length):\n",
        "            decoder_output, decoder_hidden, decoder_attention = decoder(decoder_input, decoder_hidden, encoder_outputs)\n",
        "            loss += criterion(decoder_output, target_tensor[:, di])\n",
        "            decoder_input = target_tensor[:, di]\n",
        "            #print(f\"Decoder output shape after step {di}: {decoder_output.shape}\")\n",
        "    else:\n",
        "        for di in range(target_length):\n",
        "            decoder_output, decoder_hidden, decoder_attention = decoder(decoder_input, decoder_hidden, encoder_outputs)\n",
        "            topv, topi = decoder_output.topk(1)\n",
        "            decoder_input = topi.squeeze().detach()\n",
        "            loss += criterion(decoder_output, target_tensor[:, di])\n",
        "            #print(f\"Decoder output shape after step {di}: {decoder_output.shape}\")\n",
        "            if decoder_input.item() == EOS_token:\n",
        "                break\n",
        "\n",
        "    loss.backward()\n",
        "    encoder_optimizer.step()\n",
        "    decoder_optimizer.step()\n",
        "\n",
        "    return loss.item() / target_length\n",
        "\n",
        "\n",
        "\n",
        "def train_iters(encoder, decoder, n_iters, train_pairs, val_pairs, print_every=1, learning_rate=0.01, patience=5):\n",
        "    max_length = 10  # Asegúrate de definir max_length en el código\n",
        "    print_loss_total = 0\n",
        "    early_stopping = EarlyStopping(patience=patience, path='best_model.pt')\n",
        "\n",
        "    encoder_optimizer = optim.SGD(encoder.parameters(), lr=learning_rate, weight_decay=1e-4)\n",
        "    decoder_optimizer = optim.SGD(decoder.parameters(), lr=learning_rate, weight_decay=1e-4)\n",
        "    training_pairs = [pair2tensors(random.choice(train_pairs)) for _ in range(n_iters)]\n",
        "    validation_pairs = [pair2tensors(pair) for pair in val_pairs]\n",
        "    criterion = nn.NLLLoss()\n",
        "\n",
        "    for iter in range(1, n_iters + 1):\n",
        "        training_pair = training_pairs[iter - 1]\n",
        "        input_tensor = training_pair[0]\n",
        "        target_tensor = training_pair[1]\n",
        "\n",
        "        loss = train(input_tensor, target_tensor, encoder, decoder, encoder_optimizer, decoder_optimizer, criterion)\n",
        "        print_loss_total += loss\n",
        "\n",
        "        if iter % print_every == 0:\n",
        "            print_loss_avg = print_loss_total / print_every\n",
        "            print_loss_total = 0\n",
        "            print(f\"Iteración: {iter}, Pérdida promedio (entrenamiento): {print_loss_avg:.4f}\")\n",
        "\n",
        "            # Validación\n",
        "            val_loss_total = 0\n",
        "            for val_pair in validation_pairs:\n",
        "                val_input_tensor, val_target_tensor = val_pair\n",
        "                encoder_hidden = encoder.init_hidden()\n",
        "                input_length = val_input_tensor.size(1)\n",
        "                target_length = val_target_tensor.size(1)\n",
        "                encoder_outputs = torch.zeros(max_length, encoder.hidden_size, device=device)\n",
        "\n",
        "                #print(f\"Validation input tensor shape: {val_input_tensor.shape}\")\n",
        "                #print(f\"Validation target tensor shape: {val_target_tensor.shape}\")\n",
        "\n",
        "                with torch.no_grad():\n",
        "                    for ei in range(input_length):\n",
        "                        val_input_step = val_input_tensor[:, ei]\n",
        "                        encoder_output, encoder_hidden = encoder(val_input_step, encoder_hidden)\n",
        "                        encoder_outputs[ei] = encoder_output[0, 0]\n",
        "\n",
        "                    decoder_input = torch.tensor([[SOS_token]], device=device)\n",
        "                    decoder_hidden = encoder_hidden\n",
        "\n",
        "                    for di in range(target_length):\n",
        "                        decoder_output, decoder_hidden, _ = decoder(decoder_input, decoder_hidden, encoder_outputs)\n",
        "                        val_loss_total += criterion(decoder_output, val_target_tensor[:, di]).item()\n",
        "                        if decoder_output.topk(1)[1].item() == EOS_token:\n",
        "                            break\n",
        "                        decoder_input = val_target_tensor[:, di]\n",
        "\n",
        "            val_loss_avg = val_loss_total / len(validation_pairs)\n",
        "            print(f\"Iteración: {iter}, Pérdida promedio (validación): {val_loss_avg:.4f}\")\n",
        "\n",
        "            # Pasar la pérdida promedio de validación a EarlyStopping en cada iteración\n",
        "            early_stopping(val_loss_avg, encoder, decoder, encoder_optimizer, decoder_optimizer)\n",
        "            \n",
        "            if early_stopping.early_stop:\n",
        "                print(\"Early stopping triggered. Stopping training.\")\n",
        "                break"
      ]
    },
    {
      "cell_type": "code",
      "execution_count": 18,
      "metadata": {},
      "outputs": [],
      "source": [
        "from sklearn.model_selection import train_test_split\n",
        "\n",
        "# Separar el conjunto de datos en entrenamiento, validación y prueba\n",
        "train_pairs, temp_pairs = train_test_split(pairs, test_size=0.2, random_state=SEED)\n",
        "val_pairs, test_pairs = train_test_split(temp_pairs, test_size=0.5, random_state=SEED)\n",
        "\n"
      ]
    },
    {
      "cell_type": "code",
      "execution_count": 19,
      "metadata": {},
      "outputs": [
        {
          "name": "stdout",
          "output_type": "stream",
          "text": [
            "Iteración: 1, Pérdida promedio (entrenamiento): 9.4488\n",
            "Iteración: 1, Pérdida promedio (validación): 64.6440\n",
            "Modelo guardado con pérdida de: 64.6440\n",
            "Iteración: 2, Pérdida promedio (entrenamiento): 9.4082\n",
            "Iteración: 2, Pérdida promedio (validación): 64.5516\n",
            "Modelo guardado con pérdida de: 64.5516\n",
            "Iteración: 3, Pérdida promedio (entrenamiento): 9.3583\n",
            "Iteración: 3, Pérdida promedio (validación): 64.4261\n",
            "Modelo guardado con pérdida de: 64.4261\n",
            "Iteración: 4, Pérdida promedio (entrenamiento): 9.4000\n",
            "Iteración: 4, Pérdida promedio (validación): 62.7959\n",
            "Modelo guardado con pérdida de: 62.7959\n",
            "Iteración: 5, Pérdida promedio (entrenamiento): 9.3967\n",
            "Iteración: 5, Pérdida promedio (validación): 51.2651\n",
            "Modelo guardado con pérdida de: 51.2651\n",
            "Iteración: 6, Pérdida promedio (entrenamiento): 9.3304\n",
            "Iteración: 6, Pérdida promedio (validación): 35.2964\n",
            "Modelo guardado con pérdida de: 35.2964\n",
            "Iteración: 7, Pérdida promedio (entrenamiento): 9.2550\n"
          ]
        }
      ],
      "source": [
        "hidden_size = 256\n",
        "input_size = input_lang.n_tokens\n",
        "output_size = output_lang.n_tokens\n",
        "\n",
        "encoder = EncoderRNN(input_size, hidden_size, dropout_p=0.1).to(device)\n",
        "decoder = AttnDecoderRNN(hidden_size, output_size, dropout_p=0.1).to(device)\n",
        "\n",
        "n_iters = 100\n",
        "train_iters(encoder, decoder, n_iters, train_pairs, val_pairs, print_every=1, learning_rate=0.01, patience=5)\n"
      ]
    },
    {
      "cell_type": "markdown",
      "metadata": {
        "id": "b7uIQ2QACKM-"
      },
      "source": [
        "Comente sus resultados. ¿Cómo evoluciona la loss a medida que aumenta el número de epochs?\n",
        "\n",
        "```\n",
        "Comentar aquí.\n",
        "```"
      ]
    },
    {
      "cell_type": "markdown",
      "metadata": {
        "id": "UQ2-AA_MiYQ8"
      },
      "source": [
        "Adapte las siguientes funciones para traducir oraciones con su modelo. Pruebe su traductor con algunas oraciones aleatorias del corpus."
      ]
    },
    {
      "cell_type": "code",
      "execution_count": null,
      "metadata": {},
      "outputs": [],
      "source": [
        "def translate(encoder, decoder, sentence, input_lang, output_lang, max_length=10):\n",
        "    with torch.no_grad():\n",
        "        input_tensor = sentence2tensor(input_lang, sentence)\n",
        "        input_length = input_tensor.size(0)\n",
        "        \n",
        "        encoder_hidden = encoder.init_hidden()\n",
        "        encoder_outputs = torch.zeros(max_length, encoder.hidden_size, device=device)\n",
        "        \n",
        "        for ei in range(input_length):\n",
        "            encoder_output, encoder_hidden = encoder(input_tensor[ei], encoder_hidden)\n",
        "            encoder_outputs[ei] = encoder_output[0, 0]\n",
        "        \n",
        "        decoder_input = torch.tensor([[SOS_token]], device=device)\n",
        "        decoder_hidden = encoder_hidden\n",
        "        \n",
        "        decoded_words = []\n",
        "        decoder_attentions = torch.zeros(max_length, max_length)\n",
        "        \n",
        "        for di in range(max_length):\n",
        "            decoder_output, decoder_hidden, decoder_attention = decoder(decoder_input, decoder_hidden, encoder_outputs)\n",
        "            decoder_attentions[di] = decoder_attention.data\n",
        "            topv, topi = decoder_output.data.topk(1)\n",
        "            if topi.item() == EOS_token:\n",
        "                decoded_words.append('STOP')\n",
        "                break\n",
        "            else:\n",
        "                decoded_words.append(output_lang.index2word[topi.item()])\n",
        "            \n",
        "            decoder_input = topi.squeeze().detach()\n",
        "        \n",
        "        return decoded_words, decoder_attentions[:di + 1]\n",
        "\n",
        "\n",
        "\n"
      ]
    },
    {
      "cell_type": "code",
      "execution_count": null,
      "metadata": {},
      "outputs": [
        {
          "name": "stdout",
          "output_type": "stream",
          "text": [
            "Input: espero que me suban el sueldo\n",
            "Traducción: i hope that i get a raise\n",
            "Predicción: STOP\n",
            "\n",
            "Input: solo necesito más tiempo con tom\n",
            "Traducción: i just need more time with tom\n",
            "Predicción: STOP\n",
            "\n",
            "Input: tom puede cantar unas pocas canciones en francés\n",
            "Traducción: tom can sing a few french songs\n",
            "Predicción: STOP\n",
            "\n",
            "Input: los disparos comenzaron cerca del mediodía\n",
            "Traducción: the shooting started around noon\n",
            "Predicción: i STOP\n",
            "\n",
            "Input: no tengo prisa\n",
            "Traducción: i m not in a rush\n",
            "Predicción: STOP\n",
            "\n",
            "Input: aléjate\n",
            "Traducción: stay away\n",
            "Predicción: STOP\n",
            "\n",
            "Input: tom está en la sede del club\n",
            "Traducción: tom is in the clubhouse\n",
            "Predicción: STOP\n",
            "\n",
            "Input: este limón no está maduro\n",
            "Traducción: this lime isn t ripe\n",
            "Predicción: STOP\n",
            "\n",
            "Input: si tenés algún problema llamá\n",
            "Traducción: if you have any problems call\n",
            "Predicción: STOP\n",
            "\n",
            "Input: te toca primero\n",
            "Traducción: you re first\n",
            "Predicción: STOP\n",
            "\n"
          ]
        }
      ],
      "source": [
        "# Cargar el mejor modelo guardado\n",
        "checkpoint = torch.load('best_model.pt')\n",
        "encoder.load_state_dict(checkpoint['encoder_state_dict'])\n",
        "decoder.load_state_dict(checkpoint['decoder_state_dict'])\n",
        "encoder.eval()\n",
        "decoder.eval()\n",
        "\n",
        "def evaluate_randomly(encoder, decoder, dataset, n=10):\n",
        "    for i in range(n):\n",
        "        pair = random.choice(dataset)\n",
        "        print('Input:', pair[0])\n",
        "        print('Traducción:', pair[1])\n",
        "        output_words, _ = translate(encoder, decoder, pair[0], input_lang, output_lang)\n",
        "        output_sentence = ' '.join(output_words)\n",
        "        print('Predicción:', output_sentence)\n",
        "        print('')\n",
        "\n",
        "evaluate_randomly(encoder, decoder, test_pairs, 10)\n",
        "\n"
      ]
    },
    {
      "cell_type": "markdown",
      "metadata": {
        "id": "SySR_0qviYQ9"
      },
      "source": [
        "Comente sus resultados. ¿Qué ocurre con las cuando la traducción predicha es válida pero no igual al ground truth? ¿Qué haría para abordar este problema?\n",
        "\n",
        "```\n",
        "Comentar aquí.\n",
        "```"
      ]
    },
    {
      "cell_type": "markdown",
      "metadata": {
        "id": "tZsbBWc3Dgkt"
      },
      "source": [
        "### P4. Visualizando Attention (0.5 pt.)\n",
        "\n",
        "Ahora visualizaremos los pesos de atención asignados entre las palabras traducidas. Para esto, les entregamos funciones para visualizar los pesos de atención entregados por su decoder a partir de una oración. Adapte el código al output de su modelo de ser necesario."
      ]
    },
    {
      "cell_type": "code",
      "execution_count": null,
      "metadata": {
        "execution": {
          "iopub.execute_input": "2024-06-26T00:10:32.539037Z",
          "iopub.status.busy": "2024-06-26T00:10:32.538676Z",
          "iopub.status.idle": "2024-06-26T00:10:32.838758Z",
          "shell.execute_reply": "2024-06-26T00:10:32.837734Z",
          "shell.execute_reply.started": "2024-06-26T00:10:32.539010Z"
        },
        "id": "H3pGxykbEwxD",
        "outputId": "34692b12-4b26-46b9-e54e-9ec4c37104c5",
        "trusted": true
      },
      "outputs": [],
      "source": [
        "import matplotlib.pyplot as plt\n",
        "plt.switch_backend('agg')\n",
        "import matplotlib.ticker as ticker\n",
        "import numpy as np"
      ]
    },
    {
      "cell_type": "code",
      "execution_count": null,
      "metadata": {
        "execution": {
          "iopub.execute_input": "2024-06-26T00:11:05.014317Z",
          "iopub.status.busy": "2024-06-26T00:11:05.013508Z",
          "iopub.status.idle": "2024-06-26T00:11:05.019829Z",
          "shell.execute_reply": "2024-06-26T00:11:05.018843Z",
          "shell.execute_reply.started": "2024-06-26T00:11:05.014274Z"
        },
        "id": "enylYxmWiYQ_",
        "trusted": true
      },
      "outputs": [],
      "source": [
        "%matplotlib inline"
      ]
    },
    {
      "cell_type": "code",
      "execution_count": null,
      "metadata": {
        "execution": {
          "iopub.execute_input": "2024-06-26T07:05:55.099763Z",
          "iopub.status.busy": "2024-06-26T07:05:55.099370Z",
          "iopub.status.idle": "2024-06-26T07:05:55.110218Z",
          "shell.execute_reply": "2024-06-26T07:05:55.109336Z",
          "shell.execute_reply.started": "2024-06-26T07:05:55.099734Z"
        },
        "id": "PEYuC0yvEg5i",
        "trusted": true
      },
      "outputs": [],
      "source": [
        "def plot_attention(input_sentence, output_words, attentions):\n",
        "  fig = plt.figure()\n",
        "  ax = fig.add_subplot(111)\n",
        "  cax = ax.matshow(attentions.cpu().numpy(), cmap='bone')\n",
        "  fig.colorbar(cax)\n",
        "\n",
        "  # Set up axes\n",
        "  ax.xaxis.set_ticks(attentions)\n",
        "  ax.set_xticklabels([''] + input_sentence.split(' ') +\n",
        "             ['STOP'], rotation=90)\n",
        "  ax.set_yticklabels([''] + output_words)\n",
        "\n",
        "  # Show label at every tick\n",
        "  ax.xaxis.set_major_locator(ticker.MultipleLocator(1))\n",
        "  ax.yaxis.set_major_locator(ticker.MultipleLocator(1))\n",
        "\n",
        "  plt.show()\n",
        "\n",
        "\n",
        "def show_attention(input_sentence):\n",
        "  output_words, attentions = translate(encoder, decoder, input_sentence, input_lang, output_lang)\n",
        "  print('input =', input_sentence)\n",
        "  print('output =', ' '.join(output_words))\n",
        "  plot_attention(input_sentence, output_words, attentions[0, :len(output_words), :])"
      ]
    },
    {
      "cell_type": "markdown",
      "metadata": {
        "id": "x1woXuV4iYQ_"
      },
      "source": [
        "Grafique la atención de las siguientes oraciones de ejemplo. Haga lo mismo con al menos tres oraciones más que puedan ser interesantes."
      ]
    },
    {
      "cell_type": "code",
      "execution_count": null,
      "metadata": {
        "execution": {
          "iopub.execute_input": "2024-06-27T01:36:27.206601Z",
          "iopub.status.busy": "2024-06-27T01:36:27.20562Z",
          "iopub.status.idle": "2024-06-27T01:36:29.1141Z",
          "shell.execute_reply": "2024-06-27T01:36:29.113147Z",
          "shell.execute_reply.started": "2024-06-27T01:36:27.206568Z"
        },
        "id": "A9UvaxzvV1U2",
        "outputId": "5ae6f5da-752f-48d2-e2c4-fbb38f89bf4f",
        "trusted": true
      },
      "outputs": [
        {
          "name": "stdout",
          "output_type": "stream",
          "text": [
            "input = tom necesita un poco de ayuda\n",
            "output = STOP\n"
          ]
        },
        {
          "ename": "IndexError",
          "evalue": "too many indices for tensor of dimension 2",
          "output_type": "error",
          "traceback": [
            "\u001b[0;31m---------------------------------------------------------------------------\u001b[0m",
            "\u001b[0;31mIndexError\u001b[0m                                Traceback (most recent call last)",
            "Cell \u001b[0;32mIn[25], line 3\u001b[0m\n\u001b[1;32m      1\u001b[0m \u001b[38;5;66;03m## Oraciones de ejemplo\u001b[39;00m\n\u001b[0;32m----> 3\u001b[0m \u001b[43mshow_attention\u001b[49m\u001b[43m(\u001b[49m\u001b[38;5;124;43m'\u001b[39;49m\u001b[38;5;124;43mtom necesita un poco de ayuda\u001b[39;49m\u001b[38;5;124;43m'\u001b[39;49m\u001b[43m)\u001b[49m\n\u001b[1;32m      5\u001b[0m show_attention(\u001b[38;5;124m'\u001b[39m\u001b[38;5;124mel perro corre rápidamente\u001b[39m\u001b[38;5;124m'\u001b[39m)\n\u001b[1;32m      7\u001b[0m show_attention(\u001b[38;5;124m'\u001b[39m\u001b[38;5;124mel banco le ofreció un alto interés\u001b[39m\u001b[38;5;124m'\u001b[39m)\n",
            "Cell \u001b[0;32mIn[24], line 24\u001b[0m, in \u001b[0;36mshow_attention\u001b[0;34m(input_sentence)\u001b[0m\n\u001b[1;32m     22\u001b[0m \u001b[38;5;28mprint\u001b[39m(\u001b[38;5;124m'\u001b[39m\u001b[38;5;124minput =\u001b[39m\u001b[38;5;124m'\u001b[39m, input_sentence)\n\u001b[1;32m     23\u001b[0m \u001b[38;5;28mprint\u001b[39m(\u001b[38;5;124m'\u001b[39m\u001b[38;5;124moutput =\u001b[39m\u001b[38;5;124m'\u001b[39m, \u001b[38;5;124m'\u001b[39m\u001b[38;5;124m \u001b[39m\u001b[38;5;124m'\u001b[39m\u001b[38;5;241m.\u001b[39mjoin(output_words))\n\u001b[0;32m---> 24\u001b[0m plot_attention(input_sentence, output_words, \u001b[43mattentions\u001b[49m\u001b[43m[\u001b[49m\u001b[38;5;241;43m0\u001b[39;49m\u001b[43m,\u001b[49m\u001b[43m \u001b[49m\u001b[43m:\u001b[49m\u001b[38;5;28;43mlen\u001b[39;49m\u001b[43m(\u001b[49m\u001b[43moutput_words\u001b[49m\u001b[43m)\u001b[49m\u001b[43m,\u001b[49m\u001b[43m \u001b[49m\u001b[43m:\u001b[49m\u001b[43m]\u001b[49m)\n",
            "\u001b[0;31mIndexError\u001b[0m: too many indices for tensor of dimension 2"
          ]
        }
      ],
      "source": [
        "## Oraciones de ejemplo\n",
        "\n",
        "show_attention('tom necesita un poco de ayuda')\n",
        "\n",
        "show_attention('el perro corre rápidamente')\n",
        "\n",
        "show_attention('el banco le ofreció un alto interés')\n",
        "\n",
        "show_attention('él toca la flauta el clarinete y el saxofón')"
      ]
    },
    {
      "cell_type": "code",
      "execution_count": null,
      "metadata": {
        "execution": {
          "iopub.execute_input": "2024-06-26T00:23:19.645525Z",
          "iopub.status.busy": "2024-06-26T00:23:19.644835Z",
          "iopub.status.idle": "2024-06-26T00:23:20.075431Z",
          "shell.execute_reply": "2024-06-26T00:23:20.074157Z",
          "shell.execute_reply.started": "2024-06-26T00:23:19.645492Z"
        },
        "id": "mGT1XA9DiYRA",
        "trusted": true
      },
      "outputs": [],
      "source": [
        "## Oraciones de ejemplo\n",
        "\n",
        "show_attention('última tarea del ramo !')\n",
        "\n",
        "show_attention('')\n",
        "\n",
        "show_attention('')"
      ]
    },
    {
      "cell_type": "markdown",
      "metadata": {
        "id": "fiC9Yii4G3qx"
      },
      "source": [
        "Comente sus resultados. ¿Eran lo que esperaba?\n",
        "```\n",
        "Comentar aquí.\n",
        "```"
      ]
    },
    {
      "cell_type": "markdown",
      "metadata": {
        "id": "Ol82nJ0FnmcP"
      },
      "source": [
        "## Parte 2: BERT"
      ]
    },
    {
      "cell_type": "markdown",
      "metadata": {
        "id": "W28UEwvGYTbg"
      },
      "source": [
        "Lo primero es instalar las librerías necesarias."
      ]
    },
    {
      "cell_type": "code",
      "execution_count": null,
      "metadata": {
        "id": "3X4Gbx7wYWDD"
      },
      "outputs": [],
      "source": [
        "%%capture\n",
        "!pip install transformers\n",
        "from transformers import BertTokenizer, BertForNextSentencePrediction, BertForMaskedLM, BertForQuestionAnswering\n",
        "import torch"
      ]
    },
    {
      "cell_type": "markdown",
      "metadata": {
        "id": "eIQo-VciYz2V"
      },
      "source": [
        "Para las preguntas que siguen, utilizaremos distintas variantes de BERT disponibles en la librería transformers. [Aquí](https://huggingface.co/transformers/model_doc/bert.html) pueden encontrar toda la documentación necesaria. El modelo pre-entrenado a utilizar es \"bert-base-uncased\" (salvo para question answering)."
      ]
    },
    {
      "cell_type": "markdown",
      "metadata": {
        "id": "E4_WHbz8bXx2"
      },
      "source": [
        "BERT es un modelo de lenguaje que fue entrenado exhaustivamente sobre dos tareas: 1) Next sentence prediction. 2) Masked language modeling."
      ]
    },
    {
      "cell_type": "markdown",
      "metadata": {
        "id": "QyMb4YZRMYkm"
      },
      "source": [
        "### **BertForNextSentencePrediction** (0.5 pt.)"
      ]
    },
    {
      "cell_type": "markdown",
      "metadata": {
        "id": "Yt6CbBtyadRb"
      },
      "source": [
        "**Pregunta 1:**  Utilizando el modelo BertForNextSentencePrediction de la librería transformers, muestre cual de las 2 oraciones es **más probable** que sea una continuación de la primera. Para esto defina la función $oracion\\_mas\\_probable$, que recibe el inicio de una frase, las alternativas para continuar esta frase y retorna un string indicando cual de las dos oraciones es más probable.\n",
        "\n",
        "Por ejemplo:\n",
        "\n",
        "Initial: \"The sky is blue.\"\\\n",
        "A: \"This is due to the shorter wavelength of blue light.\"\\\n",
        "B: \"Chile is one of the world's greatest economies.\"\n",
        "\n",
        "Debería retornar \"La oración que continúa más probable es A\", justificándolo con la evaluación de BERT.\n",
        "\n"
      ]
    },
    {
      "cell_type": "code",
      "execution_count": null,
      "metadata": {
        "colab": {
          "base_uri": "https://localhost:8080/",
          "height": 145,
          "referenced_widgets": [
            "57dc83643dc8433aaded5ee1a23f4d1c",
            "5f5e4a405f8145e392f60d90b06f124a",
            "182322cb658244768122e7dd76aeb537",
            "77d085d94d854c0094db1b5de694db27",
            "40c294d3f1574a2dab53166af6c85aa6",
            "42c6f3fc212e41d295b7fb07c6c452c3",
            "00e8bed2c0154de4b9beda1bfbf278b0",
            "20245878a2fc41d5b67c5488d6dc92f8",
            "2b52f6771c634d16a45320772d5d07a6",
            "835c0a0eedaf4864bee9650493a7b58d",
            "2ed2ab7add5c4a7d8cc29e604c10da38",
            "99baef3bef204daa80f7913d051cdc24",
            "77ceb27275114376b424adb485e85678",
            "97f8da56b9f2485cb9e11e12972e79ff",
            "56e5336e15a74a7a84dd0c71d65f79cd",
            "c6f90fc233d04fd68a8e232349dc1f16",
            "95800ab037a649de861f042c40d526fb",
            "9be50395de854ca0a308582de7741cc1",
            "4de4df4315bb4bf0a82d4a6b5acff6b6",
            "8029a3df2bab4f81ad2fb24148d1fb2c",
            "f63e7fb34ef84c8ba5dc74a26b6400e5",
            "3ce6dfb06ec541f682138c4a1ae13dc9",
            "04f45bfb7ce6408abb6200d837653a22",
            "924d1548c5934d0ba180c2055a3d76ac",
            "0164256a16fe4a4dad5abd94af1d4db2",
            "8935f08ac61b4bf8aeccdd00d7caec5c",
            "e471219739cc432591fe9eab0a5c6d6d",
            "1288c60c1d66497c87c5c1db9bda5102",
            "2e09f8e907ce452493f7c72b85a28803",
            "6358ae564f704404a3448169890134c1",
            "a365c587197340878960e175342ea5ad",
            "76d411e3dbf14be6ae79ed6892c757e4",
            "ef5b312c8e6048129150ea55200ad75a",
            "e8dc83fe3b6341a69295fd3f33e081ac",
            "5cd71b11ccaf42bb8b4ec51b90c44f0e",
            "d8da4a3600614dfba37ea6e7576ce52a",
            "32a98ab14c0340b9942f8d41a52ef1a9",
            "e17f2b0e326b476b8479a45a26bd601d",
            "2ee706d28f984a29990748a756a7a218",
            "07b902019ae24d31aa49f62c3402f428",
            "35dbade965074cfc978cf3c497e05993",
            "ad97fea43e234d0b973a11d8f6316f7e",
            "64f4e84707e3411ea30e77e6ae75f8d1",
            "043acb4132f449b08d39127d25c1668b"
          ]
        },
        "id": "IOX0bwser8OM",
        "outputId": "e5997696-0341-4ba0-dec5-f33865962f61"
      },
      "outputs": [
        {
          "data": {
            "application/vnd.jupyter.widget-view+json": {
              "model_id": "57dc83643dc8433aaded5ee1a23f4d1c",
              "version_major": 2,
              "version_minor": 0
            },
            "text/plain": [
              "Downloading (…)solve/main/vocab.txt:   0%|          | 0.00/232k [00:00<?, ?B/s]"
            ]
          },
          "metadata": {},
          "output_type": "display_data"
        },
        {
          "data": {
            "application/vnd.jupyter.widget-view+json": {
              "model_id": "99baef3bef204daa80f7913d051cdc24",
              "version_major": 2,
              "version_minor": 0
            },
            "text/plain": [
              "Downloading (…)okenizer_config.json:   0%|          | 0.00/28.0 [00:00<?, ?B/s]"
            ]
          },
          "metadata": {},
          "output_type": "display_data"
        },
        {
          "data": {
            "application/vnd.jupyter.widget-view+json": {
              "model_id": "04f45bfb7ce6408abb6200d837653a22",
              "version_major": 2,
              "version_minor": 0
            },
            "text/plain": [
              "Downloading (…)lve/main/config.json:   0%|          | 0.00/570 [00:00<?, ?B/s]"
            ]
          },
          "metadata": {},
          "output_type": "display_data"
        },
        {
          "data": {
            "application/vnd.jupyter.widget-view+json": {
              "model_id": "e8dc83fe3b6341a69295fd3f33e081ac",
              "version_major": 2,
              "version_minor": 0
            },
            "text/plain": [
              "Downloading model.safetensors:   0%|          | 0.00/440M [00:00<?, ?B/s]"
            ]
          },
          "metadata": {},
          "output_type": "display_data"
        }
      ],
      "source": [
        "tokenizer = BertTokenizer.from_pretrained('bert-base-uncased')\n",
        "model = BertForNextSentencePrediction.from_pretrained('bert-base-uncased')"
      ]
    },
    {
      "cell_type": "code",
      "execution_count": null,
      "metadata": {
        "id": "WoBKxPt-mz-e"
      },
      "outputs": [],
      "source": [
        "def oracion_mas_probable(first,sentA,sentB):\n",
        "  #Tu implementacion\n",
        "  encodingA = tokenizer(first, sentA, return_tensors='pt')\n",
        "  encodingB = tokenizer(first, sentB, return_tensors='pt')\n",
        "  outputA = model(**encodingA, labels=torch.LongTensor([1]))\n",
        "  outputB = model(**encodingB, labels=torch.LongTensor([1]))\n",
        "  logitsA = outputA.logits\n",
        "  logitsB = outputB.logits\n",
        "\n",
        "  return"
      ]
    },
    {
      "cell_type": "markdown",
      "metadata": {
        "id": "goXIGaief8Bi"
      },
      "source": [
        "1.1)\n",
        "Initial: \"My cat is fluffy.\"\\\n",
        "A: \"My dog has a curling tail.\"\\\n",
        "B: \"A song can make or ruin a person’s day if they let it get to them.\""
      ]
    },
    {
      "cell_type": "code",
      "execution_count": null,
      "metadata": {
        "id": "jVLccJ9go-lS"
      },
      "outputs": [],
      "source": []
    },
    {
      "cell_type": "markdown",
      "metadata": {
        "id": "mHd7UzXpgCY-"
      },
      "source": [
        "1.2)\n",
        "Initial: \"The Big Apple is famous worldwide.\"\\\n",
        "A: \"You can add cinnamon for the perfect combination.\"\\\n",
        "B: \"It is America's largest city.\""
      ]
    },
    {
      "cell_type": "code",
      "execution_count": null,
      "metadata": {
        "id": "JJIp0wBSo_VR"
      },
      "outputs": [],
      "source": []
    },
    {
      "cell_type": "markdown",
      "metadata": {
        "id": "c1Y7oxM7d0jM"
      },
      "source": [
        "1.3)\n",
        "Initial: \"Roses are red.\"\\\n",
        "A: \"Violets are blue.\"\\\n",
        "B: \"Fertilize them regularly for impressive flowers.\""
      ]
    },
    {
      "cell_type": "code",
      "execution_count": null,
      "metadata": {
        "id": "888e-dlHpAEJ"
      },
      "outputs": [],
      "source": []
    },
    {
      "cell_type": "markdown",
      "metadata": {
        "id": "lgC5BcoDiIWV"
      },
      "source": [
        "1.4)\n",
        "Initial: \"I play videogames the whole day.\"\\\n",
        "A: \"They make me happy.\"\\\n",
        "B: \"They make me rage.\"\\"
      ]
    },
    {
      "cell_type": "code",
      "execution_count": null,
      "metadata": {
        "id": "VfeRqw4gpBDP"
      },
      "outputs": [],
      "source": []
    },
    {
      "cell_type": "markdown",
      "metadata": {
        "id": "o3ArRo_zMdtr"
      },
      "source": [
        "### **BertForMaskedLM** (0.5 pt.)"
      ]
    },
    {
      "cell_type": "markdown",
      "metadata": {
        "id": "FCN8XM7qihx1"
      },
      "source": [
        "**Pregunta 2:**  Ahora utilizaremos BertForMaskedLM para **predecir una palabra oculta** en una oración.\\\n",
        "Por ejemplo:\\\n",
        "BERT input: \"I want to _ a new car.\"\\\n",
        "BERT prediction: \"buy\""
      ]
    },
    {
      "cell_type": "code",
      "execution_count": null,
      "metadata": {
        "id": "QZwFxbJOv_aW"
      },
      "outputs": [],
      "source": [
        "tokenizer = BertTokenizer.from_pretrained('bert-base-uncased')\n",
        "model = BertForMaskedLM.from_pretrained('bert-base-uncased')"
      ]
    },
    {
      "cell_type": "code",
      "execution_count": null,
      "metadata": {
        "id": "QSGkdSokv-3G"
      },
      "outputs": [],
      "source": [
        "def palabra_mas_probable(sentence):\n",
        "  #Tu implementacion\n",
        "  tokenized_text = tokenizer.tokenize(sentence)\n",
        "  masked_index = tokenized_text.index('[MASK]')\n",
        "  indexed_tokens = tokenizer.convert_tokens_to_ids(tokenized_text)\n",
        "  tokens_tensor = torch.tensor([indexed_tokens])\n",
        "\n",
        "  segments_tensors = None\n",
        "\n",
        "  predictions = model(tokens_tensor, segments_tensors)\n",
        "  predicted_index = None\n",
        "  predicted_token = None\n",
        "  pass"
      ]
    },
    {
      "cell_type": "markdown",
      "metadata": {
        "id": "gua8HPhfkYOb"
      },
      "source": [
        "2.1)\n",
        "BERT input: \"[CLS] I love [MASK] . [SEP]\""
      ]
    },
    {
      "cell_type": "code",
      "execution_count": null,
      "metadata": {
        "id": "xKRFJnURk7ut"
      },
      "outputs": [],
      "source": [
        "sent = \"[CLS] I love [MASK] . [SEP]\"\n",
        "palabra_mas_probable(sent)"
      ]
    },
    {
      "cell_type": "markdown",
      "metadata": {
        "id": "7npsRd9Nk8hi"
      },
      "source": [
        "2.2)\n",
        "BERT input: \"[CLS] I hear that Karen is very [MASK] . [SEP]\""
      ]
    },
    {
      "cell_type": "code",
      "execution_count": null,
      "metadata": {
        "id": "EW7CosmKk87e"
      },
      "outputs": [],
      "source": [
        "sent = \"[CLS] I heard that Karen is very [MASK] . [SEP]\"\n",
        "palabra_mas_probable(sent)"
      ]
    },
    {
      "cell_type": "markdown",
      "metadata": {
        "id": "3SqzWh8Wk9TD"
      },
      "source": [
        "2.3)\n",
        "BERT input: \"[CLS] She had the gift of being able to [MASK] . [SEP]\""
      ]
    },
    {
      "cell_type": "code",
      "execution_count": null,
      "metadata": {
        "id": "K6YFd1Xpk9qd"
      },
      "outputs": [],
      "source": [
        "sent = \"[CLS] She had the gift of being able to [MASK] . [SEP]\"\n",
        "palabra_mas_probable(sent)"
      ]
    },
    {
      "cell_type": "markdown",
      "metadata": {
        "id": "XoV_5suNk-1X"
      },
      "source": [
        "2.4)\n",
        "BERT input: \"[CLS] It's not often you find a [MASK] on the street. [SEP]\""
      ]
    },
    {
      "cell_type": "code",
      "execution_count": null,
      "metadata": {
        "id": "C8ayI5VIk_Hr"
      },
      "outputs": [],
      "source": [
        "sent = \"[CLS] It's not often you find an [MASK] on the circus . [SEP]\"\n",
        "palabra_mas_probable(sent)"
      ]
    },
    {
      "cell_type": "markdown",
      "metadata": {
        "id": "FJFPpgoYMim5"
      },
      "source": [
        "### **BertForQuestionAnswering** (0.5 pt.)"
      ]
    },
    {
      "cell_type": "markdown",
      "metadata": {
        "id": "GmCSmftALYbA"
      },
      "source": [
        "**Pregunta 3**  Utilizando el modelo BertForQuestionAnswering pre-entrenado con 'bert-large-uncased-whole-word-masking-finetuned-squad', **extraiga la respuesta** a cada una de las siguientes 4 preguntas y su contexto. Recuerde cambiar el tokenizer para que coincida con el modelo."
      ]
    },
    {
      "cell_type": "code",
      "execution_count": null,
      "metadata": {
        "colab": {
          "base_uri": "https://localhost:8080/",
          "height": 145,
          "referenced_widgets": [
            "8e7ea6eb792540b78b349258ecceb542",
            "1f7c802fc51c4cc79d8c7417bdd7b5c7",
            "1a13b10ce0d9437da8025affcebf2a2a",
            "6ad5fe193c164567952ed687e68a7baa",
            "23a02a66a3c149a7a7fddde96fb2686c",
            "1247917d6af942f4b6dd6196bf0e0667",
            "4f135bd3cb0a4135bb5b1a55e83daaaa",
            "f4b1f82cbc504325b198bfb4b660582b",
            "c30d7a13f7e14869a6584379041f00c7",
            "c2cfafafdef048b7b558dcbf59df4a74",
            "06eef2f17118445084370f2df9aa02a0",
            "1e9a1ad491054a759e09a595bdc75396",
            "e86e11b5bec04729bf9d6dc9db4e70de",
            "a173f1b8e0624dee934b0d32cec229bc",
            "ec59ada926f248b3b1c27cc6499dbf82",
            "b59c4012c58f4fa88d5c004a7885a04e",
            "1641ce050f094c2fb201c99ad98632d0",
            "a0d143d052384d47bf73ffe8a2b96b9e",
            "2f8f499822eb4fe68d1100e4362ae726",
            "53cd9ba5c8b34fbe94fc55863ad7db87",
            "a5fdbda33afa4e5892f2ec0d07b2a645",
            "39964015e8ab4904bc8b40cc4c4cd05c",
            "d035e9307230456a81b3ae3cb685dd24",
            "4c5c5c5310b44f4e9e97e58dd1e464b6",
            "4993af40a1e84a7391ab40a07f4a5b9f",
            "62f733c3f9384a15900ed816e5390417",
            "6cec4f7d69a54c7ebb88357f9922e37d",
            "20d4c744d2064e8ebb2cf8fc355e3b37",
            "2db1768d29c64397a8e7d3adffb93520",
            "0cac2a56efa343808dbf90232dcb679f",
            "7f5a8b79b9434d89ba34f73e471b0032",
            "9b7de099a7a447dabc673dcf7e6f19fb",
            "69d08d27f28f493c9f5491ca87942b73",
            "fe71976be3c945ab9e54cd89aae0b206",
            "c67d479dd78141599bb78a7bda0868c1",
            "2e4319c121b7436d9627db65fed03f32",
            "cf60ffa05542435d9245b49ed11a6bd0",
            "fec6f712e8ce4a169391466489147e76",
            "2396e748c75d4008aee8e8e5952b6679",
            "15b1f509aecd40f29e034f58be425a06",
            "e816691e8b4c4268a511060a3b58f86f",
            "fc4d980e56084743854ca0c6f05032cb",
            "5b232d6676fe456a9ca54002a4131f45",
            "d4bf7fbd4b24408ba8879467237dac1c"
          ]
        },
        "id": "8UhKkKpyToFf",
        "outputId": "a3188c1b-310c-4ddf-9c16-7c296b06fad9"
      },
      "outputs": [
        {
          "data": {
            "application/vnd.jupyter.widget-view+json": {
              "model_id": "8e7ea6eb792540b78b349258ecceb542",
              "version_major": 2,
              "version_minor": 0
            },
            "text/plain": [
              "Downloading (…)solve/main/vocab.txt:   0%|          | 0.00/232k [00:00<?, ?B/s]"
            ]
          },
          "metadata": {},
          "output_type": "display_data"
        },
        {
          "data": {
            "application/vnd.jupyter.widget-view+json": {
              "model_id": "1e9a1ad491054a759e09a595bdc75396",
              "version_major": 2,
              "version_minor": 0
            },
            "text/plain": [
              "Downloading (…)okenizer_config.json:   0%|          | 0.00/28.0 [00:00<?, ?B/s]"
            ]
          },
          "metadata": {},
          "output_type": "display_data"
        },
        {
          "data": {
            "application/vnd.jupyter.widget-view+json": {
              "model_id": "d035e9307230456a81b3ae3cb685dd24",
              "version_major": 2,
              "version_minor": 0
            },
            "text/plain": [
              "Downloading (…)lve/main/config.json:   0%|          | 0.00/443 [00:00<?, ?B/s]"
            ]
          },
          "metadata": {},
          "output_type": "display_data"
        },
        {
          "data": {
            "application/vnd.jupyter.widget-view+json": {
              "model_id": "fe71976be3c945ab9e54cd89aae0b206",
              "version_major": 2,
              "version_minor": 0
            },
            "text/plain": [
              "Downloading model.safetensors:   0%|          | 0.00/1.34G [00:00<?, ?B/s]"
            ]
          },
          "metadata": {},
          "output_type": "display_data"
        }
      ],
      "source": [
        "tokenizer = BertTokenizer.from_pretrained('bert-large-uncased-whole-word-masking-finetuned-squad')\n",
        "model = BertForQuestionAnswering.from_pretrained('bert-large-uncased-whole-word-masking-finetuned-squad')"
      ]
    },
    {
      "cell_type": "code",
      "execution_count": null,
      "metadata": {
        "id": "JFejTyj98XDC"
      },
      "outputs": [],
      "source": [
        "def entregar_respuesta(qst, cntxt):\n",
        "  #Tu implementacion\n",
        "  inputs = tokenizer(qst, cntxt, return_tensors='pt')\n",
        "  start_positions = torch.tensor([1])\n",
        "  end_positions = torch.tensor([3])\n",
        "\n",
        "  outputs = model(**inputs, start_positions=start_positions, end_positions=end_positions)\n",
        "  start_scores = None\n",
        "  end_scores = None\n",
        "  answer = None\n",
        "  return answer"
      ]
    },
    {
      "cell_type": "markdown",
      "metadata": {
        "id": "H7zizotdKVIF"
      },
      "source": [
        "3.1)\n",
        "\n",
        "Pregunta: \"When was the Battle of Iquique?\"\n",
        "\n",
        "Contexto: \"The Battle of Iquique was a naval engagement that occurred between a Chilean corvette under the command of Arturo Prat and a Peruvian ironclad under the command of Miguel Grau Seminario on 21 May 1879, during the naval stage of the War of the Pacific, and resulted in a Peruvian victory.\""
      ]
    },
    {
      "cell_type": "code",
      "execution_count": null,
      "metadata": {
        "id": "q_TrDijrKnQH"
      },
      "outputs": [],
      "source": [
        "q = \"When was the Battle of Iquique?\"\n",
        "c = \"The Battle of Iquique was a naval engagement that occurred between a Chilean corvette under the command of Arturo Prat and a Peruvian ironclad under the command of Miguel Grau Seminario on 21 May 1879, during the naval stage of the War of the Pacific, and resulted in a Peruvian victory.\"\n",
        "entregar_respuesta(q, c)"
      ]
    },
    {
      "cell_type": "markdown",
      "metadata": {
        "id": "0au9XCqNB2TY"
      },
      "source": [
        "3.2)\n",
        "\n",
        "Pregunta: \"Who won the Battle of Iquique?\"\n",
        "\n",
        "Contexto: \"The Battle of Iquique was a naval engagement that occurred between a Chilean corvette under the command of Arturo Prat and a Peruvian ironclad under the command of Miguel Grau Seminario on 21 May 1879, during the naval stage of the War of the Pacific, and resulted in a Peruvian victory.\""
      ]
    },
    {
      "cell_type": "code",
      "execution_count": null,
      "metadata": {
        "id": "3DlTUMxAB_0n"
      },
      "outputs": [],
      "source": [
        "q = \"Who won the Battle of Iquique?\"\n",
        "c = \"The Battle of Iquique was a naval engagement that occurred between a Chilean corvette under the command of Arturo Prat and a Peruvian ironclad under the command of Miguel Grau Seminario on 21 May 1879, during the naval stage of the War of the Pacific, and resulted in a Peruvian victory.\"\n",
        "entregar_respuesta(q, c)"
      ]
    },
    {
      "cell_type": "markdown",
      "metadata": {
        "id": "ryRajxniCKbp"
      },
      "source": [
        "3.3)\n",
        "\n",
        "Pregunta: \"Who introduced peephole connections to LSTM networks?\"\n",
        "Contexto: \"What I’ve described so far is a pretty normal LSTM. But not all LSTMs are the same as the above. In fact, it seems like almost every paper involving LSTMs uses a slightly different version. The differences are minor, but it’s worth mentioning some of them. One popular LSTM variant, introduced by Gers & Schmidhuber (2000), is adding “peephole connections.” This means that we let the gate layers look at the cell state.\""
      ]
    },
    {
      "cell_type": "code",
      "execution_count": null,
      "metadata": {
        "id": "S1rT9kgLCKuy"
      },
      "outputs": [],
      "source": [
        "q = \"Who introduced peephole connections to LSTM networks?\"\n",
        "c = \"What I’ve described so far is a pretty normal LSTM. But not all LSTMs are the same as the above. In fact, it seems like almost every paper involving LSTMs uses a slightly different version. The differences are minor, but it’s worth mentioning some of them. One popular LSTM variant, introduced by Gers & Schmidhuber (2000), is adding “peephole connections.” This means that we let the gate layers look at the cell state.\"\n",
        "entregar_respuesta(q, c)"
      ]
    },
    {
      "cell_type": "markdown",
      "metadata": {
        "id": "pqn0vNvKCLAq"
      },
      "source": [
        "3.4)\n",
        "\n",
        "Pregunta: \"When is the cat most active?\"\n",
        "\n",
        "Contexto: \"The cat is similar in anatomy to the other felid species: it has a strong flexible body, quick reflexes, sharp teeth and retractable claws adapted to killing small prey. Its night vision and sense of smell are well developed. Cat communication includes vocalizations like meowing, purring, trilling, hissing, growling and grunting as well as cat-specific body language. It is a solitary hunter but a social species. It can hear sounds too faint or too high in frequency for human ears, such as those made by mice and other small mammals. It is a predator that is most active at dawn and dusk. It secretes and perceives pheromones.\""
      ]
    },
    {
      "cell_type": "code",
      "execution_count": null,
      "metadata": {
        "id": "o5n37FwOCLTG"
      },
      "outputs": [],
      "source": [
        "q = \"When is the cat most active?\"\n",
        "c = \"The cat is similar in anatomy to the other felid species: it has a strong flexible body, quick reflexes, sharp teeth and retractable claws adapted to killing small prey. Its night vision and sense of smell are well developed. Cat communication includes vocalizations like meowing, purring, trilling, hissing, growling and grunting as well as cat-specific body language. It is a solitary hunter but a social species. It can hear sounds too faint or too high in frequency for human ears, such as those made by mice and other small mammals. It is a predator that is most active at dawn and dusk. It secretes and perceives pheromones.\"\n",
        "entregar_respuesta(q, c)"
      ]
    }
  ],
  "metadata": {
    "colab": {
      "provenance": [],
      "toc_visible": true
    },
    "kaggle": {
      "accelerator": "nvidiaTeslaT4",
      "dataSources": [],
      "dockerImageVersionId": 30733,
      "isGpuEnabled": true,
      "isInternetEnabled": true,
      "language": "python",
      "sourceType": "notebook"
    },
    "kernelspec": {
      "display_name": "Python 3",
      "language": "python",
      "name": "python3"
    },
    "language_info": {
      "codemirror_mode": {
        "name": "ipython",
        "version": 3
      },
      "file_extension": ".py",
      "mimetype": "text/x-python",
      "name": "python",
      "nbconvert_exporter": "python",
      "pygments_lexer": "ipython3",
      "version": "3.10.14"
    },
    "widgets": {
      "application/vnd.jupyter.widget-state+json": {
        "00e8bed2c0154de4b9beda1bfbf278b0": {
          "model_module": "@jupyter-widgets/controls",
          "model_module_version": "1.5.0",
          "model_name": "DescriptionStyleModel",
          "state": {
            "_model_module": "@jupyter-widgets/controls",
            "_model_module_version": "1.5.0",
            "_model_name": "DescriptionStyleModel",
            "_view_count": null,
            "_view_module": "@jupyter-widgets/base",
            "_view_module_version": "1.2.0",
            "_view_name": "StyleView",
            "description_width": ""
          }
        },
        "0164256a16fe4a4dad5abd94af1d4db2": {
          "model_module": "@jupyter-widgets/controls",
          "model_module_version": "1.5.0",
          "model_name": "FloatProgressModel",
          "state": {
            "_dom_classes": [],
            "_model_module": "@jupyter-widgets/controls",
            "_model_module_version": "1.5.0",
            "_model_name": "FloatProgressModel",
            "_view_count": null,
            "_view_module": "@jupyter-widgets/controls",
            "_view_module_version": "1.5.0",
            "_view_name": "ProgressView",
            "bar_style": "success",
            "description": "",
            "description_tooltip": null,
            "layout": "IPY_MODEL_6358ae564f704404a3448169890134c1",
            "max": 570,
            "min": 0,
            "orientation": "horizontal",
            "style": "IPY_MODEL_a365c587197340878960e175342ea5ad",
            "value": 570
          }
        },
        "043acb4132f449b08d39127d25c1668b": {
          "model_module": "@jupyter-widgets/controls",
          "model_module_version": "1.5.0",
          "model_name": "DescriptionStyleModel",
          "state": {
            "_model_module": "@jupyter-widgets/controls",
            "_model_module_version": "1.5.0",
            "_model_name": "DescriptionStyleModel",
            "_view_count": null,
            "_view_module": "@jupyter-widgets/base",
            "_view_module_version": "1.2.0",
            "_view_name": "StyleView",
            "description_width": ""
          }
        },
        "04f45bfb7ce6408abb6200d837653a22": {
          "model_module": "@jupyter-widgets/controls",
          "model_module_version": "1.5.0",
          "model_name": "HBoxModel",
          "state": {
            "_dom_classes": [],
            "_model_module": "@jupyter-widgets/controls",
            "_model_module_version": "1.5.0",
            "_model_name": "HBoxModel",
            "_view_count": null,
            "_view_module": "@jupyter-widgets/controls",
            "_view_module_version": "1.5.0",
            "_view_name": "HBoxView",
            "box_style": "",
            "children": [
              "IPY_MODEL_924d1548c5934d0ba180c2055a3d76ac",
              "IPY_MODEL_0164256a16fe4a4dad5abd94af1d4db2",
              "IPY_MODEL_8935f08ac61b4bf8aeccdd00d7caec5c"
            ],
            "layout": "IPY_MODEL_e471219739cc432591fe9eab0a5c6d6d"
          }
        },
        "06eef2f17118445084370f2df9aa02a0": {
          "model_module": "@jupyter-widgets/controls",
          "model_module_version": "1.5.0",
          "model_name": "DescriptionStyleModel",
          "state": {
            "_model_module": "@jupyter-widgets/controls",
            "_model_module_version": "1.5.0",
            "_model_name": "DescriptionStyleModel",
            "_view_count": null,
            "_view_module": "@jupyter-widgets/base",
            "_view_module_version": "1.2.0",
            "_view_name": "StyleView",
            "description_width": ""
          }
        },
        "07b902019ae24d31aa49f62c3402f428": {
          "model_module": "@jupyter-widgets/controls",
          "model_module_version": "1.5.0",
          "model_name": "DescriptionStyleModel",
          "state": {
            "_model_module": "@jupyter-widgets/controls",
            "_model_module_version": "1.5.0",
            "_model_name": "DescriptionStyleModel",
            "_view_count": null,
            "_view_module": "@jupyter-widgets/base",
            "_view_module_version": "1.2.0",
            "_view_name": "StyleView",
            "description_width": ""
          }
        },
        "0cac2a56efa343808dbf90232dcb679f": {
          "model_module": "@jupyter-widgets/base",
          "model_module_version": "1.2.0",
          "model_name": "LayoutModel",
          "state": {
            "_model_module": "@jupyter-widgets/base",
            "_model_module_version": "1.2.0",
            "_model_name": "LayoutModel",
            "_view_count": null,
            "_view_module": "@jupyter-widgets/base",
            "_view_module_version": "1.2.0",
            "_view_name": "LayoutView",
            "align_content": null,
            "align_items": null,
            "align_self": null,
            "border": null,
            "bottom": null,
            "display": null,
            "flex": null,
            "flex_flow": null,
            "grid_area": null,
            "grid_auto_columns": null,
            "grid_auto_flow": null,
            "grid_auto_rows": null,
            "grid_column": null,
            "grid_gap": null,
            "grid_row": null,
            "grid_template_areas": null,
            "grid_template_columns": null,
            "grid_template_rows": null,
            "height": null,
            "justify_content": null,
            "justify_items": null,
            "left": null,
            "margin": null,
            "max_height": null,
            "max_width": null,
            "min_height": null,
            "min_width": null,
            "object_fit": null,
            "object_position": null,
            "order": null,
            "overflow": null,
            "overflow_x": null,
            "overflow_y": null,
            "padding": null,
            "right": null,
            "top": null,
            "visibility": null,
            "width": null
          }
        },
        "1247917d6af942f4b6dd6196bf0e0667": {
          "model_module": "@jupyter-widgets/base",
          "model_module_version": "1.2.0",
          "model_name": "LayoutModel",
          "state": {
            "_model_module": "@jupyter-widgets/base",
            "_model_module_version": "1.2.0",
            "_model_name": "LayoutModel",
            "_view_count": null,
            "_view_module": "@jupyter-widgets/base",
            "_view_module_version": "1.2.0",
            "_view_name": "LayoutView",
            "align_content": null,
            "align_items": null,
            "align_self": null,
            "border": null,
            "bottom": null,
            "display": null,
            "flex": null,
            "flex_flow": null,
            "grid_area": null,
            "grid_auto_columns": null,
            "grid_auto_flow": null,
            "grid_auto_rows": null,
            "grid_column": null,
            "grid_gap": null,
            "grid_row": null,
            "grid_template_areas": null,
            "grid_template_columns": null,
            "grid_template_rows": null,
            "height": null,
            "justify_content": null,
            "justify_items": null,
            "left": null,
            "margin": null,
            "max_height": null,
            "max_width": null,
            "min_height": null,
            "min_width": null,
            "object_fit": null,
            "object_position": null,
            "order": null,
            "overflow": null,
            "overflow_x": null,
            "overflow_y": null,
            "padding": null,
            "right": null,
            "top": null,
            "visibility": null,
            "width": null
          }
        },
        "1288c60c1d66497c87c5c1db9bda5102": {
          "model_module": "@jupyter-widgets/base",
          "model_module_version": "1.2.0",
          "model_name": "LayoutModel",
          "state": {
            "_model_module": "@jupyter-widgets/base",
            "_model_module_version": "1.2.0",
            "_model_name": "LayoutModel",
            "_view_count": null,
            "_view_module": "@jupyter-widgets/base",
            "_view_module_version": "1.2.0",
            "_view_name": "LayoutView",
            "align_content": null,
            "align_items": null,
            "align_self": null,
            "border": null,
            "bottom": null,
            "display": null,
            "flex": null,
            "flex_flow": null,
            "grid_area": null,
            "grid_auto_columns": null,
            "grid_auto_flow": null,
            "grid_auto_rows": null,
            "grid_column": null,
            "grid_gap": null,
            "grid_row": null,
            "grid_template_areas": null,
            "grid_template_columns": null,
            "grid_template_rows": null,
            "height": null,
            "justify_content": null,
            "justify_items": null,
            "left": null,
            "margin": null,
            "max_height": null,
            "max_width": null,
            "min_height": null,
            "min_width": null,
            "object_fit": null,
            "object_position": null,
            "order": null,
            "overflow": null,
            "overflow_x": null,
            "overflow_y": null,
            "padding": null,
            "right": null,
            "top": null,
            "visibility": null,
            "width": null
          }
        },
        "15b1f509aecd40f29e034f58be425a06": {
          "model_module": "@jupyter-widgets/controls",
          "model_module_version": "1.5.0",
          "model_name": "DescriptionStyleModel",
          "state": {
            "_model_module": "@jupyter-widgets/controls",
            "_model_module_version": "1.5.0",
            "_model_name": "DescriptionStyleModel",
            "_view_count": null,
            "_view_module": "@jupyter-widgets/base",
            "_view_module_version": "1.2.0",
            "_view_name": "StyleView",
            "description_width": ""
          }
        },
        "1641ce050f094c2fb201c99ad98632d0": {
          "model_module": "@jupyter-widgets/base",
          "model_module_version": "1.2.0",
          "model_name": "LayoutModel",
          "state": {
            "_model_module": "@jupyter-widgets/base",
            "_model_module_version": "1.2.0",
            "_model_name": "LayoutModel",
            "_view_count": null,
            "_view_module": "@jupyter-widgets/base",
            "_view_module_version": "1.2.0",
            "_view_name": "LayoutView",
            "align_content": null,
            "align_items": null,
            "align_self": null,
            "border": null,
            "bottom": null,
            "display": null,
            "flex": null,
            "flex_flow": null,
            "grid_area": null,
            "grid_auto_columns": null,
            "grid_auto_flow": null,
            "grid_auto_rows": null,
            "grid_column": null,
            "grid_gap": null,
            "grid_row": null,
            "grid_template_areas": null,
            "grid_template_columns": null,
            "grid_template_rows": null,
            "height": null,
            "justify_content": null,
            "justify_items": null,
            "left": null,
            "margin": null,
            "max_height": null,
            "max_width": null,
            "min_height": null,
            "min_width": null,
            "object_fit": null,
            "object_position": null,
            "order": null,
            "overflow": null,
            "overflow_x": null,
            "overflow_y": null,
            "padding": null,
            "right": null,
            "top": null,
            "visibility": null,
            "width": null
          }
        },
        "182322cb658244768122e7dd76aeb537": {
          "model_module": "@jupyter-widgets/controls",
          "model_module_version": "1.5.0",
          "model_name": "FloatProgressModel",
          "state": {
            "_dom_classes": [],
            "_model_module": "@jupyter-widgets/controls",
            "_model_module_version": "1.5.0",
            "_model_name": "FloatProgressModel",
            "_view_count": null,
            "_view_module": "@jupyter-widgets/controls",
            "_view_module_version": "1.5.0",
            "_view_name": "ProgressView",
            "bar_style": "success",
            "description": "",
            "description_tooltip": null,
            "layout": "IPY_MODEL_20245878a2fc41d5b67c5488d6dc92f8",
            "max": 231508,
            "min": 0,
            "orientation": "horizontal",
            "style": "IPY_MODEL_2b52f6771c634d16a45320772d5d07a6",
            "value": 231508
          }
        },
        "1a13b10ce0d9437da8025affcebf2a2a": {
          "model_module": "@jupyter-widgets/controls",
          "model_module_version": "1.5.0",
          "model_name": "FloatProgressModel",
          "state": {
            "_dom_classes": [],
            "_model_module": "@jupyter-widgets/controls",
            "_model_module_version": "1.5.0",
            "_model_name": "FloatProgressModel",
            "_view_count": null,
            "_view_module": "@jupyter-widgets/controls",
            "_view_module_version": "1.5.0",
            "_view_name": "ProgressView",
            "bar_style": "success",
            "description": "",
            "description_tooltip": null,
            "layout": "IPY_MODEL_f4b1f82cbc504325b198bfb4b660582b",
            "max": 231508,
            "min": 0,
            "orientation": "horizontal",
            "style": "IPY_MODEL_c30d7a13f7e14869a6584379041f00c7",
            "value": 231508
          }
        },
        "1e9a1ad491054a759e09a595bdc75396": {
          "model_module": "@jupyter-widgets/controls",
          "model_module_version": "1.5.0",
          "model_name": "HBoxModel",
          "state": {
            "_dom_classes": [],
            "_model_module": "@jupyter-widgets/controls",
            "_model_module_version": "1.5.0",
            "_model_name": "HBoxModel",
            "_view_count": null,
            "_view_module": "@jupyter-widgets/controls",
            "_view_module_version": "1.5.0",
            "_view_name": "HBoxView",
            "box_style": "",
            "children": [
              "IPY_MODEL_e86e11b5bec04729bf9d6dc9db4e70de",
              "IPY_MODEL_a173f1b8e0624dee934b0d32cec229bc",
              "IPY_MODEL_ec59ada926f248b3b1c27cc6499dbf82"
            ],
            "layout": "IPY_MODEL_b59c4012c58f4fa88d5c004a7885a04e"
          }
        },
        "1f7c802fc51c4cc79d8c7417bdd7b5c7": {
          "model_module": "@jupyter-widgets/controls",
          "model_module_version": "1.5.0",
          "model_name": "HTMLModel",
          "state": {
            "_dom_classes": [],
            "_model_module": "@jupyter-widgets/controls",
            "_model_module_version": "1.5.0",
            "_model_name": "HTMLModel",
            "_view_count": null,
            "_view_module": "@jupyter-widgets/controls",
            "_view_module_version": "1.5.0",
            "_view_name": "HTMLView",
            "description": "",
            "description_tooltip": null,
            "layout": "IPY_MODEL_1247917d6af942f4b6dd6196bf0e0667",
            "placeholder": "​",
            "style": "IPY_MODEL_4f135bd3cb0a4135bb5b1a55e83daaaa",
            "value": "Downloading (…)solve/main/vocab.txt: 100%"
          }
        },
        "20245878a2fc41d5b67c5488d6dc92f8": {
          "model_module": "@jupyter-widgets/base",
          "model_module_version": "1.2.0",
          "model_name": "LayoutModel",
          "state": {
            "_model_module": "@jupyter-widgets/base",
            "_model_module_version": "1.2.0",
            "_model_name": "LayoutModel",
            "_view_count": null,
            "_view_module": "@jupyter-widgets/base",
            "_view_module_version": "1.2.0",
            "_view_name": "LayoutView",
            "align_content": null,
            "align_items": null,
            "align_self": null,
            "border": null,
            "bottom": null,
            "display": null,
            "flex": null,
            "flex_flow": null,
            "grid_area": null,
            "grid_auto_columns": null,
            "grid_auto_flow": null,
            "grid_auto_rows": null,
            "grid_column": null,
            "grid_gap": null,
            "grid_row": null,
            "grid_template_areas": null,
            "grid_template_columns": null,
            "grid_template_rows": null,
            "height": null,
            "justify_content": null,
            "justify_items": null,
            "left": null,
            "margin": null,
            "max_height": null,
            "max_width": null,
            "min_height": null,
            "min_width": null,
            "object_fit": null,
            "object_position": null,
            "order": null,
            "overflow": null,
            "overflow_x": null,
            "overflow_y": null,
            "padding": null,
            "right": null,
            "top": null,
            "visibility": null,
            "width": null
          }
        },
        "20d4c744d2064e8ebb2cf8fc355e3b37": {
          "model_module": "@jupyter-widgets/base",
          "model_module_version": "1.2.0",
          "model_name": "LayoutModel",
          "state": {
            "_model_module": "@jupyter-widgets/base",
            "_model_module_version": "1.2.0",
            "_model_name": "LayoutModel",
            "_view_count": null,
            "_view_module": "@jupyter-widgets/base",
            "_view_module_version": "1.2.0",
            "_view_name": "LayoutView",
            "align_content": null,
            "align_items": null,
            "align_self": null,
            "border": null,
            "bottom": null,
            "display": null,
            "flex": null,
            "flex_flow": null,
            "grid_area": null,
            "grid_auto_columns": null,
            "grid_auto_flow": null,
            "grid_auto_rows": null,
            "grid_column": null,
            "grid_gap": null,
            "grid_row": null,
            "grid_template_areas": null,
            "grid_template_columns": null,
            "grid_template_rows": null,
            "height": null,
            "justify_content": null,
            "justify_items": null,
            "left": null,
            "margin": null,
            "max_height": null,
            "max_width": null,
            "min_height": null,
            "min_width": null,
            "object_fit": null,
            "object_position": null,
            "order": null,
            "overflow": null,
            "overflow_x": null,
            "overflow_y": null,
            "padding": null,
            "right": null,
            "top": null,
            "visibility": null,
            "width": null
          }
        },
        "2396e748c75d4008aee8e8e5952b6679": {
          "model_module": "@jupyter-widgets/base",
          "model_module_version": "1.2.0",
          "model_name": "LayoutModel",
          "state": {
            "_model_module": "@jupyter-widgets/base",
            "_model_module_version": "1.2.0",
            "_model_name": "LayoutModel",
            "_view_count": null,
            "_view_module": "@jupyter-widgets/base",
            "_view_module_version": "1.2.0",
            "_view_name": "LayoutView",
            "align_content": null,
            "align_items": null,
            "align_self": null,
            "border": null,
            "bottom": null,
            "display": null,
            "flex": null,
            "flex_flow": null,
            "grid_area": null,
            "grid_auto_columns": null,
            "grid_auto_flow": null,
            "grid_auto_rows": null,
            "grid_column": null,
            "grid_gap": null,
            "grid_row": null,
            "grid_template_areas": null,
            "grid_template_columns": null,
            "grid_template_rows": null,
            "height": null,
            "justify_content": null,
            "justify_items": null,
            "left": null,
            "margin": null,
            "max_height": null,
            "max_width": null,
            "min_height": null,
            "min_width": null,
            "object_fit": null,
            "object_position": null,
            "order": null,
            "overflow": null,
            "overflow_x": null,
            "overflow_y": null,
            "padding": null,
            "right": null,
            "top": null,
            "visibility": null,
            "width": null
          }
        },
        "23a02a66a3c149a7a7fddde96fb2686c": {
          "model_module": "@jupyter-widgets/base",
          "model_module_version": "1.2.0",
          "model_name": "LayoutModel",
          "state": {
            "_model_module": "@jupyter-widgets/base",
            "_model_module_version": "1.2.0",
            "_model_name": "LayoutModel",
            "_view_count": null,
            "_view_module": "@jupyter-widgets/base",
            "_view_module_version": "1.2.0",
            "_view_name": "LayoutView",
            "align_content": null,
            "align_items": null,
            "align_self": null,
            "border": null,
            "bottom": null,
            "display": null,
            "flex": null,
            "flex_flow": null,
            "grid_area": null,
            "grid_auto_columns": null,
            "grid_auto_flow": null,
            "grid_auto_rows": null,
            "grid_column": null,
            "grid_gap": null,
            "grid_row": null,
            "grid_template_areas": null,
            "grid_template_columns": null,
            "grid_template_rows": null,
            "height": null,
            "justify_content": null,
            "justify_items": null,
            "left": null,
            "margin": null,
            "max_height": null,
            "max_width": null,
            "min_height": null,
            "min_width": null,
            "object_fit": null,
            "object_position": null,
            "order": null,
            "overflow": null,
            "overflow_x": null,
            "overflow_y": null,
            "padding": null,
            "right": null,
            "top": null,
            "visibility": null,
            "width": null
          }
        },
        "2b52f6771c634d16a45320772d5d07a6": {
          "model_module": "@jupyter-widgets/controls",
          "model_module_version": "1.5.0",
          "model_name": "ProgressStyleModel",
          "state": {
            "_model_module": "@jupyter-widgets/controls",
            "_model_module_version": "1.5.0",
            "_model_name": "ProgressStyleModel",
            "_view_count": null,
            "_view_module": "@jupyter-widgets/base",
            "_view_module_version": "1.2.0",
            "_view_name": "StyleView",
            "bar_color": null,
            "description_width": ""
          }
        },
        "2db1768d29c64397a8e7d3adffb93520": {
          "model_module": "@jupyter-widgets/controls",
          "model_module_version": "1.5.0",
          "model_name": "DescriptionStyleModel",
          "state": {
            "_model_module": "@jupyter-widgets/controls",
            "_model_module_version": "1.5.0",
            "_model_name": "DescriptionStyleModel",
            "_view_count": null,
            "_view_module": "@jupyter-widgets/base",
            "_view_module_version": "1.2.0",
            "_view_name": "StyleView",
            "description_width": ""
          }
        },
        "2e09f8e907ce452493f7c72b85a28803": {
          "model_module": "@jupyter-widgets/controls",
          "model_module_version": "1.5.0",
          "model_name": "DescriptionStyleModel",
          "state": {
            "_model_module": "@jupyter-widgets/controls",
            "_model_module_version": "1.5.0",
            "_model_name": "DescriptionStyleModel",
            "_view_count": null,
            "_view_module": "@jupyter-widgets/base",
            "_view_module_version": "1.2.0",
            "_view_name": "StyleView",
            "description_width": ""
          }
        },
        "2e4319c121b7436d9627db65fed03f32": {
          "model_module": "@jupyter-widgets/controls",
          "model_module_version": "1.5.0",
          "model_name": "FloatProgressModel",
          "state": {
            "_dom_classes": [],
            "_model_module": "@jupyter-widgets/controls",
            "_model_module_version": "1.5.0",
            "_model_name": "FloatProgressModel",
            "_view_count": null,
            "_view_module": "@jupyter-widgets/controls",
            "_view_module_version": "1.5.0",
            "_view_name": "ProgressView",
            "bar_style": "success",
            "description": "",
            "description_tooltip": null,
            "layout": "IPY_MODEL_e816691e8b4c4268a511060a3b58f86f",
            "max": 1340622760,
            "min": 0,
            "orientation": "horizontal",
            "style": "IPY_MODEL_fc4d980e56084743854ca0c6f05032cb",
            "value": 1340622760
          }
        },
        "2ed2ab7add5c4a7d8cc29e604c10da38": {
          "model_module": "@jupyter-widgets/controls",
          "model_module_version": "1.5.0",
          "model_name": "DescriptionStyleModel",
          "state": {
            "_model_module": "@jupyter-widgets/controls",
            "_model_module_version": "1.5.0",
            "_model_name": "DescriptionStyleModel",
            "_view_count": null,
            "_view_module": "@jupyter-widgets/base",
            "_view_module_version": "1.2.0",
            "_view_name": "StyleView",
            "description_width": ""
          }
        },
        "2ee706d28f984a29990748a756a7a218": {
          "model_module": "@jupyter-widgets/base",
          "model_module_version": "1.2.0",
          "model_name": "LayoutModel",
          "state": {
            "_model_module": "@jupyter-widgets/base",
            "_model_module_version": "1.2.0",
            "_model_name": "LayoutModel",
            "_view_count": null,
            "_view_module": "@jupyter-widgets/base",
            "_view_module_version": "1.2.0",
            "_view_name": "LayoutView",
            "align_content": null,
            "align_items": null,
            "align_self": null,
            "border": null,
            "bottom": null,
            "display": null,
            "flex": null,
            "flex_flow": null,
            "grid_area": null,
            "grid_auto_columns": null,
            "grid_auto_flow": null,
            "grid_auto_rows": null,
            "grid_column": null,
            "grid_gap": null,
            "grid_row": null,
            "grid_template_areas": null,
            "grid_template_columns": null,
            "grid_template_rows": null,
            "height": null,
            "justify_content": null,
            "justify_items": null,
            "left": null,
            "margin": null,
            "max_height": null,
            "max_width": null,
            "min_height": null,
            "min_width": null,
            "object_fit": null,
            "object_position": null,
            "order": null,
            "overflow": null,
            "overflow_x": null,
            "overflow_y": null,
            "padding": null,
            "right": null,
            "top": null,
            "visibility": null,
            "width": null
          }
        },
        "2f8f499822eb4fe68d1100e4362ae726": {
          "model_module": "@jupyter-widgets/base",
          "model_module_version": "1.2.0",
          "model_name": "LayoutModel",
          "state": {
            "_model_module": "@jupyter-widgets/base",
            "_model_module_version": "1.2.0",
            "_model_name": "LayoutModel",
            "_view_count": null,
            "_view_module": "@jupyter-widgets/base",
            "_view_module_version": "1.2.0",
            "_view_name": "LayoutView",
            "align_content": null,
            "align_items": null,
            "align_self": null,
            "border": null,
            "bottom": null,
            "display": null,
            "flex": null,
            "flex_flow": null,
            "grid_area": null,
            "grid_auto_columns": null,
            "grid_auto_flow": null,
            "grid_auto_rows": null,
            "grid_column": null,
            "grid_gap": null,
            "grid_row": null,
            "grid_template_areas": null,
            "grid_template_columns": null,
            "grid_template_rows": null,
            "height": null,
            "justify_content": null,
            "justify_items": null,
            "left": null,
            "margin": null,
            "max_height": null,
            "max_width": null,
            "min_height": null,
            "min_width": null,
            "object_fit": null,
            "object_position": null,
            "order": null,
            "overflow": null,
            "overflow_x": null,
            "overflow_y": null,
            "padding": null,
            "right": null,
            "top": null,
            "visibility": null,
            "width": null
          }
        },
        "32a98ab14c0340b9942f8d41a52ef1a9": {
          "model_module": "@jupyter-widgets/controls",
          "model_module_version": "1.5.0",
          "model_name": "HTMLModel",
          "state": {
            "_dom_classes": [],
            "_model_module": "@jupyter-widgets/controls",
            "_model_module_version": "1.5.0",
            "_model_name": "HTMLModel",
            "_view_count": null,
            "_view_module": "@jupyter-widgets/controls",
            "_view_module_version": "1.5.0",
            "_view_name": "HTMLView",
            "description": "",
            "description_tooltip": null,
            "layout": "IPY_MODEL_64f4e84707e3411ea30e77e6ae75f8d1",
            "placeholder": "​",
            "style": "IPY_MODEL_043acb4132f449b08d39127d25c1668b",
            "value": " 440M/440M [00:03&lt;00:00, 139MB/s]"
          }
        },
        "35dbade965074cfc978cf3c497e05993": {
          "model_module": "@jupyter-widgets/base",
          "model_module_version": "1.2.0",
          "model_name": "LayoutModel",
          "state": {
            "_model_module": "@jupyter-widgets/base",
            "_model_module_version": "1.2.0",
            "_model_name": "LayoutModel",
            "_view_count": null,
            "_view_module": "@jupyter-widgets/base",
            "_view_module_version": "1.2.0",
            "_view_name": "LayoutView",
            "align_content": null,
            "align_items": null,
            "align_self": null,
            "border": null,
            "bottom": null,
            "display": null,
            "flex": null,
            "flex_flow": null,
            "grid_area": null,
            "grid_auto_columns": null,
            "grid_auto_flow": null,
            "grid_auto_rows": null,
            "grid_column": null,
            "grid_gap": null,
            "grid_row": null,
            "grid_template_areas": null,
            "grid_template_columns": null,
            "grid_template_rows": null,
            "height": null,
            "justify_content": null,
            "justify_items": null,
            "left": null,
            "margin": null,
            "max_height": null,
            "max_width": null,
            "min_height": null,
            "min_width": null,
            "object_fit": null,
            "object_position": null,
            "order": null,
            "overflow": null,
            "overflow_x": null,
            "overflow_y": null,
            "padding": null,
            "right": null,
            "top": null,
            "visibility": null,
            "width": null
          }
        },
        "39964015e8ab4904bc8b40cc4c4cd05c": {
          "model_module": "@jupyter-widgets/controls",
          "model_module_version": "1.5.0",
          "model_name": "DescriptionStyleModel",
          "state": {
            "_model_module": "@jupyter-widgets/controls",
            "_model_module_version": "1.5.0",
            "_model_name": "DescriptionStyleModel",
            "_view_count": null,
            "_view_module": "@jupyter-widgets/base",
            "_view_module_version": "1.2.0",
            "_view_name": "StyleView",
            "description_width": ""
          }
        },
        "3ce6dfb06ec541f682138c4a1ae13dc9": {
          "model_module": "@jupyter-widgets/controls",
          "model_module_version": "1.5.0",
          "model_name": "DescriptionStyleModel",
          "state": {
            "_model_module": "@jupyter-widgets/controls",
            "_model_module_version": "1.5.0",
            "_model_name": "DescriptionStyleModel",
            "_view_count": null,
            "_view_module": "@jupyter-widgets/base",
            "_view_module_version": "1.2.0",
            "_view_name": "StyleView",
            "description_width": ""
          }
        },
        "40c294d3f1574a2dab53166af6c85aa6": {
          "model_module": "@jupyter-widgets/base",
          "model_module_version": "1.2.0",
          "model_name": "LayoutModel",
          "state": {
            "_model_module": "@jupyter-widgets/base",
            "_model_module_version": "1.2.0",
            "_model_name": "LayoutModel",
            "_view_count": null,
            "_view_module": "@jupyter-widgets/base",
            "_view_module_version": "1.2.0",
            "_view_name": "LayoutView",
            "align_content": null,
            "align_items": null,
            "align_self": null,
            "border": null,
            "bottom": null,
            "display": null,
            "flex": null,
            "flex_flow": null,
            "grid_area": null,
            "grid_auto_columns": null,
            "grid_auto_flow": null,
            "grid_auto_rows": null,
            "grid_column": null,
            "grid_gap": null,
            "grid_row": null,
            "grid_template_areas": null,
            "grid_template_columns": null,
            "grid_template_rows": null,
            "height": null,
            "justify_content": null,
            "justify_items": null,
            "left": null,
            "margin": null,
            "max_height": null,
            "max_width": null,
            "min_height": null,
            "min_width": null,
            "object_fit": null,
            "object_position": null,
            "order": null,
            "overflow": null,
            "overflow_x": null,
            "overflow_y": null,
            "padding": null,
            "right": null,
            "top": null,
            "visibility": null,
            "width": null
          }
        },
        "42c6f3fc212e41d295b7fb07c6c452c3": {
          "model_module": "@jupyter-widgets/base",
          "model_module_version": "1.2.0",
          "model_name": "LayoutModel",
          "state": {
            "_model_module": "@jupyter-widgets/base",
            "_model_module_version": "1.2.0",
            "_model_name": "LayoutModel",
            "_view_count": null,
            "_view_module": "@jupyter-widgets/base",
            "_view_module_version": "1.2.0",
            "_view_name": "LayoutView",
            "align_content": null,
            "align_items": null,
            "align_self": null,
            "border": null,
            "bottom": null,
            "display": null,
            "flex": null,
            "flex_flow": null,
            "grid_area": null,
            "grid_auto_columns": null,
            "grid_auto_flow": null,
            "grid_auto_rows": null,
            "grid_column": null,
            "grid_gap": null,
            "grid_row": null,
            "grid_template_areas": null,
            "grid_template_columns": null,
            "grid_template_rows": null,
            "height": null,
            "justify_content": null,
            "justify_items": null,
            "left": null,
            "margin": null,
            "max_height": null,
            "max_width": null,
            "min_height": null,
            "min_width": null,
            "object_fit": null,
            "object_position": null,
            "order": null,
            "overflow": null,
            "overflow_x": null,
            "overflow_y": null,
            "padding": null,
            "right": null,
            "top": null,
            "visibility": null,
            "width": null
          }
        },
        "4993af40a1e84a7391ab40a07f4a5b9f": {
          "model_module": "@jupyter-widgets/controls",
          "model_module_version": "1.5.0",
          "model_name": "FloatProgressModel",
          "state": {
            "_dom_classes": [],
            "_model_module": "@jupyter-widgets/controls",
            "_model_module_version": "1.5.0",
            "_model_name": "FloatProgressModel",
            "_view_count": null,
            "_view_module": "@jupyter-widgets/controls",
            "_view_module_version": "1.5.0",
            "_view_name": "ProgressView",
            "bar_style": "success",
            "description": "",
            "description_tooltip": null,
            "layout": "IPY_MODEL_0cac2a56efa343808dbf90232dcb679f",
            "max": 443,
            "min": 0,
            "orientation": "horizontal",
            "style": "IPY_MODEL_7f5a8b79b9434d89ba34f73e471b0032",
            "value": 443
          }
        },
        "4c5c5c5310b44f4e9e97e58dd1e464b6": {
          "model_module": "@jupyter-widgets/controls",
          "model_module_version": "1.5.0",
          "model_name": "HTMLModel",
          "state": {
            "_dom_classes": [],
            "_model_module": "@jupyter-widgets/controls",
            "_model_module_version": "1.5.0",
            "_model_name": "HTMLModel",
            "_view_count": null,
            "_view_module": "@jupyter-widgets/controls",
            "_view_module_version": "1.5.0",
            "_view_name": "HTMLView",
            "description": "",
            "description_tooltip": null,
            "layout": "IPY_MODEL_20d4c744d2064e8ebb2cf8fc355e3b37",
            "placeholder": "​",
            "style": "IPY_MODEL_2db1768d29c64397a8e7d3adffb93520",
            "value": "Downloading (…)lve/main/config.json: 100%"
          }
        },
        "4de4df4315bb4bf0a82d4a6b5acff6b6": {
          "model_module": "@jupyter-widgets/base",
          "model_module_version": "1.2.0",
          "model_name": "LayoutModel",
          "state": {
            "_model_module": "@jupyter-widgets/base",
            "_model_module_version": "1.2.0",
            "_model_name": "LayoutModel",
            "_view_count": null,
            "_view_module": "@jupyter-widgets/base",
            "_view_module_version": "1.2.0",
            "_view_name": "LayoutView",
            "align_content": null,
            "align_items": null,
            "align_self": null,
            "border": null,
            "bottom": null,
            "display": null,
            "flex": null,
            "flex_flow": null,
            "grid_area": null,
            "grid_auto_columns": null,
            "grid_auto_flow": null,
            "grid_auto_rows": null,
            "grid_column": null,
            "grid_gap": null,
            "grid_row": null,
            "grid_template_areas": null,
            "grid_template_columns": null,
            "grid_template_rows": null,
            "height": null,
            "justify_content": null,
            "justify_items": null,
            "left": null,
            "margin": null,
            "max_height": null,
            "max_width": null,
            "min_height": null,
            "min_width": null,
            "object_fit": null,
            "object_position": null,
            "order": null,
            "overflow": null,
            "overflow_x": null,
            "overflow_y": null,
            "padding": null,
            "right": null,
            "top": null,
            "visibility": null,
            "width": null
          }
        },
        "4f135bd3cb0a4135bb5b1a55e83daaaa": {
          "model_module": "@jupyter-widgets/controls",
          "model_module_version": "1.5.0",
          "model_name": "DescriptionStyleModel",
          "state": {
            "_model_module": "@jupyter-widgets/controls",
            "_model_module_version": "1.5.0",
            "_model_name": "DescriptionStyleModel",
            "_view_count": null,
            "_view_module": "@jupyter-widgets/base",
            "_view_module_version": "1.2.0",
            "_view_name": "StyleView",
            "description_width": ""
          }
        },
        "53cd9ba5c8b34fbe94fc55863ad7db87": {
          "model_module": "@jupyter-widgets/controls",
          "model_module_version": "1.5.0",
          "model_name": "ProgressStyleModel",
          "state": {
            "_model_module": "@jupyter-widgets/controls",
            "_model_module_version": "1.5.0",
            "_model_name": "ProgressStyleModel",
            "_view_count": null,
            "_view_module": "@jupyter-widgets/base",
            "_view_module_version": "1.2.0",
            "_view_name": "StyleView",
            "bar_color": null,
            "description_width": ""
          }
        },
        "56e5336e15a74a7a84dd0c71d65f79cd": {
          "model_module": "@jupyter-widgets/controls",
          "model_module_version": "1.5.0",
          "model_name": "HTMLModel",
          "state": {
            "_dom_classes": [],
            "_model_module": "@jupyter-widgets/controls",
            "_model_module_version": "1.5.0",
            "_model_name": "HTMLModel",
            "_view_count": null,
            "_view_module": "@jupyter-widgets/controls",
            "_view_module_version": "1.5.0",
            "_view_name": "HTMLView",
            "description": "",
            "description_tooltip": null,
            "layout": "IPY_MODEL_f63e7fb34ef84c8ba5dc74a26b6400e5",
            "placeholder": "​",
            "style": "IPY_MODEL_3ce6dfb06ec541f682138c4a1ae13dc9",
            "value": " 28.0/28.0 [00:00&lt;00:00, 753B/s]"
          }
        },
        "57dc83643dc8433aaded5ee1a23f4d1c": {
          "model_module": "@jupyter-widgets/controls",
          "model_module_version": "1.5.0",
          "model_name": "HBoxModel",
          "state": {
            "_dom_classes": [],
            "_model_module": "@jupyter-widgets/controls",
            "_model_module_version": "1.5.0",
            "_model_name": "HBoxModel",
            "_view_count": null,
            "_view_module": "@jupyter-widgets/controls",
            "_view_module_version": "1.5.0",
            "_view_name": "HBoxView",
            "box_style": "",
            "children": [
              "IPY_MODEL_5f5e4a405f8145e392f60d90b06f124a",
              "IPY_MODEL_182322cb658244768122e7dd76aeb537",
              "IPY_MODEL_77d085d94d854c0094db1b5de694db27"
            ],
            "layout": "IPY_MODEL_40c294d3f1574a2dab53166af6c85aa6"
          }
        },
        "5b232d6676fe456a9ca54002a4131f45": {
          "model_module": "@jupyter-widgets/base",
          "model_module_version": "1.2.0",
          "model_name": "LayoutModel",
          "state": {
            "_model_module": "@jupyter-widgets/base",
            "_model_module_version": "1.2.0",
            "_model_name": "LayoutModel",
            "_view_count": null,
            "_view_module": "@jupyter-widgets/base",
            "_view_module_version": "1.2.0",
            "_view_name": "LayoutView",
            "align_content": null,
            "align_items": null,
            "align_self": null,
            "border": null,
            "bottom": null,
            "display": null,
            "flex": null,
            "flex_flow": null,
            "grid_area": null,
            "grid_auto_columns": null,
            "grid_auto_flow": null,
            "grid_auto_rows": null,
            "grid_column": null,
            "grid_gap": null,
            "grid_row": null,
            "grid_template_areas": null,
            "grid_template_columns": null,
            "grid_template_rows": null,
            "height": null,
            "justify_content": null,
            "justify_items": null,
            "left": null,
            "margin": null,
            "max_height": null,
            "max_width": null,
            "min_height": null,
            "min_width": null,
            "object_fit": null,
            "object_position": null,
            "order": null,
            "overflow": null,
            "overflow_x": null,
            "overflow_y": null,
            "padding": null,
            "right": null,
            "top": null,
            "visibility": null,
            "width": null
          }
        },
        "5cd71b11ccaf42bb8b4ec51b90c44f0e": {
          "model_module": "@jupyter-widgets/controls",
          "model_module_version": "1.5.0",
          "model_name": "HTMLModel",
          "state": {
            "_dom_classes": [],
            "_model_module": "@jupyter-widgets/controls",
            "_model_module_version": "1.5.0",
            "_model_name": "HTMLModel",
            "_view_count": null,
            "_view_module": "@jupyter-widgets/controls",
            "_view_module_version": "1.5.0",
            "_view_name": "HTMLView",
            "description": "",
            "description_tooltip": null,
            "layout": "IPY_MODEL_2ee706d28f984a29990748a756a7a218",
            "placeholder": "​",
            "style": "IPY_MODEL_07b902019ae24d31aa49f62c3402f428",
            "value": "Downloading model.safetensors: 100%"
          }
        },
        "5f5e4a405f8145e392f60d90b06f124a": {
          "model_module": "@jupyter-widgets/controls",
          "model_module_version": "1.5.0",
          "model_name": "HTMLModel",
          "state": {
            "_dom_classes": [],
            "_model_module": "@jupyter-widgets/controls",
            "_model_module_version": "1.5.0",
            "_model_name": "HTMLModel",
            "_view_count": null,
            "_view_module": "@jupyter-widgets/controls",
            "_view_module_version": "1.5.0",
            "_view_name": "HTMLView",
            "description": "",
            "description_tooltip": null,
            "layout": "IPY_MODEL_42c6f3fc212e41d295b7fb07c6c452c3",
            "placeholder": "​",
            "style": "IPY_MODEL_00e8bed2c0154de4b9beda1bfbf278b0",
            "value": "Downloading (…)solve/main/vocab.txt: 100%"
          }
        },
        "62f733c3f9384a15900ed816e5390417": {
          "model_module": "@jupyter-widgets/controls",
          "model_module_version": "1.5.0",
          "model_name": "HTMLModel",
          "state": {
            "_dom_classes": [],
            "_model_module": "@jupyter-widgets/controls",
            "_model_module_version": "1.5.0",
            "_model_name": "HTMLModel",
            "_view_count": null,
            "_view_module": "@jupyter-widgets/controls",
            "_view_module_version": "1.5.0",
            "_view_name": "HTMLView",
            "description": "",
            "description_tooltip": null,
            "layout": "IPY_MODEL_9b7de099a7a447dabc673dcf7e6f19fb",
            "placeholder": "​",
            "style": "IPY_MODEL_69d08d27f28f493c9f5491ca87942b73",
            "value": " 443/443 [00:00&lt;00:00, 19.7kB/s]"
          }
        },
        "6358ae564f704404a3448169890134c1": {
          "model_module": "@jupyter-widgets/base",
          "model_module_version": "1.2.0",
          "model_name": "LayoutModel",
          "state": {
            "_model_module": "@jupyter-widgets/base",
            "_model_module_version": "1.2.0",
            "_model_name": "LayoutModel",
            "_view_count": null,
            "_view_module": "@jupyter-widgets/base",
            "_view_module_version": "1.2.0",
            "_view_name": "LayoutView",
            "align_content": null,
            "align_items": null,
            "align_self": null,
            "border": null,
            "bottom": null,
            "display": null,
            "flex": null,
            "flex_flow": null,
            "grid_area": null,
            "grid_auto_columns": null,
            "grid_auto_flow": null,
            "grid_auto_rows": null,
            "grid_column": null,
            "grid_gap": null,
            "grid_row": null,
            "grid_template_areas": null,
            "grid_template_columns": null,
            "grid_template_rows": null,
            "height": null,
            "justify_content": null,
            "justify_items": null,
            "left": null,
            "margin": null,
            "max_height": null,
            "max_width": null,
            "min_height": null,
            "min_width": null,
            "object_fit": null,
            "object_position": null,
            "order": null,
            "overflow": null,
            "overflow_x": null,
            "overflow_y": null,
            "padding": null,
            "right": null,
            "top": null,
            "visibility": null,
            "width": null
          }
        },
        "64f4e84707e3411ea30e77e6ae75f8d1": {
          "model_module": "@jupyter-widgets/base",
          "model_module_version": "1.2.0",
          "model_name": "LayoutModel",
          "state": {
            "_model_module": "@jupyter-widgets/base",
            "_model_module_version": "1.2.0",
            "_model_name": "LayoutModel",
            "_view_count": null,
            "_view_module": "@jupyter-widgets/base",
            "_view_module_version": "1.2.0",
            "_view_name": "LayoutView",
            "align_content": null,
            "align_items": null,
            "align_self": null,
            "border": null,
            "bottom": null,
            "display": null,
            "flex": null,
            "flex_flow": null,
            "grid_area": null,
            "grid_auto_columns": null,
            "grid_auto_flow": null,
            "grid_auto_rows": null,
            "grid_column": null,
            "grid_gap": null,
            "grid_row": null,
            "grid_template_areas": null,
            "grid_template_columns": null,
            "grid_template_rows": null,
            "height": null,
            "justify_content": null,
            "justify_items": null,
            "left": null,
            "margin": null,
            "max_height": null,
            "max_width": null,
            "min_height": null,
            "min_width": null,
            "object_fit": null,
            "object_position": null,
            "order": null,
            "overflow": null,
            "overflow_x": null,
            "overflow_y": null,
            "padding": null,
            "right": null,
            "top": null,
            "visibility": null,
            "width": null
          }
        },
        "69d08d27f28f493c9f5491ca87942b73": {
          "model_module": "@jupyter-widgets/controls",
          "model_module_version": "1.5.0",
          "model_name": "DescriptionStyleModel",
          "state": {
            "_model_module": "@jupyter-widgets/controls",
            "_model_module_version": "1.5.0",
            "_model_name": "DescriptionStyleModel",
            "_view_count": null,
            "_view_module": "@jupyter-widgets/base",
            "_view_module_version": "1.2.0",
            "_view_name": "StyleView",
            "description_width": ""
          }
        },
        "6ad5fe193c164567952ed687e68a7baa": {
          "model_module": "@jupyter-widgets/controls",
          "model_module_version": "1.5.0",
          "model_name": "HTMLModel",
          "state": {
            "_dom_classes": [],
            "_model_module": "@jupyter-widgets/controls",
            "_model_module_version": "1.5.0",
            "_model_name": "HTMLModel",
            "_view_count": null,
            "_view_module": "@jupyter-widgets/controls",
            "_view_module_version": "1.5.0",
            "_view_name": "HTMLView",
            "description": "",
            "description_tooltip": null,
            "layout": "IPY_MODEL_c2cfafafdef048b7b558dcbf59df4a74",
            "placeholder": "​",
            "style": "IPY_MODEL_06eef2f17118445084370f2df9aa02a0",
            "value": " 232k/232k [00:00&lt;00:00, 9.93MB/s]"
          }
        },
        "6cec4f7d69a54c7ebb88357f9922e37d": {
          "model_module": "@jupyter-widgets/base",
          "model_module_version": "1.2.0",
          "model_name": "LayoutModel",
          "state": {
            "_model_module": "@jupyter-widgets/base",
            "_model_module_version": "1.2.0",
            "_model_name": "LayoutModel",
            "_view_count": null,
            "_view_module": "@jupyter-widgets/base",
            "_view_module_version": "1.2.0",
            "_view_name": "LayoutView",
            "align_content": null,
            "align_items": null,
            "align_self": null,
            "border": null,
            "bottom": null,
            "display": null,
            "flex": null,
            "flex_flow": null,
            "grid_area": null,
            "grid_auto_columns": null,
            "grid_auto_flow": null,
            "grid_auto_rows": null,
            "grid_column": null,
            "grid_gap": null,
            "grid_row": null,
            "grid_template_areas": null,
            "grid_template_columns": null,
            "grid_template_rows": null,
            "height": null,
            "justify_content": null,
            "justify_items": null,
            "left": null,
            "margin": null,
            "max_height": null,
            "max_width": null,
            "min_height": null,
            "min_width": null,
            "object_fit": null,
            "object_position": null,
            "order": null,
            "overflow": null,
            "overflow_x": null,
            "overflow_y": null,
            "padding": null,
            "right": null,
            "top": null,
            "visibility": null,
            "width": null
          }
        },
        "76d411e3dbf14be6ae79ed6892c757e4": {
          "model_module": "@jupyter-widgets/base",
          "model_module_version": "1.2.0",
          "model_name": "LayoutModel",
          "state": {
            "_model_module": "@jupyter-widgets/base",
            "_model_module_version": "1.2.0",
            "_model_name": "LayoutModel",
            "_view_count": null,
            "_view_module": "@jupyter-widgets/base",
            "_view_module_version": "1.2.0",
            "_view_name": "LayoutView",
            "align_content": null,
            "align_items": null,
            "align_self": null,
            "border": null,
            "bottom": null,
            "display": null,
            "flex": null,
            "flex_flow": null,
            "grid_area": null,
            "grid_auto_columns": null,
            "grid_auto_flow": null,
            "grid_auto_rows": null,
            "grid_column": null,
            "grid_gap": null,
            "grid_row": null,
            "grid_template_areas": null,
            "grid_template_columns": null,
            "grid_template_rows": null,
            "height": null,
            "justify_content": null,
            "justify_items": null,
            "left": null,
            "margin": null,
            "max_height": null,
            "max_width": null,
            "min_height": null,
            "min_width": null,
            "object_fit": null,
            "object_position": null,
            "order": null,
            "overflow": null,
            "overflow_x": null,
            "overflow_y": null,
            "padding": null,
            "right": null,
            "top": null,
            "visibility": null,
            "width": null
          }
        },
        "77ceb27275114376b424adb485e85678": {
          "model_module": "@jupyter-widgets/controls",
          "model_module_version": "1.5.0",
          "model_name": "HTMLModel",
          "state": {
            "_dom_classes": [],
            "_model_module": "@jupyter-widgets/controls",
            "_model_module_version": "1.5.0",
            "_model_name": "HTMLModel",
            "_view_count": null,
            "_view_module": "@jupyter-widgets/controls",
            "_view_module_version": "1.5.0",
            "_view_name": "HTMLView",
            "description": "",
            "description_tooltip": null,
            "layout": "IPY_MODEL_95800ab037a649de861f042c40d526fb",
            "placeholder": "​",
            "style": "IPY_MODEL_9be50395de854ca0a308582de7741cc1",
            "value": "Downloading (…)okenizer_config.json: 100%"
          }
        },
        "77d085d94d854c0094db1b5de694db27": {
          "model_module": "@jupyter-widgets/controls",
          "model_module_version": "1.5.0",
          "model_name": "HTMLModel",
          "state": {
            "_dom_classes": [],
            "_model_module": "@jupyter-widgets/controls",
            "_model_module_version": "1.5.0",
            "_model_name": "HTMLModel",
            "_view_count": null,
            "_view_module": "@jupyter-widgets/controls",
            "_view_module_version": "1.5.0",
            "_view_name": "HTMLView",
            "description": "",
            "description_tooltip": null,
            "layout": "IPY_MODEL_835c0a0eedaf4864bee9650493a7b58d",
            "placeholder": "​",
            "style": "IPY_MODEL_2ed2ab7add5c4a7d8cc29e604c10da38",
            "value": " 232k/232k [00:00&lt;00:00, 2.56MB/s]"
          }
        },
        "7f5a8b79b9434d89ba34f73e471b0032": {
          "model_module": "@jupyter-widgets/controls",
          "model_module_version": "1.5.0",
          "model_name": "ProgressStyleModel",
          "state": {
            "_model_module": "@jupyter-widgets/controls",
            "_model_module_version": "1.5.0",
            "_model_name": "ProgressStyleModel",
            "_view_count": null,
            "_view_module": "@jupyter-widgets/base",
            "_view_module_version": "1.2.0",
            "_view_name": "StyleView",
            "bar_color": null,
            "description_width": ""
          }
        },
        "8029a3df2bab4f81ad2fb24148d1fb2c": {
          "model_module": "@jupyter-widgets/controls",
          "model_module_version": "1.5.0",
          "model_name": "ProgressStyleModel",
          "state": {
            "_model_module": "@jupyter-widgets/controls",
            "_model_module_version": "1.5.0",
            "_model_name": "ProgressStyleModel",
            "_view_count": null,
            "_view_module": "@jupyter-widgets/base",
            "_view_module_version": "1.2.0",
            "_view_name": "StyleView",
            "bar_color": null,
            "description_width": ""
          }
        },
        "835c0a0eedaf4864bee9650493a7b58d": {
          "model_module": "@jupyter-widgets/base",
          "model_module_version": "1.2.0",
          "model_name": "LayoutModel",
          "state": {
            "_model_module": "@jupyter-widgets/base",
            "_model_module_version": "1.2.0",
            "_model_name": "LayoutModel",
            "_view_count": null,
            "_view_module": "@jupyter-widgets/base",
            "_view_module_version": "1.2.0",
            "_view_name": "LayoutView",
            "align_content": null,
            "align_items": null,
            "align_self": null,
            "border": null,
            "bottom": null,
            "display": null,
            "flex": null,
            "flex_flow": null,
            "grid_area": null,
            "grid_auto_columns": null,
            "grid_auto_flow": null,
            "grid_auto_rows": null,
            "grid_column": null,
            "grid_gap": null,
            "grid_row": null,
            "grid_template_areas": null,
            "grid_template_columns": null,
            "grid_template_rows": null,
            "height": null,
            "justify_content": null,
            "justify_items": null,
            "left": null,
            "margin": null,
            "max_height": null,
            "max_width": null,
            "min_height": null,
            "min_width": null,
            "object_fit": null,
            "object_position": null,
            "order": null,
            "overflow": null,
            "overflow_x": null,
            "overflow_y": null,
            "padding": null,
            "right": null,
            "top": null,
            "visibility": null,
            "width": null
          }
        },
        "8935f08ac61b4bf8aeccdd00d7caec5c": {
          "model_module": "@jupyter-widgets/controls",
          "model_module_version": "1.5.0",
          "model_name": "HTMLModel",
          "state": {
            "_dom_classes": [],
            "_model_module": "@jupyter-widgets/controls",
            "_model_module_version": "1.5.0",
            "_model_name": "HTMLModel",
            "_view_count": null,
            "_view_module": "@jupyter-widgets/controls",
            "_view_module_version": "1.5.0",
            "_view_name": "HTMLView",
            "description": "",
            "description_tooltip": null,
            "layout": "IPY_MODEL_76d411e3dbf14be6ae79ed6892c757e4",
            "placeholder": "​",
            "style": "IPY_MODEL_ef5b312c8e6048129150ea55200ad75a",
            "value": " 570/570 [00:00&lt;00:00, 9.26kB/s]"
          }
        },
        "8e7ea6eb792540b78b349258ecceb542": {
          "model_module": "@jupyter-widgets/controls",
          "model_module_version": "1.5.0",
          "model_name": "HBoxModel",
          "state": {
            "_dom_classes": [],
            "_model_module": "@jupyter-widgets/controls",
            "_model_module_version": "1.5.0",
            "_model_name": "HBoxModel",
            "_view_count": null,
            "_view_module": "@jupyter-widgets/controls",
            "_view_module_version": "1.5.0",
            "_view_name": "HBoxView",
            "box_style": "",
            "children": [
              "IPY_MODEL_1f7c802fc51c4cc79d8c7417bdd7b5c7",
              "IPY_MODEL_1a13b10ce0d9437da8025affcebf2a2a",
              "IPY_MODEL_6ad5fe193c164567952ed687e68a7baa"
            ],
            "layout": "IPY_MODEL_23a02a66a3c149a7a7fddde96fb2686c"
          }
        },
        "924d1548c5934d0ba180c2055a3d76ac": {
          "model_module": "@jupyter-widgets/controls",
          "model_module_version": "1.5.0",
          "model_name": "HTMLModel",
          "state": {
            "_dom_classes": [],
            "_model_module": "@jupyter-widgets/controls",
            "_model_module_version": "1.5.0",
            "_model_name": "HTMLModel",
            "_view_count": null,
            "_view_module": "@jupyter-widgets/controls",
            "_view_module_version": "1.5.0",
            "_view_name": "HTMLView",
            "description": "",
            "description_tooltip": null,
            "layout": "IPY_MODEL_1288c60c1d66497c87c5c1db9bda5102",
            "placeholder": "​",
            "style": "IPY_MODEL_2e09f8e907ce452493f7c72b85a28803",
            "value": "Downloading (…)lve/main/config.json: 100%"
          }
        },
        "95800ab037a649de861f042c40d526fb": {
          "model_module": "@jupyter-widgets/base",
          "model_module_version": "1.2.0",
          "model_name": "LayoutModel",
          "state": {
            "_model_module": "@jupyter-widgets/base",
            "_model_module_version": "1.2.0",
            "_model_name": "LayoutModel",
            "_view_count": null,
            "_view_module": "@jupyter-widgets/base",
            "_view_module_version": "1.2.0",
            "_view_name": "LayoutView",
            "align_content": null,
            "align_items": null,
            "align_self": null,
            "border": null,
            "bottom": null,
            "display": null,
            "flex": null,
            "flex_flow": null,
            "grid_area": null,
            "grid_auto_columns": null,
            "grid_auto_flow": null,
            "grid_auto_rows": null,
            "grid_column": null,
            "grid_gap": null,
            "grid_row": null,
            "grid_template_areas": null,
            "grid_template_columns": null,
            "grid_template_rows": null,
            "height": null,
            "justify_content": null,
            "justify_items": null,
            "left": null,
            "margin": null,
            "max_height": null,
            "max_width": null,
            "min_height": null,
            "min_width": null,
            "object_fit": null,
            "object_position": null,
            "order": null,
            "overflow": null,
            "overflow_x": null,
            "overflow_y": null,
            "padding": null,
            "right": null,
            "top": null,
            "visibility": null,
            "width": null
          }
        },
        "97f8da56b9f2485cb9e11e12972e79ff": {
          "model_module": "@jupyter-widgets/controls",
          "model_module_version": "1.5.0",
          "model_name": "FloatProgressModel",
          "state": {
            "_dom_classes": [],
            "_model_module": "@jupyter-widgets/controls",
            "_model_module_version": "1.5.0",
            "_model_name": "FloatProgressModel",
            "_view_count": null,
            "_view_module": "@jupyter-widgets/controls",
            "_view_module_version": "1.5.0",
            "_view_name": "ProgressView",
            "bar_style": "success",
            "description": "",
            "description_tooltip": null,
            "layout": "IPY_MODEL_4de4df4315bb4bf0a82d4a6b5acff6b6",
            "max": 28,
            "min": 0,
            "orientation": "horizontal",
            "style": "IPY_MODEL_8029a3df2bab4f81ad2fb24148d1fb2c",
            "value": 28
          }
        },
        "99baef3bef204daa80f7913d051cdc24": {
          "model_module": "@jupyter-widgets/controls",
          "model_module_version": "1.5.0",
          "model_name": "HBoxModel",
          "state": {
            "_dom_classes": [],
            "_model_module": "@jupyter-widgets/controls",
            "_model_module_version": "1.5.0",
            "_model_name": "HBoxModel",
            "_view_count": null,
            "_view_module": "@jupyter-widgets/controls",
            "_view_module_version": "1.5.0",
            "_view_name": "HBoxView",
            "box_style": "",
            "children": [
              "IPY_MODEL_77ceb27275114376b424adb485e85678",
              "IPY_MODEL_97f8da56b9f2485cb9e11e12972e79ff",
              "IPY_MODEL_56e5336e15a74a7a84dd0c71d65f79cd"
            ],
            "layout": "IPY_MODEL_c6f90fc233d04fd68a8e232349dc1f16"
          }
        },
        "9b7de099a7a447dabc673dcf7e6f19fb": {
          "model_module": "@jupyter-widgets/base",
          "model_module_version": "1.2.0",
          "model_name": "LayoutModel",
          "state": {
            "_model_module": "@jupyter-widgets/base",
            "_model_module_version": "1.2.0",
            "_model_name": "LayoutModel",
            "_view_count": null,
            "_view_module": "@jupyter-widgets/base",
            "_view_module_version": "1.2.0",
            "_view_name": "LayoutView",
            "align_content": null,
            "align_items": null,
            "align_self": null,
            "border": null,
            "bottom": null,
            "display": null,
            "flex": null,
            "flex_flow": null,
            "grid_area": null,
            "grid_auto_columns": null,
            "grid_auto_flow": null,
            "grid_auto_rows": null,
            "grid_column": null,
            "grid_gap": null,
            "grid_row": null,
            "grid_template_areas": null,
            "grid_template_columns": null,
            "grid_template_rows": null,
            "height": null,
            "justify_content": null,
            "justify_items": null,
            "left": null,
            "margin": null,
            "max_height": null,
            "max_width": null,
            "min_height": null,
            "min_width": null,
            "object_fit": null,
            "object_position": null,
            "order": null,
            "overflow": null,
            "overflow_x": null,
            "overflow_y": null,
            "padding": null,
            "right": null,
            "top": null,
            "visibility": null,
            "width": null
          }
        },
        "9be50395de854ca0a308582de7741cc1": {
          "model_module": "@jupyter-widgets/controls",
          "model_module_version": "1.5.0",
          "model_name": "DescriptionStyleModel",
          "state": {
            "_model_module": "@jupyter-widgets/controls",
            "_model_module_version": "1.5.0",
            "_model_name": "DescriptionStyleModel",
            "_view_count": null,
            "_view_module": "@jupyter-widgets/base",
            "_view_module_version": "1.2.0",
            "_view_name": "StyleView",
            "description_width": ""
          }
        },
        "a0d143d052384d47bf73ffe8a2b96b9e": {
          "model_module": "@jupyter-widgets/controls",
          "model_module_version": "1.5.0",
          "model_name": "DescriptionStyleModel",
          "state": {
            "_model_module": "@jupyter-widgets/controls",
            "_model_module_version": "1.5.0",
            "_model_name": "DescriptionStyleModel",
            "_view_count": null,
            "_view_module": "@jupyter-widgets/base",
            "_view_module_version": "1.2.0",
            "_view_name": "StyleView",
            "description_width": ""
          }
        },
        "a173f1b8e0624dee934b0d32cec229bc": {
          "model_module": "@jupyter-widgets/controls",
          "model_module_version": "1.5.0",
          "model_name": "FloatProgressModel",
          "state": {
            "_dom_classes": [],
            "_model_module": "@jupyter-widgets/controls",
            "_model_module_version": "1.5.0",
            "_model_name": "FloatProgressModel",
            "_view_count": null,
            "_view_module": "@jupyter-widgets/controls",
            "_view_module_version": "1.5.0",
            "_view_name": "ProgressView",
            "bar_style": "success",
            "description": "",
            "description_tooltip": null,
            "layout": "IPY_MODEL_2f8f499822eb4fe68d1100e4362ae726",
            "max": 28,
            "min": 0,
            "orientation": "horizontal",
            "style": "IPY_MODEL_53cd9ba5c8b34fbe94fc55863ad7db87",
            "value": 28
          }
        },
        "a365c587197340878960e175342ea5ad": {
          "model_module": "@jupyter-widgets/controls",
          "model_module_version": "1.5.0",
          "model_name": "ProgressStyleModel",
          "state": {
            "_model_module": "@jupyter-widgets/controls",
            "_model_module_version": "1.5.0",
            "_model_name": "ProgressStyleModel",
            "_view_count": null,
            "_view_module": "@jupyter-widgets/base",
            "_view_module_version": "1.2.0",
            "_view_name": "StyleView",
            "bar_color": null,
            "description_width": ""
          }
        },
        "a5fdbda33afa4e5892f2ec0d07b2a645": {
          "model_module": "@jupyter-widgets/base",
          "model_module_version": "1.2.0",
          "model_name": "LayoutModel",
          "state": {
            "_model_module": "@jupyter-widgets/base",
            "_model_module_version": "1.2.0",
            "_model_name": "LayoutModel",
            "_view_count": null,
            "_view_module": "@jupyter-widgets/base",
            "_view_module_version": "1.2.0",
            "_view_name": "LayoutView",
            "align_content": null,
            "align_items": null,
            "align_self": null,
            "border": null,
            "bottom": null,
            "display": null,
            "flex": null,
            "flex_flow": null,
            "grid_area": null,
            "grid_auto_columns": null,
            "grid_auto_flow": null,
            "grid_auto_rows": null,
            "grid_column": null,
            "grid_gap": null,
            "grid_row": null,
            "grid_template_areas": null,
            "grid_template_columns": null,
            "grid_template_rows": null,
            "height": null,
            "justify_content": null,
            "justify_items": null,
            "left": null,
            "margin": null,
            "max_height": null,
            "max_width": null,
            "min_height": null,
            "min_width": null,
            "object_fit": null,
            "object_position": null,
            "order": null,
            "overflow": null,
            "overflow_x": null,
            "overflow_y": null,
            "padding": null,
            "right": null,
            "top": null,
            "visibility": null,
            "width": null
          }
        },
        "ad97fea43e234d0b973a11d8f6316f7e": {
          "model_module": "@jupyter-widgets/controls",
          "model_module_version": "1.5.0",
          "model_name": "ProgressStyleModel",
          "state": {
            "_model_module": "@jupyter-widgets/controls",
            "_model_module_version": "1.5.0",
            "_model_name": "ProgressStyleModel",
            "_view_count": null,
            "_view_module": "@jupyter-widgets/base",
            "_view_module_version": "1.2.0",
            "_view_name": "StyleView",
            "bar_color": null,
            "description_width": ""
          }
        },
        "b59c4012c58f4fa88d5c004a7885a04e": {
          "model_module": "@jupyter-widgets/base",
          "model_module_version": "1.2.0",
          "model_name": "LayoutModel",
          "state": {
            "_model_module": "@jupyter-widgets/base",
            "_model_module_version": "1.2.0",
            "_model_name": "LayoutModel",
            "_view_count": null,
            "_view_module": "@jupyter-widgets/base",
            "_view_module_version": "1.2.0",
            "_view_name": "LayoutView",
            "align_content": null,
            "align_items": null,
            "align_self": null,
            "border": null,
            "bottom": null,
            "display": null,
            "flex": null,
            "flex_flow": null,
            "grid_area": null,
            "grid_auto_columns": null,
            "grid_auto_flow": null,
            "grid_auto_rows": null,
            "grid_column": null,
            "grid_gap": null,
            "grid_row": null,
            "grid_template_areas": null,
            "grid_template_columns": null,
            "grid_template_rows": null,
            "height": null,
            "justify_content": null,
            "justify_items": null,
            "left": null,
            "margin": null,
            "max_height": null,
            "max_width": null,
            "min_height": null,
            "min_width": null,
            "object_fit": null,
            "object_position": null,
            "order": null,
            "overflow": null,
            "overflow_x": null,
            "overflow_y": null,
            "padding": null,
            "right": null,
            "top": null,
            "visibility": null,
            "width": null
          }
        },
        "c2cfafafdef048b7b558dcbf59df4a74": {
          "model_module": "@jupyter-widgets/base",
          "model_module_version": "1.2.0",
          "model_name": "LayoutModel",
          "state": {
            "_model_module": "@jupyter-widgets/base",
            "_model_module_version": "1.2.0",
            "_model_name": "LayoutModel",
            "_view_count": null,
            "_view_module": "@jupyter-widgets/base",
            "_view_module_version": "1.2.0",
            "_view_name": "LayoutView",
            "align_content": null,
            "align_items": null,
            "align_self": null,
            "border": null,
            "bottom": null,
            "display": null,
            "flex": null,
            "flex_flow": null,
            "grid_area": null,
            "grid_auto_columns": null,
            "grid_auto_flow": null,
            "grid_auto_rows": null,
            "grid_column": null,
            "grid_gap": null,
            "grid_row": null,
            "grid_template_areas": null,
            "grid_template_columns": null,
            "grid_template_rows": null,
            "height": null,
            "justify_content": null,
            "justify_items": null,
            "left": null,
            "margin": null,
            "max_height": null,
            "max_width": null,
            "min_height": null,
            "min_width": null,
            "object_fit": null,
            "object_position": null,
            "order": null,
            "overflow": null,
            "overflow_x": null,
            "overflow_y": null,
            "padding": null,
            "right": null,
            "top": null,
            "visibility": null,
            "width": null
          }
        },
        "c30d7a13f7e14869a6584379041f00c7": {
          "model_module": "@jupyter-widgets/controls",
          "model_module_version": "1.5.0",
          "model_name": "ProgressStyleModel",
          "state": {
            "_model_module": "@jupyter-widgets/controls",
            "_model_module_version": "1.5.0",
            "_model_name": "ProgressStyleModel",
            "_view_count": null,
            "_view_module": "@jupyter-widgets/base",
            "_view_module_version": "1.2.0",
            "_view_name": "StyleView",
            "bar_color": null,
            "description_width": ""
          }
        },
        "c67d479dd78141599bb78a7bda0868c1": {
          "model_module": "@jupyter-widgets/controls",
          "model_module_version": "1.5.0",
          "model_name": "HTMLModel",
          "state": {
            "_dom_classes": [],
            "_model_module": "@jupyter-widgets/controls",
            "_model_module_version": "1.5.0",
            "_model_name": "HTMLModel",
            "_view_count": null,
            "_view_module": "@jupyter-widgets/controls",
            "_view_module_version": "1.5.0",
            "_view_name": "HTMLView",
            "description": "",
            "description_tooltip": null,
            "layout": "IPY_MODEL_2396e748c75d4008aee8e8e5952b6679",
            "placeholder": "​",
            "style": "IPY_MODEL_15b1f509aecd40f29e034f58be425a06",
            "value": "Downloading model.safetensors: 100%"
          }
        },
        "c6f90fc233d04fd68a8e232349dc1f16": {
          "model_module": "@jupyter-widgets/base",
          "model_module_version": "1.2.0",
          "model_name": "LayoutModel",
          "state": {
            "_model_module": "@jupyter-widgets/base",
            "_model_module_version": "1.2.0",
            "_model_name": "LayoutModel",
            "_view_count": null,
            "_view_module": "@jupyter-widgets/base",
            "_view_module_version": "1.2.0",
            "_view_name": "LayoutView",
            "align_content": null,
            "align_items": null,
            "align_self": null,
            "border": null,
            "bottom": null,
            "display": null,
            "flex": null,
            "flex_flow": null,
            "grid_area": null,
            "grid_auto_columns": null,
            "grid_auto_flow": null,
            "grid_auto_rows": null,
            "grid_column": null,
            "grid_gap": null,
            "grid_row": null,
            "grid_template_areas": null,
            "grid_template_columns": null,
            "grid_template_rows": null,
            "height": null,
            "justify_content": null,
            "justify_items": null,
            "left": null,
            "margin": null,
            "max_height": null,
            "max_width": null,
            "min_height": null,
            "min_width": null,
            "object_fit": null,
            "object_position": null,
            "order": null,
            "overflow": null,
            "overflow_x": null,
            "overflow_y": null,
            "padding": null,
            "right": null,
            "top": null,
            "visibility": null,
            "width": null
          }
        },
        "cf60ffa05542435d9245b49ed11a6bd0": {
          "model_module": "@jupyter-widgets/controls",
          "model_module_version": "1.5.0",
          "model_name": "HTMLModel",
          "state": {
            "_dom_classes": [],
            "_model_module": "@jupyter-widgets/controls",
            "_model_module_version": "1.5.0",
            "_model_name": "HTMLModel",
            "_view_count": null,
            "_view_module": "@jupyter-widgets/controls",
            "_view_module_version": "1.5.0",
            "_view_name": "HTMLView",
            "description": "",
            "description_tooltip": null,
            "layout": "IPY_MODEL_5b232d6676fe456a9ca54002a4131f45",
            "placeholder": "​",
            "style": "IPY_MODEL_d4bf7fbd4b24408ba8879467237dac1c",
            "value": " 1.34G/1.34G [00:15&lt;00:00, 101MB/s]"
          }
        },
        "d035e9307230456a81b3ae3cb685dd24": {
          "model_module": "@jupyter-widgets/controls",
          "model_module_version": "1.5.0",
          "model_name": "HBoxModel",
          "state": {
            "_dom_classes": [],
            "_model_module": "@jupyter-widgets/controls",
            "_model_module_version": "1.5.0",
            "_model_name": "HBoxModel",
            "_view_count": null,
            "_view_module": "@jupyter-widgets/controls",
            "_view_module_version": "1.5.0",
            "_view_name": "HBoxView",
            "box_style": "",
            "children": [
              "IPY_MODEL_4c5c5c5310b44f4e9e97e58dd1e464b6",
              "IPY_MODEL_4993af40a1e84a7391ab40a07f4a5b9f",
              "IPY_MODEL_62f733c3f9384a15900ed816e5390417"
            ],
            "layout": "IPY_MODEL_6cec4f7d69a54c7ebb88357f9922e37d"
          }
        },
        "d4bf7fbd4b24408ba8879467237dac1c": {
          "model_module": "@jupyter-widgets/controls",
          "model_module_version": "1.5.0",
          "model_name": "DescriptionStyleModel",
          "state": {
            "_model_module": "@jupyter-widgets/controls",
            "_model_module_version": "1.5.0",
            "_model_name": "DescriptionStyleModel",
            "_view_count": null,
            "_view_module": "@jupyter-widgets/base",
            "_view_module_version": "1.2.0",
            "_view_name": "StyleView",
            "description_width": ""
          }
        },
        "d8da4a3600614dfba37ea6e7576ce52a": {
          "model_module": "@jupyter-widgets/controls",
          "model_module_version": "1.5.0",
          "model_name": "FloatProgressModel",
          "state": {
            "_dom_classes": [],
            "_model_module": "@jupyter-widgets/controls",
            "_model_module_version": "1.5.0",
            "_model_name": "FloatProgressModel",
            "_view_count": null,
            "_view_module": "@jupyter-widgets/controls",
            "_view_module_version": "1.5.0",
            "_view_name": "ProgressView",
            "bar_style": "success",
            "description": "",
            "description_tooltip": null,
            "layout": "IPY_MODEL_35dbade965074cfc978cf3c497e05993",
            "max": 440449768,
            "min": 0,
            "orientation": "horizontal",
            "style": "IPY_MODEL_ad97fea43e234d0b973a11d8f6316f7e",
            "value": 440449768
          }
        },
        "e17f2b0e326b476b8479a45a26bd601d": {
          "model_module": "@jupyter-widgets/base",
          "model_module_version": "1.2.0",
          "model_name": "LayoutModel",
          "state": {
            "_model_module": "@jupyter-widgets/base",
            "_model_module_version": "1.2.0",
            "_model_name": "LayoutModel",
            "_view_count": null,
            "_view_module": "@jupyter-widgets/base",
            "_view_module_version": "1.2.0",
            "_view_name": "LayoutView",
            "align_content": null,
            "align_items": null,
            "align_self": null,
            "border": null,
            "bottom": null,
            "display": null,
            "flex": null,
            "flex_flow": null,
            "grid_area": null,
            "grid_auto_columns": null,
            "grid_auto_flow": null,
            "grid_auto_rows": null,
            "grid_column": null,
            "grid_gap": null,
            "grid_row": null,
            "grid_template_areas": null,
            "grid_template_columns": null,
            "grid_template_rows": null,
            "height": null,
            "justify_content": null,
            "justify_items": null,
            "left": null,
            "margin": null,
            "max_height": null,
            "max_width": null,
            "min_height": null,
            "min_width": null,
            "object_fit": null,
            "object_position": null,
            "order": null,
            "overflow": null,
            "overflow_x": null,
            "overflow_y": null,
            "padding": null,
            "right": null,
            "top": null,
            "visibility": null,
            "width": null
          }
        },
        "e471219739cc432591fe9eab0a5c6d6d": {
          "model_module": "@jupyter-widgets/base",
          "model_module_version": "1.2.0",
          "model_name": "LayoutModel",
          "state": {
            "_model_module": "@jupyter-widgets/base",
            "_model_module_version": "1.2.0",
            "_model_name": "LayoutModel",
            "_view_count": null,
            "_view_module": "@jupyter-widgets/base",
            "_view_module_version": "1.2.0",
            "_view_name": "LayoutView",
            "align_content": null,
            "align_items": null,
            "align_self": null,
            "border": null,
            "bottom": null,
            "display": null,
            "flex": null,
            "flex_flow": null,
            "grid_area": null,
            "grid_auto_columns": null,
            "grid_auto_flow": null,
            "grid_auto_rows": null,
            "grid_column": null,
            "grid_gap": null,
            "grid_row": null,
            "grid_template_areas": null,
            "grid_template_columns": null,
            "grid_template_rows": null,
            "height": null,
            "justify_content": null,
            "justify_items": null,
            "left": null,
            "margin": null,
            "max_height": null,
            "max_width": null,
            "min_height": null,
            "min_width": null,
            "object_fit": null,
            "object_position": null,
            "order": null,
            "overflow": null,
            "overflow_x": null,
            "overflow_y": null,
            "padding": null,
            "right": null,
            "top": null,
            "visibility": null,
            "width": null
          }
        },
        "e816691e8b4c4268a511060a3b58f86f": {
          "model_module": "@jupyter-widgets/base",
          "model_module_version": "1.2.0",
          "model_name": "LayoutModel",
          "state": {
            "_model_module": "@jupyter-widgets/base",
            "_model_module_version": "1.2.0",
            "_model_name": "LayoutModel",
            "_view_count": null,
            "_view_module": "@jupyter-widgets/base",
            "_view_module_version": "1.2.0",
            "_view_name": "LayoutView",
            "align_content": null,
            "align_items": null,
            "align_self": null,
            "border": null,
            "bottom": null,
            "display": null,
            "flex": null,
            "flex_flow": null,
            "grid_area": null,
            "grid_auto_columns": null,
            "grid_auto_flow": null,
            "grid_auto_rows": null,
            "grid_column": null,
            "grid_gap": null,
            "grid_row": null,
            "grid_template_areas": null,
            "grid_template_columns": null,
            "grid_template_rows": null,
            "height": null,
            "justify_content": null,
            "justify_items": null,
            "left": null,
            "margin": null,
            "max_height": null,
            "max_width": null,
            "min_height": null,
            "min_width": null,
            "object_fit": null,
            "object_position": null,
            "order": null,
            "overflow": null,
            "overflow_x": null,
            "overflow_y": null,
            "padding": null,
            "right": null,
            "top": null,
            "visibility": null,
            "width": null
          }
        },
        "e86e11b5bec04729bf9d6dc9db4e70de": {
          "model_module": "@jupyter-widgets/controls",
          "model_module_version": "1.5.0",
          "model_name": "HTMLModel",
          "state": {
            "_dom_classes": [],
            "_model_module": "@jupyter-widgets/controls",
            "_model_module_version": "1.5.0",
            "_model_name": "HTMLModel",
            "_view_count": null,
            "_view_module": "@jupyter-widgets/controls",
            "_view_module_version": "1.5.0",
            "_view_name": "HTMLView",
            "description": "",
            "description_tooltip": null,
            "layout": "IPY_MODEL_1641ce050f094c2fb201c99ad98632d0",
            "placeholder": "​",
            "style": "IPY_MODEL_a0d143d052384d47bf73ffe8a2b96b9e",
            "value": "Downloading (…)okenizer_config.json: 100%"
          }
        },
        "e8dc83fe3b6341a69295fd3f33e081ac": {
          "model_module": "@jupyter-widgets/controls",
          "model_module_version": "1.5.0",
          "model_name": "HBoxModel",
          "state": {
            "_dom_classes": [],
            "_model_module": "@jupyter-widgets/controls",
            "_model_module_version": "1.5.0",
            "_model_name": "HBoxModel",
            "_view_count": null,
            "_view_module": "@jupyter-widgets/controls",
            "_view_module_version": "1.5.0",
            "_view_name": "HBoxView",
            "box_style": "",
            "children": [
              "IPY_MODEL_5cd71b11ccaf42bb8b4ec51b90c44f0e",
              "IPY_MODEL_d8da4a3600614dfba37ea6e7576ce52a",
              "IPY_MODEL_32a98ab14c0340b9942f8d41a52ef1a9"
            ],
            "layout": "IPY_MODEL_e17f2b0e326b476b8479a45a26bd601d"
          }
        },
        "ec59ada926f248b3b1c27cc6499dbf82": {
          "model_module": "@jupyter-widgets/controls",
          "model_module_version": "1.5.0",
          "model_name": "HTMLModel",
          "state": {
            "_dom_classes": [],
            "_model_module": "@jupyter-widgets/controls",
            "_model_module_version": "1.5.0",
            "_model_name": "HTMLModel",
            "_view_count": null,
            "_view_module": "@jupyter-widgets/controls",
            "_view_module_version": "1.5.0",
            "_view_name": "HTMLView",
            "description": "",
            "description_tooltip": null,
            "layout": "IPY_MODEL_a5fdbda33afa4e5892f2ec0d07b2a645",
            "placeholder": "​",
            "style": "IPY_MODEL_39964015e8ab4904bc8b40cc4c4cd05c",
            "value": " 28.0/28.0 [00:00&lt;00:00, 1.06kB/s]"
          }
        },
        "ef5b312c8e6048129150ea55200ad75a": {
          "model_module": "@jupyter-widgets/controls",
          "model_module_version": "1.5.0",
          "model_name": "DescriptionStyleModel",
          "state": {
            "_model_module": "@jupyter-widgets/controls",
            "_model_module_version": "1.5.0",
            "_model_name": "DescriptionStyleModel",
            "_view_count": null,
            "_view_module": "@jupyter-widgets/base",
            "_view_module_version": "1.2.0",
            "_view_name": "StyleView",
            "description_width": ""
          }
        },
        "f4b1f82cbc504325b198bfb4b660582b": {
          "model_module": "@jupyter-widgets/base",
          "model_module_version": "1.2.0",
          "model_name": "LayoutModel",
          "state": {
            "_model_module": "@jupyter-widgets/base",
            "_model_module_version": "1.2.0",
            "_model_name": "LayoutModel",
            "_view_count": null,
            "_view_module": "@jupyter-widgets/base",
            "_view_module_version": "1.2.0",
            "_view_name": "LayoutView",
            "align_content": null,
            "align_items": null,
            "align_self": null,
            "border": null,
            "bottom": null,
            "display": null,
            "flex": null,
            "flex_flow": null,
            "grid_area": null,
            "grid_auto_columns": null,
            "grid_auto_flow": null,
            "grid_auto_rows": null,
            "grid_column": null,
            "grid_gap": null,
            "grid_row": null,
            "grid_template_areas": null,
            "grid_template_columns": null,
            "grid_template_rows": null,
            "height": null,
            "justify_content": null,
            "justify_items": null,
            "left": null,
            "margin": null,
            "max_height": null,
            "max_width": null,
            "min_height": null,
            "min_width": null,
            "object_fit": null,
            "object_position": null,
            "order": null,
            "overflow": null,
            "overflow_x": null,
            "overflow_y": null,
            "padding": null,
            "right": null,
            "top": null,
            "visibility": null,
            "width": null
          }
        },
        "f63e7fb34ef84c8ba5dc74a26b6400e5": {
          "model_module": "@jupyter-widgets/base",
          "model_module_version": "1.2.0",
          "model_name": "LayoutModel",
          "state": {
            "_model_module": "@jupyter-widgets/base",
            "_model_module_version": "1.2.0",
            "_model_name": "LayoutModel",
            "_view_count": null,
            "_view_module": "@jupyter-widgets/base",
            "_view_module_version": "1.2.0",
            "_view_name": "LayoutView",
            "align_content": null,
            "align_items": null,
            "align_self": null,
            "border": null,
            "bottom": null,
            "display": null,
            "flex": null,
            "flex_flow": null,
            "grid_area": null,
            "grid_auto_columns": null,
            "grid_auto_flow": null,
            "grid_auto_rows": null,
            "grid_column": null,
            "grid_gap": null,
            "grid_row": null,
            "grid_template_areas": null,
            "grid_template_columns": null,
            "grid_template_rows": null,
            "height": null,
            "justify_content": null,
            "justify_items": null,
            "left": null,
            "margin": null,
            "max_height": null,
            "max_width": null,
            "min_height": null,
            "min_width": null,
            "object_fit": null,
            "object_position": null,
            "order": null,
            "overflow": null,
            "overflow_x": null,
            "overflow_y": null,
            "padding": null,
            "right": null,
            "top": null,
            "visibility": null,
            "width": null
          }
        },
        "fc4d980e56084743854ca0c6f05032cb": {
          "model_module": "@jupyter-widgets/controls",
          "model_module_version": "1.5.0",
          "model_name": "ProgressStyleModel",
          "state": {
            "_model_module": "@jupyter-widgets/controls",
            "_model_module_version": "1.5.0",
            "_model_name": "ProgressStyleModel",
            "_view_count": null,
            "_view_module": "@jupyter-widgets/base",
            "_view_module_version": "1.2.0",
            "_view_name": "StyleView",
            "bar_color": null,
            "description_width": ""
          }
        },
        "fe71976be3c945ab9e54cd89aae0b206": {
          "model_module": "@jupyter-widgets/controls",
          "model_module_version": "1.5.0",
          "model_name": "HBoxModel",
          "state": {
            "_dom_classes": [],
            "_model_module": "@jupyter-widgets/controls",
            "_model_module_version": "1.5.0",
            "_model_name": "HBoxModel",
            "_view_count": null,
            "_view_module": "@jupyter-widgets/controls",
            "_view_module_version": "1.5.0",
            "_view_name": "HBoxView",
            "box_style": "",
            "children": [
              "IPY_MODEL_c67d479dd78141599bb78a7bda0868c1",
              "IPY_MODEL_2e4319c121b7436d9627db65fed03f32",
              "IPY_MODEL_cf60ffa05542435d9245b49ed11a6bd0"
            ],
            "layout": "IPY_MODEL_fec6f712e8ce4a169391466489147e76"
          }
        },
        "fec6f712e8ce4a169391466489147e76": {
          "model_module": "@jupyter-widgets/base",
          "model_module_version": "1.2.0",
          "model_name": "LayoutModel",
          "state": {
            "_model_module": "@jupyter-widgets/base",
            "_model_module_version": "1.2.0",
            "_model_name": "LayoutModel",
            "_view_count": null,
            "_view_module": "@jupyter-widgets/base",
            "_view_module_version": "1.2.0",
            "_view_name": "LayoutView",
            "align_content": null,
            "align_items": null,
            "align_self": null,
            "border": null,
            "bottom": null,
            "display": null,
            "flex": null,
            "flex_flow": null,
            "grid_area": null,
            "grid_auto_columns": null,
            "grid_auto_flow": null,
            "grid_auto_rows": null,
            "grid_column": null,
            "grid_gap": null,
            "grid_row": null,
            "grid_template_areas": null,
            "grid_template_columns": null,
            "grid_template_rows": null,
            "height": null,
            "justify_content": null,
            "justify_items": null,
            "left": null,
            "margin": null,
            "max_height": null,
            "max_width": null,
            "min_height": null,
            "min_width": null,
            "object_fit": null,
            "object_position": null,
            "order": null,
            "overflow": null,
            "overflow_x": null,
            "overflow_y": null,
            "padding": null,
            "right": null,
            "top": null,
            "visibility": null,
            "width": null
          }
        }
      }
    }
  },
  "nbformat": 4,
  "nbformat_minor": 0
}
