{
  "cells": [
    {
      "cell_type": "markdown",
      "metadata": {
        "id": "dYExzNuwx-Ke"
      },
      "source": [
        "# **Tarea 4 - Sequence to Sequence 📚**\n",
        "\n",
        "**Procesamiento de Lenguaje Natural (CC6205-1 - Otoño 2024)**"
      ]
    },
    {
      "cell_type": "markdown",
      "metadata": {
        "id": "b97b4IJjZGxM"
      },
      "source": [
        "## Tarjeta de identificación\n",
        "\n",
        "**Nombres:**\n",
        "\n",
        "```- Ignacio Albornoz```\n",
        "\n",
        "```- Eduardo Silva```\n",
        "\n",
        "**Fecha límite de entrega 📆:** 10/07.\n",
        "\n",
        "**Tiempo estimado de dedicación:** 4 horas\n"
      ]
    },
    {
      "cell_type": "markdown",
      "metadata": {
        "ExecuteTime": {
          "end_time": "2020-03-19T18:30:18.109327Z",
          "start_time": "2020-03-19T18:30:18.103344Z"
        },
        "id": "q5CSRY4oNCHK"
      },
      "source": [
        "## Instrucciones\n",
        "\n",
        "Bienvenid@s a la tercera tarea en el curso de Natural Language Processing (NLP). Esta tarea tiene como objetivo evaluar los contenidos teóricos de las últimas semanas de clases posteriores a la Tarea 3, enfocado en **Sequence-to-Sequence + Attention**. Si aún no has visto las clases, se recomienda visitar los links de las referencias.\n",
        "\n",
        "* La tarea es en **grupo** (maximo hasta 3 personas).\n",
        "* La entrega es a través de u-cursos a más tardar el día estipulado arriba.\n",
        "* El formato de entrega es este mismo Jupyter Notebook.\n",
        "* Al momento de la revisión su código será ejecutado. Por favor verifiquen que su entrega no tenga errores de compilación.\n",
        "* Completar la tarjeta de identificación. Sin ella no podrá tener nota.\n",
        "* Recomendamos mirar el enunciado completo con atención (*ba dum tss*) antes de empezar la tarea, para tener una idea más completa de lo que se pide."
      ]
    },
    {
      "cell_type": "markdown",
      "metadata": {
        "id": "YaHHjI_sp42f"
      },
      "source": [
        "## Material de referencia\n",
        "\n",
        "Diapositivas del curso 📄\n",
        "    \n",
        "- [Sequence-to-Sequence + Attention](https://github.com/dccuchile/CC6205/blob/master/slides/NLP-seq2seq.pdf)\n",
        "- [Transformer](https://github.com/dccuchile/CC6205/blob/master/slides/NLP-transformer.pdf)\n",
        "\n",
        "Videos del curso 📺\n",
        "\n",
        "- [Sequence-to-Sequence + Attention](https://www.youtube.com/watch?v=OpKxRjISqmM&list=PLppKo85eGXiXIh54H_qz48yHPHeNVJqBi&index=35)\n",
        "- [Transformer](https://www.youtube.com/watch?v=8RE23Uq8rU0)"
      ]
    },
    {
      "cell_type": "markdown",
      "metadata": {
        "id": "I_fPuDVxmmWI"
      },
      "source": [
        "## Parte 1: Traducción automática con arquitectura Encoder-Decoder con RNNs\n",
        "En esta sección crearemos nuestro propio traductor de español a inglés con la arquitecura Encoder-Decoder con RNNs + Attention vista en clases."
      ]
    },
    {
      "cell_type": "code",
      "execution_count": 1,
      "metadata": {
        "execution": {
          "iopub.execute_input": "2024-06-25T23:16:44.849639Z",
          "iopub.status.busy": "2024-06-25T23:16:44.849193Z",
          "iopub.status.idle": "2024-06-25T23:16:44.855614Z",
          "shell.execute_reply": "2024-06-25T23:16:44.854597Z",
          "shell.execute_reply.started": "2024-06-25T23:16:44.849607Z"
        },
        "id": "H3k3VV6_2vg2",
        "trusted": true
      },
      "outputs": [],
      "source": [
        "## Importamos librerías\n",
        "\n",
        "from __future__ import unicode_literals, print_function, division\n",
        "from io import open\n",
        "import unicodedata\n",
        "import re\n",
        "import random\n",
        "\n",
        "import torch\n",
        "import torch.nn as nn\n",
        "from torch import optim\n",
        "import torch.nn.functional as F\n",
        "\n",
        "import numpy as np\n",
        "from torch.utils.data import TensorDataset, DataLoader, RandomSampler"
      ]
    },
    {
      "cell_type": "markdown",
      "metadata": {
        "id": "XPhb8wuSpBZG"
      },
      "source": [
        "### P0. Preparación del dataset y tokenización\n",
        "\n",
        "Utilizaremos un dataset de pares de oraciones en inglés y castellano."
      ]
    },
    {
      "cell_type": "code",
      "execution_count": 2,
      "metadata": {
        "colab": {
          "base_uri": "https://localhost:8080/"
        },
        "execution": {
          "iopub.execute_input": "2024-06-25T23:16:44.857781Z",
          "iopub.status.busy": "2024-06-25T23:16:44.857403Z",
          "iopub.status.idle": "2024-06-25T23:17:04.935237Z",
          "shell.execute_reply": "2024-06-25T23:17:04.934269Z",
          "shell.execute_reply.started": "2024-06-25T23:16:44.857753Z"
        },
        "id": "3K5AmGn-ngUe",
        "outputId": "1d2c2f40-9a2f-40b5-8aa5-44be05b6af69",
        "trusted": true
      },
      "outputs": [
        {
          "name": "stdout",
          "output_type": "stream",
          "text": [
            "--2024-07-11 03:22:55--  https://www.manythings.org/anki/spa-eng.zip\n",
            "Resolving www.manythings.org (www.manythings.org)... 173.254.30.110\n",
            "Connecting to www.manythings.org (www.manythings.org)|173.254.30.110|:443... connected.\n",
            "HTTP request sent, awaiting response... 200 OK\n",
            "Length: 5420295 (5.2M) [application/zip]\n",
            "Saving to: ‘spa-eng.zip’\n",
            "\n",
            "spa-eng.zip         100%[===================>]   5.17M  2.72MB/s    in 1.9s    \n",
            "\n",
            "2024-07-11 03:22:58 (2.72 MB/s) - ‘spa-eng.zip’ saved [5420295/5420295]\n",
            "\n",
            "Archive:  spa-eng.zip\n",
            "  inflating: _about.txt              \n",
            "  inflating: spa.txt                 \n"
          ]
        }
      ],
      "source": [
        "!wget https://www.manythings.org/anki/spa-eng.zip\n",
        "!unzip spa-eng.zip"
      ]
    },
    {
      "cell_type": "markdown",
      "metadata": {
        "id": "SF8vWprw20KA"
      },
      "source": [
        "Vamos a crear una clase que nos permita procesar mejor cada idioma del corpus. Esto nos será útil para manejar dos vocabularios distintos."
      ]
    },
    {
      "cell_type": "code",
      "execution_count": 3,
      "metadata": {
        "execution": {
          "iopub.execute_input": "2024-06-25T23:17:04.937231Z",
          "iopub.status.busy": "2024-06-25T23:17:04.936847Z",
          "iopub.status.idle": "2024-06-25T23:17:04.945754Z",
          "shell.execute_reply": "2024-06-25T23:17:04.944901Z",
          "shell.execute_reply.started": "2024-06-25T23:17:04.937194Z"
        },
        "id": "R4KvLII6Wd9y",
        "trusted": true
      },
      "outputs": [],
      "source": [
        "# Código base\n",
        "\n",
        "SOS_token = 0\n",
        "EOS_token = 1\n",
        "\n",
        "class Lang:\n",
        "  def __init__(self, name):\n",
        "    self.name = name\n",
        "    self.word2index = {}\n",
        "    self.word2count = {}\n",
        "    self.index2word = {0: \"*\", 1: \"STOP\"}\n",
        "    self.n_tokens = 2  # * y STOP\n",
        "\n",
        "  def add_sentence(self, sentence):\n",
        "    for word in sentence.split(' '):\n",
        "      self.add_word(word)\n",
        "\n",
        "  def add_word(self, word):\n",
        "    if word not in self.word2index:\n",
        "      self.word2index[word] = self.n_tokens\n",
        "      self.word2count[word] = 1\n",
        "      self.index2word[self.n_tokens] = word\n",
        "      self.n_tokens += 1\n",
        "    else:\n",
        "      self.word2count[word] += 1\n",
        "\n",
        "\n"
      ]
    },
    {
      "cell_type": "markdown",
      "metadata": {
        "id": "p4PoWqCai607"
      },
      "source": [
        "Implemente acá funciones para leer, procesar y filtar el dataset según estime."
      ]
    },
    {
      "cell_type": "code",
      "execution_count": 4,
      "metadata": {
        "execution": {
          "iopub.execute_input": "2024-06-25T23:17:04.949339Z",
          "iopub.status.busy": "2024-06-25T23:17:04.948608Z",
          "iopub.status.idle": "2024-06-25T23:17:04.958210Z",
          "shell.execute_reply": "2024-06-25T23:17:04.957453Z",
          "shell.execute_reply.started": "2024-06-25T23:17:04.949209Z"
        },
        "id": "XQ0zURfK2f0B",
        "trusted": true
      },
      "outputs": [],
      "source": [
        "# Minúsculas, puntuación y remoción de caracteres que no son letras\n",
        "# Puede añadir cualquier otro preprocesamiento que estime conveniente\n",
        "def normalize_string(s):\n",
        "  s = unicodedata.normalize('NFC', s) # Normalización de caracteres unicode\n",
        "  s = s.lower().strip()\n",
        "  s = re.sub(r\"([.!?])\", r\" \\1\", s) # Regex para separar puntuación de las palabras\n",
        "  s = re.sub(r\"[^a-zA-Z!?áéíóúñ´]+\", r\" \", s) # Regex para excluir otros caracteres\n",
        "  return s.strip()\n",
        "\n",
        "# Recomendamos mantener sólo oraciones con ~10 palabras o menos\n",
        "def filter_pairs(pairs, max_length):\n",
        "  return [p for p in pairs if len(p[0].split(' ')) < max_length and \\\n",
        "                len(p[1].split(' ')) < max_length]"
      ]
    },
    {
      "cell_type": "code",
      "execution_count": 5,
      "metadata": {
        "execution": {
          "iopub.execute_input": "2024-06-25T23:17:04.959672Z",
          "iopub.status.busy": "2024-06-25T23:17:04.959311Z",
          "iopub.status.idle": "2024-06-25T23:17:04.972434Z",
          "shell.execute_reply": "2024-06-25T23:17:04.971672Z",
          "shell.execute_reply.started": "2024-06-25T23:17:04.959641Z"
        },
        "id": "1zmvmX-WWd90",
        "trusted": true
      },
      "outputs": [],
      "source": [
        "def read_dataset(path, reverse=False):\n",
        "  lines = open(path, encoding='utf-8').\\\n",
        "    read().strip().split('\\n')\n",
        "\n",
        "  pairs = [[normalize_string(s) for s in l.split('\\t')][:2] for l in lines]\n",
        "\n",
        "  # Reverse pairs, make Lang instances\n",
        "  if reverse:\n",
        "    pairs = [list(reversed(p)) for p in pairs]\n",
        "    input_lang = Lang(\"spa\")\n",
        "    output_lang = Lang(\"eng\")\n",
        "  else:\n",
        "    input_lang = Lang(\"eng\")\n",
        "    output_lang = Lang(\"spa\")\n",
        "\n",
        "  return input_lang, output_lang, pairs\n",
        "\n",
        "def read_langs(lang1, lang2, reverse=False, max_length=10):\n",
        "  input_lang, output_lang, pairs = read_dataset(\"spa.txt\", reverse)\n",
        "  print(f\"Total de oraciones en dataset: {len(pairs)}\")\n",
        "  pairs = filter_pairs(pairs, max_length)\n",
        "  print(f\"Reducido a: {len(pairs)}\")\n",
        "  for pair in pairs:\n",
        "    input_lang.add_sentence(pair[0])\n",
        "    output_lang.add_sentence(pair[1])\n",
        "  print(f\"Tamaño vocab {input_lang.name}: {input_lang.n_tokens}\")\n",
        "  print(f\"Tamaño vocab {output_lang.name}: {output_lang.n_tokens}\")\n",
        "  return input_lang, output_lang, pairs"
      ]
    },
    {
      "cell_type": "code",
      "execution_count": 6,
      "metadata": {
        "colab": {
          "base_uri": "https://localhost:8080/"
        },
        "id": "FOAzpKMMVYur",
        "outputId": "8412c4b1-afb2-4695-db9f-17a5be1fd597"
      },
      "outputs": [
        {
          "name": "stdout",
          "output_type": "stream",
          "text": [
            "Total de oraciones en dataset: 141543\n",
            "Reducido a: 119626\n",
            "Tamaño vocab spa: 24306\n",
            "Tamaño vocab eng: 12105\n",
            "['tom se consideraba afortunado', 'tom considered himself lucky']\n"
          ]
        }
      ],
      "source": [
        "input_lang, output_lang, pairs = read_langs('eng', 'spa', reverse=True, max_length=10)\n",
        "print(random.choice(pairs))"
      ]
    },
    {
      "cell_type": "markdown",
      "metadata": {
        "id": "2D1Kaw_D8jmN"
      },
      "source": [
        "### P1. Encoder (1.2 pt.)\n",
        "Implemente una red Encoder utilizando redes neuronales recurrentes."
      ]
    },
    {
      "cell_type": "code",
      "execution_count": 7,
      "metadata": {
        "id": "l54mxzLLiYQ1"
      },
      "outputs": [],
      "source": [
        "# Garantizar reproducibilidad de los experimentos\n",
        "SEED = 1234\n",
        "torch.manual_seed(SEED)\n",
        "torch.backends.cudnn.deterministic = True"
      ]
    },
    {
      "cell_type": "code",
      "execution_count": 8,
      "metadata": {
        "id": "ULGP_EJT0A4a"
      },
      "outputs": [],
      "source": [
        "device = torch.device(\"cuda\" if torch.cuda.is_available() else \"cpu\")"
      ]
    },
    {
      "cell_type": "code",
      "execution_count": 9,
      "metadata": {
        "execution": {
          "iopub.execute_input": "2024-06-25T23:17:12.539489Z",
          "iopub.status.busy": "2024-06-25T23:17:12.539222Z",
          "iopub.status.idle": "2024-06-25T23:17:12.546213Z",
          "shell.execute_reply": "2024-06-25T23:17:12.545343Z",
          "shell.execute_reply.started": "2024-06-25T23:17:12.539465Z"
        },
        "id": "A4xqULn18kwL",
        "trusted": true
      },
      "outputs": [],
      "source": [
        "class EncoderRNN(nn.Module):\n",
        "    def __init__(self, input_size, hidden_size):\n",
        "        super(EncoderRNN, self).__init__()\n",
        "        self.hidden_size = hidden_size\n",
        "        self.embedding = nn.Embedding(input_size, hidden_size)\n",
        "        self.gru = nn.GRU(hidden_size, hidden_size)\n",
        "\n",
        "    def forward(self, input, hidden):\n",
        "        embedded = self.embedding(input).view(1, 1, -1)\n",
        "        output, hidden = self.gru(embedded, hidden)\n",
        "        return output, hidden\n",
        "\n",
        "    def initHidden(self):\n",
        "        return torch.zeros(1, 1, self.hidden_size, device=device)\n"
      ]
    },
    {
      "cell_type": "markdown",
      "metadata": {
        "id": "dca-ULd28vUW"
      },
      "source": [
        "### P2. Attention Decoder (1.8 pt.)\n",
        "\n",
        "Ahora diseñe un mecanismo de atención según estime conveniente y otra red que servirá de decoder con el modelo de attention. Utilice la predicción objetivo (en caso de existir) como siguiente input de cada oración para la etapa de entrenamiento (teacher forcing)."
      ]
    },
    {
      "cell_type": "code",
      "execution_count": 10,
      "metadata": {
        "id": "7aTasvTd0A4a"
      },
      "outputs": [],
      "source": [
        "MAX_LENGTH = 10"
      ]
    },
    {
      "cell_type": "code",
      "execution_count": 11,
      "metadata": {
        "execution": {
          "iopub.execute_input": "2024-06-25T23:17:12.630941Z",
          "iopub.status.busy": "2024-06-25T23:17:12.630657Z",
          "iopub.status.idle": "2024-06-25T23:17:12.646388Z",
          "shell.execute_reply": "2024-06-25T23:17:12.645446Z",
          "shell.execute_reply.started": "2024-06-25T23:17:12.630917Z"
        },
        "id": "JwGdoUhq80Bk",
        "trusted": true
      },
      "outputs": [],
      "source": [
        "class AttnDecoderRNN(nn.Module):\n",
        "    def __init__(self, hidden_size, output_size, dropout_p=0.1, max_length=MAX_LENGTH):\n",
        "        super(AttnDecoderRNN, self).__init__()\n",
        "        self.hidden_size = hidden_size\n",
        "        self.output_size = output_size\n",
        "        self.dropout_p = dropout_p\n",
        "        self.max_length = max_length\n",
        "\n",
        "        self.embedding = nn.Embedding(self.output_size, self.hidden_size)\n",
        "        self.attn = nn.Linear(self.hidden_size * 2, self.max_length)\n",
        "        self.attn_combine = nn.Linear(self.hidden_size * 2, self.hidden_size)\n",
        "        self.dropout = nn.Dropout(self.dropout_p)\n",
        "        self.gru = nn.GRU(self.hidden_size, self.hidden_size)\n",
        "        self.out = nn.Linear(self.hidden_size, self.output_size)\n",
        "\n",
        "    def forward(self, input, hidden, encoder_outputs):\n",
        "        embedded = self.embedding(input).view(1, 1, -1)\n",
        "        embedded = self.dropout(embedded)\n",
        "\n",
        "        attn_weights = F.softmax(\n",
        "            self.attn(torch.cat((embedded[0], hidden[0]), 1)), dim=1)\n",
        "        attn_applied = torch.bmm(attn_weights.unsqueeze(0),\n",
        "                                 encoder_outputs.unsqueeze(0))\n",
        "\n",
        "        output = torch.cat((embedded[0], attn_applied[0]), 1)\n",
        "        output = self.attn_combine(output).unsqueeze(0)\n",
        "\n",
        "        output = F.relu(output)\n",
        "        output, hidden = self.gru(output, hidden)\n",
        "\n",
        "        output = F.log_softmax(self.out(output[0]), dim=1)\n",
        "        return output, hidden, attn_weights\n",
        "\n",
        "    def initHidden(self):\n",
        "        return torch.zeros(1, 1, self.hidden_size, device=device)"
      ]
    },
    {
      "cell_type": "markdown",
      "metadata": {
        "id": "X7H51frJe7de"
      },
      "source": [
        "### P3. Entrenamiento y evaluación (1 pt.)\n",
        "Entrene su modelo Sequence-to-Sequence. Para esto entrene el encoder, decoder y attention en conjunto, es decir utilizando la misma función de loss para los parámetros de cada componente. Recuerde entregar las predicciones objetivo al decoder en cada iteración."
      ]
    },
    {
      "cell_type": "code",
      "execution_count": 12,
      "metadata": {
        "execution": {
          "iopub.execute_input": "2024-06-25T23:17:12.721357Z",
          "iopub.status.busy": "2024-06-25T23:17:12.720970Z",
          "iopub.status.idle": "2024-06-25T23:17:12.737240Z",
          "shell.execute_reply": "2024-06-25T23:17:12.736265Z",
          "shell.execute_reply.started": "2024-06-25T23:17:12.721332Z"
        },
        "id": "nl-0Krjz9cmC",
        "trusted": true
      },
      "outputs": [],
      "source": [
        "import math\n",
        "import time\n",
        "import matplotlib.pyplot as plt\n",
        "import matplotlib.ticker as ticker\n",
        "import numpy as np"
      ]
    },
    {
      "cell_type": "code",
      "execution_count": 13,
      "metadata": {
        "id": "l6-aNCNtUzcI"
      },
      "outputs": [],
      "source": [
        "def indexesFromSentence(lang, sentence):\n",
        "    return [lang.word2index[word] for word in sentence.split(' ')]\n",
        "\n",
        "def tensorFromSentence(lang, sentence):\n",
        "    indexes = indexesFromSentence(lang, sentence)\n",
        "    indexes.append(EOS_token)\n",
        "    return torch.tensor(indexes, dtype=torch.long, device=device).view(-1, 1)\n",
        "\n",
        "def tensorsFromPair(pair):\n",
        "    input_tensor = tensorFromSentence(input_lang, pair[0])\n",
        "    target_tensor = tensorFromSentence(output_lang, pair[1])\n",
        "    return (input_tensor, target_tensor)\n"
      ]
    },
    {
      "cell_type": "code",
      "execution_count": 14,
      "metadata": {
        "id": "APaMmfZC0A4b"
      },
      "outputs": [],
      "source": [
        "def asMinutes(s):\n",
        "    m = math.floor(s / 60)\n",
        "    s -= m * 60\n",
        "    return f'{m}m {s}s'\n",
        "\n",
        "def timeSince(since, percent):\n",
        "    now = time.time()\n",
        "    s = now - since\n",
        "    es = s / (percent)\n",
        "    rs = es - s\n",
        "    return f'{asMinutes(s)} (- {asMinutes(rs)})'\n",
        "\n",
        "def showPlot(points):\n",
        "    plt.figure()\n",
        "    fig, ax = plt.subplots()\n",
        "    loc = ticker.MultipleLocator(base=0.2)  # this locator puts ticks at regular intervals\n",
        "    ax.yaxis.set_major_locator(loc)\n",
        "    plt.plot(points)\n",
        "    plt.show()\n"
      ]
    },
    {
      "cell_type": "code",
      "execution_count": 15,
      "metadata": {
        "id": "PHU3HWe10A4b"
      },
      "outputs": [],
      "source": [
        "def train(input_tensor, target_tensor, encoder, decoder, encoder_optimizer, decoder_optimizer, criterion, max_length=MAX_LENGTH):\n",
        "    encoder_hidden = encoder.initHidden()\n",
        "\n",
        "    encoder_optimizer.zero_grad()\n",
        "    decoder_optimizer.zero_grad()\n",
        "\n",
        "    input_length = input_tensor.size(0)\n",
        "    target_length = target_tensor.size(0)\n",
        "\n",
        "    encoder_outputs = torch.zeros(max_length, encoder.hidden_size, device=device)\n",
        "\n",
        "    loss = 0\n",
        "\n",
        "    for ei in range(input_length):\n",
        "        encoder_output, encoder_hidden = encoder(input_tensor[ei], encoder_hidden)\n",
        "        encoder_outputs[ei] = encoder_output[0, 0]\n",
        "\n",
        "    decoder_input = torch.tensor([[SOS_token]], device=device)\n",
        "\n",
        "    decoder_hidden = encoder_hidden\n",
        "\n",
        "    for di in range(target_length):\n",
        "        decoder_output, decoder_hidden, decoder_attention = decoder(\n",
        "            decoder_input, decoder_hidden, encoder_outputs)\n",
        "        topv, topi = decoder_output.topk(1)\n",
        "        decoder_input = topi.squeeze().detach()\n",
        "\n",
        "        loss += criterion(decoder_output, target_tensor[di])\n",
        "        if decoder_input.item() == EOS_token:\n",
        "            break\n",
        "\n",
        "    loss.backward()\n",
        "\n",
        "    encoder_optimizer.step()\n",
        "    decoder_optimizer.step()\n",
        "\n",
        "    return loss.item() / target_length"
      ]
    },
    {
      "cell_type": "code",
      "execution_count": 16,
      "metadata": {
        "id": "1yo715D70A4b"
      },
      "outputs": [],
      "source": [
        "import matplotlib.pyplot as plt\n",
        "import matplotlib.ticker as ticker\n",
        "import numpy as np\n",
        "\n",
        "def trainIters(encoder, decoder, n_iters, print_every=1000, plot_every=100, learning_rate=0.01):\n",
        "    start = time.time()\n",
        "    plot_losses = []\n",
        "    print_loss_total = 0  # Reset every print_every\n",
        "    plot_loss_total = 0  # Reset every plot_every\n",
        "\n",
        "    encoder_optimizer = torch.optim.SGD(encoder.parameters(), lr=learning_rate)\n",
        "    decoder_optimizer = torch.optim.SGD(decoder.parameters(), lr=learning_rate)\n",
        "    training_pairs = [tensorsFromPair(random.choice(pairs)) for _ in range(n_iters)]\n",
        "    criterion = nn.NLLLoss()\n",
        "\n",
        "    for iter in range(1, n_iters + 1):\n",
        "        training_pair = training_pairs[iter - 1]\n",
        "        input_tensor = training_pair[0]\n",
        "        target_tensor = training_pair[1]\n",
        "\n",
        "        loss = train(input_tensor, target_tensor, encoder, decoder, encoder_optimizer, decoder_optimizer, criterion)\n",
        "        print_loss_total += loss\n",
        "        plot_loss_total += loss\n",
        "\n",
        "        if iter % print_every == 0:\n",
        "            print_loss_avg = print_loss_total / print_every\n",
        "            print_loss_total = 0\n",
        "            print(f'{timeSince(start, iter / n_iters)} ({iter} {iter / n_iters * 100}%) {print_loss_avg:.4f}')\n",
        "\n",
        "        if iter % plot_every == 0:\n",
        "            plot_loss_avg = plot_loss_total / plot_every\n",
        "            plot_losses.append(plot_loss_avg)\n",
        "            plot_loss_total = 0\n",
        "\n",
        "    showPlot(plot_losses)\n",
        "\n",
        "def showPlot(points):\n",
        "    plt.figure()\n",
        "    fig, ax = plt.subplots()\n",
        "    loc = ticker.MultipleLocator(base=0.2)  # this locator puts ticks at regular intervals\n",
        "    ax.yaxis.set_major_locator(loc)\n",
        "    plt.plot(points)\n",
        "    plt.show()\n"
      ]
    },
    {
      "cell_type": "code",
      "execution_count": null,
      "metadata": {
        "id": "I8-XBAFrW4q0",
        "outputId": "29b099f8-6c96-487b-96a7-6df8b61bb98f"
      },
      "outputs": [
        {
          "name": "stdout",
          "output_type": "stream",
          "text": [
            "2m 12.953553438186646s (- 31m 1.349748134613037s) (5000 6.666666666666667%) 3.9650\n",
            "4m 11.86616325378418s (- 27m 17.130061149597168s) (10000 13.333333333333334%) 3.8498\n",
            "6m 21.298234224319458s (- 25m 25.192936897277832s) (15000 20.0%) 3.7080\n",
            "8m 34.80608415603638s (- 23m 35.71673142910004s) (20000 26.666666666666668%) 3.5979\n",
            "10m 49.558815717697144s (- 21m 39.11763143539429s) (25000 33.33333333333333%) 3.4901\n",
            "13m 1.1150240898132324s (- 19m 31.67253613471985s) (30000 40.0%) 3.3838\n",
            "15m 31.164942502975464s (- 17m 44.18850571768621s) (35000 46.666666666666664%) 3.3105\n",
            "18m 11.61441159248352s (- 15m 55.16261014342308s) (40000 53.333333333333336%) 3.2053\n",
            "20m 44.43186926841736s (- 13m 49.62124617894506s) (45000 60.0%) 3.1637\n",
            "23m 17.816198587417603s (- 11m 38.9080992937088s) (50000 66.66666666666666%) 3.0886\n",
            "25m 47.37497639656067s (- 9m 22.681809598749624s) (55000 73.33333333333333%) 3.0343\n",
            "27m 57.80412244796753s (- 6m 59.45103061199188s) (60000 80.0%) 2.9479\n",
            "30m 25.63826060295105s (- 4m 40.867424708146245s) (65000 86.66666666666667%) 2.9209\n",
            "32m 58.22387957572937s (- 2m 21.3017056839808s) (70000 93.33333333333333%) 2.8818\n",
            "35m 28.91621971130371s (- 0m 0.0s) (75000 100.0%) 2.8233\n"
          ]
        },
        {
          "data": {
            "text/plain": [
              "<Figure size 640x480 with 0 Axes>"
            ]
          },
          "metadata": {},
          "output_type": "display_data"
        },
        {
          "data": {
            "image/png": "[encoded data removed]",
            "text/plain": [
              "<Figure size 640x480 with 1 Axes>"
            ]
          },
          "metadata": {},
          "output_type": "display_data"
        }
      ],
      "source": [
        "hidden_size = 256\n",
        "encoder1 = EncoderRNN(input_lang.n_tokens, hidden_size).to(device)\n",
        "attn_decoder1 = AttnDecoderRNN(hidden_size, output_lang.n_tokens, dropout_p=0.1).to(device)\n",
        "\n",
        "trainIters(encoder1, attn_decoder1, 75000, print_every=5000)"
      ]
    },
    {
      "cell_type": "markdown",
      "metadata": {
        "id": "b7uIQ2QACKM-"
      },
      "source": [
        "Comente sus resultados. ¿Cómo evoluciona la loss a medida que aumenta el número de epochs?\n",
        "\n",
        "```\n",
        "La pérdida disminuye a medida que avanza el entrenamiento. Al inicio, la pérdida es alta, lo que indica que el modelo no está ajustado adecuadamente a los datos. Sin embargo, a medida que se incrementa el número de epochs, la pérdida decrece de manera continua, aunque con cierta variabilidad. Este comportamiento es típico en el entrenamiento de modelos de machine learning, donde se espera que el modelo mejore su capacidad de predicción conforme se ajustan los parámetros.\n",
        "\n",
        "En las primeras etapas del entrenamiento, la reducción de la pérdida es más pronunciada, lo que indica que el modelo está aprendiendo rápidamente. Posteriormente, la disminución de la pérdida se hace más lenta, acercándose a un valor asintótico.\n",
        "\n",
        "La evolución de la pérdida sugiere que el modelo está convergiendo adecuadamente, reduciendo el error a medida que se entrena más.\n",
        "```"
      ]
    },
    {
      "cell_type": "markdown",
      "metadata": {
        "id": "UQ2-AA_MiYQ8"
      },
      "source": [
        "Adapte las siguientes funciones para traducir oraciones con su modelo. Pruebe su traductor con algunas oraciones aleatorias del corpus."
      ]
    },
    {
      "cell_type": "code",
      "execution_count": 17,
      "metadata": {
        "execution": {
          "iopub.execute_input": "2024-06-25T23:17:12.768324Z",
          "iopub.status.busy": "2024-06-25T23:17:12.768057Z",
          "iopub.status.idle": "2024-06-25T23:17:12.777954Z",
          "shell.execute_reply": "2024-06-25T23:17:12.777281Z",
          "shell.execute_reply.started": "2024-06-25T23:17:12.768300Z"
        },
        "id": "Zj4mpUz_9twS",
        "trusted": true
      },
      "outputs": [],
      "source": [
        "def translate(encoder, decoder, sentence, input_lang, output_lang):\n",
        "    with torch.no_grad():\n",
        "        input_tensor = tensorFromSentence(input_lang, sentence)\n",
        "        input_length = input_tensor.size()[0]\n",
        "\n",
        "        encoder_hidden = encoder.initHidden()\n",
        "        encoder_outputs = torch.zeros(MAX_LENGTH, encoder.hidden_size, device=device)\n",
        "\n",
        "        for ei in range(input_length):\n",
        "            encoder_output, encoder_hidden = encoder(input_tensor[ei], encoder_hidden)\n",
        "            encoder_outputs[ei] += encoder_output[0, 0]\n",
        "\n",
        "        decoder_input = torch.tensor([[SOS_token]], device=device)  # SOS\n",
        "        decoder_hidden = encoder_hidden\n",
        "\n",
        "        decoded_words = []\n",
        "        decoder_attentions = torch.zeros(MAX_LENGTH, MAX_LENGTH)\n",
        "\n",
        "        for di in range(MAX_LENGTH):\n",
        "            decoder_output, decoder_hidden, decoder_attention = decoder(\n",
        "                decoder_input, decoder_hidden, encoder_outputs)\n",
        "            decoder_attentions[di] = decoder_attention.data\n",
        "            topv, topi = decoder_output.data.topk(1)\n",
        "            if topi.item() == EOS_token:\n",
        "                decoded_words.append('STOP')\n",
        "                break\n",
        "            else:\n",
        "                decoded_words.append(output_lang.index2word[topi.item()])\n",
        "\n",
        "            decoder_input = topi.squeeze().detach()\n",
        "\n",
        "        return decoded_words, decoder_attentions[:di + 1]\n",
        "\n",
        "\n",
        "def evaluate_randomly(encoder, decoder, dataset, n=10):\n",
        "    for i in range(n):\n",
        "        pair = random.choice(dataset)\n",
        "        print('Input:', pair[0])\n",
        "        print('Traducción:', pair[1])\n",
        "        output_words, _ = translate(encoder, decoder, pair[0], input_lang, output_lang)\n",
        "        output_sentence = ' '.join(output_words)\n",
        "        print('Predicción:', output_sentence)\n",
        "        print('')\n"
      ]
    },
    {
      "cell_type": "code",
      "execution_count": null,
      "metadata": {
        "id": "b1-0aHcv0A4b"
      },
      "outputs": [],
      "source": [
        "# Guardar el estado del modelo y los parámetros de entrenamiento\n",
        "# En models/ se guardan los viejos para que no se sobreescriban\n",
        "torch.save(encoder1.state_dict(), 'encoder1.pth')\n",
        "torch.save(attn_decoder1.state_dict(), 'attn_decoder1.pth')\n"
      ]
    },
    {
      "cell_type": "code",
      "execution_count": 25,
      "metadata": {
        "colab": {
          "base_uri": "https://localhost:8080/"
        },
        "id": "_6slOsZz2Er2",
        "outputId": "6ed4304d-4b50-4d5b-ac6d-ae5b15babfc5"
      },
      "outputs": [
        {
          "data": {
            "text/plain": [
              "<All keys matched successfully>"
            ]
          },
          "execution_count": 25,
          "metadata": {},
          "output_type": "execute_result"
        }
      ],
      "source": [
        "# Inicializar los modelos\n",
        "hidden_size = 256\n",
        "loaded_encoder = EncoderRNN(input_lang.n_tokens, hidden_size).to(device)\n",
        "loaded_attn_decoder = AttnDecoderRNN(hidden_size, output_lang.n_tokens, dropout_p=0.1).to(device)\n",
        "\n",
        "# Cargar los parámetros del estado guardado\n",
        "loaded_encoder.load_state_dict(torch.load('encoder1.pth'))\n",
        "loaded_attn_decoder.load_state_dict(torch.load('attn_decoder1.pth'))"
      ]
    },
    {
      "cell_type": "code",
      "execution_count": null,
      "metadata": {
        "id": "nNPi-XO82Ozn",
        "outputId": "4aede729-578c-4c03-83ca-b41a75699637"
      },
      "outputs": [
        {
          "name": "stdout",
          "output_type": "stream",
          "text": [
            "Input: estamos en casa\n",
            "Traducción: we are at home\n",
            "Predicción: we re in STOP\n",
            "\n",
            "Input: estoy demasiado ocupado para ayudarte a hacer eso\n",
            "Traducción: i m too busy to help you do that\n",
            "Predicción: i m too busy you you doing STOP\n",
            "\n",
            "Input: te has aprendido el poema de memoria ?\n",
            "Traducción: have you learned the poem by heart ?\n",
            "Predicción: did you finished finished from the ? ? STOP\n",
            "\n",
            "Input: tomás estaba un poco molesto\n",
            "Traducción: tom was a little upset\n",
            "Predicción: tom was a little little STOP\n",
            "\n",
            "Input: el bebé se puso a llorar\n",
            "Traducción: the baby started to cry\n",
            "Predicción: the baby started to to STOP\n",
            "\n",
            "Input: ojalá supiera hablar francés\n",
            "Traducción: i wish i could speak french\n",
            "Predicción: i wish i speak speak french STOP\n",
            "\n",
            "Input: yo te menosprecio\n",
            "Traducción: i despise you\n",
            "Predicción: i ll you STOP\n",
            "\n",
            "Input: siempre me ha impresionado tu talento\n",
            "Traducción: i ve always been impressed by your abilities\n",
            "Predicción: i s always your your your STOP\n",
            "\n",
            "Input: permítame entrar\n",
            "Traducción: let me in please\n",
            "Predicción: let me to STOP\n",
            "\n",
            "Input: pasamos la noche en un hotel económico\n",
            "Traducción: we spent the night in a cheap hotel\n",
            "Predicción: we have the night night night STOP\n",
            "\n"
          ]
        }
      ],
      "source": [
        "\n",
        "# Evaluar los modelos cargados\n",
        "loaded_encoder.eval()\n",
        "loaded_attn_decoder.eval()\n",
        "evaluate_randomly(loaded_encoder, loaded_attn_decoder, pairs, 10)"
      ]
    },
    {
      "cell_type": "markdown",
      "metadata": {
        "id": "SySR_0qviYQ9"
      },
      "source": [
        "Comente sus resultados. ¿Qué ocurre con las cuando la traducción predicha es válida pero no igual al ground truth? ¿Qué haría para abordar este problema?\n",
        "\n",
        "\n",
        "En los ejemplos proporcionados, las traducciones predichas muestran varios problemas comunes:\n",
        "\n",
        "1. **Repetición de palabras**:\n",
        "   - Predicción: \"we re in STOP\"\n",
        "   - Predicción: \"i m too busy you you doing STOP\"\n",
        "   - Predicción: \"tom was a little little STOP\"\n",
        "   - Predicción: \"the baby started to to STOP\"\n",
        "   - Predicción: \"i wish i speak speak french STOP\"\n",
        "   - Predicción: \"i s always your your your STOP\"\n",
        "   - Predicción: \"we have the night night night STOP\"\n",
        "\n",
        "   Este problema sugiere que el modelo tiene dificultades para aprender la secuencia correcta de las palabras. La repetición de palabras es un indicativo de que el modelo podría estar sobreajustándose a ciertas secuencias del conjunto de entrenamiento.\n",
        "\n",
        "2. **Omisión de palabras**:\n",
        "   - Predicción: \"i ll you STOP\"\n",
        "   - Predicción: \"let me to STOP\"\n",
        "\n",
        "   La omisión de palabras importantes puede deberse a una insuficiencia en la capacidad del modelo para captar el contexto completo de la frase o a un tamaño inadecuado del embedding o de las capas internas.\n",
        "\n",
        "3. **Errores gramaticales**:\n",
        "   - Predicción: \"i m too busy you you doing STOP\"\n",
        "   - Predicción: \"did you finished finished from the ? ? STOP\"\n",
        "\n",
        "   La presencia de errores gramaticales indica que el modelo no está capturando correctamente las reglas sintácticas del idioma de destino.\n",
        "\n",
        "### ¿Qué ocurre cuando la traducción predicha es válida pero no igual al ground truth?\n",
        "\n",
        "Cuando la traducción predicha es válida pero no igual al ground truth, esto puede deberse a varias razones:\n",
        "\n",
        "1. **Sinónimos y Parafraseo**: El modelo puede generar una traducción que usa sinónimos o parafrasea la oración original. Por ejemplo, \"i m too busy to help you do that\" vs. \"i m too busy you you doing STOP\".\n",
        "   \n",
        "2. **Orden de Palabras**: El modelo puede cambiar el orden de las palabras de una manera que todavía es gramaticalmente correcta y mantiene el mismo significado. Sin embargo, este cambio puede hacer que la predicción no coincida exactamente con el ground truth.\n",
        "\n",
        "3. **Reducción de Información**: El modelo puede omitir palabras que considera redundantes, lo que puede resultar en una traducción válida pero diferente. Por ejemplo, \"i ll you STOP\" omite partes de la frase original.\n",
        "\n",
        "### ¿Qué haría para abordar este problema?\n",
        "\n",
        "1. **Aumentar y Diversificar el Conjunto de Datos**: Entrenar el modelo con un conjunto de datos más grande y diverso puede ayudar a que aprenda una mayor variedad de sinónimos y estructuras de frases.\n",
        "\n",
        "2. **Regularización y Técnicas de Data Augmentation**: Utilizar técnicas de regularización como el dropout y técnicas de data augmentation para hacer que el modelo sea más robusto y menos propenso a sobreajustarse a ciertos patrones de datos.\n",
        "\n",
        "3. **Evaluación y Métricas**: Implementar métricas de evaluación que tengan en cuenta la semántica y no solo la coincidencia exacta de palabras. Por ejemplo, usar BLEU, ROUGE o METEOR para evaluar las traducciones.\n",
        "\n",
        "4. **Ajuste de Hiperparámetros**: Realizar un ajuste de los hiperparámetros del modelo, como el tamaño del embedding, el tamaño de las capas ocultas, y el learning rate, para mejorar la capacidad del modelo de capturar contextos más complejos.\n"
      ]
    },
    {
      "cell_type": "markdown",
      "metadata": {
        "id": "tZsbBWc3Dgkt"
      },
      "source": [
        "### P4. Visualizando Attention (0.5 pt.)\n",
        "\n",
        "Ahora visualizaremos los pesos de atención asignados entre las palabras traducidas. Para esto, les entregamos funciones para visualizar los pesos de atención entregados por su decoder a partir de una oración. Adapte el código al output de su modelo de ser necesario."
      ]
    },
    {
      "cell_type": "code",
      "execution_count": 20,
      "metadata": {
        "execution": {
          "iopub.execute_input": "2024-06-26T00:10:32.539037Z",
          "iopub.status.busy": "2024-06-26T00:10:32.538676Z",
          "iopub.status.idle": "2024-06-26T00:10:32.838758Z",
          "shell.execute_reply": "2024-06-26T00:10:32.837734Z",
          "shell.execute_reply.started": "2024-06-26T00:10:32.539010Z"
        },
        "id": "H3pGxykbEwxD",
        "trusted": true
      },
      "outputs": [],
      "source": [
        "import matplotlib.pyplot as plt\n",
        "plt.switch_backend('agg')\n",
        "import matplotlib.ticker as ticker\n",
        "import numpy as np"
      ]
    },
    {
      "cell_type": "code",
      "execution_count": 21,
      "metadata": {
        "execution": {
          "iopub.execute_input": "2024-06-26T00:11:05.014317Z",
          "iopub.status.busy": "2024-06-26T00:11:05.013508Z",
          "iopub.status.idle": "2024-06-26T00:11:05.019829Z",
          "shell.execute_reply": "2024-06-26T00:11:05.018843Z",
          "shell.execute_reply.started": "2024-06-26T00:11:05.014274Z"
        },
        "id": "enylYxmWiYQ_",
        "trusted": true
      },
      "outputs": [],
      "source": [
        "%matplotlib inline"
      ]
    },
    {
      "cell_type": "code",
      "execution_count": 40,
      "metadata": {
        "execution": {
          "iopub.execute_input": "2024-06-26T07:05:55.099763Z",
          "iopub.status.busy": "2024-06-26T07:05:55.099370Z",
          "iopub.status.idle": "2024-06-26T07:05:55.110218Z",
          "shell.execute_reply": "2024-06-26T07:05:55.109336Z",
          "shell.execute_reply.started": "2024-06-26T07:05:55.099734Z"
        },
        "id": "PEYuC0yvEg5i",
        "trusted": true
      },
      "outputs": [],
      "source": [
        "import matplotlib.pyplot as plt\n",
        "import matplotlib.ticker as ticker\n",
        "import torch\n",
        "\n",
        "# Asegúrate de que MAX_LENGTH, SOS_token, EOS_token, device, tensorFromSentence, y otras variables necesarias estén definidas\n",
        "\n",
        "def plot_attention(input_sentence, output_words, attentions):\n",
        "    fig = plt.figure()\n",
        "    ax = fig.add_subplot(111)\n",
        "    cax = ax.matshow(attentions.cpu().numpy(), cmap='bone')\n",
        "    fig.colorbar(cax)\n",
        "\n",
        "    # Set up axes\n",
        "    input_words = input_sentence.split(' ')\n",
        "    ax.set_xticks(range(len(input_words) + 1))  # +1 para el 'STOP'\n",
        "    ax.set_yticks(range(len(output_words)))\n",
        "\n",
        "    # Set the tick labels\n",
        "    #ax.set_xticklabels([''] + input_words + ['STOP'], rotation=90)\n",
        "    #ax.set_yticklabels(output_words)\n",
        "\n",
        "    # Show label at every tick\n",
        "    #ax.xaxis.set_major_locator(ticker.MultipleLocator(1))\n",
        "    #ax.yaxis.set_major_locator(ticker.MultipleLocator(1))\n",
        "\n",
        "    plt.show()\n",
        "\n",
        "def show_attention(input_sentence):\n",
        "    output_words, attentions = translate(loaded_encoder, loaded_attn_decoder, input_sentence, input_lang, output_lang)\n",
        "    print('input =', input_sentence)\n",
        "    print('output =', ' '.join(output_words))\n",
        "    plot_attention(input_sentence, output_words, attentions)\n",
        "\n",
        "def translate(encoder, decoder, sentence, input_lang, output_lang):\n",
        "    with torch.no_grad():\n",
        "        input_tensor = tensorFromSentence(input_lang, sentence)\n",
        "        input_length = input_tensor.size()[0]\n",
        "\n",
        "        encoder_hidden = encoder.initHidden()\n",
        "        encoder_outputs = torch.zeros(MAX_LENGTH, encoder.hidden_size, device=device)\n",
        "\n",
        "        for ei in range(input_length):\n",
        "            encoder_output, encoder_hidden = encoder(input_tensor[ei], encoder_hidden)\n",
        "            encoder_outputs[ei] += encoder_output[0, 0]\n",
        "\n",
        "        decoder_input = torch.tensor([[SOS_token]], device=device)  # SOS\n",
        "        decoder_hidden = encoder_hidden\n",
        "\n",
        "        decoded_words = []\n",
        "        decoder_attentions = torch.zeros(MAX_LENGTH, MAX_LENGTH)\n",
        "\n",
        "        for di in range(MAX_LENGTH):\n",
        "            decoder_output, decoder_hidden, decoder_attention = decoder(\n",
        "                decoder_input, decoder_hidden, encoder_outputs)\n",
        "            decoder_attentions[di] = decoder_attention.data\n",
        "            topv, topi = decoder_output.data.topk(1)\n",
        "            if topi.item() == EOS_token:\n",
        "                decoded_words.append('STOP')\n",
        "                break\n",
        "            else:\n",
        "                decoded_words.append(output_lang.index2word[topi.item()])\n",
        "\n",
        "            decoder_input = topi.squeeze().detach()\n",
        "\n",
        "        return decoded_words, decoder_attentions[:di + 1]\n",
        "\n",
        "\n"
      ]
    },
    {
      "cell_type": "markdown",
      "metadata": {
        "id": "x1woXuV4iYQ_"
      },
      "source": [
        "Grafique la atención de las siguientes oraciones de ejemplo. Haga lo mismo con al menos tres oraciones más que puedan ser interesantes."
      ]
    },
    {
      "cell_type": "code",
      "execution_count": 41,
      "metadata": {
        "colab": {
          "base_uri": "https://localhost:8080/",
          "height": 1000
        },
        "id": "-O4ksXh92oV3",
        "outputId": "ea7540fe-c915-4a54-9329-2427e6908c36"
      },
      "outputs": [
        {
          "name": "stdout",
          "output_type": "stream",
          "text": [
            "input = tom necesita un poco de ayuda\n",
            "output = tom needs some little help help STOP\n"
          ]
        },
        {
          "data": {
            "image/png": "[encoded data removed]",
            "text/plain": [
              "<Figure size 640x480 with 2 Axes>"
            ]
          },
          "metadata": {},
          "output_type": "display_data"
        },
        {
          "name": "stdout",
          "output_type": "stream",
          "text": [
            "input = el perro corre rápidamente\n",
            "output = the dog dog to dog STOP\n"
          ]
        },
        {
          "data": {
            "image/png": "[encoded data removed]",
            "text/plain": [
              "<Figure size 640x480 with 2 Axes>"
            ]
          },
          "metadata": {},
          "output_type": "display_data"
        },
        {
          "name": "stdout",
          "output_type": "stream",
          "text": [
            "input = el banco le ofreció un alto interés\n",
            "output = the girl gave the STOP\n"
          ]
        },
        {
          "data": {
            "image/png": "[encoded data removed]",
            "text/plain": [
              "<Figure size 640x480 with 2 Axes>"
            ]
          },
          "metadata": {},
          "output_type": "display_data"
        },
        {
          "name": "stdout",
          "output_type": "stream",
          "text": [
            "input = él toca la flauta el clarinete y el saxofón\n",
            "output = he and the the and and the the STOP\n"
          ]
        },
        {
          "data": {
            "image/png": "[encoded data removed]",
            "text/plain": [
              "<Figure size 640x480 with 2 Axes>"
            ]
          },
          "metadata": {},
          "output_type": "display_data"
        }
      ],
      "source": [
        "## Oraciones de ejemplo\n",
        "\n",
        "show_attention('tom necesita un poco de ayuda')\n",
        "\n",
        "show_attention('el perro corre rápidamente')\n",
        "\n",
        "show_attention('el banco le ofreció un alto interés')\n",
        "\n",
        "show_attention('él toca la flauta el clarinete y el saxofón')"
      ]
    },
    {
      "cell_type": "code",
      "execution_count": 49,
      "metadata": {
        "colab": {
          "base_uri": "https://localhost:8080/",
          "height": 899
        },
        "execution": {
          "iopub.execute_input": "2024-06-26T00:23:19.645525Z",
          "iopub.status.busy": "2024-06-26T00:23:19.644835Z",
          "iopub.status.idle": "2024-06-26T00:23:20.075431Z",
          "shell.execute_reply": "2024-06-26T00:23:20.074157Z",
          "shell.execute_reply.started": "2024-06-26T00:23:19.645492Z"
        },
        "id": "mGT1XA9DiYRA",
        "outputId": "72d4bf8d-1762-4073-a8bb-c61b876c508b",
        "trusted": true
      },
      "outputs": [
        {
          "name": "stdout",
          "output_type": "stream",
          "text": [
            "input = última tarea del ramo !\n",
            "output = put up the the ! ! STOP\n"
          ]
        },
        {
          "data": {
            "image/png": "[encoded data removed]",
            "text/plain": [
              "<Figure size 640x480 with 2 Axes>"
            ]
          },
          "metadata": {},
          "output_type": "display_data"
        },
        {
          "name": "stdout",
          "output_type": "stream",
          "text": [
            "input = no quiero hacer la tesis\n",
            "output = i don t want to go the the STOP\n"
          ]
        },
        {
          "data": {
            "image/png": "[encoded data removed]",
            "text/plain": [
              "<Figure size 640x480 with 2 Axes>"
            ]
          },
          "metadata": {},
          "output_type": "display_data"
        }
      ],
      "source": [
        "## Oraciones de ejemplo\n",
        "\n",
        "show_attention('última tarea del ramo !')\n",
        "\n",
        "\n",
        "show_attention('no quiero hacer la tesis')"
      ]
    },
    {
      "cell_type": "markdown",
      "metadata": {
        "id": "fiC9Yii4G3qx"
      },
      "source": [
        "Comente sus resultados. ¿Eran lo que esperaba?\n",
        "```\n",
        "Nom dado que la atecnión parece ser algo aleatoria lo que explicaria los malos resultados.\n",
        "```"
      ]
    },
    {
      "cell_type": "markdown",
      "metadata": {
        "id": "_SB5bHVl0-Vb"
      },
      "source": [
        "## Parte 2: BERT"
      ]
    },
    {
      "cell_type": "markdown",
      "metadata": {
        "id": "QE2037-D0-Vi"
      },
      "source": [
        "Lo primero es instalar las librerías necesarias."
      ]
    },
    {
      "cell_type": "code",
      "execution_count": null,
      "metadata": {
        "id": "Thzs3LeB0-Vi"
      },
      "outputs": [],
      "source": [
        "%%capture\n",
        "!pip install transformers\n",
        "from transformers import BertTokenizer, BertForNextSentencePrediction, BertForMaskedLM, BertForQuestionAnswering\n",
        "import torch"
      ]
    },
    {
      "cell_type": "markdown",
      "metadata": {
        "id": "ZRmHvb-50-Vi"
      },
      "source": [
        "Para las preguntas que siguen, utilizaremos distintas variantes de BERT disponibles en la librería transformers. [Aquí](https://huggingface.co/transformers/model_doc/bert.html) pueden encontrar toda la documentación necesaria. El modelo pre-entrenado a utilizar es \"bert-base-uncased\" (salvo para question answering)."
      ]
    },
    {
      "cell_type": "markdown",
      "metadata": {
        "id": "qeNdACs10-Vi"
      },
      "source": [
        "BERT es un modelo de lenguaje que fue entrenado exhaustivamente sobre dos tareas: 1) Next sentence prediction. 2) Masked language modeling."
      ]
    },
    {
      "cell_type": "markdown",
      "metadata": {
        "id": "HtS4ZHVW0-Vi"
      },
      "source": [
        "### **BertForNextSentencePrediction** (0.5 pt.)"
      ]
    },
    {
      "cell_type": "markdown",
      "metadata": {
        "id": "luenxKgB0-Vj"
      },
      "source": [
        "**Pregunta 1:**  Utilizando el modelo BertForNextSentencePrediction de la librería transformers, muestre cual de las 2 oraciones es **más probable** que sea una continuación de la primera. Para esto defina la función $oracion\\_mas\\_probable$, que recibe el inicio de una frase, las alternativas para continuar esta frase y retorna un string indicando cual de las dos oraciones es más probable.\n",
        "\n",
        "Por ejemplo:\n",
        "\n",
        "Initial: \"The sky is blue.\"\\\n",
        "A: \"This is due to the shorter wavelength of blue light.\"\\\n",
        "B: \"Chile is one of the world's greatest economies.\"\n",
        "\n",
        "Debería retornar \"La oración que continúa más probable es A\", justificándolo con la evaluación de BERT.\n",
        "\n"
      ]
    },
    {
      "cell_type": "code",
      "execution_count": null,
      "metadata": {
        "colab": {
          "base_uri": "https://localhost:8080/",
          "height": 336,
          "referenced_widgets": [
            "e5efadc324344055941ce2899c5cac01",
            "b89017746ceb410980a933a2cbfa7c7b",
            "70fd88c1396645e7bc7fe7f7d28fdcb8",
            "0df34598186e4e09b1aa55d0c8b79415",
            "9bf32ea1ba944a39929d6a913100cfe7",
            "11468d9d224e4c14b70b3ab7bf65b691",
            "4743dd4f60e046ab8bde0d355bf45593",
            "dd363818d3554df88120dddb9ca3470d",
            "351ccdcb040e474b98cd38429f63a4ff",
            "230137cc8ab841b98c4a907d0ec0e618",
            "3b6415d2ec01471ba1334db124d7fe5a",
            "4bbf13e8ed24417fbff84a141d0dcae5",
            "fd48463339d646c6987c6b042779fab8",
            "5e9f5355cdcd4731a03104786f9bd00f",
            "cc91d9fb5caf419ea9541ced966e0b37",
            "ac87db9bde3149fdb49332f745f95771",
            "f41ffa8ca27a461ebbdf75c102ee584b",
            "44ec6222e46e402ca46561e8771b621c",
            "066d489de0264ae6a5ddab2065d07bbd",
            "456ec8c232994540bf29c2bc4aaf0592",
            "a5d3db1e762d432b854a7b214f58d63b",
            "e81ad5c05de1481fa61564de416ec328",
            "2c109e089a27495993d2586f73e83f8d",
            "1e8f6c1517164cf6bc0c888545d306cf",
            "393a94a1f82b4776a3397e0ca75df590",
            "43206664cfe44116b6edc7f5a0f2d482",
            "c72905833bea46b4be6c2dd16569e683",
            "89c5af3573e94c83a7ce9a83130b4af0",
            "9e5cd9e7af6c476fb8a9b8bae1584b27",
            "fc5ffa99b4e240f4b122ac9157969bdf",
            "0a5d516ea4fa47a5a9c52d6c9154fca0",
            "a27f6dddddf14a78af8fcc354951d18f",
            "7f50339cab1248a8bf7fa491cc824f41",
            "bf1716458ff4440492c281977c8f287e",
            "6d387c605d824a288519f4da88a5bacb",
            "0711ad6bff074baaa982a9e8f7e3e980",
            "347bba32065d472fb137252555b7fd73",
            "5ff5f89813a04bfaa11151e603dd0549",
            "8d55adab311245eaaf9d60110897c776",
            "c6f49e82e6214bd08ed16412e5e99932",
            "8f231739c2b344f69c0dba2fdc891f16",
            "f213fbb559a841299416c567ee09c0ef",
            "8ca8d09e00fb43848e679815c1ade5a9",
            "2810b3ebc5cc4c8b87275ba476805413",
            "88e67930cc7f46fcb2d19f484925ceef",
            "edfece614ee54fe481a3aea57cf898a8",
            "373280c398704a3ab9f609cb202bdd9a",
            "1f3d98bebd574ca2a3a682726306d6b3",
            "e5f9988d001b45ec992d746459bd823b",
            "802452d3fba345b6a028b0d9b084677b",
            "aeebfd14d0594bea9d1d07b7e3aab3a7",
            "757db351ec8349ef880164962a4c1338",
            "1a0f003c7515423fae7ec3a697c6d793",
            "c80caae181d74290a53ddbe78c24c758",
            "b3564d84481548e4a0cc4fb5d4033ca8"
          ]
        },
        "id": "n6VsKtIM0-Vj",
        "outputId": "ff624044-efde-490d-e409-762cd3663636"
      },
      "outputs": [
        {
          "name": "stderr",
          "output_type": "stream",
          "text": [
            "/usr/local/lib/python3.10/dist-packages/huggingface_hub/utils/_token.py:89: UserWarning: \n",
            "The secret `HF_TOKEN` does not exist in your Colab secrets.\n",
            "To authenticate with the Hugging Face Hub, create a token in your settings tab (https://huggingface.co/settings/tokens), set it as secret in your Google Colab and restart your session.\n",
            "You will be able to reuse this secret in all of your notebooks.\n",
            "Please note that authentication is recommended but still optional to access public models or datasets.\n",
            "  warnings.warn(\n"
          ]
        },
        {
          "data": {
            "application/vnd.jupyter.widget-view+json": {
              "model_id": "e5efadc324344055941ce2899c5cac01",
              "version_major": 2,
              "version_minor": 0
            },
            "text/plain": [
              "tokenizer_config.json:   0%|          | 0.00/48.0 [00:00<?, ?B/s]"
            ]
          },
          "metadata": {},
          "output_type": "display_data"
        },
        {
          "data": {
            "application/vnd.jupyter.widget-view+json": {
              "model_id": "4bbf13e8ed24417fbff84a141d0dcae5",
              "version_major": 2,
              "version_minor": 0
            },
            "text/plain": [
              "vocab.txt:   0%|          | 0.00/232k [00:00<?, ?B/s]"
            ]
          },
          "metadata": {},
          "output_type": "display_data"
        },
        {
          "data": {
            "application/vnd.jupyter.widget-view+json": {
              "model_id": "2c109e089a27495993d2586f73e83f8d",
              "version_major": 2,
              "version_minor": 0
            },
            "text/plain": [
              "tokenizer.json:   0%|          | 0.00/466k [00:00<?, ?B/s]"
            ]
          },
          "metadata": {},
          "output_type": "display_data"
        },
        {
          "name": "stderr",
          "output_type": "stream",
          "text": [
            "/usr/local/lib/python3.10/dist-packages/huggingface_hub/file_download.py:1132: FutureWarning: `resume_download` is deprecated and will be removed in version 1.0.0. Downloads always resume when possible. If you want to force a new download, use `force_download=True`.\n",
            "  warnings.warn(\n"
          ]
        },
        {
          "data": {
            "application/vnd.jupyter.widget-view+json": {
              "model_id": "bf1716458ff4440492c281977c8f287e",
              "version_major": 2,
              "version_minor": 0
            },
            "text/plain": [
              "config.json:   0%|          | 0.00/570 [00:00<?, ?B/s]"
            ]
          },
          "metadata": {},
          "output_type": "display_data"
        },
        {
          "data": {
            "application/vnd.jupyter.widget-view+json": {
              "model_id": "88e67930cc7f46fcb2d19f484925ceef",
              "version_major": 2,
              "version_minor": 0
            },
            "text/plain": [
              "model.safetensors:   0%|          | 0.00/440M [00:00<?, ?B/s]"
            ]
          },
          "metadata": {},
          "output_type": "display_data"
        }
      ],
      "source": [
        "tokenizer = BertTokenizer.from_pretrained('bert-base-uncased')\n",
        "model = BertForNextSentencePrediction.from_pretrained('bert-base-uncased')"
      ]
    },
    {
      "cell_type": "code",
      "execution_count": null,
      "metadata": {
        "id": "RTeAu3XK0-Vj"
      },
      "outputs": [],
      "source": [
        "def oracion_mas_probable(first,sentA,sentB):\n",
        "  #Tu implementacion\n",
        "  encodingA = tokenizer(first, sentA, return_tensors='pt')\n",
        "  encodingB = tokenizer(first, sentB, return_tensors='pt')\n",
        "  outputA = model(**encodingA, labels=torch.LongTensor([1]))\n",
        "  outputB = model(**encodingB, labels=torch.LongTensor([1]))\n",
        "  logitsA = outputA.logits\n",
        "  logitsB = outputB.logits\n",
        "  print(\"logitsA:\", logitsA)\n",
        "  print(\"logitsB:\", logitsB)\n",
        "  print(\" \")\n",
        "  if logitsA[0,0] > logitsB[0,0]:\n",
        "    return \"La oración que continúa más probable es A\"\n",
        "  else:\n",
        "    return \"La oración que continúa más probable es B\"\n",
        "\n"
      ]
    },
    {
      "cell_type": "markdown",
      "metadata": {
        "id": "bNF0kFzb0-Vj"
      },
      "source": [
        "1.1)\n",
        "Initial: \"My cat is fluffy.\"\\\n",
        "A: \"My dog has a curling tail.\"\\\n",
        "B: \"A song can make or ruin a person’s day if they let it get to them.\""
      ]
    },
    {
      "cell_type": "code",
      "execution_count": null,
      "metadata": {
        "colab": {
          "base_uri": "https://localhost:8080/",
          "height": 87
        },
        "id": "c_jdEpvU0-Vj",
        "outputId": "1a47a541-53e4-4035-de7d-98d7b13e0a6d"
      },
      "outputs": [
        {
          "name": "stdout",
          "output_type": "stream",
          "text": [
            "logitsA: tensor([[ 6.3271, -6.2078]], grad_fn=<AddmmBackward0>)\n",
            "logitsB: tensor([[-1.7127,  4.2675]], grad_fn=<AddmmBackward0>)\n",
            " \n"
          ]
        },
        {
          "data": {
            "application/vnd.google.colaboratory.intrinsic+json": {
              "type": "string"
            },
            "text/plain": [
              "'La oración que continúa más probable es A'"
            ]
          },
          "execution_count": 15,
          "metadata": {},
          "output_type": "execute_result"
        }
      ],
      "source": [
        "first = \"My cat is fluffy.\"\n",
        "sentA = \"My dog has a curling tail.\"\n",
        "sentB = \"A song can make or ruin a person’s day if they let it get to them.\"\n",
        "oracion_mas_probable(first,sentA,sentB)"
      ]
    },
    {
      "cell_type": "markdown",
      "metadata": {
        "id": "nL6H3A75NGxz"
      },
      "source": [
        "En este caso es más probable la oración A dado que su probabilidad de ser una predicción correcta es mayor que que la de la oración B"
      ]
    },
    {
      "cell_type": "markdown",
      "metadata": {
        "id": "9hH3z2uB0-Vk"
      },
      "source": [
        "1.2)\n",
        "Initial: \"The Big Apple is famous worldwide.\"\\\n",
        "A: \"You can add cinnamon for the perfect combination.\"\\\n",
        "B: \"It is America's largest city.\""
      ]
    },
    {
      "cell_type": "code",
      "execution_count": null,
      "metadata": {
        "colab": {
          "base_uri": "https://localhost:8080/",
          "height": 87
        },
        "id": "N70gOyUa0-Vk",
        "outputId": "00475e00-6202-44ab-a021-21411748d78c"
      },
      "outputs": [
        {
          "name": "stdout",
          "output_type": "stream",
          "text": [
            "logitsA: tensor([[ 5.8512, -5.3675]], grad_fn=<AddmmBackward0>)\n",
            "logitsB: tensor([[ 5.9583, -5.5298]], grad_fn=<AddmmBackward0>)\n",
            " \n"
          ]
        },
        {
          "data": {
            "application/vnd.google.colaboratory.intrinsic+json": {
              "type": "string"
            },
            "text/plain": [
              "'La oración que continúa más probable es B'"
            ]
          },
          "execution_count": 16,
          "metadata": {},
          "output_type": "execute_result"
        }
      ],
      "source": [
        "first = \"The Big Apple is famous worldwide.\"\n",
        "sentA = \"You can add cinnamon for the perfect combination.\"\n",
        "sentB = \"It is America's largest city.\"\n",
        "oracion_mas_probable(first,sentA,sentB)"
      ]
    },
    {
      "cell_type": "markdown",
      "metadata": {
        "id": "h3kf6yKvNXbv"
      },
      "source": [
        "En este caso es más probable la oración B dado que su probabilidad de ser una predicción correcta es mayor que que la de la oración A. Sin embargo, ambas probabilidades del Logit de la posición 0 son mayores que las de su posición 1 respectiva. por lo cual ambas oraciones son aceptables para ser la siguiente oración.\n",
        "\n",
        "Cabe destacar además que ambas oraciones tiene una probabilidad de ser correcta bastante similar."
      ]
    },
    {
      "cell_type": "markdown",
      "metadata": {
        "id": "ah1oJ0Zu0-Vk"
      },
      "source": [
        "1.3)\n",
        "Initial: \"Roses are red.\"\\\n",
        "A: \"Violets are blue.\"\\\n",
        "B: \"Fertilize them regularly for impressive flowers.\""
      ]
    },
    {
      "cell_type": "code",
      "execution_count": null,
      "metadata": {
        "colab": {
          "base_uri": "https://localhost:8080/",
          "height": 87
        },
        "id": "L9dNDbQz0-Vk",
        "outputId": "f746b4a6-b457-4557-dad6-d4753575005b"
      },
      "outputs": [
        {
          "name": "stdout",
          "output_type": "stream",
          "text": [
            "logitsA: tensor([[ 6.2807, -6.0811]], grad_fn=<AddmmBackward0>)\n",
            "logitsB: tensor([[ 6.1220, -5.6894]], grad_fn=<AddmmBackward0>)\n",
            " \n"
          ]
        },
        {
          "data": {
            "application/vnd.google.colaboratory.intrinsic+json": {
              "type": "string"
            },
            "text/plain": [
              "'La oración que continúa más probable es A'"
            ]
          },
          "execution_count": 19,
          "metadata": {},
          "output_type": "execute_result"
        }
      ],
      "source": [
        "first = \"Roses are red.\"\n",
        "sentA = \"Violets are blue.\"\n",
        "sentB = \"Fertilize them regularly for impressive flowers.\"\n",
        "oracion_mas_probable(first,sentA,sentB)"
      ]
    },
    {
      "cell_type": "markdown",
      "metadata": {
        "id": "EMOz_5p_OSxy"
      },
      "source": [
        "Al igual que el caso anterior, ambas oraciones son plausibles, siendo la oración A ligeramente más \"correcta\" como siguiente oración."
      ]
    },
    {
      "cell_type": "markdown",
      "metadata": {
        "id": "jTWYagt50-Vk"
      },
      "source": [
        "1.4)\n",
        "Initial: \"I play videogames the whole day.\"\\\n",
        "A: \"They make me happy.\"\\\n",
        "B: \"They make me rage.\"\\"
      ]
    },
    {
      "cell_type": "code",
      "execution_count": null,
      "metadata": {
        "colab": {
          "base_uri": "https://localhost:8080/",
          "height": 87
        },
        "id": "vjp_DYwH0-Vk",
        "outputId": "0f3d9e7b-401d-4c5c-f734-d962f124c0a0"
      },
      "outputs": [
        {
          "name": "stdout",
          "output_type": "stream",
          "text": [
            "logitsA: tensor([[ 6.0170, -5.5856]], grad_fn=<AddmmBackward0>)\n",
            "logitsB: tensor([[ 5.8640, -5.3698]], grad_fn=<AddmmBackward0>)\n",
            " \n"
          ]
        },
        {
          "data": {
            "application/vnd.google.colaboratory.intrinsic+json": {
              "type": "string"
            },
            "text/plain": [
              "'La oración que continúa más probable es A'"
            ]
          },
          "execution_count": 20,
          "metadata": {},
          "output_type": "execute_result"
        }
      ],
      "source": [
        "first = \"I play videogames the whole day.\"\n",
        "sentA = \"They make me happy.\"\n",
        "sentB = \"They make me rage.\"\n",
        "oracion_mas_probable(first,sentA,sentB)"
      ]
    },
    {
      "cell_type": "markdown",
      "metadata": {
        "id": "xLkRoaFqOl9_"
      },
      "source": [
        "Al igual que el caso anterior, ambas oraciones son plausibles, siendo la oración A ligeramente más \"correcta\" como siguiente oración."
      ]
    },
    {
      "cell_type": "markdown",
      "metadata": {
        "id": "rREqwfzV0-Vl"
      },
      "source": [
        "### **BertForMaskedLM** (0.5 pt.)"
      ]
    },
    {
      "cell_type": "markdown",
      "metadata": {
        "id": "r_Nl18to0-Vl"
      },
      "source": [
        "**Pregunta 2:**  Ahora utilizaremos BertForMaskedLM para **predecir una palabra oculta** en una oración.\\\n",
        "Por ejemplo:\\\n",
        "BERT input: \"I want to _ a new car.\"\\\n",
        "BERT prediction: \"buy\""
      ]
    },
    {
      "cell_type": "code",
      "execution_count": null,
      "metadata": {
        "id": "iZjPNirh0-Vl"
      },
      "outputs": [],
      "source": [
        "tokenizer = BertTokenizer.from_pretrained('bert-base-uncased')\n",
        "model = BertForMaskedLM.from_pretrained('bert-base-uncased')"
      ]
    },
    {
      "cell_type": "code",
      "execution_count": null,
      "metadata": {
        "id": "TCPUQP_-0-Vl"
      },
      "outputs": [],
      "source": [
        "def palabra_mas_probable(sentence):\n",
        "  #Tu implementacion\n",
        "  tokenized_text = tokenizer.tokenize(sentence)\n",
        "  masked_index = tokenized_text.index('[MASK]')\n",
        "  indexed_tokens = tokenizer.convert_tokens_to_ids(tokenized_text)\n",
        "  tokens_tensor = torch.tensor([indexed_tokens])\n",
        "\n",
        "  with torch.no_grad():\n",
        "    outputs = model(tokens_tensor)\n",
        "    predictions = outputs.logits\n",
        "\n",
        "\n",
        "  predicted_index = torch.argmax(predictions[0, masked_index]).item()\n",
        "\n",
        "  predicted_token = tokenizer.convert_ids_to_tokens([predicted_index])[0]\n",
        "  return predicted_token"
      ]
    },
    {
      "cell_type": "markdown",
      "metadata": {
        "id": "10QBZg9t0-Vl"
      },
      "source": [
        "2.1)\n",
        "BERT input: \"[CLS] I love [MASK] . [SEP]\""
      ]
    },
    {
      "cell_type": "code",
      "execution_count": null,
      "metadata": {
        "colab": {
          "base_uri": "https://localhost:8080/",
          "height": 35
        },
        "id": "J93ovnkW0-Vl",
        "outputId": "a233db56-7b80-473b-f71a-fcc175fd29c9"
      },
      "outputs": [
        {
          "data": {
            "application/vnd.google.colaboratory.intrinsic+json": {
              "type": "string"
            },
            "text/plain": [
              "'you'"
            ]
          },
          "execution_count": 27,
          "metadata": {},
          "output_type": "execute_result"
        }
      ],
      "source": [
        "sent = \"[CLS] I love [MASK] . [SEP]\"\n",
        "palabra_mas_probable(sent)"
      ]
    },
    {
      "cell_type": "markdown",
      "metadata": {
        "id": "UlXLr43h0-Vl"
      },
      "source": [
        "2.2)\n",
        "BERT input: \"[CLS] I hear that Karen is very [MASK] . [SEP]\""
      ]
    },
    {
      "cell_type": "code",
      "execution_count": null,
      "metadata": {
        "colab": {
          "base_uri": "https://localhost:8080/",
          "height": 35
        },
        "id": "1PH4mA0t0-Vm",
        "outputId": "692aff67-b20d-4af2-d6c0-00b750130ed2"
      },
      "outputs": [
        {
          "data": {
            "application/vnd.google.colaboratory.intrinsic+json": {
              "type": "string"
            },
            "text/plain": [
              "'upset'"
            ]
          },
          "execution_count": 28,
          "metadata": {},
          "output_type": "execute_result"
        }
      ],
      "source": [
        "sent = \"[CLS] I heard that Karen is very [MASK] . [SEP]\"\n",
        "palabra_mas_probable(sent)"
      ]
    },
    {
      "cell_type": "markdown",
      "metadata": {
        "id": "i3akbSIH0-Vm"
      },
      "source": [
        "2.3)\n",
        "BERT input: \"[CLS] She had the gift of being able to [MASK] . [SEP]\""
      ]
    },
    {
      "cell_type": "code",
      "execution_count": null,
      "metadata": {
        "colab": {
          "base_uri": "https://localhost:8080/",
          "height": 35
        },
        "id": "4FKlrVUb0-Vm",
        "outputId": "f55fcf21-d58f-4377-aee8-207c883cbc08"
      },
      "outputs": [
        {
          "data": {
            "application/vnd.google.colaboratory.intrinsic+json": {
              "type": "string"
            },
            "text/plain": [
              "'fly'"
            ]
          },
          "execution_count": 29,
          "metadata": {},
          "output_type": "execute_result"
        }
      ],
      "source": [
        "sent = \"[CLS] She had the gift of being able to [MASK] . [SEP]\"\n",
        "palabra_mas_probable(sent)"
      ]
    },
    {
      "cell_type": "markdown",
      "metadata": {
        "id": "gnDL43fe0-Vm"
      },
      "source": [
        "2.4)\n",
        "BERT input: \"[CLS] It's not often you find a [MASK] on the street. [SEP]\""
      ]
    },
    {
      "cell_type": "code",
      "execution_count": null,
      "metadata": {
        "colab": {
          "base_uri": "https://localhost:8080/",
          "height": 35
        },
        "id": "1exXKHKV0-Vm",
        "outputId": "de59ff38-aa22-4280-9301-16e3439a27fc"
      },
      "outputs": [
        {
          "data": {
            "application/vnd.google.colaboratory.intrinsic+json": {
              "type": "string"
            },
            "text/plain": [
              "'expert'"
            ]
          },
          "execution_count": 30,
          "metadata": {},
          "output_type": "execute_result"
        }
      ],
      "source": [
        "sent = \"[CLS] It's not often you find an [MASK] on the circus . [SEP]\"\n",
        "palabra_mas_probable(sent)"
      ]
    },
    {
      "cell_type": "markdown",
      "metadata": {
        "id": "i1RbaOTQ0-Vn"
      },
      "source": [
        "### **BertForQuestionAnswering** (0.5 pt.)"
      ]
    },
    {
      "cell_type": "markdown",
      "metadata": {
        "id": "bCSIWusS0-Vn"
      },
      "source": [
        "**Pregunta 3**  Utilizando el modelo BertForQuestionAnswering pre-entrenado con 'bert-large-uncased-whole-word-masking-finetuned-squad', **extraiga la respuesta** a cada una de las siguientes 4 preguntas y su contexto. Recuerde cambiar el tokenizer para que coincida con el modelo."
      ]
    },
    {
      "cell_type": "code",
      "execution_count": null,
      "metadata": {
        "colab": {
          "base_uri": "https://localhost:8080/",
          "height": 232,
          "referenced_widgets": [
            "561d9a7afca84535911e1f957b75c7c4",
            "94f3d7422f7543b5add72c46016c498b",
            "d36a38caca0e42cb98575eb1a9d6f72e",
            "0ad76e9babf64624a76a1befa46fd3d1",
            "c9e85cf8051042118f630b037468e6c5",
            "978af4914154493aa52710dcf91fd08d",
            "e0be8410f7bc4078aa106901680c73b8",
            "295263c7448b40d096fce01b9490f4d0",
            "cf4c3c2b7b7b4b1cb2fb11cc2c7473c6",
            "6ea28411947b4882b822df66bfc98b7b",
            "5eb977d0a068460c8c91d92ca9aed167",
            "4e9c02a3f8374956b436a8f23ca6a192",
            "73caa3f4fa32433d8ff86d4305ed8746",
            "0bd8d9ee060945c097a9940a12f5a90b",
            "56e33d276cf9480182ff52b483359bd2",
            "37904c25293c4527a1e5eedb027feced",
            "b1e09ba23ee943a3a8e050cbcfdb4fda",
            "6c46994dbd8e4718acf20f7f308f5b1c",
            "2f901dc61315464aaba80c989f3826bc",
            "4a5e7c88324d467a99beab0da385902b",
            "83f31059bcee4ed9bbcf9c012b57b74a",
            "cdde45698f984e8ab86904b2fa183e27",
            "295e07a6cad1462ebe8eb76aad413611",
            "55e13c8f904a43568778004c0447f683",
            "8053143184f743c4aeac6577d8ed51b9",
            "c0fc87c0bd4d467680879a19b4b5cd23",
            "c7caada622f94eb1bdec8b156a2ded85",
            "85871b93cd444472961ed0e2a27fd0a3",
            "5de0c3b998ea4611a2466f5869cec4f9",
            "a64de678c4fd4865af69f53df6cebded",
            "ebfe40f63af84a57b49497f28dfa4c92",
            "4b86a8d3d9824e63b3e40d8db9403bc9",
            "29a6b17934c84e9cbd4176de82ca803f",
            "601029736e774edf9c342db5c1e2efe0",
            "9ca6f2c69360406eadb07e453cac4504",
            "49e3c3d6227f41ef83292ac8da2873e2",
            "544720d7cc124ca9a0721752b970bdff",
            "03c178f3642143768ca900b43918940f",
            "257f0defb4a84415814abec0504c6558",
            "af66a1c53bbe4ebf835800a1c0c70ae7",
            "eb0bcb2cf4754d4ead54aaca08269d36",
            "ae443c43b88948cd89387aee5295a1c4",
            "6224cf26d6b1449393358958ea8e116c",
            "ced986e284f44e9d841907e97cac33eb",
            "185e26f924e24edd8e16592c89066871",
            "4dfd15a369d146e8868c97dc41a76a31",
            "758e9d97fbb14d57a296e03681a7c05d",
            "efac8fbb5bde44ba9d6b705864a630f2",
            "7e5ff083df8b4d7b9d23f474bc98e221",
            "12be4c7bb0fc428e84d0800125eb9ce9",
            "038f37063ba64b72a9171c6518a850b3",
            "58ee366159584f8cb7ccb73df485ce1f",
            "ea69df7c54ab482eade972ef5734a248",
            "c035406fadba46ca9566caf9429a8a07",
            "cfed0c05da024d9b903e8fbfb1023feb"
          ]
        },
        "id": "xnZAIYpW0-Vn",
        "outputId": "7f350dfe-c927-4d07-e55d-cdd5ca480b5e"
      },
      "outputs": [
        {
          "data": {
            "application/vnd.jupyter.widget-view+json": {
              "model_id": "561d9a7afca84535911e1f957b75c7c4",
              "version_major": 2,
              "version_minor": 0
            },
            "text/plain": [
              "tokenizer_config.json:   0%|          | 0.00/48.0 [00:00<?, ?B/s]"
            ]
          },
          "metadata": {},
          "output_type": "display_data"
        },
        {
          "data": {
            "application/vnd.jupyter.widget-view+json": {
              "model_id": "4e9c02a3f8374956b436a8f23ca6a192",
              "version_major": 2,
              "version_minor": 0
            },
            "text/plain": [
              "vocab.txt:   0%|          | 0.00/232k [00:00<?, ?B/s]"
            ]
          },
          "metadata": {},
          "output_type": "display_data"
        },
        {
          "data": {
            "application/vnd.jupyter.widget-view+json": {
              "model_id": "295e07a6cad1462ebe8eb76aad413611",
              "version_major": 2,
              "version_minor": 0
            },
            "text/plain": [
              "tokenizer.json:   0%|          | 0.00/466k [00:00<?, ?B/s]"
            ]
          },
          "metadata": {},
          "output_type": "display_data"
        },
        {
          "name": "stderr",
          "output_type": "stream",
          "text": [
            "/usr/local/lib/python3.10/dist-packages/huggingface_hub/file_download.py:1132: FutureWarning: `resume_download` is deprecated and will be removed in version 1.0.0. Downloads always resume when possible. If you want to force a new download, use `force_download=True`.\n",
            "  warnings.warn(\n"
          ]
        },
        {
          "data": {
            "application/vnd.jupyter.widget-view+json": {
              "model_id": "601029736e774edf9c342db5c1e2efe0",
              "version_major": 2,
              "version_minor": 0
            },
            "text/plain": [
              "config.json:   0%|          | 0.00/443 [00:00<?, ?B/s]"
            ]
          },
          "metadata": {},
          "output_type": "display_data"
        },
        {
          "data": {
            "application/vnd.jupyter.widget-view+json": {
              "model_id": "185e26f924e24edd8e16592c89066871",
              "version_major": 2,
              "version_minor": 0
            },
            "text/plain": [
              "model.safetensors:   0%|          | 0.00/1.34G [00:00<?, ?B/s]"
            ]
          },
          "metadata": {},
          "output_type": "display_data"
        }
      ],
      "source": [
        "tokenizer = BertTokenizer.from_pretrained('bert-large-uncased-whole-word-masking-finetuned-squad')\n",
        "model = BertForQuestionAnswering.from_pretrained('bert-large-uncased-whole-word-masking-finetuned-squad')"
      ]
    },
    {
      "cell_type": "code",
      "execution_count": null,
      "metadata": {
        "id": "rkWErWGG0-Vn"
      },
      "outputs": [],
      "source": [
        "def entregar_respuesta(qst, cntxt):\n",
        "  #Tu implementacion\n",
        "  inputs = tokenizer(qst, cntxt, return_tensors='pt')\n",
        "  start_positions = torch.tensor([1])\n",
        "  end_positions = torch.tensor([3])\n",
        "\n",
        "  outputs = model(**inputs, start_positions=start_positions, end_positions=end_positions)\n",
        "  start_scores = outputs.start_logits\n",
        "  end_scores = outputs.end_logits\n",
        "\n",
        "  start_index = torch.argmax(start_scores)\n",
        "  end_index = torch.argmax(end_scores) + 1\n",
        "\n",
        "  input_ids = inputs['input_ids'][0]\n",
        "  answer_tokens = tokenizer.convert_ids_to_tokens(input_ids[start_index:end_index])\n",
        "  answer = tokenizer.convert_tokens_to_string(answer_tokens)\n",
        "\n",
        "\n",
        "  return answer"
      ]
    },
    {
      "cell_type": "markdown",
      "metadata": {
        "id": "CIyKkD8a0-Vn"
      },
      "source": [
        "3.1)\n",
        "\n",
        "Pregunta: \"When was the Battle of Iquique?\"\n",
        "\n",
        "Contexto: \"The Battle of Iquique was a naval engagement that occurred between a Chilean corvette under the command of Arturo Prat and a Peruvian ironclad under the command of Miguel Grau Seminario on 21 May 1879, during the naval stage of the War of the Pacific, and resulted in a Peruvian victory.\""
      ]
    },
    {
      "cell_type": "code",
      "execution_count": null,
      "metadata": {
        "colab": {
          "base_uri": "https://localhost:8080/",
          "height": 35
        },
        "id": "kMahMKgi0-Vn",
        "outputId": "284db750-25cf-40da-b683-a49b42869f0b"
      },
      "outputs": [
        {
          "data": {
            "application/vnd.google.colaboratory.intrinsic+json": {
              "type": "string"
            },
            "text/plain": [
              "'21 may 1879'"
            ]
          },
          "execution_count": 33,
          "metadata": {},
          "output_type": "execute_result"
        }
      ],
      "source": [
        "q = \"When was the Battle of Iquique?\"\n",
        "c = \"The Battle of Iquique was a naval engagement that occurred between a Chilean corvette under the command of Arturo Prat and a Peruvian ironclad under the command of Miguel Grau Seminario on 21 May 1879, during the naval stage of the War of the Pacific, and resulted in a Peruvian victory.\"\n",
        "entregar_respuesta(q, c)"
      ]
    },
    {
      "cell_type": "markdown",
      "metadata": {
        "id": "mID1Lrzt0-Vn"
      },
      "source": [
        "3.2)\n",
        "\n",
        "Pregunta: \"Who won the Battle of Iquique?\"\n",
        "\n",
        "Contexto: \"The Battle of Iquique was a naval engagement that occurred between a Chilean corvette under the command of Arturo Prat and a Peruvian ironclad under the command of Miguel Grau Seminario on 21 May 1879, during the naval stage of the War of the Pacific, and resulted in a Peruvian victory.\""
      ]
    },
    {
      "cell_type": "code",
      "execution_count": null,
      "metadata": {
        "colab": {
          "base_uri": "https://localhost:8080/",
          "height": 35
        },
        "id": "qHOw2Zyv0-Vn",
        "outputId": "ce2068a5-153a-47df-9b6b-26bfdc864c1e"
      },
      "outputs": [
        {
          "data": {
            "application/vnd.google.colaboratory.intrinsic+json": {
              "type": "string"
            },
            "text/plain": [
              "'peruvian'"
            ]
          },
          "execution_count": 34,
          "metadata": {},
          "output_type": "execute_result"
        }
      ],
      "source": [
        "q = \"Who won the Battle of Iquique?\"\n",
        "c = \"The Battle of Iquique was a naval engagement that occurred between a Chilean corvette under the command of Arturo Prat and a Peruvian ironclad under the command of Miguel Grau Seminario on 21 May 1879, during the naval stage of the War of the Pacific, and resulted in a Peruvian victory.\"\n",
        "entregar_respuesta(q, c)"
      ]
    },
    {
      "cell_type": "markdown",
      "metadata": {
        "id": "vxu6d2Ui0-Vo"
      },
      "source": [
        "3.3)\n",
        "\n",
        "Pregunta: \"Who introduced peephole connections to LSTM networks?\"\n",
        "Contexto: \"What I’ve described so far is a pretty normal LSTM. But not all LSTMs are the same as the above. In fact, it seems like almost every paper involving LSTMs uses a slightly different version. The differences are minor, but it’s worth mentioning some of them. One popular LSTM variant, introduced by Gers & Schmidhuber (2000), is adding “peephole connections.” This means that we let the gate layers look at the cell state.\""
      ]
    },
    {
      "cell_type": "code",
      "execution_count": null,
      "metadata": {
        "colab": {
          "base_uri": "https://localhost:8080/",
          "height": 35
        },
        "id": "JRWzcUg80-Vo",
        "outputId": "781b37c3-6796-4889-fe84-96ab54c79adf"
      },
      "outputs": [
        {
          "data": {
            "application/vnd.google.colaboratory.intrinsic+json": {
              "type": "string"
            },
            "text/plain": [
              "'gers & schmidhuber'"
            ]
          },
          "execution_count": 35,
          "metadata": {},
          "output_type": "execute_result"
        }
      ],
      "source": [
        "q = \"Who introduced peephole connections to LSTM networks?\"\n",
        "c = \"What I’ve described so far is a pretty normal LSTM. But not all LSTMs are the same as the above. In fact, it seems like almost every paper involving LSTMs uses a slightly different version. The differences are minor, but it’s worth mentioning some of them. One popular LSTM variant, introduced by Gers & Schmidhuber (2000), is adding “peephole connections.” This means that we let the gate layers look at the cell state.\"\n",
        "entregar_respuesta(q, c)"
      ]
    },
    {
      "cell_type": "markdown",
      "metadata": {
        "id": "uCxx1qQ_0-Vo"
      },
      "source": [
        "3.4)\n",
        "\n",
        "Pregunta: \"When is the cat most active?\"\n",
        "\n",
        "Contexto: \"The cat is similar in anatomy to the other felid species: it has a strong flexible body, quick reflexes, sharp teeth and retractable claws adapted to killing small prey. Its night vision and sense of smell are well developed. Cat communication includes vocalizations like meowing, purring, trilling, hissing, growling and grunting as well as cat-specific body language. It is a solitary hunter but a social species. It can hear sounds too faint or too high in frequency for human ears, such as those made by mice and other small mammals. It is a predator that is most active at dawn and dusk. It secretes and perceives pheromones.\""
      ]
    },
    {
      "cell_type": "code",
      "execution_count": null,
      "metadata": {
        "colab": {
          "base_uri": "https://localhost:8080/",
          "height": 35
        },
        "id": "cA3uIb5B0-Vo",
        "outputId": "2b1ee3fb-9c4b-4da7-8dc1-e9c5d900250d"
      },
      "outputs": [
        {
          "data": {
            "application/vnd.google.colaboratory.intrinsic+json": {
              "type": "string"
            },
            "text/plain": [
              "'dawn and dusk'"
            ]
          },
          "execution_count": 36,
          "metadata": {},
          "output_type": "execute_result"
        }
      ],
      "source": [
        "q = \"When is the cat most active?\"\n",
        "c = \"The cat is similar in anatomy to the other felid species: it has a strong flexible body, quick reflexes, sharp teeth and retractable claws adapted to killing small prey. Its night vision and sense of smell are well developed. Cat communication includes vocalizations like meowing, purring, trilling, hissing, growling and grunting as well as cat-specific body language. It is a solitary hunter but a social species. It can hear sounds too faint or too high in frequency for human ears, such as those made by mice and other small mammals. It is a predator that is most active at dawn and dusk. It secretes and perceives pheromones.\"\n",
        "entregar_respuesta(q, c)"
      ]
    }
  ],
  "metadata": {
    "accelerator": "GPU",
    "colab": {
      "collapsed_sections": [
        "XPhb8wuSpBZG",
        "2D1Kaw_D8jmN"
      ],
      "gpuType": "T4",
      "provenance": []
    },
    "kaggle": {
      "accelerator": "nvidiaTeslaT4",
      "dataSources": [],
      "dockerImageVersionId": 30733,
      "isGpuEnabled": true,
      "isInternetEnabled": true,
      "language": "python",
      "sourceType": "notebook"
    },
    "kernelspec": {
      "display_name": "Python 3",
      "name": "python3"
    },
    "language_info": {
      "codemirror_mode": {
        "name": "ipython",
        "version": 3
      },
      "file_extension": ".py",
      "mimetype": "text/x-python",
      "name": "python",
      "nbconvert_exporter": "python",
      "pygments_lexer": "ipython3",
      "version": "3.10.13"
    },
    "widgets": {
      "application/vnd.jupyter.widget-state+json": {}
    }
  },
  "nbformat": 4,
  "nbformat_minor": 0
}
