{
  "nbformat": 4,
  "nbformat_minor": 0,
  "metadata": {
    "colab": {
      "provenance": [],
      "gpuType": "T4",
      "toc_visible": true,
      "collapsed_sections": [
        "FmC5SqOZfv1m",
        "IxYRIr-Ob010"
      ]
    },
    "kernelspec": {
      "name": "python3",
      "display_name": "Python 3"
    },
    "language_info": {
      "name": "python"
    },
    "accelerator": "GPU"
  },
  "cells": [
    {
      "cell_type": "markdown",
      "source": [
        "# Tarea 2: Naive Bayes, Linear Models y Neural Networks\n",
        "**Procesamiento de Lenguaje Natural (CC6205-1 - Otoño 2024)**"
      ],
      "metadata": {
        "id": "AxrkZWMLZB8z"
      }
    },
    {
      "cell_type": "markdown",
      "source": [
        "## Tarjeta de identificación\n",
        "\n",
        "**Nombres:**\n",
        "\n",
        "```- Ignacio Albornoz```\n",
        "\n",
        "```- Eduardo Silva```\n",
        "\n",
        "**Fecha límite de entrega 📆:** 30/04.\n",
        "\n",
        "**Tiempo estimado de dedicación:** 4 horas\n"
      ],
      "metadata": {
        "id": "b97b4IJjZGxM"
      }
    },
    {
      "cell_type": "markdown",
      "source": [
        "## Instrucciones\n",
        "Bienvenid@s a la segunda tarea en el curso de Natural Language Processing (NLP). Esta tarea tiene como objetivo evaluar los contenidos teóricos de las últimas semanas de clases posteriores a la tarea 1, enfocado principalmente en **Naive Bayes**, **Linear Models** y **Neural Networks**. Si aún no has visto las clases, se recomienda visitar los links de las referencias.\n",
        "\n",
        "La tarea consta de una una parte práctica con el fín de introducirlos a la programación en Python enfocada en NLP.\n",
        "\n",
        "* La tarea es en **grupo** (maximo hasta 3 personas).\n",
        "* La entrega es a través de u-cursos a más tardar el día estipulado arriba. No se aceptan atrasos.\n",
        "* El formato de entrega es este mismo Jupyter Notebook.\n",
        "* Al momento de la revisión su código será ejecutado. Por favor verifiquen que su entrega no tenga errores de compilación.\n",
        "* Completar la tarjeta de identificación. Sin ella no podrá tener nota.\n",
        "\n",
        "> **Importante:** Esta tarea tiene varios resultados experimentales que pueden variar de acuerdo a sus propias implementaciones. No se busca que los resultados sean exactamente los mismos (por ejemplo, que el accuracy fue el mismo que el que esta en la tarea). Lo importante es que implementen sus funciones, las sepan explicar y que puedan hacer varios experimentos."
      ],
      "metadata": {
        "id": "TKcZMFlmZ3b9"
      }
    },
    {
      "cell_type": "markdown",
      "source": [
        "## Material de referencia\n",
        "\n",
        "Diapositivas del curso 📄\n",
        "    \n",
        "- [Naive Bayes](https://github.com/dccuchile/CC6205/blob/master/slides/NLP-NB.pdf)\n",
        "- [Linear Models](https://github.com/dccuchile/CC6205/blob/master/slides/NLP-linear.pdf)\n",
        "- [Neural Networks](https://github.com/dccuchile/CC6205/blob/master/slides/NLP-neural.pdf)\n",
        "\n",
        "Videos del curso 📺\n",
        "\n",
        "- Naive Bayes: [Parte 1](https://www.youtube.com/watch?v=kG9BK9Oy1hU), [Parte 2](https://www.youtube.com/watch?v=Iqte5kKHvzE), [Parte 3](https://www.youtube.com/watch?v=TSJg0_X3Abk)\n",
        "\n",
        "- Linear Models: [Parte 1](https://www.youtube.com/watch?v=zhBxDsNLZEA), [Parte 2](https://www.youtube.com/watch?v=Fooua_uaWSE), [Parte 3](https://www.youtube.com/watch?v=DqbzhdQa1eQ), [Parte 4](https://www.youtube.com/watch?v=1nfWWXqfAzA)\n",
        "\n",
        "- Neural Networks: [Parte 1](https://www.youtube.com/watch?v=oHZHA8h2xN0), [Parte 2](https://www.youtube.com/watch?v=2lXank0W6G4), [Parte 3](https://www.youtube.com/watch?v=BUDIi9qItzY), [Parte 4](https://www.youtube.com/watch?v=KKN2Ipy-vGk)\n"
      ],
      "metadata": {
        "id": "dnTrhOKraAw2"
      }
    },
    {
      "cell_type": "markdown",
      "source": [
        "## P0. Cargar un dataset"
      ],
      "metadata": {
        "id": "FmC5SqOZfv1m"
      }
    },
    {
      "cell_type": "markdown",
      "source": [
        "Importamos algunas librerias que seran utiles."
      ],
      "metadata": {
        "id": "ldJFqRlCYSa-"
      }
    },
    {
      "cell_type": "code",
      "source": [
        "import pandas as pd\n",
        "from collections import namedtuple\n",
        "\n",
        "import nltk\n",
        "nltk.download('punkt')\n",
        "from nltk.tokenize import word_tokenize"
      ],
      "metadata": {
        "id": "QytPBlbvhsU6",
        "colab": {
          "base_uri": "https://localhost:8080/"
        },
        "outputId": "f7040572-58a6-40e6-fa58-5d159b94e086"
      },
      "execution_count": 1,
      "outputs": [
        {
          "output_type": "stream",
          "name": "stderr",
          "text": [
            "[nltk_data] Downloading package punkt to /root/nltk_data...\n",
            "[nltk_data]   Unzipping tokenizers/punkt.zip.\n"
          ]
        }
      ]
    },
    {
      "cell_type": "markdown",
      "source": [
        "Inicializamos el dataset con particiones de entrenamiento y test. Es un dataset de clasificacion multi-clase de oraciones. Cada oracion puede tener una unica etiqueta ?, + o -. Donde ? indica que la oracion es una pregunta, - que la oracion es negativa y + positiva."
      ],
      "metadata": {
        "id": "NN-mzGtAYVu-"
      }
    },
    {
      "cell_type": "code",
      "source": [
        "document = namedtuple(\n",
        "    \"document\", (\"words\", \"class_\")  # avoid python's keyword collision\n",
        ")\n",
        "\n",
        "raw_train_set = [\n",
        "              ['Do you have plenty of time?', '?'],\n",
        "              ['Does she have enough money?','?'],\n",
        "              ['Did they have any useful advice?','?'],\n",
        "              ['What day is today?','?'],\n",
        "              [\"I don't have much time\",'-'],\n",
        "              [\"She doesn't have any money\",'-'],\n",
        "              [\"They didn't have any advice to offer\",'-'],\n",
        "              ['Have you plenty of time?','?'],\n",
        "              ['Has she enough money?','?'],\n",
        "              ['Had they any useful advice?','?'],\n",
        "              [\"I haven't much time\",'-'],\n",
        "              [\"She hasn't any money\",'-'],\n",
        "              [\"He hadn't any advice to offer\",'-'],\n",
        "              ['How are you?','?'],\n",
        "              ['How do you make questions in English?','?'],\n",
        "              ['How long have you lived here?','?'],\n",
        "              ['How often do you go to the cinema?','?'],\n",
        "              ['How much is this dress?','?'],\n",
        "              ['How old are you?','?'],\n",
        "              ['How many people came to the meeting?','?'],\n",
        "              ['I’m from France','+'],\n",
        "              ['I come from the UK','+'],\n",
        "              ['My phone number is 61709832145','+'],\n",
        "              ['I work as a tour guide for a local tour company','+'],\n",
        "              ['I’m not dating anyone','-'],\n",
        "              ['I live with my wife and children','+'],\n",
        "              ['I often do morning exercises at 6am','+'],\n",
        "              ['I run everyday','+'],\n",
        "              ['She walks very slowly','+'],\n",
        "              ['They eat a lot of meat daily','+'],\n",
        "              ['We were in France that day', '+'],\n",
        "              ['He speaks very fast', '+'],\n",
        "              ['They told us they came back early', '+'],\n",
        "              [\"I told her I'll be there\", '+']\n",
        "]\n",
        "tokenized_train_set = [document(words=tuple(word_tokenize(d[0].lower())), class_=d[1]) for d in raw_train_set]\n",
        "train_set = pd.DataFrame(data=tokenized_train_set)\n",
        "\n",
        "raw_test_set = [\n",
        "             ['Do you know who lives here?','?'],\n",
        "             ['What time is it?','?'],\n",
        "             ['Can you tell me where she comes from?','?'],\n",
        "             ['How are you?','?'],\n",
        "             ['I fill good today', '+'],\n",
        "             ['There is a lot of history here','+'],\n",
        "             ['I love programming','+'],\n",
        "             ['He told us not to make so much noise','+'],\n",
        "             ['We were asked not to park in front of the house','+'],\n",
        "             [\"I don't have much time\",'-'],\n",
        "             [\"She doesn't have any money\",'-'],\n",
        "             [\"They didn't have any advice to offer\",'-'],\n",
        "             ['I am not really sure','+']\n",
        "]\n",
        "tokenized_test_set = [document(words=tuple(word_tokenize(d[0].lower())), class_=d[1]) for d in raw_test_set]\n",
        "test_set = pd.DataFrame(data=tokenized_test_set)"
      ],
      "metadata": {
        "id": "bcaT6DquoXOo"
      },
      "execution_count": 2,
      "outputs": []
    },
    {
      "cell_type": "markdown",
      "source": [
        "Separar en X e y, donde X son oraciones tokenizadas e y es la clase a predecir (o target)."
      ],
      "metadata": {
        "id": "9cIkiUTOY8Ep"
      }
    },
    {
      "cell_type": "code",
      "source": [
        "X_train, y_train = train_set.drop(columns=\"class_\"), train_set[\"class_\"]\n",
        "pd.concat([X_train, y_train], axis=1).sample(10)"
      ],
      "metadata": {
        "colab": {
          "base_uri": "https://localhost:8080/",
          "height": 0
        },
        "id": "ALoL0Xk9pJhU",
        "outputId": "c71e85fc-d352-4014-d60c-c933345c8a3b"
      },
      "execution_count": 3,
      "outputs": [
        {
          "output_type": "execute_result",
          "data": {
            "text/plain": [
              "                                             words class_\n",
              "0             (do, you, have, plenty, of, time, ?)      ?\n",
              "1              (does, she, have, enough, money, ?)      ?\n",
              "26     (i, often, do, morning, exercises, at, 6am)      +\n",
              "10                      (i, have, n't, much, time)      -\n",
              "2        (did, they, have, any, useful, advice, ?)      ?\n",
              "19  (how, many, people, came, to, the, meeting, ?)      ?\n",
              "12          (he, had, n't, any, advice, to, offer)      -\n",
              "13                              (how, are, you, ?)      ?\n",
              "18                         (how, old, are, you, ?)      ?\n",
              "4                   (i, do, n't, have, much, time)      -"
            ],
            "text/html": [
              "\n",
              "  <div id=\"df-53ea5e17-e5d0-4c6d-ad5a-094f77b21c53\" class=\"colab-df-container\">\n",
              "    <div>\n",
              "<style scoped>\n",
              "    .dataframe tbody tr th:only-of-type {\n",
              "        vertical-align: middle;\n",
              "    }\n",
              "\n",
              "    .dataframe tbody tr th {\n",
              "        vertical-align: top;\n",
              "    }\n",
              "\n",
              "    .dataframe thead th {\n",
              "        text-align: right;\n",
              "    }\n",
              "</style>\n",
              "<table border=\"1\" class=\"dataframe\">\n",
              "  <thead>\n",
              "    <tr style=\"text-align: right;\">\n",
              "      <th></th>\n",
              "      <th>words</th>\n",
              "      <th>class_</th>\n",
              "    </tr>\n",
              "  </thead>\n",
              "  <tbody>\n",
              "    <tr>\n",
              "      <th>0</th>\n",
              "      <td>(do, you, have, plenty, of, time, ?)</td>\n",
              "      <td>?</td>\n",
              "    </tr>\n",
              "    <tr>\n",
              "      <th>1</th>\n",
              "      <td>(does, she, have, enough, money, ?)</td>\n",
              "      <td>?</td>\n",
              "    </tr>\n",
              "    <tr>\n",
              "      <th>26</th>\n",
              "      <td>(i, often, do, morning, exercises, at, 6am)</td>\n",
              "      <td>+</td>\n",
              "    </tr>\n",
              "    <tr>\n",
              "      <th>10</th>\n",
              "      <td>(i, have, n't, much, time)</td>\n",
              "      <td>-</td>\n",
              "    </tr>\n",
              "    <tr>\n",
              "      <th>2</th>\n",
              "      <td>(did, they, have, any, useful, advice, ?)</td>\n",
              "      <td>?</td>\n",
              "    </tr>\n",
              "    <tr>\n",
              "      <th>19</th>\n",
              "      <td>(how, many, people, came, to, the, meeting, ?)</td>\n",
              "      <td>?</td>\n",
              "    </tr>\n",
              "    <tr>\n",
              "      <th>12</th>\n",
              "      <td>(he, had, n't, any, advice, to, offer)</td>\n",
              "      <td>-</td>\n",
              "    </tr>\n",
              "    <tr>\n",
              "      <th>13</th>\n",
              "      <td>(how, are, you, ?)</td>\n",
              "      <td>?</td>\n",
              "    </tr>\n",
              "    <tr>\n",
              "      <th>18</th>\n",
              "      <td>(how, old, are, you, ?)</td>\n",
              "      <td>?</td>\n",
              "    </tr>\n",
              "    <tr>\n",
              "      <th>4</th>\n",
              "      <td>(i, do, n't, have, much, time)</td>\n",
              "      <td>-</td>\n",
              "    </tr>\n",
              "  </tbody>\n",
              "</table>\n",
              "</div>\n",
              "    <div class=\"colab-df-buttons\">\n",
              "\n",
              "  <div class=\"colab-df-container\">\n",
              "    <button class=\"colab-df-convert\" onclick=\"convertToInteractive('df-53ea5e17-e5d0-4c6d-ad5a-094f77b21c53')\"\n",
              "            title=\"Convert this dataframe to an interactive table.\"\n",
              "            style=\"display:none;\">\n",
              "\n",
              "  <svg xmlns=\"http://www.w3.org/2000/svg\" height=\"24px\" viewBox=\"0 -960 960 960\">\n",
              "    <path d=\"M120-120v-720h720v720H120Zm60-500h600v-160H180v160Zm220 220h160v-160H400v160Zm0 220h160v-160H400v160ZM180-400h160v-160H180v160Zm440 0h160v-160H620v160ZM180-180h160v-160H180v160Zm440 0h160v-160H620v160Z\"/>\n",
              "  </svg>\n",
              "    </button>\n",
              "\n",
              "  <style>\n",
              "    .colab-df-container {\n",
              "      display:flex;\n",
              "      gap: 12px;\n",
              "    }\n",
              "\n",
              "    .colab-df-convert {\n",
              "      background-color: #E8F0FE;\n",
              "      border: none;\n",
              "      border-radius: 50%;\n",
              "      cursor: pointer;\n",
              "      display: none;\n",
              "      fill: #1967D2;\n",
              "      height: 32px;\n",
              "      padding: 0 0 0 0;\n",
              "      width: 32px;\n",
              "    }\n",
              "\n",
              "    .colab-df-convert:hover {\n",
              "      background-color: #E2EBFA;\n",
              "      box-shadow: 0px 1px 2px rgba(60, 64, 67, 0.3), 0px 1px 3px 1px rgba(60, 64, 67, 0.15);\n",
              "      fill: #174EA6;\n",
              "    }\n",
              "\n",
              "    .colab-df-buttons div {\n",
              "      margin-bottom: 4px;\n",
              "    }\n",
              "\n",
              "    [theme=dark] .colab-df-convert {\n",
              "      background-color: #3B4455;\n",
              "      fill: #D2E3FC;\n",
              "    }\n",
              "\n",
              "    [theme=dark] .colab-df-convert:hover {\n",
              "      background-color: #434B5C;\n",
              "      box-shadow: 0px 1px 3px 1px rgba(0, 0, 0, 0.15);\n",
              "      filter: drop-shadow(0px 1px 2px rgba(0, 0, 0, 0.3));\n",
              "      fill: #FFFFFF;\n",
              "    }\n",
              "  </style>\n",
              "\n",
              "    <script>\n",
              "      const buttonEl =\n",
              "        document.querySelector('#df-53ea5e17-e5d0-4c6d-ad5a-094f77b21c53 button.colab-df-convert');\n",
              "      buttonEl.style.display =\n",
              "        google.colab.kernel.accessAllowed ? 'block' : 'none';\n",
              "\n",
              "      async function convertToInteractive(key) {\n",
              "        const element = document.querySelector('#df-53ea5e17-e5d0-4c6d-ad5a-094f77b21c53');\n",
              "        const dataTable =\n",
              "          await google.colab.kernel.invokeFunction('convertToInteractive',\n",
              "                                                    [key], {});\n",
              "        if (!dataTable) return;\n",
              "\n",
              "        const docLinkHtml = 'Like what you see? Visit the ' +\n",
              "          '<a target=\"_blank\" href=https://colab.research.google.com/notebooks/data_table.ipynb>data table notebook</a>'\n",
              "          + ' to learn more about interactive tables.';\n",
              "        element.innerHTML = '';\n",
              "        dataTable['output_type'] = 'display_data';\n",
              "        await google.colab.output.renderOutput(dataTable, element);\n",
              "        const docLink = document.createElement('div');\n",
              "        docLink.innerHTML = docLinkHtml;\n",
              "        element.appendChild(docLink);\n",
              "      }\n",
              "    </script>\n",
              "  </div>\n",
              "\n",
              "\n",
              "<div id=\"df-c0ea0398-f2fa-44c3-80d3-4d1c29e1eed8\">\n",
              "  <button class=\"colab-df-quickchart\" onclick=\"quickchart('df-c0ea0398-f2fa-44c3-80d3-4d1c29e1eed8')\"\n",
              "            title=\"Suggest charts\"\n",
              "            style=\"display:none;\">\n",
              "\n",
              "<svg xmlns=\"http://www.w3.org/2000/svg\" height=\"24px\"viewBox=\"0 0 24 24\"\n",
              "     width=\"24px\">\n",
              "    <g>\n",
              "        <path d=\"M19 3H5c-1.1 0-2 .9-2 2v14c0 1.1.9 2 2 2h14c1.1 0 2-.9 2-2V5c0-1.1-.9-2-2-2zM9 17H7v-7h2v7zm4 0h-2V7h2v10zm4 0h-2v-4h2v4z\"/>\n",
              "    </g>\n",
              "</svg>\n",
              "  </button>\n",
              "\n",
              "<style>\n",
              "  .colab-df-quickchart {\n",
              "      --bg-color: #E8F0FE;\n",
              "      --fill-color: #1967D2;\n",
              "      --hover-bg-color: #E2EBFA;\n",
              "      --hover-fill-color: #174EA6;\n",
              "      --disabled-fill-color: #AAA;\n",
              "      --disabled-bg-color: #DDD;\n",
              "  }\n",
              "\n",
              "  [theme=dark] .colab-df-quickchart {\n",
              "      --bg-color: #3B4455;\n",
              "      --fill-color: #D2E3FC;\n",
              "      --hover-bg-color: #434B5C;\n",
              "      --hover-fill-color: #FFFFFF;\n",
              "      --disabled-bg-color: #3B4455;\n",
              "      --disabled-fill-color: #666;\n",
              "  }\n",
              "\n",
              "  .colab-df-quickchart {\n",
              "    background-color: var(--bg-color);\n",
              "    border: none;\n",
              "    border-radius: 50%;\n",
              "    cursor: pointer;\n",
              "    display: none;\n",
              "    fill: var(--fill-color);\n",
              "    height: 32px;\n",
              "    padding: 0;\n",
              "    width: 32px;\n",
              "  }\n",
              "\n",
              "  .colab-df-quickchart:hover {\n",
              "    background-color: var(--hover-bg-color);\n",
              "    box-shadow: 0 1px 2px rgba(60, 64, 67, 0.3), 0 1px 3px 1px rgba(60, 64, 67, 0.15);\n",
              "    fill: var(--button-hover-fill-color);\n",
              "  }\n",
              "\n",
              "  .colab-df-quickchart-complete:disabled,\n",
              "  .colab-df-quickchart-complete:disabled:hover {\n",
              "    background-color: var(--disabled-bg-color);\n",
              "    fill: var(--disabled-fill-color);\n",
              "    box-shadow: none;\n",
              "  }\n",
              "\n",
              "  .colab-df-spinner {\n",
              "    border: 2px solid var(--fill-color);\n",
              "    border-color: transparent;\n",
              "    border-bottom-color: var(--fill-color);\n",
              "    animation:\n",
              "      spin 1s steps(1) infinite;\n",
              "  }\n",
              "\n",
              "  @keyframes spin {\n",
              "    0% {\n",
              "      border-color: transparent;\n",
              "      border-bottom-color: var(--fill-color);\n",
              "      border-left-color: var(--fill-color);\n",
              "    }\n",
              "    20% {\n",
              "      border-color: transparent;\n",
              "      border-left-color: var(--fill-color);\n",
              "      border-top-color: var(--fill-color);\n",
              "    }\n",
              "    30% {\n",
              "      border-color: transparent;\n",
              "      border-left-color: var(--fill-color);\n",
              "      border-top-color: var(--fill-color);\n",
              "      border-right-color: var(--fill-color);\n",
              "    }\n",
              "    40% {\n",
              "      border-color: transparent;\n",
              "      border-right-color: var(--fill-color);\n",
              "      border-top-color: var(--fill-color);\n",
              "    }\n",
              "    60% {\n",
              "      border-color: transparent;\n",
              "      border-right-color: var(--fill-color);\n",
              "    }\n",
              "    80% {\n",
              "      border-color: transparent;\n",
              "      border-right-color: var(--fill-color);\n",
              "      border-bottom-color: var(--fill-color);\n",
              "    }\n",
              "    90% {\n",
              "      border-color: transparent;\n",
              "      border-bottom-color: var(--fill-color);\n",
              "    }\n",
              "  }\n",
              "</style>\n",
              "\n",
              "  <script>\n",
              "    async function quickchart(key) {\n",
              "      const quickchartButtonEl =\n",
              "        document.querySelector('#' + key + ' button');\n",
              "      quickchartButtonEl.disabled = true;  // To prevent multiple clicks.\n",
              "      quickchartButtonEl.classList.add('colab-df-spinner');\n",
              "      try {\n",
              "        const charts = await google.colab.kernel.invokeFunction(\n",
              "            'suggestCharts', [key], {});\n",
              "      } catch (error) {\n",
              "        console.error('Error during call to suggestCharts:', error);\n",
              "      }\n",
              "      quickchartButtonEl.classList.remove('colab-df-spinner');\n",
              "      quickchartButtonEl.classList.add('colab-df-quickchart-complete');\n",
              "    }\n",
              "    (() => {\n",
              "      let quickchartButtonEl =\n",
              "        document.querySelector('#df-c0ea0398-f2fa-44c3-80d3-4d1c29e1eed8 button');\n",
              "      quickchartButtonEl.style.display =\n",
              "        google.colab.kernel.accessAllowed ? 'block' : 'none';\n",
              "    })();\n",
              "  </script>\n",
              "</div>\n",
              "\n",
              "    </div>\n",
              "  </div>\n"
            ],
            "application/vnd.google.colaboratory.intrinsic+json": {
              "type": "dataframe",
              "summary": "{\n  \"name\": \"pd\",\n  \"rows\": 10,\n  \"fields\": [\n    {\n      \"column\": \"words\",\n      \"properties\": {\n        \"dtype\": \"string\",\n        \"num_unique_values\": 10,\n        \"samples\": [\n          [\n            \"how\",\n            \"old\",\n            \"are\",\n            \"you\",\n            \"?\"\n          ],\n          [\n            \"does\",\n            \"she\",\n            \"have\",\n            \"enough\",\n            \"money\",\n            \"?\"\n          ],\n          [\n            \"how\",\n            \"many\",\n            \"people\",\n            \"came\",\n            \"to\",\n            \"the\",\n            \"meeting\",\n            \"?\"\n          ]\n        ],\n        \"semantic_type\": \"\",\n        \"description\": \"\"\n      }\n    },\n    {\n      \"column\": \"class_\",\n      \"properties\": {\n        \"dtype\": \"category\",\n        \"num_unique_values\": 3,\n        \"samples\": [\n          \"?\",\n          \"+\",\n          \"-\"\n        ],\n        \"semantic_type\": \"\",\n        \"description\": \"\"\n      }\n    }\n  ]\n}"
            }
          },
          "metadata": {},
          "execution_count": 3
        }
      ]
    },
    {
      "cell_type": "markdown",
      "source": [
        "Cantidad de oraciones por clase:"
      ],
      "metadata": {
        "id": "NSHQ_s9rZE6k"
      }
    },
    {
      "cell_type": "code",
      "source": [
        "train_set.groupby(\"class_\").count()"
      ],
      "metadata": {
        "colab": {
          "base_uri": "https://localhost:8080/",
          "height": 0
        },
        "id": "djD7TovViVuB",
        "outputId": "8d4d792b-53f7-4400-f4b8-e2079eb20d51"
      },
      "execution_count": 4,
      "outputs": [
        {
          "output_type": "execute_result",
          "data": {
            "text/plain": [
              "        words\n",
              "class_       \n",
              "+          13\n",
              "-           7\n",
              "?          14"
            ],
            "text/html": [
              "\n",
              "  <div id=\"df-3f06506b-7774-4405-9f14-be072ebd6154\" class=\"colab-df-container\">\n",
              "    <div>\n",
              "<style scoped>\n",
              "    .dataframe tbody tr th:only-of-type {\n",
              "        vertical-align: middle;\n",
              "    }\n",
              "\n",
              "    .dataframe tbody tr th {\n",
              "        vertical-align: top;\n",
              "    }\n",
              "\n",
              "    .dataframe thead th {\n",
              "        text-align: right;\n",
              "    }\n",
              "</style>\n",
              "<table border=\"1\" class=\"dataframe\">\n",
              "  <thead>\n",
              "    <tr style=\"text-align: right;\">\n",
              "      <th></th>\n",
              "      <th>words</th>\n",
              "    </tr>\n",
              "    <tr>\n",
              "      <th>class_</th>\n",
              "      <th></th>\n",
              "    </tr>\n",
              "  </thead>\n",
              "  <tbody>\n",
              "    <tr>\n",
              "      <th>+</th>\n",
              "      <td>13</td>\n",
              "    </tr>\n",
              "    <tr>\n",
              "      <th>-</th>\n",
              "      <td>7</td>\n",
              "    </tr>\n",
              "    <tr>\n",
              "      <th>?</th>\n",
              "      <td>14</td>\n",
              "    </tr>\n",
              "  </tbody>\n",
              "</table>\n",
              "</div>\n",
              "    <div class=\"colab-df-buttons\">\n",
              "\n",
              "  <div class=\"colab-df-container\">\n",
              "    <button class=\"colab-df-convert\" onclick=\"convertToInteractive('df-3f06506b-7774-4405-9f14-be072ebd6154')\"\n",
              "            title=\"Convert this dataframe to an interactive table.\"\n",
              "            style=\"display:none;\">\n",
              "\n",
              "  <svg xmlns=\"http://www.w3.org/2000/svg\" height=\"24px\" viewBox=\"0 -960 960 960\">\n",
              "    <path d=\"M120-120v-720h720v720H120Zm60-500h600v-160H180v160Zm220 220h160v-160H400v160Zm0 220h160v-160H400v160ZM180-400h160v-160H180v160Zm440 0h160v-160H620v160ZM180-180h160v-160H180v160Zm440 0h160v-160H620v160Z\"/>\n",
              "  </svg>\n",
              "    </button>\n",
              "\n",
              "  <style>\n",
              "    .colab-df-container {\n",
              "      display:flex;\n",
              "      gap: 12px;\n",
              "    }\n",
              "\n",
              "    .colab-df-convert {\n",
              "      background-color: #E8F0FE;\n",
              "      border: none;\n",
              "      border-radius: 50%;\n",
              "      cursor: pointer;\n",
              "      display: none;\n",
              "      fill: #1967D2;\n",
              "      height: 32px;\n",
              "      padding: 0 0 0 0;\n",
              "      width: 32px;\n",
              "    }\n",
              "\n",
              "    .colab-df-convert:hover {\n",
              "      background-color: #E2EBFA;\n",
              "      box-shadow: 0px 1px 2px rgba(60, 64, 67, 0.3), 0px 1px 3px 1px rgba(60, 64, 67, 0.15);\n",
              "      fill: #174EA6;\n",
              "    }\n",
              "\n",
              "    .colab-df-buttons div {\n",
              "      margin-bottom: 4px;\n",
              "    }\n",
              "\n",
              "    [theme=dark] .colab-df-convert {\n",
              "      background-color: #3B4455;\n",
              "      fill: #D2E3FC;\n",
              "    }\n",
              "\n",
              "    [theme=dark] .colab-df-convert:hover {\n",
              "      background-color: #434B5C;\n",
              "      box-shadow: 0px 1px 3px 1px rgba(0, 0, 0, 0.15);\n",
              "      filter: drop-shadow(0px 1px 2px rgba(0, 0, 0, 0.3));\n",
              "      fill: #FFFFFF;\n",
              "    }\n",
              "  </style>\n",
              "\n",
              "    <script>\n",
              "      const buttonEl =\n",
              "        document.querySelector('#df-3f06506b-7774-4405-9f14-be072ebd6154 button.colab-df-convert');\n",
              "      buttonEl.style.display =\n",
              "        google.colab.kernel.accessAllowed ? 'block' : 'none';\n",
              "\n",
              "      async function convertToInteractive(key) {\n",
              "        const element = document.querySelector('#df-3f06506b-7774-4405-9f14-be072ebd6154');\n",
              "        const dataTable =\n",
              "          await google.colab.kernel.invokeFunction('convertToInteractive',\n",
              "                                                    [key], {});\n",
              "        if (!dataTable) return;\n",
              "\n",
              "        const docLinkHtml = 'Like what you see? Visit the ' +\n",
              "          '<a target=\"_blank\" href=https://colab.research.google.com/notebooks/data_table.ipynb>data table notebook</a>'\n",
              "          + ' to learn more about interactive tables.';\n",
              "        element.innerHTML = '';\n",
              "        dataTable['output_type'] = 'display_data';\n",
              "        await google.colab.output.renderOutput(dataTable, element);\n",
              "        const docLink = document.createElement('div');\n",
              "        docLink.innerHTML = docLinkHtml;\n",
              "        element.appendChild(docLink);\n",
              "      }\n",
              "    </script>\n",
              "  </div>\n",
              "\n",
              "\n",
              "<div id=\"df-dc44d493-92eb-4749-b6da-a447863a7f6c\">\n",
              "  <button class=\"colab-df-quickchart\" onclick=\"quickchart('df-dc44d493-92eb-4749-b6da-a447863a7f6c')\"\n",
              "            title=\"Suggest charts\"\n",
              "            style=\"display:none;\">\n",
              "\n",
              "<svg xmlns=\"http://www.w3.org/2000/svg\" height=\"24px\"viewBox=\"0 0 24 24\"\n",
              "     width=\"24px\">\n",
              "    <g>\n",
              "        <path d=\"M19 3H5c-1.1 0-2 .9-2 2v14c0 1.1.9 2 2 2h14c1.1 0 2-.9 2-2V5c0-1.1-.9-2-2-2zM9 17H7v-7h2v7zm4 0h-2V7h2v10zm4 0h-2v-4h2v4z\"/>\n",
              "    </g>\n",
              "</svg>\n",
              "  </button>\n",
              "\n",
              "<style>\n",
              "  .colab-df-quickchart {\n",
              "      --bg-color: #E8F0FE;\n",
              "      --fill-color: #1967D2;\n",
              "      --hover-bg-color: #E2EBFA;\n",
              "      --hover-fill-color: #174EA6;\n",
              "      --disabled-fill-color: #AAA;\n",
              "      --disabled-bg-color: #DDD;\n",
              "  }\n",
              "\n",
              "  [theme=dark] .colab-df-quickchart {\n",
              "      --bg-color: #3B4455;\n",
              "      --fill-color: #D2E3FC;\n",
              "      --hover-bg-color: #434B5C;\n",
              "      --hover-fill-color: #FFFFFF;\n",
              "      --disabled-bg-color: #3B4455;\n",
              "      --disabled-fill-color: #666;\n",
              "  }\n",
              "\n",
              "  .colab-df-quickchart {\n",
              "    background-color: var(--bg-color);\n",
              "    border: none;\n",
              "    border-radius: 50%;\n",
              "    cursor: pointer;\n",
              "    display: none;\n",
              "    fill: var(--fill-color);\n",
              "    height: 32px;\n",
              "    padding: 0;\n",
              "    width: 32px;\n",
              "  }\n",
              "\n",
              "  .colab-df-quickchart:hover {\n",
              "    background-color: var(--hover-bg-color);\n",
              "    box-shadow: 0 1px 2px rgba(60, 64, 67, 0.3), 0 1px 3px 1px rgba(60, 64, 67, 0.15);\n",
              "    fill: var(--button-hover-fill-color);\n",
              "  }\n",
              "\n",
              "  .colab-df-quickchart-complete:disabled,\n",
              "  .colab-df-quickchart-complete:disabled:hover {\n",
              "    background-color: var(--disabled-bg-color);\n",
              "    fill: var(--disabled-fill-color);\n",
              "    box-shadow: none;\n",
              "  }\n",
              "\n",
              "  .colab-df-spinner {\n",
              "    border: 2px solid var(--fill-color);\n",
              "    border-color: transparent;\n",
              "    border-bottom-color: var(--fill-color);\n",
              "    animation:\n",
              "      spin 1s steps(1) infinite;\n",
              "  }\n",
              "\n",
              "  @keyframes spin {\n",
              "    0% {\n",
              "      border-color: transparent;\n",
              "      border-bottom-color: var(--fill-color);\n",
              "      border-left-color: var(--fill-color);\n",
              "    }\n",
              "    20% {\n",
              "      border-color: transparent;\n",
              "      border-left-color: var(--fill-color);\n",
              "      border-top-color: var(--fill-color);\n",
              "    }\n",
              "    30% {\n",
              "      border-color: transparent;\n",
              "      border-left-color: var(--fill-color);\n",
              "      border-top-color: var(--fill-color);\n",
              "      border-right-color: var(--fill-color);\n",
              "    }\n",
              "    40% {\n",
              "      border-color: transparent;\n",
              "      border-right-color: var(--fill-color);\n",
              "      border-top-color: var(--fill-color);\n",
              "    }\n",
              "    60% {\n",
              "      border-color: transparent;\n",
              "      border-right-color: var(--fill-color);\n",
              "    }\n",
              "    80% {\n",
              "      border-color: transparent;\n",
              "      border-right-color: var(--fill-color);\n",
              "      border-bottom-color: var(--fill-color);\n",
              "    }\n",
              "    90% {\n",
              "      border-color: transparent;\n",
              "      border-bottom-color: var(--fill-color);\n",
              "    }\n",
              "  }\n",
              "</style>\n",
              "\n",
              "  <script>\n",
              "    async function quickchart(key) {\n",
              "      const quickchartButtonEl =\n",
              "        document.querySelector('#' + key + ' button');\n",
              "      quickchartButtonEl.disabled = true;  // To prevent multiple clicks.\n",
              "      quickchartButtonEl.classList.add('colab-df-spinner');\n",
              "      try {\n",
              "        const charts = await google.colab.kernel.invokeFunction(\n",
              "            'suggestCharts', [key], {});\n",
              "      } catch (error) {\n",
              "        console.error('Error during call to suggestCharts:', error);\n",
              "      }\n",
              "      quickchartButtonEl.classList.remove('colab-df-spinner');\n",
              "      quickchartButtonEl.classList.add('colab-df-quickchart-complete');\n",
              "    }\n",
              "    (() => {\n",
              "      let quickchartButtonEl =\n",
              "        document.querySelector('#df-dc44d493-92eb-4749-b6da-a447863a7f6c button');\n",
              "      quickchartButtonEl.style.display =\n",
              "        google.colab.kernel.accessAllowed ? 'block' : 'none';\n",
              "    })();\n",
              "  </script>\n",
              "</div>\n",
              "\n",
              "    </div>\n",
              "  </div>\n"
            ],
            "application/vnd.google.colaboratory.intrinsic+json": {
              "type": "dataframe",
              "summary": "{\n  \"name\": \"train_set\",\n  \"rows\": 3,\n  \"fields\": [\n    {\n      \"column\": \"class_\",\n      \"properties\": {\n        \"dtype\": \"string\",\n        \"num_unique_values\": 3,\n        \"samples\": [\n          \"+\",\n          \"-\",\n          \"?\"\n        ],\n        \"semantic_type\": \"\",\n        \"description\": \"\"\n      }\n    },\n    {\n      \"column\": \"words\",\n      \"properties\": {\n        \"dtype\": \"number\",\n        \"std\": 3,\n        \"min\": 7,\n        \"max\": 14,\n        \"num_unique_values\": 3,\n        \"samples\": [\n          13,\n          7,\n          14\n        ],\n        \"semantic_type\": \"\",\n        \"description\": \"\"\n      }\n    }\n  ]\n}"
            }
          },
          "metadata": {},
          "execution_count": 4
        }
      ]
    },
    {
      "cell_type": "markdown",
      "source": [
        "(X, y) para el conjunto de test:"
      ],
      "metadata": {
        "id": "ZQNS_HatZKBg"
      }
    },
    {
      "cell_type": "code",
      "source": [
        "X_test, y_test = test_set.drop(columns=\"class_\"), test_set[\"class_\"]\n",
        "pd.concat([X_test, y_test], axis=1).sample(10)"
      ],
      "metadata": {
        "colab": {
          "base_uri": "https://localhost:8080/",
          "height": 0
        },
        "id": "5i0O-7-IpLbX",
        "outputId": "15d82b1e-e7b4-4691-988f-f22efbe839c0"
      },
      "execution_count": 5,
      "outputs": [
        {
          "output_type": "execute_result",
          "data": {
            "text/plain": [
              "                                                words class_\n",
              "4                              (i, fill, good, today)      +\n",
              "9                      (i, do, n't, have, much, time)      -\n",
              "7      (he, told, us, not, to, make, so, much, noise)      +\n",
              "5              (there, is, a, lot, of, history, here)      +\n",
              "2    (can, you, tell, me, where, she, comes, from, ?)      ?\n",
              "8   (we, were, asked, not, to, park, in, front, of...      +\n",
              "6                              (i, love, programming)      +\n",
              "11     (they, did, n't, have, any, advice, to, offer)      -\n",
              "12                         (i, am, not, really, sure)      +\n",
              "10                 (she, does, n't, have, any, money)      -"
            ],
            "text/html": [
              "\n",
              "  <div id=\"df-5ff5489c-47cc-451b-90ef-dce71de405f9\" class=\"colab-df-container\">\n",
              "    <div>\n",
              "<style scoped>\n",
              "    .dataframe tbody tr th:only-of-type {\n",
              "        vertical-align: middle;\n",
              "    }\n",
              "\n",
              "    .dataframe tbody tr th {\n",
              "        vertical-align: top;\n",
              "    }\n",
              "\n",
              "    .dataframe thead th {\n",
              "        text-align: right;\n",
              "    }\n",
              "</style>\n",
              "<table border=\"1\" class=\"dataframe\">\n",
              "  <thead>\n",
              "    <tr style=\"text-align: right;\">\n",
              "      <th></th>\n",
              "      <th>words</th>\n",
              "      <th>class_</th>\n",
              "    </tr>\n",
              "  </thead>\n",
              "  <tbody>\n",
              "    <tr>\n",
              "      <th>4</th>\n",
              "      <td>(i, fill, good, today)</td>\n",
              "      <td>+</td>\n",
              "    </tr>\n",
              "    <tr>\n",
              "      <th>9</th>\n",
              "      <td>(i, do, n't, have, much, time)</td>\n",
              "      <td>-</td>\n",
              "    </tr>\n",
              "    <tr>\n",
              "      <th>7</th>\n",
              "      <td>(he, told, us, not, to, make, so, much, noise)</td>\n",
              "      <td>+</td>\n",
              "    </tr>\n",
              "    <tr>\n",
              "      <th>5</th>\n",
              "      <td>(there, is, a, lot, of, history, here)</td>\n",
              "      <td>+</td>\n",
              "    </tr>\n",
              "    <tr>\n",
              "      <th>2</th>\n",
              "      <td>(can, you, tell, me, where, she, comes, from, ?)</td>\n",
              "      <td>?</td>\n",
              "    </tr>\n",
              "    <tr>\n",
              "      <th>8</th>\n",
              "      <td>(we, were, asked, not, to, park, in, front, of...</td>\n",
              "      <td>+</td>\n",
              "    </tr>\n",
              "    <tr>\n",
              "      <th>6</th>\n",
              "      <td>(i, love, programming)</td>\n",
              "      <td>+</td>\n",
              "    </tr>\n",
              "    <tr>\n",
              "      <th>11</th>\n",
              "      <td>(they, did, n't, have, any, advice, to, offer)</td>\n",
              "      <td>-</td>\n",
              "    </tr>\n",
              "    <tr>\n",
              "      <th>12</th>\n",
              "      <td>(i, am, not, really, sure)</td>\n",
              "      <td>+</td>\n",
              "    </tr>\n",
              "    <tr>\n",
              "      <th>10</th>\n",
              "      <td>(she, does, n't, have, any, money)</td>\n",
              "      <td>-</td>\n",
              "    </tr>\n",
              "  </tbody>\n",
              "</table>\n",
              "</div>\n",
              "    <div class=\"colab-df-buttons\">\n",
              "\n",
              "  <div class=\"colab-df-container\">\n",
              "    <button class=\"colab-df-convert\" onclick=\"convertToInteractive('df-5ff5489c-47cc-451b-90ef-dce71de405f9')\"\n",
              "            title=\"Convert this dataframe to an interactive table.\"\n",
              "            style=\"display:none;\">\n",
              "\n",
              "  <svg xmlns=\"http://www.w3.org/2000/svg\" height=\"24px\" viewBox=\"0 -960 960 960\">\n",
              "    <path d=\"M120-120v-720h720v720H120Zm60-500h600v-160H180v160Zm220 220h160v-160H400v160Zm0 220h160v-160H400v160ZM180-400h160v-160H180v160Zm440 0h160v-160H620v160ZM180-180h160v-160H180v160Zm440 0h160v-160H620v160Z\"/>\n",
              "  </svg>\n",
              "    </button>\n",
              "\n",
              "  <style>\n",
              "    .colab-df-container {\n",
              "      display:flex;\n",
              "      gap: 12px;\n",
              "    }\n",
              "\n",
              "    .colab-df-convert {\n",
              "      background-color: #E8F0FE;\n",
              "      border: none;\n",
              "      border-radius: 50%;\n",
              "      cursor: pointer;\n",
              "      display: none;\n",
              "      fill: #1967D2;\n",
              "      height: 32px;\n",
              "      padding: 0 0 0 0;\n",
              "      width: 32px;\n",
              "    }\n",
              "\n",
              "    .colab-df-convert:hover {\n",
              "      background-color: #E2EBFA;\n",
              "      box-shadow: 0px 1px 2px rgba(60, 64, 67, 0.3), 0px 1px 3px 1px rgba(60, 64, 67, 0.15);\n",
              "      fill: #174EA6;\n",
              "    }\n",
              "\n",
              "    .colab-df-buttons div {\n",
              "      margin-bottom: 4px;\n",
              "    }\n",
              "\n",
              "    [theme=dark] .colab-df-convert {\n",
              "      background-color: #3B4455;\n",
              "      fill: #D2E3FC;\n",
              "    }\n",
              "\n",
              "    [theme=dark] .colab-df-convert:hover {\n",
              "      background-color: #434B5C;\n",
              "      box-shadow: 0px 1px 3px 1px rgba(0, 0, 0, 0.15);\n",
              "      filter: drop-shadow(0px 1px 2px rgba(0, 0, 0, 0.3));\n",
              "      fill: #FFFFFF;\n",
              "    }\n",
              "  </style>\n",
              "\n",
              "    <script>\n",
              "      const buttonEl =\n",
              "        document.querySelector('#df-5ff5489c-47cc-451b-90ef-dce71de405f9 button.colab-df-convert');\n",
              "      buttonEl.style.display =\n",
              "        google.colab.kernel.accessAllowed ? 'block' : 'none';\n",
              "\n",
              "      async function convertToInteractive(key) {\n",
              "        const element = document.querySelector('#df-5ff5489c-47cc-451b-90ef-dce71de405f9');\n",
              "        const dataTable =\n",
              "          await google.colab.kernel.invokeFunction('convertToInteractive',\n",
              "                                                    [key], {});\n",
              "        if (!dataTable) return;\n",
              "\n",
              "        const docLinkHtml = 'Like what you see? Visit the ' +\n",
              "          '<a target=\"_blank\" href=https://colab.research.google.com/notebooks/data_table.ipynb>data table notebook</a>'\n",
              "          + ' to learn more about interactive tables.';\n",
              "        element.innerHTML = '';\n",
              "        dataTable['output_type'] = 'display_data';\n",
              "        await google.colab.output.renderOutput(dataTable, element);\n",
              "        const docLink = document.createElement('div');\n",
              "        docLink.innerHTML = docLinkHtml;\n",
              "        element.appendChild(docLink);\n",
              "      }\n",
              "    </script>\n",
              "  </div>\n",
              "\n",
              "\n",
              "<div id=\"df-c240df4f-967e-44b6-9b6a-d9ba95b6efbc\">\n",
              "  <button class=\"colab-df-quickchart\" onclick=\"quickchart('df-c240df4f-967e-44b6-9b6a-d9ba95b6efbc')\"\n",
              "            title=\"Suggest charts\"\n",
              "            style=\"display:none;\">\n",
              "\n",
              "<svg xmlns=\"http://www.w3.org/2000/svg\" height=\"24px\"viewBox=\"0 0 24 24\"\n",
              "     width=\"24px\">\n",
              "    <g>\n",
              "        <path d=\"M19 3H5c-1.1 0-2 .9-2 2v14c0 1.1.9 2 2 2h14c1.1 0 2-.9 2-2V5c0-1.1-.9-2-2-2zM9 17H7v-7h2v7zm4 0h-2V7h2v10zm4 0h-2v-4h2v4z\"/>\n",
              "    </g>\n",
              "</svg>\n",
              "  </button>\n",
              "\n",
              "<style>\n",
              "  .colab-df-quickchart {\n",
              "      --bg-color: #E8F0FE;\n",
              "      --fill-color: #1967D2;\n",
              "      --hover-bg-color: #E2EBFA;\n",
              "      --hover-fill-color: #174EA6;\n",
              "      --disabled-fill-color: #AAA;\n",
              "      --disabled-bg-color: #DDD;\n",
              "  }\n",
              "\n",
              "  [theme=dark] .colab-df-quickchart {\n",
              "      --bg-color: #3B4455;\n",
              "      --fill-color: #D2E3FC;\n",
              "      --hover-bg-color: #434B5C;\n",
              "      --hover-fill-color: #FFFFFF;\n",
              "      --disabled-bg-color: #3B4455;\n",
              "      --disabled-fill-color: #666;\n",
              "  }\n",
              "\n",
              "  .colab-df-quickchart {\n",
              "    background-color: var(--bg-color);\n",
              "    border: none;\n",
              "    border-radius: 50%;\n",
              "    cursor: pointer;\n",
              "    display: none;\n",
              "    fill: var(--fill-color);\n",
              "    height: 32px;\n",
              "    padding: 0;\n",
              "    width: 32px;\n",
              "  }\n",
              "\n",
              "  .colab-df-quickchart:hover {\n",
              "    background-color: var(--hover-bg-color);\n",
              "    box-shadow: 0 1px 2px rgba(60, 64, 67, 0.3), 0 1px 3px 1px rgba(60, 64, 67, 0.15);\n",
              "    fill: var(--button-hover-fill-color);\n",
              "  }\n",
              "\n",
              "  .colab-df-quickchart-complete:disabled,\n",
              "  .colab-df-quickchart-complete:disabled:hover {\n",
              "    background-color: var(--disabled-bg-color);\n",
              "    fill: var(--disabled-fill-color);\n",
              "    box-shadow: none;\n",
              "  }\n",
              "\n",
              "  .colab-df-spinner {\n",
              "    border: 2px solid var(--fill-color);\n",
              "    border-color: transparent;\n",
              "    border-bottom-color: var(--fill-color);\n",
              "    animation:\n",
              "      spin 1s steps(1) infinite;\n",
              "  }\n",
              "\n",
              "  @keyframes spin {\n",
              "    0% {\n",
              "      border-color: transparent;\n",
              "      border-bottom-color: var(--fill-color);\n",
              "      border-left-color: var(--fill-color);\n",
              "    }\n",
              "    20% {\n",
              "      border-color: transparent;\n",
              "      border-left-color: var(--fill-color);\n",
              "      border-top-color: var(--fill-color);\n",
              "    }\n",
              "    30% {\n",
              "      border-color: transparent;\n",
              "      border-left-color: var(--fill-color);\n",
              "      border-top-color: var(--fill-color);\n",
              "      border-right-color: var(--fill-color);\n",
              "    }\n",
              "    40% {\n",
              "      border-color: transparent;\n",
              "      border-right-color: var(--fill-color);\n",
              "      border-top-color: var(--fill-color);\n",
              "    }\n",
              "    60% {\n",
              "      border-color: transparent;\n",
              "      border-right-color: var(--fill-color);\n",
              "    }\n",
              "    80% {\n",
              "      border-color: transparent;\n",
              "      border-right-color: var(--fill-color);\n",
              "      border-bottom-color: var(--fill-color);\n",
              "    }\n",
              "    90% {\n",
              "      border-color: transparent;\n",
              "      border-bottom-color: var(--fill-color);\n",
              "    }\n",
              "  }\n",
              "</style>\n",
              "\n",
              "  <script>\n",
              "    async function quickchart(key) {\n",
              "      const quickchartButtonEl =\n",
              "        document.querySelector('#' + key + ' button');\n",
              "      quickchartButtonEl.disabled = true;  // To prevent multiple clicks.\n",
              "      quickchartButtonEl.classList.add('colab-df-spinner');\n",
              "      try {\n",
              "        const charts = await google.colab.kernel.invokeFunction(\n",
              "            'suggestCharts', [key], {});\n",
              "      } catch (error) {\n",
              "        console.error('Error during call to suggestCharts:', error);\n",
              "      }\n",
              "      quickchartButtonEl.classList.remove('colab-df-spinner');\n",
              "      quickchartButtonEl.classList.add('colab-df-quickchart-complete');\n",
              "    }\n",
              "    (() => {\n",
              "      let quickchartButtonEl =\n",
              "        document.querySelector('#df-c240df4f-967e-44b6-9b6a-d9ba95b6efbc button');\n",
              "      quickchartButtonEl.style.display =\n",
              "        google.colab.kernel.accessAllowed ? 'block' : 'none';\n",
              "    })();\n",
              "  </script>\n",
              "</div>\n",
              "\n",
              "    </div>\n",
              "  </div>\n"
            ],
            "application/vnd.google.colaboratory.intrinsic+json": {
              "type": "dataframe",
              "summary": "{\n  \"name\": \"pd\",\n  \"rows\": 10,\n  \"fields\": [\n    {\n      \"column\": \"words\",\n      \"properties\": {\n        \"dtype\": \"string\",\n        \"num_unique_values\": 10,\n        \"samples\": [\n          [\n            \"i\",\n            \"am\",\n            \"not\",\n            \"really\",\n            \"sure\"\n          ],\n          [\n            \"i\",\n            \"do\",\n            \"n't\",\n            \"have\",\n            \"much\",\n            \"time\"\n          ],\n          [\n            \"we\",\n            \"were\",\n            \"asked\",\n            \"not\",\n            \"to\",\n            \"park\",\n            \"in\",\n            \"front\",\n            \"of\",\n            \"the\",\n            \"house\"\n          ]\n        ],\n        \"semantic_type\": \"\",\n        \"description\": \"\"\n      }\n    },\n    {\n      \"column\": \"class_\",\n      \"properties\": {\n        \"dtype\": \"category\",\n        \"num_unique_values\": 3,\n        \"samples\": [\n          \"+\",\n          \"-\",\n          \"?\"\n        ],\n        \"semantic_type\": \"\",\n        \"description\": \"\"\n      }\n    }\n  ]\n}"
            }
          },
          "metadata": {},
          "execution_count": 5
        }
      ]
    },
    {
      "cell_type": "markdown",
      "source": [
        "Cantidad de oraciones por clase en el conjunto de test:"
      ],
      "metadata": {
        "id": "ZdwzchFGZNmf"
      }
    },
    {
      "cell_type": "code",
      "source": [
        "test_set.groupby(\"class_\").count()"
      ],
      "metadata": {
        "colab": {
          "base_uri": "https://localhost:8080/",
          "height": 0
        },
        "id": "5FXC-oNNpQGw",
        "outputId": "7b498a84-ea5c-40f6-edf3-1b618b688ed8"
      },
      "execution_count": 6,
      "outputs": [
        {
          "output_type": "execute_result",
          "data": {
            "text/plain": [
              "        words\n",
              "class_       \n",
              "+           6\n",
              "-           3\n",
              "?           4"
            ],
            "text/html": [
              "\n",
              "  <div id=\"df-6c398b60-0ec8-4b04-818c-584e619c7f68\" class=\"colab-df-container\">\n",
              "    <div>\n",
              "<style scoped>\n",
              "    .dataframe tbody tr th:only-of-type {\n",
              "        vertical-align: middle;\n",
              "    }\n",
              "\n",
              "    .dataframe tbody tr th {\n",
              "        vertical-align: top;\n",
              "    }\n",
              "\n",
              "    .dataframe thead th {\n",
              "        text-align: right;\n",
              "    }\n",
              "</style>\n",
              "<table border=\"1\" class=\"dataframe\">\n",
              "  <thead>\n",
              "    <tr style=\"text-align: right;\">\n",
              "      <th></th>\n",
              "      <th>words</th>\n",
              "    </tr>\n",
              "    <tr>\n",
              "      <th>class_</th>\n",
              "      <th></th>\n",
              "    </tr>\n",
              "  </thead>\n",
              "  <tbody>\n",
              "    <tr>\n",
              "      <th>+</th>\n",
              "      <td>6</td>\n",
              "    </tr>\n",
              "    <tr>\n",
              "      <th>-</th>\n",
              "      <td>3</td>\n",
              "    </tr>\n",
              "    <tr>\n",
              "      <th>?</th>\n",
              "      <td>4</td>\n",
              "    </tr>\n",
              "  </tbody>\n",
              "</table>\n",
              "</div>\n",
              "    <div class=\"colab-df-buttons\">\n",
              "\n",
              "  <div class=\"colab-df-container\">\n",
              "    <button class=\"colab-df-convert\" onclick=\"convertToInteractive('df-6c398b60-0ec8-4b04-818c-584e619c7f68')\"\n",
              "            title=\"Convert this dataframe to an interactive table.\"\n",
              "            style=\"display:none;\">\n",
              "\n",
              "  <svg xmlns=\"http://www.w3.org/2000/svg\" height=\"24px\" viewBox=\"0 -960 960 960\">\n",
              "    <path d=\"M120-120v-720h720v720H120Zm60-500h600v-160H180v160Zm220 220h160v-160H400v160Zm0 220h160v-160H400v160ZM180-400h160v-160H180v160Zm440 0h160v-160H620v160ZM180-180h160v-160H180v160Zm440 0h160v-160H620v160Z\"/>\n",
              "  </svg>\n",
              "    </button>\n",
              "\n",
              "  <style>\n",
              "    .colab-df-container {\n",
              "      display:flex;\n",
              "      gap: 12px;\n",
              "    }\n",
              "\n",
              "    .colab-df-convert {\n",
              "      background-color: #E8F0FE;\n",
              "      border: none;\n",
              "      border-radius: 50%;\n",
              "      cursor: pointer;\n",
              "      display: none;\n",
              "      fill: #1967D2;\n",
              "      height: 32px;\n",
              "      padding: 0 0 0 0;\n",
              "      width: 32px;\n",
              "    }\n",
              "\n",
              "    .colab-df-convert:hover {\n",
              "      background-color: #E2EBFA;\n",
              "      box-shadow: 0px 1px 2px rgba(60, 64, 67, 0.3), 0px 1px 3px 1px rgba(60, 64, 67, 0.15);\n",
              "      fill: #174EA6;\n",
              "    }\n",
              "\n",
              "    .colab-df-buttons div {\n",
              "      margin-bottom: 4px;\n",
              "    }\n",
              "\n",
              "    [theme=dark] .colab-df-convert {\n",
              "      background-color: #3B4455;\n",
              "      fill: #D2E3FC;\n",
              "    }\n",
              "\n",
              "    [theme=dark] .colab-df-convert:hover {\n",
              "      background-color: #434B5C;\n",
              "      box-shadow: 0px 1px 3px 1px rgba(0, 0, 0, 0.15);\n",
              "      filter: drop-shadow(0px 1px 2px rgba(0, 0, 0, 0.3));\n",
              "      fill: #FFFFFF;\n",
              "    }\n",
              "  </style>\n",
              "\n",
              "    <script>\n",
              "      const buttonEl =\n",
              "        document.querySelector('#df-6c398b60-0ec8-4b04-818c-584e619c7f68 button.colab-df-convert');\n",
              "      buttonEl.style.display =\n",
              "        google.colab.kernel.accessAllowed ? 'block' : 'none';\n",
              "\n",
              "      async function convertToInteractive(key) {\n",
              "        const element = document.querySelector('#df-6c398b60-0ec8-4b04-818c-584e619c7f68');\n",
              "        const dataTable =\n",
              "          await google.colab.kernel.invokeFunction('convertToInteractive',\n",
              "                                                    [key], {});\n",
              "        if (!dataTable) return;\n",
              "\n",
              "        const docLinkHtml = 'Like what you see? Visit the ' +\n",
              "          '<a target=\"_blank\" href=https://colab.research.google.com/notebooks/data_table.ipynb>data table notebook</a>'\n",
              "          + ' to learn more about interactive tables.';\n",
              "        element.innerHTML = '';\n",
              "        dataTable['output_type'] = 'display_data';\n",
              "        await google.colab.output.renderOutput(dataTable, element);\n",
              "        const docLink = document.createElement('div');\n",
              "        docLink.innerHTML = docLinkHtml;\n",
              "        element.appendChild(docLink);\n",
              "      }\n",
              "    </script>\n",
              "  </div>\n",
              "\n",
              "\n",
              "<div id=\"df-12ac4ffd-8743-4bb8-9932-3bf854feb35d\">\n",
              "  <button class=\"colab-df-quickchart\" onclick=\"quickchart('df-12ac4ffd-8743-4bb8-9932-3bf854feb35d')\"\n",
              "            title=\"Suggest charts\"\n",
              "            style=\"display:none;\">\n",
              "\n",
              "<svg xmlns=\"http://www.w3.org/2000/svg\" height=\"24px\"viewBox=\"0 0 24 24\"\n",
              "     width=\"24px\">\n",
              "    <g>\n",
              "        <path d=\"M19 3H5c-1.1 0-2 .9-2 2v14c0 1.1.9 2 2 2h14c1.1 0 2-.9 2-2V5c0-1.1-.9-2-2-2zM9 17H7v-7h2v7zm4 0h-2V7h2v10zm4 0h-2v-4h2v4z\"/>\n",
              "    </g>\n",
              "</svg>\n",
              "  </button>\n",
              "\n",
              "<style>\n",
              "  .colab-df-quickchart {\n",
              "      --bg-color: #E8F0FE;\n",
              "      --fill-color: #1967D2;\n",
              "      --hover-bg-color: #E2EBFA;\n",
              "      --hover-fill-color: #174EA6;\n",
              "      --disabled-fill-color: #AAA;\n",
              "      --disabled-bg-color: #DDD;\n",
              "  }\n",
              "\n",
              "  [theme=dark] .colab-df-quickchart {\n",
              "      --bg-color: #3B4455;\n",
              "      --fill-color: #D2E3FC;\n",
              "      --hover-bg-color: #434B5C;\n",
              "      --hover-fill-color: #FFFFFF;\n",
              "      --disabled-bg-color: #3B4455;\n",
              "      --disabled-fill-color: #666;\n",
              "  }\n",
              "\n",
              "  .colab-df-quickchart {\n",
              "    background-color: var(--bg-color);\n",
              "    border: none;\n",
              "    border-radius: 50%;\n",
              "    cursor: pointer;\n",
              "    display: none;\n",
              "    fill: var(--fill-color);\n",
              "    height: 32px;\n",
              "    padding: 0;\n",
              "    width: 32px;\n",
              "  }\n",
              "\n",
              "  .colab-df-quickchart:hover {\n",
              "    background-color: var(--hover-bg-color);\n",
              "    box-shadow: 0 1px 2px rgba(60, 64, 67, 0.3), 0 1px 3px 1px rgba(60, 64, 67, 0.15);\n",
              "    fill: var(--button-hover-fill-color);\n",
              "  }\n",
              "\n",
              "  .colab-df-quickchart-complete:disabled,\n",
              "  .colab-df-quickchart-complete:disabled:hover {\n",
              "    background-color: var(--disabled-bg-color);\n",
              "    fill: var(--disabled-fill-color);\n",
              "    box-shadow: none;\n",
              "  }\n",
              "\n",
              "  .colab-df-spinner {\n",
              "    border: 2px solid var(--fill-color);\n",
              "    border-color: transparent;\n",
              "    border-bottom-color: var(--fill-color);\n",
              "    animation:\n",
              "      spin 1s steps(1) infinite;\n",
              "  }\n",
              "\n",
              "  @keyframes spin {\n",
              "    0% {\n",
              "      border-color: transparent;\n",
              "      border-bottom-color: var(--fill-color);\n",
              "      border-left-color: var(--fill-color);\n",
              "    }\n",
              "    20% {\n",
              "      border-color: transparent;\n",
              "      border-left-color: var(--fill-color);\n",
              "      border-top-color: var(--fill-color);\n",
              "    }\n",
              "    30% {\n",
              "      border-color: transparent;\n",
              "      border-left-color: var(--fill-color);\n",
              "      border-top-color: var(--fill-color);\n",
              "      border-right-color: var(--fill-color);\n",
              "    }\n",
              "    40% {\n",
              "      border-color: transparent;\n",
              "      border-right-color: var(--fill-color);\n",
              "      border-top-color: var(--fill-color);\n",
              "    }\n",
              "    60% {\n",
              "      border-color: transparent;\n",
              "      border-right-color: var(--fill-color);\n",
              "    }\n",
              "    80% {\n",
              "      border-color: transparent;\n",
              "      border-right-color: var(--fill-color);\n",
              "      border-bottom-color: var(--fill-color);\n",
              "    }\n",
              "    90% {\n",
              "      border-color: transparent;\n",
              "      border-bottom-color: var(--fill-color);\n",
              "    }\n",
              "  }\n",
              "</style>\n",
              "\n",
              "  <script>\n",
              "    async function quickchart(key) {\n",
              "      const quickchartButtonEl =\n",
              "        document.querySelector('#' + key + ' button');\n",
              "      quickchartButtonEl.disabled = true;  // To prevent multiple clicks.\n",
              "      quickchartButtonEl.classList.add('colab-df-spinner');\n",
              "      try {\n",
              "        const charts = await google.colab.kernel.invokeFunction(\n",
              "            'suggestCharts', [key], {});\n",
              "      } catch (error) {\n",
              "        console.error('Error during call to suggestCharts:', error);\n",
              "      }\n",
              "      quickchartButtonEl.classList.remove('colab-df-spinner');\n",
              "      quickchartButtonEl.classList.add('colab-df-quickchart-complete');\n",
              "    }\n",
              "    (() => {\n",
              "      let quickchartButtonEl =\n",
              "        document.querySelector('#df-12ac4ffd-8743-4bb8-9932-3bf854feb35d button');\n",
              "      quickchartButtonEl.style.display =\n",
              "        google.colab.kernel.accessAllowed ? 'block' : 'none';\n",
              "    })();\n",
              "  </script>\n",
              "</div>\n",
              "\n",
              "    </div>\n",
              "  </div>\n"
            ],
            "application/vnd.google.colaboratory.intrinsic+json": {
              "type": "dataframe",
              "summary": "{\n  \"name\": \"test_set\",\n  \"rows\": 3,\n  \"fields\": [\n    {\n      \"column\": \"class_\",\n      \"properties\": {\n        \"dtype\": \"string\",\n        \"num_unique_values\": 3,\n        \"samples\": [\n          \"+\",\n          \"-\",\n          \"?\"\n        ],\n        \"semantic_type\": \"\",\n        \"description\": \"\"\n      }\n    },\n    {\n      \"column\": \"words\",\n      \"properties\": {\n        \"dtype\": \"number\",\n        \"std\": 1,\n        \"min\": 3,\n        \"max\": 6,\n        \"num_unique_values\": 3,\n        \"samples\": [\n          6,\n          3,\n          4\n        ],\n        \"semantic_type\": \"\",\n        \"description\": \"\"\n      }\n    }\n  ]\n}"
            }
          },
          "metadata": {},
          "execution_count": 6
        }
      ]
    },
    {
      "cell_type": "markdown",
      "source": [
        "**Importante:** Hasta el momento hemos creado nuestros conjuntos de train y test. A continuacion ustedes deben implementar tres modelos de clasificacion: Naive-bayes, Linear Model y Neural Network. Aqui va un resumen de cada pregunta y lo que se les pide implementar:\n",
        "\n",
        "* P1: Naive-bayes\n",
        " - Implementar `fit` y `predict`\n",
        " - Entrenar\n",
        " - Evaluar\n",
        "\n",
        "* P2: Linear Model\n",
        " - Implementar `fit` con *on-line gradient descent* y `predict`\n",
        " - Entrenar\n",
        " - Evaluar\n",
        "\n",
        "* P3: Neural Network\n",
        " - Implementar un iterador de datos con `datasets` y `dataloaders`\n",
        " - Implementar una red neuronal con `pytorch`\n",
        " - Implementar loop de entrenamiento de una NN\n",
        " - Entrenar\n",
        " - Evaluar"
      ],
      "metadata": {
        "id": "bTfP4UGXZUSX"
      }
    },
    {
      "cell_type": "markdown",
      "source": [
        "## P1. Implementar y evaluar Multinomial Naive-Bayes (2 puntos)"
      ],
      "metadata": {
        "id": "IxYRIr-Ob010"
      }
    },
    {
      "cell_type": "markdown",
      "source": [
        "### Clase para clasificador\n",
        "\n",
        "Cree una clase MyMultinomialNB que en su inicializador reciba el parámetro alpha para su clasficador.\n",
        "\n",
        "Además, debe implementar los métodos `fit(X, y)`y `predict(X)`.\n",
        "\n",
        "```python\n",
        "class MyMultinomialNB():\n",
        "  def __init__(self, alpha, ...):\n",
        "    ...\n",
        "\n",
        "  def fit(self, X, y):\n",
        "    ...\n",
        "  \n",
        "  def predict(self, X):\n",
        "    ...\n",
        "    return prediction\n",
        "```\n",
        "Para computar el entrenamiento de nuestro clasificador debemos:\n",
        "- extraer el vocabulario,\n",
        "- determinar las probabilidades $p(c_j)$ para cada una de las clases posibles,\n",
        "- determinar las probabilidades $p(w_i|c_j)$ para cada una de las palabras y cada una de las clases.\n",
        "\n",
        "Para lograr lo anterior, también deberán implementar el método `predict_proba(X)`:\n",
        "\n",
        "```python\n",
        "  def predict_proba(self, X):\n",
        "    return prob\n",
        "```\n",
        "\n",
        "**Underflow prevention:** En vez de hacer muchas multiplicaciones de `float`s, reemplácenlas por sumas de logaritmos para prevenir errores de precisión. (Revisen la diapo 26 de las slides).\n",
        "\n",
        "En su implementación deben considerar la tecnica de *Laplace Smoothing* vista en clases. Especificamente considere que su clase `MyMultinomialNB` reciba un parámetro `alpha` no negativo (es decir, mayor o igual a cero). De tal forma que el la probabilidad de una palabra $w$ dado la clase $c$ viene dado por lo siguiente:\n",
        "\n",
        "$$\n",
        "p_\\alpha (w|c) = \\frac{\\#(w, c) + \\alpha}{N + \\alpha |V|}\n",
        "$$\n",
        "\n",
        "donde $\\alpha$ es el parámetro `alpha` de *Laplace Smoothing*. Mientras que los otras notaciones corresponden a\n",
        "\n",
        "* $\\#(w, c)$ numero de veces que ocurre la palabra $w$ en documentos con la clase $c$ (pensar en un gran documento $D_c$ que concatena todos los documentos de clase $c$ y luego calcula la frecuencia de la palabra $w$ en $D_c$),\n",
        "* $N$ es igual a $\\sum \\{\\#(w', c): w' \\in V\\}$ donde $V$ es el vocabulario,\n",
        "* $|V|$ tamaño del vocabulario."
      ],
      "metadata": {
        "id": "UWZGccxjcFE-"
      }
    },
    {
      "cell_type": "markdown",
      "source": [
        "### Implementación (1.5 pts.)\n",
        "\n",
        "Escriba aquí la implementación de la clase `MyMultinomialNB`."
      ],
      "metadata": {
        "id": "Y0hFPME1aU9o"
      }
    },
    {
      "cell_type": "code",
      "source": [
        "import numpy as np\n",
        "\n",
        "class MyMultinomialNB():\n",
        "    def __init__(self, alpha=1.0):\n",
        "        self.alpha = alpha\n",
        "        self.class_log_prior_ = {}\n",
        "        self.word_log_prob_ = {}\n",
        "        self.vocab = set()\n",
        "        self.word_counts = {}\n",
        "\n",
        "    def fit(self, X, y):\n",
        "        class_counts = y.value_counts()\n",
        "        word_counts = {c: {} for c in class_counts.keys()}\n",
        "        for text, label in zip(X.words, y):  # Ensure to access the 'words' column from X\n",
        "            for word in text:\n",
        "                if word not in word_counts[label]:\n",
        "                    word_counts[label][word] = 0\n",
        "                word_counts[label][word] += 1\n",
        "                self.vocab.add(word)\n",
        "\n",
        "        total_docs = y.shape[0]\n",
        "        for c in class_counts.keys():\n",
        "            self.class_log_prior_[c] = np.log(class_counts[c] / total_docs)\n",
        "            total_count = sum(word_counts[c].values())\n",
        "            denom = total_count + self.alpha * len(self.vocab)\n",
        "            self.word_log_prob_[c] = {}\n",
        "            for word in self.vocab:\n",
        "                count = word_counts[c].get(word, 0)  # Use get to safely access count\n",
        "\n",
        "                if (count + self.alpha) == 0:\n",
        "                    self.word_log_prob_[c][word] = -np.inf  # Log of zero probability\n",
        "                else:\n",
        "                    self.word_log_prob_[c][word] = np.log((count + self.alpha) / denom)\n",
        "\n",
        "\n",
        "        self.word_counts = word_counts\n",
        "\n",
        "    def predict_proba(self, X):\n",
        "        proba = []\n",
        "        for text in X.words:  # Ensure to access the 'words' column from X\n",
        "            class_probs = {c: self.class_log_prior_[c] for c in self.class_log_prior_}\n",
        "            for c in self.word_log_prob_:\n",
        "                for word in text:\n",
        "                    if word in self.word_log_prob_[c]:\n",
        "                        class_probs[c] += self.word_log_prob_[c][word]\n",
        "                    else:\n",
        "                        total_count = sum(self.word_counts[c].values())\n",
        "\n",
        "                        if self.alpha == 0:\n",
        "                            class_probs[c] += -np.inf\n",
        "                        else:\n",
        "                            class_probs[c] += np.log(self.alpha / (total_count + self.alpha * len(self.vocab)))\n",
        "\n",
        "\n",
        "            proba.append(class_probs)\n",
        "        return proba\n",
        "\n",
        "    def predict(self, X):\n",
        "        proba = self.predict_proba(X)\n",
        "        predictions = [max(p, key=p.get) for p in proba]\n",
        "        return pd.Series(predictions, index=X.index)\n"
      ],
      "metadata": {
        "id": "JU5i9li8g7CS"
      },
      "execution_count": 7,
      "outputs": []
    },
    {
      "cell_type": "markdown",
      "source": [
        "### Entrenamiento (0.2 pts.)\n",
        "A continuación, inicialicen y entrenen (ajusten) su clasificador con los datos de entrenamiento."
      ],
      "metadata": {
        "id": "eY0j4Ruy0Cxr"
      }
    },
    {
      "cell_type": "code",
      "source": [
        "nb_model = MyMultinomialNB(alpha=0.1)\n",
        "nb_model.fit(X_train, y_train);"
      ],
      "metadata": {
        "id": "EuLl606ZjN4U"
      },
      "execution_count": 8,
      "outputs": []
    },
    {
      "cell_type": "markdown",
      "source": [
        "Pruébenlo utilizando el método `predict()` que implementaron."
      ],
      "metadata": {
        "id": "CvTzP9vPjfFH"
      }
    },
    {
      "cell_type": "code",
      "source": [
        "from sklearn.metrics import classification_report"
      ],
      "metadata": {
        "id": "j5wph2IQuAzo"
      },
      "execution_count": 9,
      "outputs": []
    },
    {
      "cell_type": "code",
      "source": [
        "# Predict train-set\n",
        "y_pred = nb_model.predict(X_train)\n",
        "print(y_pred)"
      ],
      "metadata": {
        "colab": {
          "base_uri": "https://localhost:8080/"
        },
        "id": "RQtmK4jfi8mP",
        "outputId": "5886ac8f-37ef-4e89-b47b-8dcf794b6c2c"
      },
      "execution_count": 10,
      "outputs": [
        {
          "output_type": "stream",
          "name": "stdout",
          "text": [
            "0     ?\n",
            "1     ?\n",
            "2     ?\n",
            "3     ?\n",
            "4     -\n",
            "5     -\n",
            "6     -\n",
            "7     ?\n",
            "8     ?\n",
            "9     ?\n",
            "10    -\n",
            "11    -\n",
            "12    -\n",
            "13    ?\n",
            "14    ?\n",
            "15    ?\n",
            "16    ?\n",
            "17    ?\n",
            "18    ?\n",
            "19    ?\n",
            "20    +\n",
            "21    +\n",
            "22    +\n",
            "23    +\n",
            "24    -\n",
            "25    +\n",
            "26    +\n",
            "27    +\n",
            "28    +\n",
            "29    +\n",
            "30    +\n",
            "31    +\n",
            "32    +\n",
            "33    +\n",
            "dtype: object\n"
          ]
        }
      ]
    },
    {
      "cell_type": "code",
      "source": [
        "# Metricas en el conjunto de train\n",
        "print(classification_report(y_train, y_pred))"
      ],
      "metadata": {
        "colab": {
          "base_uri": "https://localhost:8080/"
        },
        "id": "702uKpJLtPJj",
        "outputId": "6a045dfb-7435-4c6b-9e11-38b8902231aa"
      },
      "execution_count": 11,
      "outputs": [
        {
          "output_type": "stream",
          "name": "stdout",
          "text": [
            "              precision    recall  f1-score   support\n",
            "\n",
            "           +       1.00      1.00      1.00        13\n",
            "           -       1.00      1.00      1.00         7\n",
            "           ?       1.00      1.00      1.00        14\n",
            "\n",
            "    accuracy                           1.00        34\n",
            "   macro avg       1.00      1.00      1.00        34\n",
            "weighted avg       1.00      1.00      1.00        34\n",
            "\n"
          ]
        }
      ]
    },
    {
      "cell_type": "markdown",
      "source": [
        "### Evaluación (0.3 pts.)\n",
        "\n",
        "Ahora probarán el funcionamiento de su clasificador con un conjunto de test.  Habiendo entrenado su clasificador, clasifiquen los documentos del conjunto de prueba `test_set` usando el método `predict`.\n"
      ],
      "metadata": {
        "id": "tzRqkuso1PWT"
      }
    },
    {
      "cell_type": "code",
      "source": [
        "y_pred = nb_model.predict(X_test)\n",
        "print(classification_report(y_test, y_pred))"
      ],
      "metadata": {
        "id": "UjMuND9djskK",
        "colab": {
          "base_uri": "https://localhost:8080/"
        },
        "outputId": "f5fac90c-c767-43c3-a6b9-37346374ae80"
      },
      "execution_count": 12,
      "outputs": [
        {
          "output_type": "stream",
          "name": "stdout",
          "text": [
            "              precision    recall  f1-score   support\n",
            "\n",
            "           +       1.00      0.50      0.67         6\n",
            "           -       0.50      1.00      0.67         3\n",
            "           ?       1.00      1.00      1.00         4\n",
            "\n",
            "    accuracy                           0.77        13\n",
            "   macro avg       0.83      0.83      0.78        13\n",
            "weighted avg       0.88      0.77      0.77        13\n",
            "\n"
          ]
        }
      ]
    },
    {
      "cell_type": "markdown",
      "source": [
        "Comenten sus resultados. Estudien que ocurre para alpha=0, 1 y L donde L es un numero muy grande."
      ],
      "metadata": {
        "id": "ocUR88cQ5S2q"
      }
    },
    {
      "cell_type": "markdown",
      "source": [
        "\n",
        "\n",
        "\n",
        "Para el modelo MyMultinomialNB con un α=0.1, los resultados mostraron una precisión perfecta en el conjunto de entrenamiento con valores de precisión, sensibilidad y medida F1 de 1.00 para todas las clases. Esto indica que el modelo pudo clasificar correctamente todas las instancias de entrenamiento. Sin embargo, cuando el modelo se aplicó al conjunto de prueba, la precisión general disminuyó a 0.77, con variaciones significativas en las métricas por clase. La clase '+' tuvo una precisión de 1.00 pero una sensibilidad de solo 0.50, lo que indica que el modelo no detectó todas las instancias positivas correctamente. En contraste, la clase '-' mostró una precisión más baja de 0.50, pero una sensibilidad de 1.00, indicando que mientras todas las instancias negativas se detectaron, también hubo falsos positivos.\n",
        "\n",
        "Cuando se analiza el impacto del valor de α en el rendimiento del clasificador, la configuración de α=0 podría llevar a problemas con palabras no vistas durante el entrenamiento, ya que la probabilidad asignada a estas sería cero, lo cual podría afectar negativamente la capacidad del modelo para realizar predicciones correctas sobre nuevos datos.\n",
        "\n",
        "Al aumentar α a 1, se implementa el suavizado de Laplace estándar. Esto puede ayudar a manejar mejor las palabras no vistas al evitar probabilidades cero, ofreciendo un balance más estable entre la detección de nuevas palabras y la clasificación basada en el entrenamiento previo.\n",
        "\n",
        "Un α muy alto, como 1000, asignaría una importancia excesiva al suavizado, probablemente resultando en que todas las palabras tengan probabilidades similares condicionadas a la clase, independientemente de su frecuencia real en los datos. Esto podría diluir características léxicas distintivas de cada clase y reducir la capacidad del modelo para diferenciar entre clases basado en el texto, posiblemente empeorando significativamente el rendimiento en datos no vistos.\n"
      ],
      "metadata": {
        "id": "MjvzyLHJVFdg"
      }
    },
    {
      "cell_type": "markdown",
      "source": [
        "\n",
        "Se proceden a calcular las métricas para los 3 casos de α con el fin de verificar si se cumplen estas hipótesis.\n"
      ],
      "metadata": {
        "id": "_UQSCgKp5ZMq"
      }
    },
    {
      "cell_type": "code",
      "source": [
        "nb_model = MyMultinomialNB(alpha=0)\n",
        "nb_model.fit(X_train, y_train);\n",
        "\n",
        "y_pred = nb_model.predict(X_test)\n",
        "# Specify zero_division=0 to handle divisions by zero in precision calculation\n",
        "print(classification_report(y_test, y_pred, zero_division=0))"
      ],
      "metadata": {
        "colab": {
          "base_uri": "https://localhost:8080/"
        },
        "id": "fnNqvwXy5rfo",
        "outputId": "ec6ab1f2-a75e-41ec-ab0b-57dad1b54d90"
      },
      "execution_count": 13,
      "outputs": [
        {
          "output_type": "stream",
          "name": "stdout",
          "text": [
            "              precision    recall  f1-score   support\n",
            "\n",
            "           +       0.00      0.00      0.00         6\n",
            "           -       1.00      1.00      1.00         3\n",
            "           ?       0.40      1.00      0.57         4\n",
            "\n",
            "    accuracy                           0.54        13\n",
            "   macro avg       0.47      0.67      0.52        13\n",
            "weighted avg       0.35      0.54      0.41        13\n",
            "\n"
          ]
        }
      ]
    },
    {
      "cell_type": "code",
      "source": [
        "nb_model = MyMultinomialNB(alpha=1000)\n",
        "nb_model.fit(X_train, y_train);\n",
        "\n",
        "y_pred = nb_model.predict(X_test)\n",
        "print(classification_report(y_test, y_pred, zero_division=0))"
      ],
      "metadata": {
        "colab": {
          "base_uri": "https://localhost:8080/"
        },
        "id": "irR4dNxW5ulK",
        "outputId": "988bc38a-ee28-4ac9-e2c6-06a6ee3b6340"
      },
      "execution_count": 14,
      "outputs": [
        {
          "output_type": "stream",
          "name": "stdout",
          "text": [
            "              precision    recall  f1-score   support\n",
            "\n",
            "           +       0.00      0.00      0.00         6\n",
            "           -       0.00      0.00      0.00         3\n",
            "           ?       0.31      1.00      0.47         4\n",
            "\n",
            "    accuracy                           0.31        13\n",
            "   macro avg       0.10      0.33      0.16        13\n",
            "weighted avg       0.09      0.31      0.14        13\n",
            "\n"
          ]
        }
      ]
    },
    {
      "cell_type": "markdown",
      "source": [
        "\n",
        "El análisis empírico de los resultados con diferentes valores de α para el clasificador MyMultinomialNB muestra variaciones significativas en el rendimiento en el conjunto de prueba, reflejando la importancia crítica de este parámetro en la generalización del modelo.\n",
        "\n",
        "Con α = 0, que no incluye ningún suavizado, se observa un deterioro marcado en la clasificación de las clases '+'. Aquí, la precisión y sensibilidad son ambas 0.00, indicando que el modelo no logró identificar correctamente ninguna instancia de esta clase. Esto es típico de un modelo sin suavizado, ya que las palabras no vistas durante el entrenamiento resultan en probabilidades condicionadas de cero, incapacitando al modelo para predecir clases con estas palabras nuevas. No obstante, para la clase '-', el modelo alcanzó una precisión y sensibilidad perfectas de 1.00, mostrando que pudo identificar y clasificar correctamente todas las instancias negativas sin errores. La clase '?' tuvo un desempeño aceptable con una sensibilidad de 1.00 y una precisión de 0.40, sugiriendo que, aunque identificó todas las instancias de esta clase, también asignó erróneamente otras clases a '?'. Esto resulta en una precisión más baja y una medida F1 de 0.57.\n",
        "\n",
        "Cuando α = 1, el modelo emplea suavizado estándar de Laplace, lo que mejora notablemente el equilibrio en el rendimiento a través de las clases. La precisión y sensibilidad para la clase '+' mejoraron a 1.00 y 0.50, respectivamente, indicando que el modelo ahora puede identificar correctamente algunas de las instancias positivas. La clase '-' también muestra mejoras con una precisión de 0.50 y una sensibilidad de 1.00, reflejando la capacidad del modelo para reconocer todas las instancias negativas, aunque con cierta propensión a clasificar incorrectamente otras clases como '-'. La clase '?' mantiene un rendimiento perfecto en precisión y sensibilidad.\n",
        "\n",
        "Finalmente, con α = 1000, un valor extremadamente alto que favorece un suavizado excesivo, el rendimiento general del modelo se desploma. Las clases '+' y '-' muestran tanto precisión como sensibilidad de 0.00, lo que significa que el modelo es completamente incapaz de identificar estas instancias correctamente. Esto se debe a que un α muy alto hace que las frecuencias observadas tengan poco impacto en las probabilidades calculadas, resultando en que el modelo no pueda distinguir adecuadamente entre las clases basadas en características léxicas. La clase '?' sigue detectándose correctamente (sensibilidad de 1.00), pero la precisión es solo de 0.31, lo que refleja clasificaciones incorrectas asignadas a esta categoría.\n",
        "\n",
        "Estos resultados empíricos resaltan cómo diferentes configuraciones de α impactan significativamente la capacidad del modelo para generalizar sobre datos no vistos, ilustrando la importancia de seleccionar un valor de suavizado que ofrezca un equilibrio entre manejar adecuadamente nuevas palabras y mantener la precisión léxica entre clases.\n"
      ],
      "metadata": {
        "id": "9CV62Hx950CS"
      }
    },
    {
      "cell_type": "markdown",
      "source": [
        "## P2. Implementar y evaluar Linear Models (2 puntos)"
      ],
      "metadata": {
        "id": "mNSdg__vb6J7"
      }
    },
    {
      "cell_type": "markdown",
      "source": [
        "### Clase para clasificador\n",
        "\n",
        "Cree una clase MyLinearModel para su clasficador. Debe implementar los métodos `fit(X, y, learning_rate, epochs)`y `predict(X)`.\n",
        "\n",
        "```python\n",
        "class MyLinearModel():\n",
        "  def __init__(self, ...):\n",
        "    ...\n",
        "\n",
        "  def fit(self, X, y, learning_rate, epochs):\n",
        "    ...\n",
        "  \n",
        "  def predict(self, X):\n",
        "    ...\n",
        "    return prediction\n",
        "```\n",
        "\n",
        "El modelo lineal que debe implementar viene dado por:\n",
        "$$\n",
        "\\vec{\\hat{y}} = \\text{softmax}(\\vec{x} \\cdot W + \\vec{b})\\\\\n",
        "\\vec{\\hat{y}}_{[i]} = \\frac{\\exp{z_i}}{\\sum_{j} \\exp{z_j}}\\\\\n",
        "z_i = \\vec{x} \\cdot W_{[:, i]} + \\vec{b}_{[i]}\n",
        "$$\n",
        "donde $\\vec{x}$ es un documento representado con bolsas de palabras (BoW), $W$ es la matriz de pesos y $\\vec{b}$ el bias.\n",
        "\n",
        "El modelo linea debe ajustarlo considerando como objetivo minimizar la cross-entropy loss, es decir:\n",
        "\n",
        "$$\n",
        "L_\\text{cross-entropy}(\\vec{\\hat{y}}, \\vec{y}) = - \\sum_i \\vec{y}_{[i]} \\log{ \\left( \\vec{\\hat{y}}_{[i]} \\right) }\n",
        "$$\n",
        "\n",
        "Para representar un documento `(i, am, not, really, sure)` vectorialmente, utilice `CountVectorizer` de sklearn. De esta manera, el documento queda representado como sigue:\n",
        "\n",
        "|    |   i |   he |   am |   are |   not |   yes |   really |   sure |\n",
        "|---:|----:|-----:|-----:|------:|------:|------:|---------:|-------:|\n",
        "|  0 |   1 |    0 |    1 |     0 |     1 |     0 |        1 |      1 |\n",
        "\n",
        "**Observación:** Si el documento repite palabras entonces tendrá un número mayor a 1. Si el documento no tiene la palabra entonces tiene un 0. Pensar que las palabras `(he, are, yes)` provienen de otros documentos. Recuerde que el `CountVectorizer` se entrena con más de un documento (es decir, un corpus). Aquí debe usar el conjunto de train.\n",
        "\n",
        "El método `fit(X, y, learning_rate, epochs)` debe ajustar un `CountVectorizer` para representar vectorialmente el documento. Debe guardar el `CountVectorizer` para cuando quiera hacer predicciones. Dentro del método `fit(X, y, learning_rate, epochs)` debe implementar *On-line gradient descent* (visto en clases), es decir, descenso de gradiente usando un data-point por iteración. Su método debe ser capaz de recibir un `learning_rate` para ponderar el gradiente en cada iteración y fijar un número de `epochs`. Luego de entrenar debe guardar los pesos de su modelo lineal, es decir, $(W, \\vec{b})$.\n",
        "\n",
        "En el algoritmo de descenso de gradiente usando un data-point por iteración, o *On-line gradient descent*, debe implementar manualmente las derivadas. Como conoce el modelo lineal y la funcion objetivo, entonces puede calcular manualmente las derivadas. Para ejemplificar, en cada paso del algoritmo de optimizacion debe actualizar los pesos $(W, \\vec{b})$ del siguiente modo:\n",
        "\n",
        "$$\n",
        "W \\leftarrow W - \\lambda \\nabla_{W} L_\\text{cross-entropy}\\\\\n",
        "\\vec{b} \\leftarrow \\vec{b} - \\lambda \\nabla_{\\vec{b}} L_\\text{cross-entropy}\\\\\n",
        "$$\n",
        "donde $\\lambda$ es el parámetro `learning_rate`, $\\nabla_{W} L_\\text{cross-entropy}$ el gradiente de la Loss con repecto a la matriz de pesos $W$ y $\\nabla_{\\vec{b}} L_\\text{cross-entropy}$ para el bias $\\vec{b}$.\n",
        "\n",
        "Para implementar el algoritmo *On-line gradient descent* les recomendamos (no es obligatorio hacerlo de este modo) definir una función `get_derivative_W(x, y_target, y_pred, n_classes)` que calcule $\\nabla_{W} L_\\text{cross-entropy}$ y lo mismo con una función `get_derivative_b(y_target, y_pred, n_classes)` que calcule $\\nabla_{\\vec{b}} L_\\text{cross-entropy}$.\n",
        "\n",
        "Para implementar el método `predict(self, X)` debera usar su `CountVectorizer` definido en `fit(X, y, learning_rate, epochs)` para representar del mismo modo cualquier documento tanto en train como en test."
      ],
      "metadata": {
        "id": "sSlhzDQ5ac3u"
      }
    },
    {
      "cell_type": "markdown",
      "source": [
        "### Implementación (1.5 pts.)\n",
        "Implemente un modelo lineal con métodos `fit(X, y)` y `predict(X)`"
      ],
      "metadata": {
        "id": "dqJhGTQS0rpv"
      }
    },
    {
      "cell_type": "code",
      "source": [
        "from sklearn.metrics import accuracy_score\n",
        "from sklearn.feature_extraction.text import CountVectorizer\n",
        "from sklearn.preprocessing import LabelEncoder\n"
      ],
      "metadata": {
        "id": "8mC0G9fPHNbj"
      },
      "execution_count": 15,
      "outputs": []
    },
    {
      "cell_type": "code",
      "source": [
        "class MyLinearModel():\n",
        "    def __init__(self):\n",
        "        self.W = None\n",
        "        self.b = None\n",
        "        self.classes_ = None\n",
        "        self.vectorizer = CountVectorizer()\n",
        "        self.label_encoder = LabelEncoder()\n",
        "\n",
        "    def softmax(self, x):\n",
        "        e_x = np.exp(x - np.max(x))\n",
        "        return e_x / e_x.sum(axis=0)\n",
        "\n",
        "    def get_derivative_W(self, x, y_target, y_pred):\n",
        "        return np.outer(x, y_pred - y_target)\n",
        "\n",
        "    def get_derivative_b(self, y_target, y_pred):\n",
        "        return y_pred - y_target\n",
        "\n",
        "    def fit(self, X, y, learning_rate, epochs, verbose=False):\n",
        "\n",
        "        X_vec = X['words'].apply(lambda x: ' '.join(x))\n",
        "        self.vectorizer.fit(X_vec)\n",
        "        X_vec = self.vectorizer.transform(X_vec).toarray()\n",
        "\n",
        "        self.classes_ = np.unique(y)\n",
        "\n",
        "        new_y = self.label_encoder.fit_transform(y)\n",
        "\n",
        "        self.W = np.random.rand(X_vec.shape[1], len(self.classes_))\n",
        "        self.b = np.random.rand(len(self.classes_))\n",
        "\n",
        "        predicts = self.predict(X)\n",
        "\n",
        "        if verbose:\n",
        "            print(f'Modelo no-entrenado. {accuracy_score(y, predicts)}')\n",
        "\n",
        "        for epoch in range(epochs):\n",
        "            for i in range(X_vec.shape[0]):\n",
        "                x = X_vec[i]\n",
        "                y_target = np.zeros(len(self.classes_))\n",
        "                y_target[new_y[i]] = 1\n",
        "                y_pred = self.softmax(np.dot(x, self.W) + self.b)\n",
        "\n",
        "                self.W = self.W - learning_rate * self.get_derivative_W(x, y_target, y_pred)\n",
        "                self.b = self.b - learning_rate * self.get_derivative_b(y_target, y_pred)\n",
        "\n",
        "            predicts = self.predict(X)\n",
        "\n",
        "            if verbose:\n",
        "\n",
        "                print(f'Epoca {epoch+1} completada! Accuracy: {accuracy_score(y, predicts)}')\n",
        "\n",
        "    def predict(self, X):\n",
        "\n",
        "        X_vec = X['words'].apply(lambda x: ' '.join(x))\n",
        "        X = self.vectorizer.transform(X_vec).toarray()\n",
        "        y_pred = self.softmax(np.dot(X, self.W) + self.b)\n",
        "        y_pred_classes = np.argmax(y_pred, axis=1)\n",
        "        predicted_labels = [self.label_encoder.classes_[idx] for idx in y_pred_classes]\n",
        "\n",
        "        return predicted_labels\n"
      ],
      "metadata": {
        "id": "Khczi7dh1bTQ"
      },
      "execution_count": 16,
      "outputs": []
    },
    {
      "cell_type": "markdown",
      "source": [
        "### Entrenamiento (0.2 pts.)\n",
        "Inicialicen y entrenen su clasificador con los datos de entrenamiento."
      ],
      "metadata": {
        "id": "ANT3rY1QkhyZ"
      }
    },
    {
      "cell_type": "code",
      "source": [
        "linear_model = MyLinearModel()\n",
        "linear_model.fit(\n",
        "    X_train, y_train,\n",
        "    learning_rate=0.02,\n",
        "    epochs=15,\n",
        "    verbose=True)"
      ],
      "metadata": {
        "colab": {
          "base_uri": "https://localhost:8080/"
        },
        "id": "YXY8ACuVIRb9",
        "outputId": "8a570e5b-0331-4155-f88d-1770617e5231"
      },
      "execution_count": 17,
      "outputs": [
        {
          "output_type": "stream",
          "name": "stdout",
          "text": [
            "Modelo no-entrenado. 0.3235294117647059\n",
            "Epoca 1 completada! Accuracy: 0.3235294117647059\n",
            "Epoca 2 completada! Accuracy: 0.3235294117647059\n",
            "Epoca 3 completada! Accuracy: 0.4117647058823529\n",
            "Epoca 4 completada! Accuracy: 0.47058823529411764\n",
            "Epoca 5 completada! Accuracy: 0.47058823529411764\n",
            "Epoca 6 completada! Accuracy: 0.47058823529411764\n",
            "Epoca 7 completada! Accuracy: 0.47058823529411764\n",
            "Epoca 8 completada! Accuracy: 0.5\n",
            "Epoca 9 completada! Accuracy: 0.5588235294117647\n",
            "Epoca 10 completada! Accuracy: 0.5882352941176471\n",
            "Epoca 11 completada! Accuracy: 0.5882352941176471\n",
            "Epoca 12 completada! Accuracy: 0.6764705882352942\n",
            "Epoca 13 completada! Accuracy: 0.6764705882352942\n",
            "Epoca 14 completada! Accuracy: 0.7352941176470589\n",
            "Epoca 15 completada! Accuracy: 0.7352941176470589\n"
          ]
        }
      ]
    },
    {
      "cell_type": "markdown",
      "source": [
        "Pruébenlo utilizando el método `predict()` que implementaron."
      ],
      "metadata": {
        "id": "RDUL-ubzh04B"
      }
    },
    {
      "cell_type": "code",
      "source": [
        "# Predict train-set\n",
        "y_pred = linear_model.predict(X_train)\n",
        "print(y_pred)"
      ],
      "metadata": {
        "colab": {
          "base_uri": "https://localhost:8080/"
        },
        "id": "5JKjK3pUwL1w",
        "outputId": "562bb178-119c-49c9-c645-985864c9978d"
      },
      "execution_count": 18,
      "outputs": [
        {
          "output_type": "stream",
          "name": "stdout",
          "text": [
            "['?', '-', '-', '?', '-', '-', '-', '?', '-', '-', '-', '-', '-', '?', '?', '?', '?', '?', '?', '?', '-', '+', '-', '+', '-', '+', '?', '-', '+', '+', '+', '-', '+', '+']\n"
          ]
        }
      ]
    },
    {
      "cell_type": "code",
      "source": [
        "# Metricas en el conjunto de train\n",
        "print(classification_report(y_train, y_pred))"
      ],
      "metadata": {
        "colab": {
          "base_uri": "https://localhost:8080/"
        },
        "id": "8i6Qiu0RwP-w",
        "outputId": "d15024e9-c7a8-41d6-a883-2fdc31d5e5c1"
      },
      "execution_count": 19,
      "outputs": [
        {
          "output_type": "stream",
          "name": "stdout",
          "text": [
            "              precision    recall  f1-score   support\n",
            "\n",
            "           +       1.00      0.62      0.76        13\n",
            "           -       0.47      1.00      0.64         7\n",
            "           ?       0.91      0.71      0.80        14\n",
            "\n",
            "    accuracy                           0.74        34\n",
            "   macro avg       0.79      0.78      0.73        34\n",
            "weighted avg       0.85      0.74      0.75        34\n",
            "\n"
          ]
        }
      ]
    },
    {
      "cell_type": "markdown",
      "source": [
        "### Evaluación (0.3 pts.)"
      ],
      "metadata": {
        "id": "gGzafGqr1GBX"
      }
    },
    {
      "cell_type": "markdown",
      "source": [
        "Ahora probarán el funcionamiento de su clasificador con un conjunto de test.  Habiendo entrenado su clasificador, clasifiquen los documentos del conjunto de prueba `test_set` usando el método `predict`."
      ],
      "metadata": {
        "id": "_3Tj_g-Qh7hD"
      }
    },
    {
      "cell_type": "code",
      "source": [
        "y_pred = linear_model.predict(X_test)\n",
        "print(classification_report(y_test, y_pred))"
      ],
      "metadata": {
        "colab": {
          "base_uri": "https://localhost:8080/"
        },
        "id": "-03hyMeQ94e0",
        "outputId": "cc56ab7c-6f74-4ba2-82d9-1432c9a700f5"
      },
      "execution_count": 20,
      "outputs": [
        {
          "output_type": "stream",
          "name": "stdout",
          "text": [
            "              precision    recall  f1-score   support\n",
            "\n",
            "           +       1.00      0.50      0.67         6\n",
            "           -       0.50      0.33      0.40         3\n",
            "           ?       0.50      1.00      0.67         4\n",
            "\n",
            "    accuracy                           0.62        13\n",
            "   macro avg       0.67      0.61      0.58        13\n",
            "weighted avg       0.73      0.62      0.61        13\n",
            "\n"
          ]
        }
      ]
    },
    {
      "cell_type": "markdown",
      "source": [
        "Comenten sus resultados. Estudien que ocurre para al menos tres combinaciones de learning rates y epochs, por ejemplo `learning_rate, epochs = (0.02, 15), (0.1, 10), (0.005, 30)`.\n",
        "\n"
      ],
      "metadata": {
        "id": "l9gVYYq5h_CU"
      }
    },
    {
      "cell_type": "code",
      "source": [
        "# (0.1, 10)\n",
        "linear_model = MyLinearModel()\n",
        "linear_model.fit(\n",
        "    X_train, y_train,\n",
        "    learning_rate=0.1,\n",
        "    epochs=10,\n",
        "    verbose=True)\n",
        "\n",
        "print(\" \")\n",
        "\n",
        "y_pred = linear_model.predict(X_test)\n",
        "print(classification_report(y_test, y_pred))"
      ],
      "metadata": {
        "colab": {
          "base_uri": "https://localhost:8080/"
        },
        "id": "j9ziL7ECIF9h",
        "outputId": "3c1e2e7d-3dd9-4645-cfdd-31ce6032672a"
      },
      "execution_count": 21,
      "outputs": [
        {
          "output_type": "stream",
          "name": "stdout",
          "text": [
            "Modelo no-entrenado. 0.23529411764705882\n",
            "Epoca 1 completada! Accuracy: 0.6764705882352942\n",
            "Epoca 2 completada! Accuracy: 0.7352941176470589\n",
            "Epoca 3 completada! Accuracy: 0.8529411764705882\n",
            "Epoca 4 completada! Accuracy: 0.8529411764705882\n",
            "Epoca 5 completada! Accuracy: 0.8529411764705882\n",
            "Epoca 6 completada! Accuracy: 0.8823529411764706\n",
            "Epoca 7 completada! Accuracy: 0.8823529411764706\n",
            "Epoca 8 completada! Accuracy: 0.9117647058823529\n",
            "Epoca 9 completada! Accuracy: 0.9117647058823529\n",
            "Epoca 10 completada! Accuracy: 0.9117647058823529\n",
            " \n",
            "              precision    recall  f1-score   support\n",
            "\n",
            "           +       1.00      0.67      0.80         6\n",
            "           -       0.75      1.00      0.86         3\n",
            "           ?       0.80      1.00      0.89         4\n",
            "\n",
            "    accuracy                           0.85        13\n",
            "   macro avg       0.85      0.89      0.85        13\n",
            "weighted avg       0.88      0.85      0.84        13\n",
            "\n"
          ]
        }
      ]
    },
    {
      "cell_type": "code",
      "source": [
        "# (0.001, 30)\n",
        "linear_model = MyLinearModel()\n",
        "linear_model.fit(\n",
        "    X_train, y_train,\n",
        "    learning_rate=0.1,\n",
        "    epochs=10,\n",
        "    verbose=True)\n",
        "\n",
        "print(\" \")\n",
        "\n",
        "y_pred = linear_model.predict(X_test)\n",
        "print(classification_report(y_test, y_pred))"
      ],
      "metadata": {
        "colab": {
          "base_uri": "https://localhost:8080/"
        },
        "id": "RtTV_6dCr-p-",
        "outputId": "6aadc428-d448-4ab2-cab3-7942f7888a70"
      },
      "execution_count": 39,
      "outputs": [
        {
          "output_type": "stream",
          "name": "stdout",
          "text": [
            "Modelo no-entrenado. 0.23529411764705882\n",
            "Epoca 1 completada! Accuracy: 0.6176470588235294\n",
            "Epoca 2 completada! Accuracy: 0.7647058823529411\n",
            "Epoca 3 completada! Accuracy: 0.8529411764705882\n",
            "Epoca 4 completada! Accuracy: 0.8529411764705882\n",
            "Epoca 5 completada! Accuracy: 0.8823529411764706\n",
            "Epoca 6 completada! Accuracy: 0.8823529411764706\n",
            "Epoca 7 completada! Accuracy: 0.8823529411764706\n",
            "Epoca 8 completada! Accuracy: 0.8823529411764706\n",
            "Epoca 9 completada! Accuracy: 0.8823529411764706\n",
            "Epoca 10 completada! Accuracy: 0.8823529411764706\n",
            " \n",
            "              precision    recall  f1-score   support\n",
            "\n",
            "           +       0.86      1.00      0.92         6\n",
            "           -       1.00      1.00      1.00         3\n",
            "           ?       1.00      0.75      0.86         4\n",
            "\n",
            "    accuracy                           0.92        13\n",
            "   macro avg       0.95      0.92      0.93        13\n",
            "weighted avg       0.93      0.92      0.92        13\n",
            "\n"
          ]
        }
      ]
    },
    {
      "cell_type": "code",
      "source": [
        "# (0.005, 30)\n",
        "linear_model = MyLinearModel()\n",
        "linear_model.fit(\n",
        "    X_train, y_train,\n",
        "    learning_rate=0.005,\n",
        "    epochs=30,\n",
        "    verbose=True)\n",
        "\n",
        "print(\" \")\n",
        "\n",
        "y_pred = linear_model.predict(X_test)\n",
        "print(classification_report(y_test, y_pred))"
      ],
      "metadata": {
        "colab": {
          "base_uri": "https://localhost:8080/"
        },
        "id": "6wVDqn73Izeg",
        "outputId": "247cd72b-151a-4460-b01a-45209117217e"
      },
      "execution_count": 22,
      "outputs": [
        {
          "output_type": "stream",
          "name": "stdout",
          "text": [
            "Modelo no-entrenado. 0.23529411764705882\n",
            "Epoca 1 completada! Accuracy: 0.2647058823529412\n",
            "Epoca 2 completada! Accuracy: 0.2647058823529412\n",
            "Epoca 3 completada! Accuracy: 0.2647058823529412\n",
            "Epoca 4 completada! Accuracy: 0.29411764705882354\n",
            "Epoca 5 completada! Accuracy: 0.35294117647058826\n",
            "Epoca 6 completada! Accuracy: 0.35294117647058826\n",
            "Epoca 7 completada! Accuracy: 0.35294117647058826\n",
            "Epoca 8 completada! Accuracy: 0.35294117647058826\n",
            "Epoca 9 completada! Accuracy: 0.35294117647058826\n",
            "Epoca 10 completada! Accuracy: 0.4117647058823529\n",
            "Epoca 11 completada! Accuracy: 0.47058823529411764\n",
            "Epoca 12 completada! Accuracy: 0.5294117647058824\n",
            "Epoca 13 completada! Accuracy: 0.5882352941176471\n",
            "Epoca 14 completada! Accuracy: 0.5882352941176471\n",
            "Epoca 15 completada! Accuracy: 0.5882352941176471\n",
            "Epoca 16 completada! Accuracy: 0.5882352941176471\n",
            "Epoca 17 completada! Accuracy: 0.5882352941176471\n",
            "Epoca 18 completada! Accuracy: 0.6470588235294118\n",
            "Epoca 19 completada! Accuracy: 0.6470588235294118\n",
            "Epoca 20 completada! Accuracy: 0.7352941176470589\n",
            "Epoca 21 completada! Accuracy: 0.7352941176470589\n",
            "Epoca 22 completada! Accuracy: 0.7352941176470589\n",
            "Epoca 23 completada! Accuracy: 0.7352941176470589\n",
            "Epoca 24 completada! Accuracy: 0.7352941176470589\n",
            "Epoca 25 completada! Accuracy: 0.7352941176470589\n",
            "Epoca 26 completada! Accuracy: 0.7647058823529411\n",
            "Epoca 27 completada! Accuracy: 0.7647058823529411\n",
            "Epoca 28 completada! Accuracy: 0.7647058823529411\n",
            "Epoca 29 completada! Accuracy: 0.7647058823529411\n",
            "Epoca 30 completada! Accuracy: 0.7647058823529411\n",
            " \n",
            "              precision    recall  f1-score   support\n",
            "\n",
            "           +       1.00      0.33      0.50         6\n",
            "           -       0.67      0.67      0.67         3\n",
            "           ?       0.50      1.00      0.67         4\n",
            "\n",
            "    accuracy                           0.62        13\n",
            "   macro avg       0.72      0.67      0.61        13\n",
            "weighted avg       0.77      0.62      0.59        13\n",
            "\n"
          ]
        }
      ]
    },
    {
      "cell_type": "code",
      "source": [
        "import matplotlib.pyplot as plt\n",
        "\n",
        "param = [\"(0.02, 15)\",\"(0.1, 10)\", \"(0.001, 30)\", \"(0.005, 30)\"]\n",
        "accuracy = [0.62, 0.85, 0.92, 0.62]\n",
        "\n",
        "plt.bar(param, accuracy)\n",
        "\n",
        "plt.xlabel('Learning rate, epoch')\n",
        "plt.ylabel('Accuracy')\n",
        "plt.title('Accuracy bajo distintos parámetros')"
      ],
      "metadata": {
        "colab": {
          "base_uri": "https://localhost:8080/",
          "height": 489
        },
        "id": "elvBY61ktKhY",
        "outputId": "86d3b6f1-b99c-49e0-dfaa-6b277a3be7ff"
      },
      "execution_count": 40,
      "outputs": [
        {
          "output_type": "execute_result",
          "data": {
            "text/plain": [
              "Text(0.5, 1.0, 'Accuracy bajo distintos parámetros')"
            ]
          },
          "metadata": {},
          "execution_count": 40
        },
        {
          "output_type": "display_data",
          "data": {
            "text/plain": [
              "<Figure size 640x480 with 1 Axes>"
            ],
            "image/png": "[encoded data removed]"
          },
          "metadata": {}
        }
      ]
    },
    {
      "cell_type": "markdown",
      "source": [
        "Se aprecia que el mejor accuracy ocurre cuando el learning_rate y epoch es igual a 0.001 y 30. Del grafico es posible observar que una mayor cantidad de epocas no implica un aumento en el accuracy como es logico pensar en un inicio. Sin embargo, al disminuir el learning rate se aprecian mejoras en el accuracy, lo cual lo posiciona como el parámetro más relevante a la hora de mejorar la eficiencia del modelo lineal."
      ],
      "metadata": {
        "id": "3d682NhBKLif"
      }
    },
    {
      "cell_type": "markdown",
      "source": [
        "## P3. Implementar y evaluar Neural Networks (2 puntos)"
      ],
      "metadata": {
        "id": "a71d7NNCfTna"
      }
    },
    {
      "cell_type": "markdown",
      "source": [
        "### Especificaciones del clasificador\n",
        "\n",
        "<img src=\"https://docs.google.com/drawings/d/e/2PACX-1vSXJm5I61m6w0RHTwBL-iMyeFLr2wXBrKNYxdU8Bu1ymuCFPD9dAPsCzPfvIqwSr8uCiYvWMdnGy1if/pub?w=818&h=503\" >\n",
        "\n",
        "En esta última pregunta, ustedes deberán implementar y evaluar redes neuronales (como la de la figura de arriba). Para esto debera implementar tres secciones principales:\n",
        "\n",
        "1. Sección iterador,\n",
        "2. Sección modelo, y\n",
        "3. Sección loop de entrenamiento.\n",
        "\n",
        "> **Recomendación:** Para completar esta pregunta puede guiarse del Auxiliar 2 (clase del día 18/04)."
      ],
      "metadata": {
        "id": "Y6eCZbdHkVvt"
      }
    },
    {
      "cell_type": "markdown",
      "source": [
        "*Seccion iterador*\n",
        "\n",
        "Para ayudarnos a con el entrenamiento y testing, vamos a utilizar las clases `Dataset` y `DataLoader` de `pytorch` ([ver documentación](https://pytorch.org/tutorials/beginner/basics/data_tutorial.html)). En esta sección deberá implementar un contenedor para su conjunto de datos usando la clase `Dataset` de `pytorch`. Para esto deberá crear su propia clase `MyDataset` para gestionar los datos. Ésto le permitirá iterar sobre el conjunto mediante el iterador `DataLoader` de `pytorch` y entrenar sin hacer ningún pre-procesamiento extra a los datos.\n",
        "\n",
        "**Observación:** Si considera por funcionalidad cambiar los parámetros de la clase `MyDataset` puede hacerlo. Asimismo, puede definir otros parámetros para los métodos de su clase.\n",
        "\n",
        "\n",
        "```python\n",
        "class MyDataset(Dataset):\n",
        "    def __init__(self, data, bow_cols):\n",
        "      ...\n",
        "\n",
        "    def __len__(self):\n",
        "      ...\n",
        "\n",
        "    def __getitem__(self, index):\n",
        "      ...\n",
        "      return x_bow, label\n",
        "```"
      ],
      "metadata": {
        "id": "HEtleHcI94Ae"
      }
    },
    {
      "cell_type": "markdown",
      "source": [
        "*Sección modelo*\n",
        "\n",
        "En esta sección deberán implementar la clase `MyNeuralNetwork` del modulo de `pytorch` llamado `nn.Module` con el proposito de diseñar una red neuronal como la figura de arriba. Para mas detalle sobre las redes ver Clase NLP-Neural.pdf Slide número 8.\n",
        "\n",
        "**Observación:** La figura de arriba es solo ilustrativa, ustedes pueden variar la dimension input y output de la capa oculta. Sin embargo deben mantener fija la dimension de la entrada y salida de la red. La entrada depende del tamaño del vocabulario. Mientras que la salida depende de la cantidad de clases de su problema de clasificación (en nuestro caso igual a 3).\n",
        "\n",
        "Es importante que la clase `MyNeuralNetwork` tenga implementadas apropiadamente el `__init__` con las dimensiones y el `forward` con entrada tipo BoW retornando el último estado de la red (output layer). En el `forward` recomendamos utilizar funciones de activación tipo `nn.ReLU`. Sin embargo, no es completamente obligatorio por lo que pueden usar otras.\n",
        "\n",
        "```python\n",
        "class MyNeuralNetwork(nn.Module):\n",
        "    def __init__(self,\n",
        "                 dim_vocab,\n",
        "                 num_classes,\n",
        "                 dim_hidden_input,\n",
        "                 dim_hidden_output):\n",
        "\n",
        "        super(MyNeuralNetwork, self).__init__()\n",
        "        torch.manual_seed(42)\n",
        "      ...\n",
        "\n",
        "    def forward(self, xs_bow):\n",
        "      ...\n",
        "      return last_state\n",
        "  ```"
      ],
      "metadata": {
        "id": "758StzD796q6"
      }
    },
    {
      "cell_type": "markdown",
      "source": [
        "*Sección loop de entrenamiento*\n",
        "\n",
        "En esta sección deberán implementar el loop de entrenamiento de su red neuronal. Para esto, primero deben definir un `criterion`, en nuestro caso `nn.CrossEntropyLoss()` con la libreria de `pytorch`. Sucesivamente debera definir un optimizador, en nuestro caso `optim.SGD` desde el modulo `optim` de `pytorch`.\n",
        "\n",
        "El loop de entrenamiento debe seguir la siguiente estructura:\n",
        "```python\n",
        "for epoch in range(epochs):\n",
        "  for (xs_bow, labels) in train_loader:\n",
        "    ...\n",
        "```\n",
        "\n",
        "donde `train_loader` proviene del iterador generado en la \"sección iterador\".\n",
        "\n",
        "Dentro de \"doble for\" debera conjugar apropiadamente `opti.zero_grad()`, `loss = criterion(...)`, `loss.backward()` y `opti.step()` con tal de entrenar correctamente su red neuronal. Incluso entrenar, ya que a veces si no se hace de forma correcta entonces tristemente ¡su red no entrena!\n",
        "\n",
        "> **Recomendación:** Puede guiarse del Auxiliar 2 para implementar el loop de entrenamiento."
      ],
      "metadata": {
        "id": "1K2ocUUF99X5"
      }
    },
    {
      "cell_type": "markdown",
      "source": [
        "### Preparación de la GPU y los datos de train/test"
      ],
      "metadata": {
        "id": "Yi1fdYw3kd-j"
      }
    },
    {
      "cell_type": "markdown",
      "source": [
        "Importar la libreria `pytorch` y `numpy`"
      ],
      "metadata": {
        "id": "m-iWhEKOtgp0"
      }
    },
    {
      "cell_type": "code",
      "source": [
        "import torch\n",
        "import numpy as np"
      ],
      "metadata": {
        "id": "zWBi-34WAKnC"
      },
      "execution_count": 41,
      "outputs": []
    },
    {
      "cell_type": "markdown",
      "source": [
        "Verificar que esta usando GPU. Sino, dirígase a **Runtime > Change runtime type** y seleccione la opción **T4 GPU**."
      ],
      "metadata": {
        "id": "Q8mprHO5tbJv"
      }
    },
    {
      "cell_type": "code",
      "source": [
        "torch.cuda.is_available()"
      ],
      "metadata": {
        "colab": {
          "base_uri": "https://localhost:8080/"
        },
        "id": "nZU9DqaeAX-o",
        "outputId": "50bbfd0c-35a8-462c-c416-8601ea33168e"
      },
      "execution_count": 42,
      "outputs": [
        {
          "output_type": "execute_result",
          "data": {
            "text/plain": [
              "True"
            ]
          },
          "metadata": {},
          "execution_count": 42
        }
      ]
    },
    {
      "cell_type": "markdown",
      "source": [
        "Preparación de los conjuntos train y test"
      ],
      "metadata": {
        "id": "F3BvxVN-uefp"
      }
    },
    {
      "cell_type": "code",
      "source": [
        "from sklearn.feature_extraction.text import CountVectorizer\n",
        "bow = CountVectorizer(tokenizer=lambda x: list(x), preprocessor=lambda x: x, token_pattern=None)\n",
        "\n",
        "bow_train = pd.DataFrame(\n",
        "    bow.fit_transform(train_set[\"words\"]).toarray(),\n",
        "    columns=bow.get_feature_names_out()\n",
        ")\n",
        "bow_test = pd.DataFrame(\n",
        "    bow.transform(test_set[\"words\"]).toarray(),\n",
        "    columns=bow.get_feature_names_out()\n",
        ")\n",
        "\n",
        "bow_label_train = bow_train.astype(float).copy()\n",
        "bow_label_test = bow_test.astype(float).copy()\n",
        "\n",
        "map_from_class_to_int = {\n",
        "    \"?\": 0,\n",
        "    \"+\": 1,\n",
        "    \"-\": 2\n",
        "}\n",
        "\n",
        "bow_label_train[\"class_\"] = train_set[\"class_\"]\n",
        "bow_label_train[\"int_class_\"] = train_set[\"class_\"].apply(lambda x: map_from_class_to_int[x])\n",
        "\n",
        "bow_label_test[\"class_\"] = test_set[\"class_\"]\n",
        "bow_label_test[\"int_class_\"] = test_set[\"class_\"].apply(lambda x: map_from_class_to_int[x])"
      ],
      "metadata": {
        "id": "MfXfl3SZBSmF"
      },
      "execution_count": 43,
      "outputs": []
    },
    {
      "cell_type": "markdown",
      "source": [
        "### Implementación (1.7 pts.)"
      ],
      "metadata": {
        "id": "jWdzeqbb1reG"
      }
    },
    {
      "cell_type": "markdown",
      "source": [
        "#### Iterador de conjunto de datos\n",
        "Implemente su clase `MyDataset` para acceder al dataset."
      ],
      "metadata": {
        "id": "1rvXmHBqlUfR"
      }
    },
    {
      "cell_type": "code",
      "source": [
        "from torch.utils.data import Dataset\n",
        "class MyDataset(Dataset):\n",
        "\n",
        "  # Implementar aquí su iterador de datos\n",
        "\n",
        "    def __init__(self, data, bow_cols):\n",
        "        self.data = data\n",
        "        self.bow_cols = bow_cols\n",
        "\n",
        "\n",
        "    def __len__(self):\n",
        "        return len(self.data)\n",
        "\n",
        "    def __getitem__(self, index):\n",
        "        label = int(self.data.loc[index, \"int_class_\"])\n",
        "        x_bow = torch.tensor(self.data.loc[index, self.bow_cols]. # Obtenemos el vector x_{index}\n",
        "                             values.astype(float)).to(torch.float32) # y lo convertimos a tensor de float32\n",
        "        return x_bow, label"
      ],
      "metadata": {
        "id": "7s8tFWCuBCin"
      },
      "execution_count": 44,
      "outputs": []
    },
    {
      "cell_type": "markdown",
      "source": [
        "Inicializar cada dataloader con sus cotenedor datos para train y test, y número de batches."
      ],
      "metadata": {
        "id": "JK7lLpkXup49"
      }
    },
    {
      "cell_type": "code",
      "source": [
        "from torch.utils.data import DataLoader\n",
        "\n",
        "train_loader = DataLoader(\n",
        "    MyDataset(data = bow_label_train, bow_cols = bow_train.columns),\n",
        "    batch_size = 5, num_workers = 1, shuffle=False)\n",
        "\n",
        "test_loader = DataLoader(\n",
        "    MyDataset(data = bow_label_test, bow_cols = bow_test.columns),\n",
        "    batch_size = 5, num_workers = 1, shuffle=False)"
      ],
      "metadata": {
        "id": "UeJi-t9dCi4p"
      },
      "execution_count": 45,
      "outputs": []
    },
    {
      "cell_type": "markdown",
      "source": [
        "Ejemplo de prueba para un batch de entrenamiento"
      ],
      "metadata": {
        "id": "6DdOpdUnicoc"
      }
    },
    {
      "cell_type": "code",
      "source": [
        "batch = next(iter(train_loader))\n",
        "print( batch )\n",
        "print( batch[0].shape, batch[1].shape )"
      ],
      "metadata": {
        "colab": {
          "base_uri": "https://localhost:8080/"
        },
        "id": "3wGaYRzIaxr4",
        "outputId": "886081ca-453a-4cc2-e76c-7d4945bcd6c8"
      },
      "execution_count": 46,
      "outputs": [
        {
          "output_type": "stream",
          "name": "stderr",
          "text": [
            "/usr/lib/python3.10/multiprocessing/popen_fork.py:66: RuntimeWarning: os.fork() was called. os.fork() is incompatible with multithreaded code, and JAX is multithreaded, so this will likely lead to a deadlock.\n",
            "  self.pid = os.fork()\n"
          ]
        },
        {
          "output_type": "stream",
          "name": "stdout",
          "text": [
            "[tensor([[0., 0., 0., 1., 0., 0., 0., 0., 0., 0., 0., 0., 0., 0., 0., 0., 0., 0.,\n",
            "         0., 0., 0., 0., 0., 1., 0., 0., 0., 0., 0., 0., 0., 0., 0., 0., 0., 0.,\n",
            "         0., 0., 0., 0., 1., 0., 0., 0., 0., 0., 0., 0., 0., 0., 0., 0., 0., 0.,\n",
            "         0., 0., 0., 0., 0., 0., 0., 0., 0., 0., 0., 1., 0., 0., 0., 0., 0., 1.,\n",
            "         0., 0., 0., 0., 0., 0., 0., 0., 0., 0., 1., 0., 0., 0., 0., 0., 0., 0.,\n",
            "         0., 0., 0., 0., 0., 0., 0., 0., 1., 0.],\n",
            "        [0., 0., 0., 1., 0., 0., 0., 0., 0., 0., 0., 0., 0., 0., 0., 0., 0., 0.,\n",
            "         0., 0., 0., 0., 0., 0., 1., 0., 0., 0., 0., 1., 0., 0., 0., 0., 0., 0.,\n",
            "         0., 0., 0., 0., 1., 0., 0., 0., 0., 0., 0., 0., 0., 0., 0., 0., 0., 0.,\n",
            "         0., 0., 0., 0., 1., 0., 0., 0., 0., 0., 0., 0., 0., 0., 0., 0., 0., 0.,\n",
            "         0., 0., 1., 0., 0., 0., 0., 0., 0., 0., 0., 0., 0., 0., 0., 0., 0., 0.,\n",
            "         0., 0., 0., 0., 0., 0., 0., 0., 0., 0.],\n",
            "        [0., 0., 0., 1., 0., 1., 0., 1., 0., 0., 0., 0., 0., 0., 0., 0., 0., 0.,\n",
            "         0., 0., 0., 0., 1., 0., 0., 0., 0., 0., 0., 0., 0., 0., 0., 0., 0., 0.,\n",
            "         0., 0., 0., 0., 1., 0., 0., 0., 0., 0., 0., 0., 0., 0., 0., 0., 0., 0.,\n",
            "         0., 0., 0., 0., 0., 0., 0., 0., 0., 0., 0., 0., 0., 0., 0., 0., 0., 0.,\n",
            "         0., 0., 0., 0., 0., 0., 0., 0., 1., 0., 0., 0., 0., 0., 0., 0., 0., 1.,\n",
            "         0., 0., 0., 0., 0., 0., 0., 0., 0., 0.],\n",
            "        [0., 0., 0., 1., 0., 0., 0., 0., 0., 0., 0., 0., 0., 0., 0., 0., 0., 0.,\n",
            "         0., 0., 0., 1., 0., 0., 0., 0., 0., 0., 0., 0., 0., 0., 0., 0., 0., 0.,\n",
            "         0., 0., 0., 0., 0., 0., 0., 0., 0., 0., 0., 1., 0., 0., 0., 0., 0., 0.,\n",
            "         0., 0., 0., 0., 0., 0., 0., 0., 0., 0., 0., 0., 0., 0., 0., 0., 0., 0.,\n",
            "         0., 0., 0., 0., 0., 0., 0., 0., 0., 0., 0., 0., 1., 0., 0., 0., 0., 0.,\n",
            "         0., 0., 0., 0., 1., 0., 0., 0., 0., 0.],\n",
            "        [0., 0., 0., 0., 0., 0., 0., 0., 0., 0., 0., 0., 0., 0., 0., 0., 0., 0.,\n",
            "         0., 0., 0., 0., 0., 1., 0., 0., 0., 0., 0., 0., 0., 0., 0., 0., 0., 0.,\n",
            "         0., 0., 0., 0., 1., 0., 0., 0., 0., 1., 0., 0., 0., 0., 0., 0., 0., 0.,\n",
            "         0., 0., 0., 0., 0., 0., 1., 0., 1., 0., 0., 0., 0., 0., 0., 0., 0., 0.,\n",
            "         0., 0., 0., 0., 0., 0., 0., 0., 0., 0., 1., 0., 0., 0., 0., 0., 0., 0.,\n",
            "         0., 0., 0., 0., 0., 0., 0., 0., 0., 0.]]), tensor([0, 0, 0, 0, 2])]\n",
            "torch.Size([5, 100]) torch.Size([5])\n"
          ]
        },
        {
          "output_type": "stream",
          "name": "stderr",
          "text": [
            "/usr/lib/python3.10/multiprocessing/popen_fork.py:66: RuntimeWarning: os.fork() was called. os.fork() is incompatible with multithreaded code, and JAX is multithreaded, so this will likely lead to a deadlock.\n",
            "  self.pid = os.fork()\n"
          ]
        }
      ]
    },
    {
      "cell_type": "markdown",
      "source": [
        "#### Modelo"
      ],
      "metadata": {
        "id": "i2qotKTXmDue"
      }
    },
    {
      "cell_type": "markdown",
      "source": [
        "Implemente a continuación su red neuronal"
      ],
      "metadata": {
        "id": "BwBRaPKLhdoU"
      }
    },
    {
      "cell_type": "code",
      "source": [
        "import torch.nn as nn\n",
        "class MyNeuralNetwork(nn.Module):\n",
        "  # Implementar aquí su NN\n",
        "    def __init__(self,\n",
        "                 dim_vocab,\n",
        "                 num_classes,\n",
        "                 dim_hidden_input,\n",
        "                 dim_hidden_output):\n",
        "\n",
        "        super(MyNeuralNetwork, self).__init__()\n",
        "        torch.manual_seed(42)\n",
        "\n",
        "        # Definimos las capas del modelo\n",
        "\n",
        "        # Primera capa\n",
        "        self.first_layer = nn.Linear(dim_vocab, dim_hidden_input)\n",
        "\n",
        "        # Capa oculta\n",
        "        self.hidden_layer = nn.Linear(dim_hidden_input, dim_hidden_output)\n",
        "\n",
        "        # Última capa\n",
        "        self.last_layer = nn.Linear(dim_hidden_output, num_classes)\n",
        "\n",
        "        # Función de activación\n",
        "        self.relu = nn.ReLU(inplace=False)\n",
        "\n",
        "\n",
        "\n",
        "    def forward(self, xs_bow):\n",
        "      \"\"\"Calcula la ultima capa mediante las capas intermedias de la red\n",
        "\n",
        "      Args:\n",
        "        xs_bow: Tensor\n",
        "\n",
        "      Returns:\n",
        "        Tensor con los valores de prediccion\n",
        "      \"\"\"\n",
        "\n",
        "      # Hacemos el forward-pass\n",
        "      first_state = self.first_layer(xs_bow)\n",
        "      first_state = self.relu(first_state)\n",
        "\n",
        "      hidden_state = self.hidden_layer(first_state)\n",
        "      hidden_state = self.relu(hidden_state)\n",
        "\n",
        "      last_state = self.last_layer(hidden_state)\n",
        "\n",
        "      return last_state"
      ],
      "metadata": {
        "id": "B_g0kYDXDFsW"
      },
      "execution_count": 47,
      "outputs": []
    },
    {
      "cell_type": "markdown",
      "source": [
        "Ejemplo de prueba para su modelo NN para un batch de entrenamiento"
      ],
      "metadata": {
        "id": "jlUntk5IhX26"
      }
    },
    {
      "cell_type": "code",
      "source": [
        "test = MyNeuralNetwork(\n",
        "    dim_vocab=len(train_loader.dataset.bow_cols),\n",
        "    num_classes=3,\n",
        "    dim_hidden_input=10,\n",
        "    dim_hidden_output=5).cuda()\n",
        "\n",
        "batch = next(iter(train_loader))\n",
        "\n",
        "test(batch[0].cuda())"
      ],
      "metadata": {
        "colab": {
          "base_uri": "https://localhost:8080/"
        },
        "id": "82_O2fAXEclt",
        "outputId": "9a226919-6fcd-4077-c74a-f067d0814403"
      },
      "execution_count": 48,
      "outputs": [
        {
          "output_type": "execute_result",
          "data": {
            "text/plain": [
              "tensor([[-0.1008, -0.0804, -0.3952],\n",
              "        [-0.1088, -0.0537, -0.4089],\n",
              "        [-0.1051, -0.0697, -0.4043],\n",
              "        [-0.0978, -0.0585, -0.4090],\n",
              "        [-0.0992, -0.0623, -0.4076]], device='cuda:0',\n",
              "       grad_fn=<AddmmBackward0>)"
            ]
          },
          "metadata": {},
          "execution_count": 48
        }
      ]
    },
    {
      "cell_type": "markdown",
      "source": [
        "#### Entrenamiento"
      ],
      "metadata": {
        "id": "urgN_j-HlKqm"
      }
    },
    {
      "cell_type": "markdown",
      "source": [
        "Consideren las siguientes funciones que les serán utiles. Si lo desea puede modificarlas a su conveniencia."
      ],
      "metadata": {
        "id": "8NHDkwwlla-H"
      }
    },
    {
      "cell_type": "code",
      "source": [
        "def get_loss(net, iterator, criterion):\n",
        "    net.eval()\n",
        "    total_loss = 0\n",
        "    num_evals = 0\n",
        "    with torch.no_grad():\n",
        "      for xs_bow, labels in iterator:\n",
        "          xs_bow, labels = xs_bow.cuda(), labels.cuda()\n",
        "\n",
        "          logits = net(xs_bow)\n",
        "\n",
        "          loss = criterion(logits, labels)\n",
        "\n",
        "          total_loss += loss.item() * xs_bow.shape[0]\n",
        "          num_evals += xs_bow.shape[0]\n",
        "\n",
        "    return total_loss / num_evals\n",
        "\n",
        "def get_preds_tests_nn(net, iterator):\n",
        "  net.eval()\n",
        "  preds, tests = [], []\n",
        "  with torch.no_grad():\n",
        "    for xs_bow, labels in iterator:\n",
        "      xs_bow, labels = xs_bow.cuda(), labels.cuda()\n",
        "\n",
        "      logits = net(xs_bow)\n",
        "\n",
        "      soft_probs = nn.Sigmoid()(logits)\n",
        "\n",
        "      preds += np.argmax(soft_probs.tolist(), axis=1).tolist()\n",
        "      tests += labels.tolist()\n",
        "\n",
        "    return np.array(preds), np.array(tests)"
      ],
      "metadata": {
        "id": "Nj5Ws_0hlYT0"
      },
      "execution_count": 49,
      "outputs": []
    },
    {
      "cell_type": "markdown",
      "source": [
        "A continuación, inicialicen y entrenen su clasificador con los datos de entrenamiento."
      ],
      "metadata": {
        "id": "V2ASceXqlblb"
      }
    },
    {
      "cell_type": "code",
      "source": [
        "import torch.optim as optim\n",
        "\n",
        "params = {\n",
        "    \"dim_vocab\": len(train_loader.dataset.bow_cols),\n",
        "    \"num_classes\": 3,\n",
        "    \"dim_hidden_input\": 5,\n",
        "    \"dim_hidden_output\": 5,\n",
        "    \"learning_rate\": 0.4,\n",
        "    \"epochs\": 15\n",
        "}\n",
        "\n",
        "# Inicialice su red neuronal\n",
        "net = MyNeuralNetwork(\n",
        "    dim_vocab=params[\"dim_vocab\"],\n",
        "    num_classes=params[\"num_classes\"],\n",
        "    dim_hidden_input=params[\"dim_hidden_input\"],\n",
        "    dim_hidden_output=params[\"dim_hidden_output\"]).cuda()\n",
        "\n",
        "# Definir la Loss = Cross-entropy\n",
        "criterion = nn.CrossEntropyLoss().cuda()\n",
        "\n",
        "# Definir el optimizador = SGD: Stochastic-gradient Descent\n",
        "opti = optim.SGD(net.parameters(), lr = params[\"learning_rate\"])\n",
        "\n",
        "# Definir el numero de epocas de entrenamiento\n",
        "epochs = params[\"epochs\"]\n",
        "\n",
        "## Implementar desde aqui el ciclo de entrenamiento\n",
        "## para cada epoca en el conjunto de train\n",
        "for epoch in range(epochs):\n",
        "  for (xs_bow, labels) in train_loader:\n",
        "\n",
        "    opti.zero_grad()\n",
        "\n",
        "    xs_bow, preds = xs_bow.cuda(), labels.cuda()\n",
        "\n",
        "    logits = net(xs_bow)\n",
        "\n",
        "    loss = criterion(logits, preds)\n",
        "\n",
        "    loss.backward()\n",
        "\n",
        "    opti.step()\n",
        "\n",
        "\n",
        "\n",
        "  total_loss = get_loss(net, train_loader, criterion)\n",
        "  y_preds, y_tests = get_preds_tests_nn(net, train_loader)\n",
        "  acc = (y_preds == y_tests).sum() / y_preds.shape[0]\n",
        "\n",
        "  print(\"Epoca {} completada! Loss: {} Accuracy: {}\".format(epoch, total_loss, acc))"
      ],
      "metadata": {
        "colab": {
          "base_uri": "https://localhost:8080/"
        },
        "id": "gh2sqTWXGCmK",
        "outputId": "0e4d3d35-e707-4d09-9bcf-cd3d48911798"
      },
      "execution_count": 50,
      "outputs": [
        {
          "output_type": "stream",
          "name": "stdout",
          "text": [
            "Epoca 0 completada! Loss: 1.1054631629410911 Accuracy: 0.38235294117647056\n",
            "Epoca 1 completada! Loss: 1.0930101818898146 Accuracy: 0.38235294117647056\n",
            "Epoca 2 completada! Loss: 1.0800085768980139 Accuracy: 0.38235294117647056\n",
            "Epoca 3 completada! Loss: 1.056380967006964 Accuracy: 0.38235294117647056\n",
            "Epoca 4 completada! Loss: 0.9195144391235184 Accuracy: 0.47058823529411764\n",
            "Epoca 5 completada! Loss: 0.7975653784678263 Accuracy: 0.6176470588235294\n",
            "Epoca 6 completada! Loss: 0.6394507672418567 Accuracy: 0.7058823529411765\n",
            "Epoca 7 completada! Loss: 0.4972488123594838 Accuracy: 0.7647058823529411\n",
            "Epoca 8 completada! Loss: 0.5996851416523842 Accuracy: 0.6176470588235294\n",
            "Epoca 9 completada! Loss: 0.33634046876036067 Accuracy: 0.8235294117647058\n",
            "Epoca 10 completada! Loss: 0.2385189199601026 Accuracy: 0.8823529411764706\n",
            "Epoca 11 completada! Loss: 0.0932115251198411 Accuracy: 1.0\n",
            "Epoca 12 completada! Loss: 0.05484988332233008 Accuracy: 1.0\n",
            "Epoca 13 completada! Loss: 0.03735693112727912 Accuracy: 1.0\n",
            "Epoca 14 completada! Loss: 0.02796964330927414 Accuracy: 1.0\n"
          ]
        }
      ]
    },
    {
      "cell_type": "markdown",
      "source": [
        "Pruebe su modelo entrenado con la función `get_preds_tests_nn`."
      ],
      "metadata": {
        "id": "sAbQjdlrno1o"
      }
    },
    {
      "cell_type": "code",
      "source": [
        "\n",
        "\n",
        "# Ya no necesitara calcular gradientes para hacer inferencia\n",
        "for param in net.parameters():\n",
        "    param.requires_grad = False\n",
        "\n",
        "# Calcule el la predicción de su modelo y el ground-truth\n",
        "y_preds, y_tests = get_preds_tests_nn(net, train_loader)\n",
        "print(classification_report(y_tests, y_preds))"
      ],
      "metadata": {
        "colab": {
          "base_uri": "https://localhost:8080/"
        },
        "id": "vosC2fJexyIR",
        "outputId": "87662977-4fdc-4f40-f6a8-405f2cf4b96b"
      },
      "execution_count": 51,
      "outputs": [
        {
          "output_type": "stream",
          "name": "stdout",
          "text": [
            "              precision    recall  f1-score   support\n",
            "\n",
            "           0       1.00      1.00      1.00        14\n",
            "           1       1.00      1.00      1.00        13\n",
            "           2       1.00      1.00      1.00         7\n",
            "\n",
            "    accuracy                           1.00        34\n",
            "   macro avg       1.00      1.00      1.00        34\n",
            "weighted avg       1.00      1.00      1.00        34\n",
            "\n"
          ]
        }
      ]
    },
    {
      "cell_type": "markdown",
      "source": [
        "### Evaluación (0.3 pts.)\n",
        "\n",
        "Ahora probarán el funcionamiento de su clasificador con un conjunto de test.  Habiendo entrenado su clasificador, clasifiquen los documentos del conjunto de prueba `test_set` usando la función `get_preds_tests_nn`."
      ],
      "metadata": {
        "id": "m-3tp4jR12TR"
      }
    },
    {
      "cell_type": "code",
      "source": [
        "y_preds, y_tests = get_preds_tests_nn(net, test_loader)\n",
        "print(classification_report(y_tests, y_preds))"
      ],
      "metadata": {
        "colab": {
          "base_uri": "https://localhost:8080/"
        },
        "id": "71KR1updZ4eL",
        "outputId": "bc249d57-3880-415e-acbf-3aba9b591fc4"
      },
      "execution_count": 52,
      "outputs": [
        {
          "output_type": "stream",
          "name": "stdout",
          "text": [
            "              precision    recall  f1-score   support\n",
            "\n",
            "           0       0.80      1.00      0.89         4\n",
            "           1       1.00      0.83      0.91         6\n",
            "           2       1.00      1.00      1.00         3\n",
            "\n",
            "    accuracy                           0.92        13\n",
            "   macro avg       0.93      0.94      0.93        13\n",
            "weighted avg       0.94      0.92      0.92        13\n",
            "\n"
          ]
        },
        {
          "output_type": "stream",
          "name": "stderr",
          "text": [
            "/usr/lib/python3.10/multiprocessing/popen_fork.py:66: RuntimeWarning: os.fork() was called. os.fork() is incompatible with multithreaded code, and JAX is multithreaded, so this will likely lead to a deadlock.\n",
            "  self.pid = os.fork()\n"
          ]
        }
      ]
    },
    {
      "cell_type": "code",
      "source": [
        "\n"
      ],
      "metadata": {
        "id": "-gmUGd-3Lj35"
      },
      "execution_count": 52,
      "outputs": []
    },
    {
      "cell_type": "markdown",
      "source": [
        "Comenten sus resultados. Estudien que ocurre para al menos tres combinaciones de `(dim_hidden_input, dim_hidden_output)`.\n",
        "\n",
        "```\n",
        "Comentar aquí.\n",
        "```"
      ],
      "metadata": {
        "id": "2Z2BxxUQoINV"
      }
    },
    {
      "cell_type": "code",
      "source": [
        "import torch.optim as optim\n",
        "\n",
        "params = {\n",
        "    \"dim_vocab\": len(train_loader.dataset.bow_cols),\n",
        "    \"num_classes\": 3,\n",
        "    \"dim_hidden_input\": 10,\n",
        "    \"dim_hidden_output\": 5,\n",
        "    \"learning_rate\": 0.4,\n",
        "    \"epochs\": 15\n",
        "}\n",
        "\n",
        "# Inicialice su red neuronal\n",
        "net = MyNeuralNetwork(\n",
        "    dim_vocab=params[\"dim_vocab\"],\n",
        "    num_classes=params[\"num_classes\"],\n",
        "    dim_hidden_input=params[\"dim_hidden_input\"],\n",
        "    dim_hidden_output=params[\"dim_hidden_output\"]).cuda()\n",
        "\n",
        "# Definir la Loss = Cross-entropy\n",
        "criterion = nn.CrossEntropyLoss().cuda()\n",
        "\n",
        "# Definir el optimizador = SGD: Stochastic-gradient Descent\n",
        "opti = optim.SGD(net.parameters(), lr = params[\"learning_rate\"])\n",
        "\n",
        "# Definir el numero de epocas de entrenamiento\n",
        "epochs = params[\"epochs\"]\n",
        "\n",
        "## Implementar desde aqui el ciclo de entrenamiento\n",
        "## para cada epoca en el conjunto de train\n",
        "for epoch in range(epochs):\n",
        "  for (xs_bow, labels) in train_loader:\n",
        "\n",
        "    opti.zero_grad()\n",
        "\n",
        "    xs_bow, preds = xs_bow.cuda(), labels.cuda()\n",
        "\n",
        "    logits = net(xs_bow)\n",
        "\n",
        "    loss = criterion(logits, preds)\n",
        "\n",
        "    loss.backward()\n",
        "\n",
        "    opti.step()\n",
        "\n",
        "\n",
        "\n",
        "  total_loss = get_loss(net, train_loader, criterion)\n",
        "  y_preds, y_tests = get_preds_tests_nn(net, train_loader)\n",
        "  acc = (y_preds == y_tests).sum() / y_preds.shape[0]\n",
        "\n",
        "  print(\"Epoca {} completada! Loss: {} Accuracy: {}\".format(epoch, total_loss, acc))"
      ],
      "metadata": {
        "colab": {
          "base_uri": "https://localhost:8080/"
        },
        "id": "rOHt2q46LwGI",
        "outputId": "505e12b8-bbba-4b85-a834-b4d12b4c1ecf"
      },
      "execution_count": 57,
      "outputs": [
        {
          "output_type": "stream",
          "name": "stderr",
          "text": [
            "/usr/lib/python3.10/multiprocessing/popen_fork.py:66: RuntimeWarning: os.fork() was called. os.fork() is incompatible with multithreaded code, and JAX is multithreaded, so this will likely lead to a deadlock.\n",
            "  self.pid = os.fork()\n",
            "/usr/lib/python3.10/multiprocessing/popen_fork.py:66: RuntimeWarning: os.fork() was called. os.fork() is incompatible with multithreaded code, and JAX is multithreaded, so this will likely lead to a deadlock.\n",
            "  self.pid = os.fork()\n"
          ]
        },
        {
          "output_type": "stream",
          "name": "stdout",
          "text": [
            "Epoca 0 completada! Loss: 1.1039066139389486 Accuracy: 0.38235294117647056\n",
            "Epoca 1 completada! Loss: 1.1121881183455973 Accuracy: 0.38235294117647056\n",
            "Epoca 2 completada! Loss: 1.0561585952253902 Accuracy: 0.38235294117647056\n",
            "Epoca 3 completada! Loss: 0.9445746172876919 Accuracy: 0.4117647058823529\n",
            "Epoca 4 completada! Loss: 0.5534165427088737 Accuracy: 0.7941176470588235\n",
            "Epoca 5 completada! Loss: 0.3583637528559741 Accuracy: 0.7941176470588235\n",
            "Epoca 6 completada! Loss: 0.2630833487629014 Accuracy: 0.7941176470588235\n",
            "Epoca 7 completada! Loss: 0.18712202382876592 Accuracy: 1.0\n",
            "Epoca 8 completada! Loss: 0.14449874456862316 Accuracy: 1.0\n",
            "Epoca 9 completada! Loss: 0.11596425532308571 Accuracy: 1.0\n",
            "Epoca 10 completada! Loss: 0.09363910121678867 Accuracy: 1.0\n",
            "Epoca 11 completada! Loss: 0.07781351123498205 Accuracy: 1.0\n",
            "Epoca 12 completada! Loss: 0.06622266284573604 Accuracy: 1.0\n",
            "Epoca 13 completada! Loss: 0.05689759540152462 Accuracy: 1.0\n",
            "Epoca 14 completada! Loss: 0.04960668855346739 Accuracy: 1.0\n"
          ]
        }
      ]
    },
    {
      "cell_type": "code",
      "source": [
        "# Ya no necesitara calcular gradientes para hacer inferencia\n",
        "for param in net.parameters():\n",
        "    param.requires_grad = False\n",
        "\n",
        "\n",
        "\n",
        "y_preds, y_tests = get_preds_tests_nn(net, test_loader)\n",
        "print(classification_report(y_tests, y_preds))"
      ],
      "metadata": {
        "colab": {
          "base_uri": "https://localhost:8080/"
        },
        "id": "uH9PAM02MGKA",
        "outputId": "6f97ae61-fbb1-46ed-fb20-6fe481d3e5de"
      },
      "execution_count": 59,
      "outputs": [
        {
          "output_type": "stream",
          "name": "stderr",
          "text": [
            "/usr/lib/python3.10/multiprocessing/popen_fork.py:66: RuntimeWarning: os.fork() was called. os.fork() is incompatible with multithreaded code, and JAX is multithreaded, so this will likely lead to a deadlock.\n",
            "  self.pid = os.fork()\n"
          ]
        },
        {
          "output_type": "stream",
          "name": "stdout",
          "text": [
            "              precision    recall  f1-score   support\n",
            "\n",
            "           0       1.00      1.00      1.00         4\n",
            "           1       1.00      1.00      1.00         6\n",
            "           2       1.00      1.00      1.00         3\n",
            "\n",
            "    accuracy                           1.00        13\n",
            "   macro avg       1.00      1.00      1.00        13\n",
            "weighted avg       1.00      1.00      1.00        13\n",
            "\n"
          ]
        },
        {
          "output_type": "stream",
          "name": "stderr",
          "text": [
            "/usr/lib/python3.10/multiprocessing/popen_fork.py:66: RuntimeWarning: os.fork() was called. os.fork() is incompatible with multithreaded code, and JAX is multithreaded, so this will likely lead to a deadlock.\n",
            "  self.pid = os.fork()\n"
          ]
        }
      ]
    },
    {
      "cell_type": "code",
      "source": [
        "import torch.optim as optim\n",
        "\n",
        "params = {\n",
        "    \"dim_vocab\": len(train_loader.dataset.bow_cols),\n",
        "    \"num_classes\": 3,\n",
        "    \"dim_hidden_input\": 5,\n",
        "    \"dim_hidden_output\": 10,\n",
        "    \"learning_rate\": 0.4,\n",
        "    \"epochs\": 15\n",
        "}\n",
        "\n",
        "# Inicialice su red neuronal\n",
        "net = MyNeuralNetwork(\n",
        "    dim_vocab=params[\"dim_vocab\"],\n",
        "    num_classes=params[\"num_classes\"],\n",
        "    dim_hidden_input=params[\"dim_hidden_input\"],\n",
        "    dim_hidden_output=params[\"dim_hidden_output\"]).cuda()\n",
        "\n",
        "# Definir la Loss = Cross-entropy\n",
        "criterion = nn.CrossEntropyLoss().cuda()\n",
        "\n",
        "# Definir el optimizador = SGD: Stochastic-gradient Descent\n",
        "opti = optim.SGD(net.parameters(), lr = params[\"learning_rate\"])\n",
        "\n",
        "# Definir el numero de epocas de entrenamiento\n",
        "epochs = params[\"epochs\"]\n",
        "\n",
        "## Implementar desde aqui el ciclo de entrenamiento\n",
        "## para cada epoca en el conjunto de train\n",
        "for epoch in range(epochs):\n",
        "  for (xs_bow, labels) in train_loader:\n",
        "\n",
        "    opti.zero_grad()\n",
        "\n",
        "    xs_bow, preds = xs_bow.cuda(), labels.cuda()\n",
        "\n",
        "    logits = net(xs_bow)\n",
        "\n",
        "    loss = criterion(logits, preds)\n",
        "\n",
        "    loss.backward()\n",
        "\n",
        "    opti.step()\n",
        "\n",
        "\n",
        "\n",
        "  total_loss = get_loss(net, train_loader, criterion)\n",
        "  y_preds, y_tests = get_preds_tests_nn(net, train_loader)\n",
        "  acc = (y_preds == y_tests).sum() / y_preds.shape[0]\n",
        "\n",
        "  print(\"Epoca {} completada! Loss: {} Accuracy: {}\".format(epoch, total_loss, acc))"
      ],
      "metadata": {
        "colab": {
          "base_uri": "https://localhost:8080/"
        },
        "id": "wyXB0XbNMU-w",
        "outputId": "9b1d66e9-33a4-462f-986c-24e5e269966d"
      },
      "execution_count": 60,
      "outputs": [
        {
          "output_type": "stream",
          "name": "stderr",
          "text": [
            "/usr/lib/python3.10/multiprocessing/popen_fork.py:66: RuntimeWarning: os.fork() was called. os.fork() is incompatible with multithreaded code, and JAX is multithreaded, so this will likely lead to a deadlock.\n",
            "  self.pid = os.fork()\n",
            "/usr/lib/python3.10/multiprocessing/popen_fork.py:66: RuntimeWarning: os.fork() was called. os.fork() is incompatible with multithreaded code, and JAX is multithreaded, so this will likely lead to a deadlock.\n",
            "  self.pid = os.fork()\n"
          ]
        },
        {
          "output_type": "stream",
          "name": "stdout",
          "text": [
            "Epoca 0 completada! Loss: 1.1054482705452864 Accuracy: 0.38235294117647056\n",
            "Epoca 1 completada! Loss: 1.0918050066513174 Accuracy: 0.38235294117647056\n",
            "Epoca 2 completada! Loss: 1.0413228501291836 Accuracy: 0.38235294117647056\n",
            "Epoca 3 completada! Loss: 0.8867183139219004 Accuracy: 0.5294117647058824\n",
            "Epoca 4 completada! Loss: 0.6011777147102881 Accuracy: 0.7647058823529411\n",
            "Epoca 5 completada! Loss: 0.4508021349525627 Accuracy: 0.7941176470588235\n",
            "Epoca 6 completada! Loss: 0.3768896521616946 Accuracy: 0.7941176470588235\n",
            "Epoca 7 completada! Loss: 0.32443880289793015 Accuracy: 0.7941176470588235\n",
            "Epoca 8 completada! Loss: 0.1923201412291211 Accuracy: 1.0\n",
            "Epoca 9 completada! Loss: 0.10954727862468537 Accuracy: 1.0\n",
            "Epoca 10 completada! Loss: 0.05661338271901888 Accuracy: 1.0\n",
            "Epoca 11 completada! Loss: 0.03271259372944341 Accuracy: 1.0\n",
            "Epoca 12 completada! Loss: 0.02232393600484904 Accuracy: 1.0\n",
            "Epoca 13 completada! Loss: 0.016334240009789083 Accuracy: 1.0\n",
            "Epoca 14 completada! Loss: 0.012613546897602431 Accuracy: 1.0\n"
          ]
        }
      ]
    },
    {
      "cell_type": "code",
      "source": [
        "# Ya no necesitara calcular gradientes para hacer inferencia\n",
        "for param in net.parameters():\n",
        "    param.requires_grad = False\n",
        "\n",
        "\n",
        "y_preds, y_tests = get_preds_tests_nn(net, test_loader)\n",
        "print(classification_report(y_tests, y_preds))"
      ],
      "metadata": {
        "colab": {
          "base_uri": "https://localhost:8080/"
        },
        "id": "HBi380VUMbNQ",
        "outputId": "6366526e-e896-4e20-bb61-6529d6517396"
      },
      "execution_count": 64,
      "outputs": [
        {
          "output_type": "stream",
          "name": "stderr",
          "text": [
            "/usr/lib/python3.10/multiprocessing/popen_fork.py:66: RuntimeWarning: os.fork() was called. os.fork() is incompatible with multithreaded code, and JAX is multithreaded, so this will likely lead to a deadlock.\n",
            "  self.pid = os.fork()\n"
          ]
        },
        {
          "output_type": "stream",
          "name": "stdout",
          "text": [
            "              precision    recall  f1-score   support\n",
            "\n",
            "           0       1.00      1.00      1.00         4\n",
            "           1       1.00      0.83      0.91         6\n",
            "           2       0.75      1.00      0.86         3\n",
            "\n",
            "    accuracy                           0.92        13\n",
            "   macro avg       0.92      0.94      0.92        13\n",
            "weighted avg       0.94      0.92      0.93        13\n",
            "\n"
          ]
        },
        {
          "output_type": "stream",
          "name": "stderr",
          "text": [
            "/usr/lib/python3.10/multiprocessing/popen_fork.py:66: RuntimeWarning: os.fork() was called. os.fork() is incompatible with multithreaded code, and JAX is multithreaded, so this will likely lead to a deadlock.\n",
            "  self.pid = os.fork()\n"
          ]
        }
      ]
    },
    {
      "cell_type": "code",
      "source": [
        "import torch.optim as optim\n",
        "\n",
        "params = {\n",
        "    \"dim_vocab\": len(train_loader.dataset.bow_cols),\n",
        "    \"num_classes\": 3,\n",
        "    \"dim_hidden_input\": 10,\n",
        "    \"dim_hidden_output\": 10,\n",
        "    \"learning_rate\": 0.4,\n",
        "    \"epochs\": 15\n",
        "}\n",
        "\n",
        "# Inicialice su red neuronal\n",
        "net = MyNeuralNetwork(\n",
        "    dim_vocab=params[\"dim_vocab\"],\n",
        "    num_classes=params[\"num_classes\"],\n",
        "    dim_hidden_input=params[\"dim_hidden_input\"],\n",
        "    dim_hidden_output=params[\"dim_hidden_output\"]).cuda()\n",
        "\n",
        "# Definir la Loss = Cross-entropy\n",
        "criterion = nn.CrossEntropyLoss().cuda()\n",
        "\n",
        "# Definir el optimizador = SGD: Stochastic-gradient Descent\n",
        "opti = optim.SGD(net.parameters(), lr = params[\"learning_rate\"])\n",
        "\n",
        "# Definir el numero de epocas de entrenamiento\n",
        "epochs = params[\"epochs\"]\n",
        "\n",
        "## Implementar desde aqui el ciclo de entrenamiento\n",
        "## para cada epoca en el conjunto de train\n",
        "for epoch in range(epochs):\n",
        "  for (xs_bow, labels) in train_loader:\n",
        "\n",
        "    opti.zero_grad()\n",
        "\n",
        "    xs_bow, preds = xs_bow.cuda(), labels.cuda()\n",
        "\n",
        "    logits = net(xs_bow)\n",
        "\n",
        "    loss = criterion(logits, preds)\n",
        "\n",
        "    loss.backward()\n",
        "\n",
        "    opti.step()\n",
        "\n",
        "\n",
        "\n",
        "  total_loss = get_loss(net, train_loader, criterion)\n",
        "  y_preds, y_tests = get_preds_tests_nn(net, train_loader)\n",
        "  acc = (y_preds == y_tests).sum() / y_preds.shape[0]\n",
        "\n",
        "  print(\"Epoca {} completada! Loss: {} Accuracy: {}\".format(epoch, total_loss, acc))"
      ],
      "metadata": {
        "colab": {
          "base_uri": "https://localhost:8080/"
        },
        "id": "A8tpPUcAw7PD",
        "outputId": "cf543a83-24d9-459f-c954-39424f4818b5"
      },
      "execution_count": 65,
      "outputs": [
        {
          "output_type": "stream",
          "name": "stderr",
          "text": [
            "/usr/lib/python3.10/multiprocessing/popen_fork.py:66: RuntimeWarning: os.fork() was called. os.fork() is incompatible with multithreaded code, and JAX is multithreaded, so this will likely lead to a deadlock.\n",
            "  self.pid = os.fork()\n",
            "/usr/lib/python3.10/multiprocessing/popen_fork.py:66: RuntimeWarning: os.fork() was called. os.fork() is incompatible with multithreaded code, and JAX is multithreaded, so this will likely lead to a deadlock.\n",
            "  self.pid = os.fork()\n"
          ]
        },
        {
          "output_type": "stream",
          "name": "stdout",
          "text": [
            "Epoca 0 completada! Loss: 1.1175532954580643 Accuracy: 0.38235294117647056\n",
            "Epoca 1 completada! Loss: 1.0859064529923832 Accuracy: 0.38235294117647056\n",
            "Epoca 2 completada! Loss: 1.007822548641878 Accuracy: 0.38235294117647056\n",
            "Epoca 3 completada! Loss: 0.7767221208880929 Accuracy: 0.5882352941176471\n",
            "Epoca 4 completada! Loss: 0.4351692497730255 Accuracy: 0.9117647058823529\n",
            "Epoca 5 completada! Loss: 0.20862152164473252 Accuracy: 0.9705882352941176\n",
            "Epoca 6 completada! Loss: 0.09998061781858697 Accuracy: 1.0\n",
            "Epoca 7 completada! Loss: 0.055167596540687716 Accuracy: 1.0\n",
            "Epoca 8 completada! Loss: 0.03807809762656689 Accuracy: 1.0\n",
            "Epoca 9 completada! Loss: 0.02808374892372419 Accuracy: 1.0\n",
            "Epoca 10 completada! Loss: 0.021658584571388716 Accuracy: 1.0\n",
            "Epoca 11 completada! Loss: 0.017146311618168566 Accuracy: 1.0\n",
            "Epoca 12 completada! Loss: 0.014016465146971099 Accuracy: 1.0\n",
            "Epoca 13 completada! Loss: 0.01178203130086117 Accuracy: 1.0\n",
            "Epoca 14 completada! Loss: 0.009969945818952778 Accuracy: 1.0\n"
          ]
        }
      ]
    },
    {
      "cell_type": "code",
      "source": [
        "# Ya no necesitara calcular gradientes para hacer inferencia\n",
        "for param in net.parameters():\n",
        "    param.requires_grad = False\n",
        "\n",
        "\n",
        "y_preds, y_tests = get_preds_tests_nn(net, test_loader)\n",
        "print(classification_report(y_tests, y_preds))"
      ],
      "metadata": {
        "colab": {
          "base_uri": "https://localhost:8080/"
        },
        "id": "150HTOJyxC8U",
        "outputId": "801c000a-b135-4a8c-c3db-1209a53e063e"
      },
      "execution_count": 66,
      "outputs": [
        {
          "output_type": "stream",
          "name": "stdout",
          "text": [
            "              precision    recall  f1-score   support\n",
            "\n",
            "           0       1.00      1.00      1.00         4\n",
            "           1       1.00      1.00      1.00         6\n",
            "           2       1.00      1.00      1.00         3\n",
            "\n",
            "    accuracy                           1.00        13\n",
            "   macro avg       1.00      1.00      1.00        13\n",
            "weighted avg       1.00      1.00      1.00        13\n",
            "\n"
          ]
        }
      ]
    },
    {
      "cell_type": "code",
      "source": [
        "param = [\"(5, 5)\",\"(10, 5)\", \"(5, 10)\", \"(10, 10)\"]\n",
        "accuracy = [0.92, 1, 0.92, 1]\n",
        "\n",
        "plt.bar(param, accuracy)\n",
        "\n",
        "plt.xlabel('dim_hidden_input, dim_hidden_output')\n",
        "plt.ylabel('Accuracy')\n",
        "plt.title('Accuracy bajo distintos parámetros')"
      ],
      "metadata": {
        "colab": {
          "base_uri": "https://localhost:8080/",
          "height": 489
        },
        "id": "iwbn0PDkwRuZ",
        "outputId": "eecfd7c6-5e56-4d6e-8bd0-484d2cd165f0"
      },
      "execution_count": 67,
      "outputs": [
        {
          "output_type": "execute_result",
          "data": {
            "text/plain": [
              "Text(0.5, 1.0, 'Accuracy bajo distintos parámetros')"
            ]
          },
          "metadata": {},
          "execution_count": 67
        },
        {
          "output_type": "display_data",
          "data": {
            "text/plain": [
              "<Figure size 640x480 with 1 Axes>"
            ],
            "image/png": "[encoded data removed]"
          },
          "metadata": {}
        }
      ]
    },
    {
      "cell_type": "markdown",
      "source": [
        "Del gráfico es posible observar que el accuracy aumenta al tener mayor cantidad de dimensiones en la capa de entrada, lo cual puede ocurrir debido a que una mayor dimensionalidad permite resolver problemas más complejos. Por otro lado, la variación en la capa de salida no produce mejora alguna."
      ],
      "metadata": {
        "id": "YBx9H2-hMepS"
      }
    }
  ]
}